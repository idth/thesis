{
 "cells": [
  {
   "cell_type": "markdown",
   "id": "f546b29b",
   "metadata": {},
   "source": [
    "# Prediction insights\n",
    "Author: Ida Thrane (idth@itu.dk)\n",
    "\n",
    "Notebook to analyse prediction from the CNN."
   ]
  },
  {
   "cell_type": "code",
   "execution_count": 1,
   "id": "dce99d37",
   "metadata": {},
   "outputs": [
    {
     "name": "stderr",
     "output_type": "stream",
     "text": [
      "Using `tqdm.autonotebook.tqdm` in notebook mode. Use `tqdm.tqdm` instead to force console mode (e.g. in jupyter console)\n",
      "2023-08-31 20:41:42.471232: I tensorflow/core/platform/cpu_feature_guard.cc:182] This TensorFlow binary is optimized to use available CPU instructions in performance-critical operations.\n",
      "To enable the following instructions: AVX2 FMA, in other operations, rebuild TensorFlow with the appropriate compiler flags.\n"
     ]
    }
   ],
   "source": [
    "#Import libraries\n",
    "import shap\n",
    "import pandas as pd\n",
    "from numpy import unique, bincount\n",
    "from tensorflow.random import set_seed\n",
    "\n",
    "import pandas as pd\n",
    "from numpy import unique, bincount\n",
    "\n",
    "from tensorflow.random import set_seed\n",
    "\n",
    "from sklearn.metrics import accuracy_score as m_accuracy_score\n",
    "from sklearn.metrics import make_scorer\n",
    "from imblearn.metrics import geometric_mean_score\n",
    "\n",
    "from tensorflow.keras.losses import BinaryFocalCrossentropy\n",
    "from keras import backend as K\n",
    "\n",
    "from tensorflow import device\n",
    "from tensorflow.test import gpu_device_name\n",
    "device_name = gpu_device_name()\n",
    "from tensorflow.keras import Input, Model\n",
    "from tensorflow.keras.layers import Dense, Conv1D, MaxPooling1D, Flatten, Dropout\n",
    "from tensorflow.keras.optimizers import Adam\n",
    "import tensorflow as tf\n",
    "tf.random.set_seed(42)\n",
    "\n",
    "\n",
    "from sklearn.model_selection import StratifiedKFold\n",
    "\n",
    "from imblearn.over_sampling import RandomOverSampler\n",
    "from imblearn.under_sampling import RandomUnderSampler\n",
    "\n",
    "from sklearn.tree import DecisionTreeClassifier\n",
    "from sklearn import metrics\n",
    "\n",
    "import numpy as np\n",
    "import matplotlib.pyplot as plt\n",
    "\n",
    "from sklearn.utils import shuffle\n",
    "from sklearn.model_selection import train_test_split\n",
    "from shapely import wkt\n",
    "\n",
    "import os\n",
    "os.environ['USE_PYGEOS'] = '0'\n",
    "\n",
    "import osmnx as ox\n",
    "import pandas as pd\n",
    "from shapely import wkt\n",
    "import geopandas as gpd\n",
    "from sklearn.model_selection import train_test_split\n",
    "import numpy as np\n",
    "from sklearn.utils import shuffle\n",
    "from sklearn import preprocessing\n",
    "import pickle\n",
    "import geopy.distance\n",
    "\n",
    "import plotly.express as px\n",
    "import plotly.graph_objects as go\n",
    "\n",
    "import plotly.express as px\n"
   ]
  },
  {
   "cell_type": "markdown",
   "id": "0042fe3a",
   "metadata": {},
   "source": [
    "### Load data"
   ]
  },
  {
   "cell_type": "code",
   "execution_count": 2,
   "id": "89cf37d5",
   "metadata": {
    "scrolled": true
   },
   "outputs": [
    {
     "name": "stderr",
     "output_type": "stream",
     "text": [
      "Columns (51,56,57,58,59,60,75,79,81,83,86,89,93,99,113,127,145,146,147,157,166,167,168,184,185,186,187,188,189,190,191) have mixed types. Specify dtype option on import or set low_memory=False.\n"
     ]
    },
    {
     "data": {
      "text/html": [
       "<div>\n",
       "<style scoped>\n",
       "    .dataframe tbody tr th:only-of-type {\n",
       "        vertical-align: middle;\n",
       "    }\n",
       "\n",
       "    .dataframe tbody tr th {\n",
       "        vertical-align: top;\n",
       "    }\n",
       "\n",
       "    .dataframe thead th {\n",
       "        text-align: right;\n",
       "    }\n",
       "</style>\n",
       "<table border=\"1\" class=\"dataframe\">\n",
       "  <thead>\n",
       "    <tr style=\"text-align: right;\">\n",
       "      <th></th>\n",
       "      <th>FID</th>\n",
       "      <th>kategori</th>\n",
       "      <th>saerligt_trae</th>\n",
       "      <th>id</th>\n",
       "      <th>type</th>\n",
       "      <th>element</th>\n",
       "      <th>under_element</th>\n",
       "      <th>ny_dm_element</th>\n",
       "      <th>ny_dm_under_element</th>\n",
       "      <th>arbsted_tekst_id</th>\n",
       "      <th>...</th>\n",
       "      <th>torso_stamme</th>\n",
       "      <th>torso_sidst_stynet</th>\n",
       "      <th>torso_frekvens_styning</th>\n",
       "      <th>torso_naeste_styning</th>\n",
       "      <th>torso_skaeres_ned_til</th>\n",
       "      <th>torso_bemaerkning</th>\n",
       "      <th>ogc_fid</th>\n",
       "      <th>wkb_geometry</th>\n",
       "      <th>lon</th>\n",
       "      <th>lat</th>\n",
       "    </tr>\n",
       "  </thead>\n",
       "  <tbody>\n",
       "    <tr>\n",
       "      <th>0</th>\n",
       "      <td>trae_basis.fid--3b437348_1860746ecc5_-3eef</td>\n",
       "      <td>gadetræ</td>\n",
       "      <td>nej</td>\n",
       "      <td>2667</td>\n",
       "      <td>2 Træer</td>\n",
       "      <td>2.2 Specialformede træer</td>\n",
       "      <td>2.2.2 Knudebeskårne træer</td>\n",
       "      <td>Formede træer</td>\n",
       "      <td>Knudebeskåret træ</td>\n",
       "      <td>Gadet_Gadet_3421</td>\n",
       "      <td>...</td>\n",
       "      <td>NaN</td>\n",
       "      <td>NaN</td>\n",
       "      <td>NaN</td>\n",
       "      <td>NaN</td>\n",
       "      <td>NaN</td>\n",
       "      <td>NaN</td>\n",
       "      <td>1</td>\n",
       "      <td>POINT (12.53962 55.66533)</td>\n",
       "      <td>12.539617</td>\n",
       "      <td>55.665327</td>\n",
       "    </tr>\n",
       "    <tr>\n",
       "      <th>1</th>\n",
       "      <td>trae_basis.fid--3b437348_1860746ecc5_-3eed</td>\n",
       "      <td>gadetræ</td>\n",
       "      <td>nej</td>\n",
       "      <td>2669</td>\n",
       "      <td>2 Træer</td>\n",
       "      <td>2.2 Specialformede træer</td>\n",
       "      <td>2.2.2 Knudebeskårne træer</td>\n",
       "      <td>Formede træer</td>\n",
       "      <td>Knudebeskåret træ</td>\n",
       "      <td>Gadet_Gadet_3421</td>\n",
       "      <td>...</td>\n",
       "      <td>NaN</td>\n",
       "      <td>NaN</td>\n",
       "      <td>NaN</td>\n",
       "      <td>NaN</td>\n",
       "      <td>NaN</td>\n",
       "      <td>NaN</td>\n",
       "      <td>2</td>\n",
       "      <td>POINT (12.53965 55.66539)</td>\n",
       "      <td>12.539651</td>\n",
       "      <td>55.665391</td>\n",
       "    </tr>\n",
       "    <tr>\n",
       "      <th>2</th>\n",
       "      <td>trae_basis.fid--3b437348_1860746ecc5_-3eec</td>\n",
       "      <td>gadetræ</td>\n",
       "      <td>nej</td>\n",
       "      <td>2676</td>\n",
       "      <td>2 Træer</td>\n",
       "      <td>2.2 Specialformede træer</td>\n",
       "      <td>2.2.2 Knudebeskårne træer</td>\n",
       "      <td>Formede træer</td>\n",
       "      <td>Knudebeskåret træ</td>\n",
       "      <td>Gadet_Gadet_3421</td>\n",
       "      <td>...</td>\n",
       "      <td>NaN</td>\n",
       "      <td>NaN</td>\n",
       "      <td>NaN</td>\n",
       "      <td>NaN</td>\n",
       "      <td>NaN</td>\n",
       "      <td>NaN</td>\n",
       "      <td>3</td>\n",
       "      <td>POINT (12.53987 55.66581)</td>\n",
       "      <td>12.539875</td>\n",
       "      <td>55.665805</td>\n",
       "    </tr>\n",
       "    <tr>\n",
       "      <th>3</th>\n",
       "      <td>trae_basis.fid--3b437348_1860746ecc5_-3eeb</td>\n",
       "      <td>gadetræ</td>\n",
       "      <td>nej</td>\n",
       "      <td>2680</td>\n",
       "      <td>2 Træer</td>\n",
       "      <td>2.1 Fuldkronede gade- og torvetræer</td>\n",
       "      <td>2.1.1 Gadetræer</td>\n",
       "      <td>Gade- og allétræer</td>\n",
       "      <td>Allétræ</td>\n",
       "      <td>Gadet_Gadet_3421</td>\n",
       "      <td>...</td>\n",
       "      <td>NaN</td>\n",
       "      <td>NaN</td>\n",
       "      <td>NaN</td>\n",
       "      <td>NaN</td>\n",
       "      <td>NaN</td>\n",
       "      <td>NaN</td>\n",
       "      <td>4</td>\n",
       "      <td>POINT (12.54003 55.66609)</td>\n",
       "      <td>12.540025</td>\n",
       "      <td>55.666086</td>\n",
       "    </tr>\n",
       "    <tr>\n",
       "      <th>4</th>\n",
       "      <td>trae_basis.fid--3b437348_1860746ecc5_-3ee9</td>\n",
       "      <td>gadetræ</td>\n",
       "      <td>nej</td>\n",
       "      <td>2681</td>\n",
       "      <td>2 Træer</td>\n",
       "      <td>2.2 Specialformede træer</td>\n",
       "      <td>2.2.2 Knudebeskårne træer</td>\n",
       "      <td>Formede træer</td>\n",
       "      <td>Knudebeskåret træ</td>\n",
       "      <td>Gadet_Gadet_3421</td>\n",
       "      <td>...</td>\n",
       "      <td>NaN</td>\n",
       "      <td>NaN</td>\n",
       "      <td>NaN</td>\n",
       "      <td>NaN</td>\n",
       "      <td>NaN</td>\n",
       "      <td>NaN</td>\n",
       "      <td>5</td>\n",
       "      <td>POINT (12.54006 55.66615)</td>\n",
       "      <td>12.540061</td>\n",
       "      <td>55.666150</td>\n",
       "    </tr>\n",
       "  </tbody>\n",
       "</table>\n",
       "<p>5 rows × 196 columns</p>\n",
       "</div>"
      ],
      "text/plain": [
       "                                          FID kategori saerligt_trae    id  \\\n",
       "0  trae_basis.fid--3b437348_1860746ecc5_-3eef  gadetræ           nej  2667   \n",
       "1  trae_basis.fid--3b437348_1860746ecc5_-3eed  gadetræ           nej  2669   \n",
       "2  trae_basis.fid--3b437348_1860746ecc5_-3eec  gadetræ           nej  2676   \n",
       "3  trae_basis.fid--3b437348_1860746ecc5_-3eeb  gadetræ           nej  2680   \n",
       "4  trae_basis.fid--3b437348_1860746ecc5_-3ee9  gadetræ           nej  2681   \n",
       "\n",
       "      type                              element              under_element  \\\n",
       "0  2 Træer             2.2 Specialformede træer  2.2.2 Knudebeskårne træer   \n",
       "1  2 Træer             2.2 Specialformede træer  2.2.2 Knudebeskårne træer   \n",
       "2  2 Træer             2.2 Specialformede træer  2.2.2 Knudebeskårne træer   \n",
       "3  2 Træer  2.1 Fuldkronede gade- og torvetræer            2.1.1 Gadetræer   \n",
       "4  2 Træer             2.2 Specialformede træer  2.2.2 Knudebeskårne træer   \n",
       "\n",
       "        ny_dm_element ny_dm_under_element  arbsted_tekst_id  ... torso_stamme  \\\n",
       "0       Formede træer   Knudebeskåret træ  Gadet_Gadet_3421  ...          NaN   \n",
       "1       Formede træer   Knudebeskåret træ  Gadet_Gadet_3421  ...          NaN   \n",
       "2       Formede træer   Knudebeskåret træ  Gadet_Gadet_3421  ...          NaN   \n",
       "3  Gade- og allétræer             Allétræ  Gadet_Gadet_3421  ...          NaN   \n",
       "4       Formede træer   Knudebeskåret træ  Gadet_Gadet_3421  ...          NaN   \n",
       "\n",
       "  torso_sidst_stynet torso_frekvens_styning torso_naeste_styning  \\\n",
       "0                NaN                    NaN                  NaN   \n",
       "1                NaN                    NaN                  NaN   \n",
       "2                NaN                    NaN                  NaN   \n",
       "3                NaN                    NaN                  NaN   \n",
       "4                NaN                    NaN                  NaN   \n",
       "\n",
       "  torso_skaeres_ned_til torso_bemaerkning  ogc_fid               wkb_geometry  \\\n",
       "0                   NaN               NaN        1  POINT (12.53962 55.66533)   \n",
       "1                   NaN               NaN        2  POINT (12.53965 55.66539)   \n",
       "2                   NaN               NaN        3  POINT (12.53987 55.66581)   \n",
       "3                   NaN               NaN        4  POINT (12.54003 55.66609)   \n",
       "4                   NaN               NaN        5  POINT (12.54006 55.66615)   \n",
       "\n",
       "         lon        lat  \n",
       "0  12.539617  55.665327  \n",
       "1  12.539651  55.665391  \n",
       "2  12.539875  55.665805  \n",
       "3  12.540025  55.666086  \n",
       "4  12.540061  55.666150  \n",
       "\n",
       "[5 rows x 196 columns]"
      ]
     },
     "execution_count": 2,
     "metadata": {},
     "output_type": "execute_result"
    }
   ],
   "source": [
    "#Read in tree data as gdf\n",
    "df = pd.read_csv('trædata/trae_basis.csv')\n",
    "df['wkb_geometry'] = df['wkb_geometry'].apply(wkt.loads)\n",
    "df['lon'] = df.wkb_geometry.apply(lambda p: p.x)\n",
    "df['lat'] = df.wkb_geometry.apply(lambda p: p.y)\n",
    "gdf = gpd.GeoDataFrame(df, geometry='wkb_geometry', crs=4326)\n",
    "gdf.head()"
   ]
  },
  {
   "cell_type": "code",
   "execution_count": 17,
   "id": "8694836b",
   "metadata": {},
   "outputs": [],
   "source": [
    "with open('data/X_test.pickle', 'rb') as file:\n",
    "    #y_train = pickle.load(file)\n",
    "    X_test = pd.read_pickle(file)\n",
    "    #X_test = X_test.values\n",
    "    \n",
    "with open('data/y_test.pickle', 'rb') as file:\n",
    "    #y_train = pickle.load(file)\n",
    "    y_test = pd.read_pickle(file)\n",
    "    #y_test = y_test.values.ravel()\n",
    "\n",
    "df_test_info = pd.read_csv(\"tree_info_X.csv\")"
   ]
  },
  {
   "cell_type": "code",
   "execution_count": 19,
   "id": "ef7149d8",
   "metadata": {},
   "outputs": [],
   "source": [
    "y_test = y_test.reset_index()"
   ]
  },
  {
   "cell_type": "code",
   "execution_count": 3,
   "id": "b9974d42",
   "metadata": {},
   "outputs": [],
   "source": [
    "#Filter out all but street trees\n",
    "gdf = gdf.query(\"kategori == 'gadetræ'\")"
   ]
  },
  {
   "cell_type": "code",
   "execution_count": 13,
   "id": "24b7e74d",
   "metadata": {},
   "outputs": [],
   "source": [
    "df_test_info = pd.read_csv(\"tree_info_X.csv\")\n",
    "df_test_info[\"index\"] = df_test_info[\"Unnamed: 0\"].copy()"
   ]
  },
  {
   "cell_type": "code",
   "execution_count": 4,
   "id": "c7ecf346",
   "metadata": {},
   "outputs": [
    {
     "data": {
      "text/html": [
       "<div>\n",
       "<style scoped>\n",
       "    .dataframe tbody tr th:only-of-type {\n",
       "        vertical-align: middle;\n",
       "    }\n",
       "\n",
       "    .dataframe tbody tr th {\n",
       "        vertical-align: top;\n",
       "    }\n",
       "\n",
       "    .dataframe thead th {\n",
       "        text-align: right;\n",
       "    }\n",
       "</style>\n",
       "<table border=\"1\" class=\"dataframe\">\n",
       "  <thead>\n",
       "    <tr style=\"text-align: right;\">\n",
       "      <th></th>\n",
       "      <th>predictions</th>\n",
       "    </tr>\n",
       "  </thead>\n",
       "  <tbody>\n",
       "    <tr>\n",
       "      <th>0</th>\n",
       "      <td>True</td>\n",
       "    </tr>\n",
       "    <tr>\n",
       "      <th>1</th>\n",
       "      <td>False</td>\n",
       "    </tr>\n",
       "    <tr>\n",
       "      <th>2</th>\n",
       "      <td>False</td>\n",
       "    </tr>\n",
       "    <tr>\n",
       "      <th>3</th>\n",
       "      <td>True</td>\n",
       "    </tr>\n",
       "    <tr>\n",
       "      <th>4</th>\n",
       "      <td>False</td>\n",
       "    </tr>\n",
       "    <tr>\n",
       "      <th>...</th>\n",
       "      <td>...</td>\n",
       "    </tr>\n",
       "    <tr>\n",
       "      <th>10407</th>\n",
       "      <td>True</td>\n",
       "    </tr>\n",
       "    <tr>\n",
       "      <th>10408</th>\n",
       "      <td>False</td>\n",
       "    </tr>\n",
       "    <tr>\n",
       "      <th>10409</th>\n",
       "      <td>False</td>\n",
       "    </tr>\n",
       "    <tr>\n",
       "      <th>10410</th>\n",
       "      <td>False</td>\n",
       "    </tr>\n",
       "    <tr>\n",
       "      <th>10411</th>\n",
       "      <td>True</td>\n",
       "    </tr>\n",
       "  </tbody>\n",
       "</table>\n",
       "<p>10412 rows × 1 columns</p>\n",
       "</div>"
      ],
      "text/plain": [
       "       predictions\n",
       "0             True\n",
       "1            False\n",
       "2            False\n",
       "3             True\n",
       "4            False\n",
       "...            ...\n",
       "10407         True\n",
       "10408        False\n",
       "10409        False\n",
       "10410        False\n",
       "10411         True\n",
       "\n",
       "[10412 rows x 1 columns]"
      ]
     },
     "execution_count": 4,
     "metadata": {},
     "output_type": "execute_result"
    }
   ],
   "source": [
    "#Create predictions dataframe\n",
    "df_preds = pd.read_csv(\"prediction.csv\", index_col = 0)\n",
    "df_preds"
   ]
  },
  {
   "cell_type": "code",
   "execution_count": 29,
   "id": "8908e805",
   "metadata": {},
   "outputs": [],
   "source": [
    "info_x = pd.read_csv(\"tree_info_X.csv\", index_col = 0)\n",
    "info_y = pd.read_csv(\"tree_info_y.csv\", index_col = 0)\n",
    "\n",
    "info_x = info_x.reset_index(names = \"index\")\n",
    "info_y = info_y.reset_index(names = \"index\")"
   ]
  },
  {
   "cell_type": "code",
   "execution_count": 5,
   "id": "65e3aa1a",
   "metadata": {},
   "outputs": [],
   "source": [
    "#Define tree features\n",
    "tree_features = [\"id\", \"slaegt\", \"bydelsnavn\", \"placering\", \"omgivelse\", \"planteaar\"]"
   ]
  },
  {
   "cell_type": "code",
   "execution_count": 6,
   "id": "5e08be31",
   "metadata": {},
   "outputs": [],
   "source": [
    "trees = gdf[tree_features]\n",
    "trees = trees.reset_index(names = \"index\")"
   ]
  },
  {
   "cell_type": "code",
   "execution_count": 18,
   "id": "f0af2e72",
   "metadata": {},
   "outputs": [],
   "source": [
    "df = pd.DataFrame(X_test, columns = [\"maxspeed\", \"length\", \"lanes\", 'buildings_count','landuse_count',\n",
    "                                     'natural_count', 'railways_p_count','roads_p_count', 'pofw_count', \n",
    "                                     'pois_count', 'pois_p_count','traffic_count', 'traffic_p_count', \n",
    "                                     'transport_p_count','water_count', 'waterways_p_count',\"distance_from_center\",\n",
    "                                     'bridge', 'tunnel', 'highway_cycleway', 'highway_footway', 'highway_other', \n",
    "                                     'highway_path', 'highway_residential','highway_service', 'highway_tertiary'])"
   ]
  },
  {
   "cell_type": "code",
   "execution_count": 20,
   "id": "60103d04",
   "metadata": {},
   "outputs": [],
   "source": [
    "merged = pd.merge(df_preds, y_test, left_index=True, right_index=True)"
   ]
  },
  {
   "cell_type": "code",
   "execution_count": 21,
   "id": "195615ec",
   "metadata": {},
   "outputs": [],
   "source": [
    "merged = pd.merge(merged, df, left_index=True, right_index=True)"
   ]
  },
  {
   "cell_type": "code",
   "execution_count": 24,
   "id": "d9a9a44f",
   "metadata": {},
   "outputs": [
    {
     "data": {
      "text/html": [
       "<div>\n",
       "<style scoped>\n",
       "    .dataframe tbody tr th:only-of-type {\n",
       "        vertical-align: middle;\n",
       "    }\n",
       "\n",
       "    .dataframe tbody tr th {\n",
       "        vertical-align: top;\n",
       "    }\n",
       "\n",
       "    .dataframe thead th {\n",
       "        text-align: right;\n",
       "    }\n",
       "</style>\n",
       "<table border=\"1\" class=\"dataframe\">\n",
       "  <thead>\n",
       "    <tr style=\"text-align: right;\">\n",
       "      <th></th>\n",
       "      <th>predictions</th>\n",
       "      <th>index</th>\n",
       "      <th>tree</th>\n",
       "      <th>maxspeed</th>\n",
       "      <th>length</th>\n",
       "      <th>lanes</th>\n",
       "      <th>buildings_count</th>\n",
       "      <th>landuse_count</th>\n",
       "      <th>natural_count</th>\n",
       "      <th>railways_p_count</th>\n",
       "      <th>...</th>\n",
       "      <th>distance_from_center</th>\n",
       "      <th>bridge</th>\n",
       "      <th>tunnel</th>\n",
       "      <th>highway_cycleway</th>\n",
       "      <th>highway_footway</th>\n",
       "      <th>highway_other</th>\n",
       "      <th>highway_path</th>\n",
       "      <th>highway_residential</th>\n",
       "      <th>highway_service</th>\n",
       "      <th>highway_tertiary</th>\n",
       "    </tr>\n",
       "  </thead>\n",
       "  <tbody>\n",
       "    <tr>\n",
       "      <th>0</th>\n",
       "      <td>True</td>\n",
       "      <td>77954</td>\n",
       "      <td>1.0</td>\n",
       "      <td>0.8</td>\n",
       "      <td>0.049532</td>\n",
       "      <td>0.333333</td>\n",
       "      <td>0.0</td>\n",
       "      <td>0.0</td>\n",
       "      <td>0.0</td>\n",
       "      <td>0.0</td>\n",
       "      <td>...</td>\n",
       "      <td>0.291367</td>\n",
       "      <td>0.0</td>\n",
       "      <td>0.0</td>\n",
       "      <td>0.0</td>\n",
       "      <td>0.0</td>\n",
       "      <td>0.0</td>\n",
       "      <td>0.0</td>\n",
       "      <td>0.0</td>\n",
       "      <td>0.0</td>\n",
       "      <td>1.0</td>\n",
       "    </tr>\n",
       "    <tr>\n",
       "      <th>9</th>\n",
       "      <td>True</td>\n",
       "      <td>73046</td>\n",
       "      <td>1.0</td>\n",
       "      <td>0.8</td>\n",
       "      <td>0.036988</td>\n",
       "      <td>0.333333</td>\n",
       "      <td>0.0</td>\n",
       "      <td>0.0</td>\n",
       "      <td>0.0</td>\n",
       "      <td>0.0</td>\n",
       "      <td>...</td>\n",
       "      <td>0.255996</td>\n",
       "      <td>0.0</td>\n",
       "      <td>0.0</td>\n",
       "      <td>0.0</td>\n",
       "      <td>1.0</td>\n",
       "      <td>0.0</td>\n",
       "      <td>0.0</td>\n",
       "      <td>0.0</td>\n",
       "      <td>0.0</td>\n",
       "      <td>0.0</td>\n",
       "    </tr>\n",
       "    <tr>\n",
       "      <th>10</th>\n",
       "      <td>True</td>\n",
       "      <td>45681</td>\n",
       "      <td>1.0</td>\n",
       "      <td>0.8</td>\n",
       "      <td>0.038479</td>\n",
       "      <td>0.333333</td>\n",
       "      <td>0.0</td>\n",
       "      <td>0.0</td>\n",
       "      <td>0.0</td>\n",
       "      <td>0.0</td>\n",
       "      <td>...</td>\n",
       "      <td>0.166157</td>\n",
       "      <td>0.0</td>\n",
       "      <td>0.0</td>\n",
       "      <td>0.0</td>\n",
       "      <td>0.0</td>\n",
       "      <td>0.0</td>\n",
       "      <td>0.0</td>\n",
       "      <td>0.0</td>\n",
       "      <td>1.0</td>\n",
       "      <td>0.0</td>\n",
       "    </tr>\n",
       "    <tr>\n",
       "      <th>14</th>\n",
       "      <td>True</td>\n",
       "      <td>8997</td>\n",
       "      <td>1.0</td>\n",
       "      <td>0.8</td>\n",
       "      <td>0.096396</td>\n",
       "      <td>0.333333</td>\n",
       "      <td>0.0</td>\n",
       "      <td>0.0</td>\n",
       "      <td>0.0</td>\n",
       "      <td>0.0</td>\n",
       "      <td>...</td>\n",
       "      <td>0.146498</td>\n",
       "      <td>0.0</td>\n",
       "      <td>0.0</td>\n",
       "      <td>0.0</td>\n",
       "      <td>0.0</td>\n",
       "      <td>0.0</td>\n",
       "      <td>0.0</td>\n",
       "      <td>1.0</td>\n",
       "      <td>0.0</td>\n",
       "      <td>0.0</td>\n",
       "    </tr>\n",
       "    <tr>\n",
       "      <th>29</th>\n",
       "      <td>True</td>\n",
       "      <td>7581</td>\n",
       "      <td>1.0</td>\n",
       "      <td>0.8</td>\n",
       "      <td>0.061282</td>\n",
       "      <td>0.333333</td>\n",
       "      <td>0.0</td>\n",
       "      <td>0.0</td>\n",
       "      <td>0.0</td>\n",
       "      <td>0.0</td>\n",
       "      <td>...</td>\n",
       "      <td>0.250820</td>\n",
       "      <td>0.0</td>\n",
       "      <td>0.0</td>\n",
       "      <td>0.0</td>\n",
       "      <td>0.0</td>\n",
       "      <td>0.0</td>\n",
       "      <td>0.0</td>\n",
       "      <td>0.0</td>\n",
       "      <td>0.0</td>\n",
       "      <td>1.0</td>\n",
       "    </tr>\n",
       "  </tbody>\n",
       "</table>\n",
       "<p>5 rows × 29 columns</p>\n",
       "</div>"
      ],
      "text/plain": [
       "    predictions  index  tree  maxspeed    length     lanes  buildings_count  \\\n",
       "0          True  77954   1.0       0.8  0.049532  0.333333              0.0   \n",
       "9          True  73046   1.0       0.8  0.036988  0.333333              0.0   \n",
       "10         True  45681   1.0       0.8  0.038479  0.333333              0.0   \n",
       "14         True   8997   1.0       0.8  0.096396  0.333333              0.0   \n",
       "29         True   7581   1.0       0.8  0.061282  0.333333              0.0   \n",
       "\n",
       "    landuse_count  natural_count  railways_p_count  ...  distance_from_center  \\\n",
       "0             0.0            0.0               0.0  ...              0.291367   \n",
       "9             0.0            0.0               0.0  ...              0.255996   \n",
       "10            0.0            0.0               0.0  ...              0.166157   \n",
       "14            0.0            0.0               0.0  ...              0.146498   \n",
       "29            0.0            0.0               0.0  ...              0.250820   \n",
       "\n",
       "    bridge  tunnel  highway_cycleway  highway_footway  highway_other  \\\n",
       "0      0.0     0.0               0.0              0.0            0.0   \n",
       "9      0.0     0.0               0.0              1.0            0.0   \n",
       "10     0.0     0.0               0.0              0.0            0.0   \n",
       "14     0.0     0.0               0.0              0.0            0.0   \n",
       "29     0.0     0.0               0.0              0.0            0.0   \n",
       "\n",
       "    highway_path  highway_residential  highway_service  highway_tertiary  \n",
       "0            0.0                  0.0              0.0               1.0  \n",
       "9            0.0                  0.0              0.0               0.0  \n",
       "10           0.0                  0.0              1.0               0.0  \n",
       "14           0.0                  1.0              0.0               0.0  \n",
       "29           0.0                  0.0              0.0               1.0  \n",
       "\n",
       "[5 rows x 29 columns]"
      ]
     },
     "execution_count": 24,
     "metadata": {},
     "output_type": "execute_result"
    }
   ],
   "source": [
    "#Define true positives \n",
    "true_positives = merged.query(\"predictions == True and tree == 1\")\n",
    "true_positives.head()"
   ]
  },
  {
   "cell_type": "code",
   "execution_count": 25,
   "id": "c1cb22bb",
   "metadata": {},
   "outputs": [
    {
     "data": {
      "text/html": [
       "<div>\n",
       "<style scoped>\n",
       "    .dataframe tbody tr th:only-of-type {\n",
       "        vertical-align: middle;\n",
       "    }\n",
       "\n",
       "    .dataframe tbody tr th {\n",
       "        vertical-align: top;\n",
       "    }\n",
       "\n",
       "    .dataframe thead th {\n",
       "        text-align: right;\n",
       "    }\n",
       "</style>\n",
       "<table border=\"1\" class=\"dataframe\">\n",
       "  <thead>\n",
       "    <tr style=\"text-align: right;\">\n",
       "      <th></th>\n",
       "      <th>predictions</th>\n",
       "      <th>index</th>\n",
       "      <th>tree</th>\n",
       "      <th>maxspeed</th>\n",
       "      <th>length</th>\n",
       "      <th>lanes</th>\n",
       "      <th>buildings_count</th>\n",
       "      <th>landuse_count</th>\n",
       "      <th>natural_count</th>\n",
       "      <th>railways_p_count</th>\n",
       "      <th>...</th>\n",
       "      <th>distance_from_center</th>\n",
       "      <th>bridge</th>\n",
       "      <th>tunnel</th>\n",
       "      <th>highway_cycleway</th>\n",
       "      <th>highway_footway</th>\n",
       "      <th>highway_other</th>\n",
       "      <th>highway_path</th>\n",
       "      <th>highway_residential</th>\n",
       "      <th>highway_service</th>\n",
       "      <th>highway_tertiary</th>\n",
       "    </tr>\n",
       "  </thead>\n",
       "  <tbody>\n",
       "    <tr>\n",
       "      <th>28</th>\n",
       "      <td>False</td>\n",
       "      <td>24388</td>\n",
       "      <td>1.0</td>\n",
       "      <td>0.8</td>\n",
       "      <td>0.054435</td>\n",
       "      <td>0.333333</td>\n",
       "      <td>0.0</td>\n",
       "      <td>0.000000</td>\n",
       "      <td>0.0</td>\n",
       "      <td>0.125</td>\n",
       "      <td>...</td>\n",
       "      <td>0.246238</td>\n",
       "      <td>0.0</td>\n",
       "      <td>0.0</td>\n",
       "      <td>0.0</td>\n",
       "      <td>0.0</td>\n",
       "      <td>0.0</td>\n",
       "      <td>0.0</td>\n",
       "      <td>0.0</td>\n",
       "      <td>0.0</td>\n",
       "      <td>1.0</td>\n",
       "    </tr>\n",
       "    <tr>\n",
       "      <th>30</th>\n",
       "      <td>False</td>\n",
       "      <td>30256</td>\n",
       "      <td>1.0</td>\n",
       "      <td>0.8</td>\n",
       "      <td>0.063460</td>\n",
       "      <td>0.333333</td>\n",
       "      <td>0.0</td>\n",
       "      <td>0.666667</td>\n",
       "      <td>0.0</td>\n",
       "      <td>0.000</td>\n",
       "      <td>...</td>\n",
       "      <td>0.253557</td>\n",
       "      <td>0.0</td>\n",
       "      <td>1.0</td>\n",
       "      <td>0.0</td>\n",
       "      <td>0.0</td>\n",
       "      <td>1.0</td>\n",
       "      <td>0.0</td>\n",
       "      <td>0.0</td>\n",
       "      <td>0.0</td>\n",
       "      <td>0.0</td>\n",
       "    </tr>\n",
       "    <tr>\n",
       "      <th>47</th>\n",
       "      <td>False</td>\n",
       "      <td>37941</td>\n",
       "      <td>1.0</td>\n",
       "      <td>0.8</td>\n",
       "      <td>0.141321</td>\n",
       "      <td>0.333333</td>\n",
       "      <td>0.0</td>\n",
       "      <td>0.000000</td>\n",
       "      <td>0.0</td>\n",
       "      <td>0.000</td>\n",
       "      <td>...</td>\n",
       "      <td>0.333898</td>\n",
       "      <td>0.0</td>\n",
       "      <td>0.0</td>\n",
       "      <td>0.0</td>\n",
       "      <td>0.0</td>\n",
       "      <td>0.0</td>\n",
       "      <td>0.0</td>\n",
       "      <td>0.0</td>\n",
       "      <td>1.0</td>\n",
       "      <td>0.0</td>\n",
       "    </tr>\n",
       "    <tr>\n",
       "      <th>59</th>\n",
       "      <td>False</td>\n",
       "      <td>2898</td>\n",
       "      <td>1.0</td>\n",
       "      <td>0.8</td>\n",
       "      <td>0.122660</td>\n",
       "      <td>0.333333</td>\n",
       "      <td>0.0</td>\n",
       "      <td>0.333333</td>\n",
       "      <td>0.0</td>\n",
       "      <td>0.000</td>\n",
       "      <td>...</td>\n",
       "      <td>0.472103</td>\n",
       "      <td>0.0</td>\n",
       "      <td>0.0</td>\n",
       "      <td>0.0</td>\n",
       "      <td>0.0</td>\n",
       "      <td>0.0</td>\n",
       "      <td>1.0</td>\n",
       "      <td>0.0</td>\n",
       "      <td>0.0</td>\n",
       "      <td>0.0</td>\n",
       "    </tr>\n",
       "    <tr>\n",
       "      <th>97</th>\n",
       "      <td>False</td>\n",
       "      <td>78133</td>\n",
       "      <td>1.0</td>\n",
       "      <td>0.8</td>\n",
       "      <td>0.020500</td>\n",
       "      <td>0.333333</td>\n",
       "      <td>0.0</td>\n",
       "      <td>0.000000</td>\n",
       "      <td>0.0</td>\n",
       "      <td>0.000</td>\n",
       "      <td>...</td>\n",
       "      <td>0.429598</td>\n",
       "      <td>0.0</td>\n",
       "      <td>0.0</td>\n",
       "      <td>0.0</td>\n",
       "      <td>0.0</td>\n",
       "      <td>0.0</td>\n",
       "      <td>0.0</td>\n",
       "      <td>0.0</td>\n",
       "      <td>1.0</td>\n",
       "      <td>0.0</td>\n",
       "    </tr>\n",
       "  </tbody>\n",
       "</table>\n",
       "<p>5 rows × 29 columns</p>\n",
       "</div>"
      ],
      "text/plain": [
       "    predictions  index  tree  maxspeed    length     lanes  buildings_count  \\\n",
       "28        False  24388   1.0       0.8  0.054435  0.333333              0.0   \n",
       "30        False  30256   1.0       0.8  0.063460  0.333333              0.0   \n",
       "47        False  37941   1.0       0.8  0.141321  0.333333              0.0   \n",
       "59        False   2898   1.0       0.8  0.122660  0.333333              0.0   \n",
       "97        False  78133   1.0       0.8  0.020500  0.333333              0.0   \n",
       "\n",
       "    landuse_count  natural_count  railways_p_count  ...  distance_from_center  \\\n",
       "28       0.000000            0.0             0.125  ...              0.246238   \n",
       "30       0.666667            0.0             0.000  ...              0.253557   \n",
       "47       0.000000            0.0             0.000  ...              0.333898   \n",
       "59       0.333333            0.0             0.000  ...              0.472103   \n",
       "97       0.000000            0.0             0.000  ...              0.429598   \n",
       "\n",
       "    bridge  tunnel  highway_cycleway  highway_footway  highway_other  \\\n",
       "28     0.0     0.0               0.0              0.0            0.0   \n",
       "30     0.0     1.0               0.0              0.0            1.0   \n",
       "47     0.0     0.0               0.0              0.0            0.0   \n",
       "59     0.0     0.0               0.0              0.0            0.0   \n",
       "97     0.0     0.0               0.0              0.0            0.0   \n",
       "\n",
       "    highway_path  highway_residential  highway_service  highway_tertiary  \n",
       "28           0.0                  0.0              0.0               1.0  \n",
       "30           0.0                  0.0              0.0               0.0  \n",
       "47           0.0                  0.0              1.0               0.0  \n",
       "59           1.0                  0.0              0.0               0.0  \n",
       "97           0.0                  0.0              1.0               0.0  \n",
       "\n",
       "[5 rows x 29 columns]"
      ]
     },
     "execution_count": 25,
     "metadata": {},
     "output_type": "execute_result"
    }
   ],
   "source": [
    "#Define false_negatives\n",
    "false_negatives = merged.query(\"predictions == False and tree == 1\")\n",
    "false_negatives.head()"
   ]
  },
  {
   "cell_type": "code",
   "execution_count": 26,
   "id": "49d3af2a",
   "metadata": {},
   "outputs": [
    {
     "data": {
      "text/html": [
       "<div>\n",
       "<style scoped>\n",
       "    .dataframe tbody tr th:only-of-type {\n",
       "        vertical-align: middle;\n",
       "    }\n",
       "\n",
       "    .dataframe tbody tr th {\n",
       "        vertical-align: top;\n",
       "    }\n",
       "\n",
       "    .dataframe thead th {\n",
       "        text-align: right;\n",
       "    }\n",
       "</style>\n",
       "<table border=\"1\" class=\"dataframe\">\n",
       "  <thead>\n",
       "    <tr style=\"text-align: right;\">\n",
       "      <th></th>\n",
       "      <th>predictions</th>\n",
       "      <th>index</th>\n",
       "      <th>tree</th>\n",
       "      <th>maxspeed</th>\n",
       "      <th>length</th>\n",
       "      <th>lanes</th>\n",
       "      <th>buildings_count</th>\n",
       "      <th>landuse_count</th>\n",
       "      <th>natural_count</th>\n",
       "      <th>railways_p_count</th>\n",
       "      <th>...</th>\n",
       "      <th>distance_from_center</th>\n",
       "      <th>bridge</th>\n",
       "      <th>tunnel</th>\n",
       "      <th>highway_cycleway</th>\n",
       "      <th>highway_footway</th>\n",
       "      <th>highway_other</th>\n",
       "      <th>highway_path</th>\n",
       "      <th>highway_residential</th>\n",
       "      <th>highway_service</th>\n",
       "      <th>highway_tertiary</th>\n",
       "    </tr>\n",
       "  </thead>\n",
       "  <tbody>\n",
       "    <tr>\n",
       "      <th>3</th>\n",
       "      <td>True</td>\n",
       "      <td>49268</td>\n",
       "      <td>0.0</td>\n",
       "      <td>0.8</td>\n",
       "      <td>0.044535</td>\n",
       "      <td>0.333333</td>\n",
       "      <td>0.0</td>\n",
       "      <td>0.0</td>\n",
       "      <td>0.0</td>\n",
       "      <td>0.0</td>\n",
       "      <td>...</td>\n",
       "      <td>0.228071</td>\n",
       "      <td>0.0</td>\n",
       "      <td>0.0</td>\n",
       "      <td>0.0</td>\n",
       "      <td>0.0</td>\n",
       "      <td>0.0</td>\n",
       "      <td>0.0</td>\n",
       "      <td>0.0</td>\n",
       "      <td>1.0</td>\n",
       "      <td>0.0</td>\n",
       "    </tr>\n",
       "    <tr>\n",
       "      <th>6</th>\n",
       "      <td>True</td>\n",
       "      <td>23205</td>\n",
       "      <td>0.0</td>\n",
       "      <td>0.8</td>\n",
       "      <td>0.049703</td>\n",
       "      <td>0.333333</td>\n",
       "      <td>0.0</td>\n",
       "      <td>0.0</td>\n",
       "      <td>0.0</td>\n",
       "      <td>0.0</td>\n",
       "      <td>...</td>\n",
       "      <td>0.189735</td>\n",
       "      <td>0.0</td>\n",
       "      <td>0.0</td>\n",
       "      <td>0.0</td>\n",
       "      <td>0.0</td>\n",
       "      <td>1.0</td>\n",
       "      <td>0.0</td>\n",
       "      <td>0.0</td>\n",
       "      <td>0.0</td>\n",
       "      <td>0.0</td>\n",
       "    </tr>\n",
       "    <tr>\n",
       "      <th>12</th>\n",
       "      <td>True</td>\n",
       "      <td>24143</td>\n",
       "      <td>0.0</td>\n",
       "      <td>0.8</td>\n",
       "      <td>0.037399</td>\n",
       "      <td>0.333333</td>\n",
       "      <td>0.0</td>\n",
       "      <td>0.0</td>\n",
       "      <td>0.0</td>\n",
       "      <td>0.0</td>\n",
       "      <td>...</td>\n",
       "      <td>0.304747</td>\n",
       "      <td>0.0</td>\n",
       "      <td>0.0</td>\n",
       "      <td>0.0</td>\n",
       "      <td>1.0</td>\n",
       "      <td>0.0</td>\n",
       "      <td>0.0</td>\n",
       "      <td>0.0</td>\n",
       "      <td>0.0</td>\n",
       "      <td>0.0</td>\n",
       "    </tr>\n",
       "    <tr>\n",
       "      <th>15</th>\n",
       "      <td>True</td>\n",
       "      <td>51538</td>\n",
       "      <td>0.0</td>\n",
       "      <td>0.8</td>\n",
       "      <td>0.019650</td>\n",
       "      <td>0.333333</td>\n",
       "      <td>0.0</td>\n",
       "      <td>0.0</td>\n",
       "      <td>0.0</td>\n",
       "      <td>0.0</td>\n",
       "      <td>...</td>\n",
       "      <td>0.633520</td>\n",
       "      <td>0.0</td>\n",
       "      <td>0.0</td>\n",
       "      <td>0.0</td>\n",
       "      <td>0.0</td>\n",
       "      <td>0.0</td>\n",
       "      <td>0.0</td>\n",
       "      <td>1.0</td>\n",
       "      <td>0.0</td>\n",
       "      <td>0.0</td>\n",
       "    </tr>\n",
       "    <tr>\n",
       "      <th>21</th>\n",
       "      <td>True</td>\n",
       "      <td>52611</td>\n",
       "      <td>0.0</td>\n",
       "      <td>0.8</td>\n",
       "      <td>0.237238</td>\n",
       "      <td>0.333333</td>\n",
       "      <td>0.0</td>\n",
       "      <td>0.0</td>\n",
       "      <td>0.0</td>\n",
       "      <td>0.0</td>\n",
       "      <td>...</td>\n",
       "      <td>0.500212</td>\n",
       "      <td>0.0</td>\n",
       "      <td>0.0</td>\n",
       "      <td>0.0</td>\n",
       "      <td>0.0</td>\n",
       "      <td>1.0</td>\n",
       "      <td>0.0</td>\n",
       "      <td>0.0</td>\n",
       "      <td>0.0</td>\n",
       "      <td>0.0</td>\n",
       "    </tr>\n",
       "  </tbody>\n",
       "</table>\n",
       "<p>5 rows × 29 columns</p>\n",
       "</div>"
      ],
      "text/plain": [
       "    predictions  index  tree  maxspeed    length     lanes  buildings_count  \\\n",
       "3          True  49268   0.0       0.8  0.044535  0.333333              0.0   \n",
       "6          True  23205   0.0       0.8  0.049703  0.333333              0.0   \n",
       "12         True  24143   0.0       0.8  0.037399  0.333333              0.0   \n",
       "15         True  51538   0.0       0.8  0.019650  0.333333              0.0   \n",
       "21         True  52611   0.0       0.8  0.237238  0.333333              0.0   \n",
       "\n",
       "    landuse_count  natural_count  railways_p_count  ...  distance_from_center  \\\n",
       "3             0.0            0.0               0.0  ...              0.228071   \n",
       "6             0.0            0.0               0.0  ...              0.189735   \n",
       "12            0.0            0.0               0.0  ...              0.304747   \n",
       "15            0.0            0.0               0.0  ...              0.633520   \n",
       "21            0.0            0.0               0.0  ...              0.500212   \n",
       "\n",
       "    bridge  tunnel  highway_cycleway  highway_footway  highway_other  \\\n",
       "3      0.0     0.0               0.0              0.0            0.0   \n",
       "6      0.0     0.0               0.0              0.0            1.0   \n",
       "12     0.0     0.0               0.0              1.0            0.0   \n",
       "15     0.0     0.0               0.0              0.0            0.0   \n",
       "21     0.0     0.0               0.0              0.0            1.0   \n",
       "\n",
       "    highway_path  highway_residential  highway_service  highway_tertiary  \n",
       "3            0.0                  0.0              1.0               0.0  \n",
       "6            0.0                  0.0              0.0               0.0  \n",
       "12           0.0                  0.0              0.0               0.0  \n",
       "15           0.0                  1.0              0.0               0.0  \n",
       "21           0.0                  0.0              0.0               0.0  \n",
       "\n",
       "[5 rows x 29 columns]"
      ]
     },
     "execution_count": 26,
     "metadata": {},
     "output_type": "execute_result"
    }
   ],
   "source": [
    "#Define false positives\n",
    "false_positives = merged.query(\"predictions == True and tree == 0\")\n",
    "false_positives.head()"
   ]
  },
  {
   "cell_type": "code",
   "execution_count": 27,
   "id": "b0148ef4",
   "metadata": {},
   "outputs": [],
   "source": [
    "#Obtain tree info for true positives\n",
    "tn_trees = true_positives[true_positives.index.isin(df_test_info.index)]"
   ]
  },
  {
   "cell_type": "code",
   "execution_count": 32,
   "id": "02ea9109",
   "metadata": {},
   "outputs": [],
   "source": [
    "#Obtain tree info for true positives\n",
    "tn_trees = info_x[info_x.index.isin(true_positives.index)]"
   ]
  },
  {
   "cell_type": "code",
   "execution_count": 34,
   "id": "2c3e625d",
   "metadata": {},
   "outputs": [],
   "source": [
    "fn_trees = info_x[info_x.index.isin(false_negatives.index)]"
   ]
  },
  {
   "cell_type": "code",
   "execution_count": 35,
   "id": "bc721deb",
   "metadata": {},
   "outputs": [],
   "source": [
    "fp_trees = info_x[info_x.index.isin(false_positives.index)]"
   ]
  },
  {
   "cell_type": "code",
   "execution_count": 37,
   "id": "8300e6e4",
   "metadata": {
    "scrolled": true
   },
   "outputs": [],
   "source": [
    "temp_trees_tn = tn_trees[tn_trees.id.isin(df_test_info.id)]"
   ]
  },
  {
   "cell_type": "code",
   "execution_count": 38,
   "id": "5d5c9b61",
   "metadata": {},
   "outputs": [],
   "source": [
    "temp_trees_fp = fp_trees[fp_trees.isin(df_test_info.id)]"
   ]
  },
  {
   "cell_type": "code",
   "execution_count": 52,
   "id": "ba8b340f",
   "metadata": {},
   "outputs": [],
   "source": [
    "fn_trees_temp = df_test_info[df_test_info.index.isin(false_negatives.index)]"
   ]
  },
  {
   "cell_type": "code",
   "execution_count": 53,
   "id": "365231ff",
   "metadata": {},
   "outputs": [],
   "source": [
    "tp_trees_temp = df_test_info[df_test_info.index.isin(true_positives.index)]"
   ]
  },
  {
   "cell_type": "code",
   "execution_count": 64,
   "id": "e4a5594f",
   "metadata": {
    "scrolled": false
   },
   "outputs": [
    {
     "name": "stderr",
     "output_type": "stream",
     "text": [
      "/var/folders/92/g6x9yhvs6qs640vx7psry10r0000gn/T/ipykernel_56160/670696952.py:1: SettingWithCopyWarning:\n",
      "\n",
      "\n",
      "A value is trying to be set on a copy of a slice from a DataFrame.\n",
      "Try using .loc[row_indexer,col_indexer] = value instead\n",
      "\n",
      "See the caveats in the documentation: https://pandas.pydata.org/pandas-docs/stable/user_guide/indexing.html#returning-a-view-versus-a-copy\n",
      "\n",
      "/var/folders/92/g6x9yhvs6qs640vx7psry10r0000gn/T/ipykernel_56160/670696952.py:2: SettingWithCopyWarning:\n",
      "\n",
      "\n",
      "A value is trying to be set on a copy of a slice from a DataFrame.\n",
      "Try using .loc[row_indexer,col_indexer] = value instead\n",
      "\n",
      "See the caveats in the documentation: https://pandas.pydata.org/pandas-docs/stable/user_guide/indexing.html#returning-a-view-versus-a-copy\n",
      "\n"
     ]
    }
   ],
   "source": [
    "#Create a prediction column used later for plotting\n",
    "fn_trees_temp[\"prediction\"] = \"fn\"\n",
    "tp_trees_temp[\"prediction\"] = \"tp\""
   ]
  },
  {
   "cell_type": "code",
   "execution_count": 67,
   "id": "be66993a",
   "metadata": {},
   "outputs": [],
   "source": [
    "#Aggregate the two dataframes\n",
    "test_trees = pd.concat([tp_trees_temp, fn_trees_temp])"
   ]
  },
  {
   "cell_type": "code",
   "execution_count": 71,
   "id": "29af9dc2",
   "metadata": {},
   "outputs": [
    {
     "data": {
      "application/vnd.plotly.v1+json": {
       "config": {
        "plotlyServerURL": "https://plot.ly"
       },
       "data": [
        {
         "alignmentgroup": "True",
         "hovertemplate": "prediction=tp<br>tree_count=%{x}<br>slaegt=%{y}<extra></extra>",
         "legendgroup": "tp",
         "marker": {
          "color": "#636efa",
          "pattern": {
           "shape": ""
          }
         },
         "name": "tp",
         "offsetgroup": "tp",
         "orientation": "h",
         "showlegend": true,
         "textposition": "auto",
         "type": "bar",
         "x": [
          4,
          2,
          1,
          8,
          11,
          3,
          2,
          4,
          1,
          2,
          2,
          2,
          1,
          4,
          16,
          3,
          2,
          3,
          1,
          6,
          4,
          3,
          14,
          6,
          1,
          3,
          7,
          6,
          3,
          4,
          2,
          4,
          3,
          6,
          3,
          11,
          7,
          1,
          2,
          1,
          2,
          2,
          4,
          1,
          2,
          5,
          2,
          17,
          3,
          2,
          5,
          4,
          1,
          4,
          1,
          5,
          2,
          1,
          2,
          1,
          1,
          1,
          1,
          9,
          5,
          4,
          1,
          2,
          1,
          1,
          3,
          2,
          2,
          4,
          3,
          1,
          1,
          2,
          6,
          1,
          1,
          1,
          4,
          1,
          8,
          1,
          1,
          2,
          3,
          2,
          1,
          1,
          17,
          1,
          1,
          1,
          3,
          1,
          2,
          6,
          2,
          1,
          1,
          1,
          1,
          2,
          1,
          6,
          1,
          1,
          1,
          1,
          4,
          16,
          2,
          5,
          5,
          2,
          4,
          4,
          2,
          1,
          1,
          1,
          1,
          3,
          2,
          1,
          1,
          2,
          1,
          1,
          3,
          1,
          1,
          1,
          4,
          2,
          5,
          2,
          1,
          6,
          1,
          2,
          7,
          6,
          7,
          1,
          1,
          1,
          2,
          4,
          2,
          1,
          2,
          4,
          2,
          4,
          5,
          1,
          2,
          5,
          4,
          2,
          1,
          1,
          11,
          2,
          3,
          10,
          1,
          2,
          6,
          1,
          1,
          4,
          1,
          1,
          2,
          2,
          3,
          1,
          1,
          1,
          3,
          2,
          1,
          35,
          1,
          4,
          1,
          1,
          2,
          2,
          7,
          2,
          1,
          1,
          1,
          1,
          1,
          4,
          6,
          2,
          3,
          1,
          1,
          6,
          8,
          3,
          3,
          3,
          1,
          3,
          1,
          8,
          1,
          4,
          16,
          2,
          2,
          1,
          1,
          1,
          1,
          2,
          1,
          6,
          2,
          1,
          5,
          5,
          1,
          1,
          4,
          2,
          3,
          3,
          7,
          1,
          1,
          1,
          2,
          1,
          4,
          4,
          1,
          3,
          3,
          3,
          1,
          5,
          1,
          3,
          1,
          4,
          1,
          4,
          1,
          3,
          3,
          1,
          1,
          4,
          1,
          6,
          16,
          4,
          12,
          1,
          1,
          5,
          2,
          4,
          3,
          2,
          4,
          2,
          2,
          10,
          12,
          13,
          4,
          4,
          9,
          4,
          4,
          2,
          4,
          1,
          1,
          4,
          2,
          3,
          3,
          7,
          3,
          1,
          1,
          1,
          1,
          4,
          3,
          9,
          6,
          1,
          1,
          3,
          1,
          3,
          3,
          1,
          2,
          6,
          5,
          1,
          2,
          5,
          9,
          1,
          1,
          1,
          1,
          2,
          3,
          3,
          1,
          12,
          1,
          1,
          1,
          1,
          1,
          4,
          4,
          11,
          1,
          1,
          1,
          1,
          1,
          2,
          6,
          6,
          1,
          1,
          1,
          1,
          1,
          2,
          5,
          2,
          1,
          1,
          1,
          4,
          3,
          4,
          3,
          11,
          1,
          1,
          6,
          1,
          11,
          2,
          7,
          1,
          1,
          1,
          1,
          1,
          4,
          1,
          8,
          1,
          1,
          3,
          1,
          2,
          1,
          2,
          1,
          2,
          1,
          2,
          1,
          1,
          1,
          3,
          3,
          4,
          4,
          5,
          6,
          6,
          3,
          10,
          14,
          1,
          1,
          2,
          6,
          1,
          1,
          1,
          2,
          3,
          7,
          2,
          4,
          1,
          2,
          6,
          6,
          1,
          1,
          4,
          2,
          1,
          1,
          2,
          2,
          1,
          3,
          7,
          5,
          1,
          1,
          1,
          1,
          24,
          1,
          1,
          1,
          2,
          1,
          1,
          1,
          1,
          4,
          5,
          2,
          6,
          1,
          3,
          1,
          23,
          1,
          2,
          2,
          1,
          1,
          2,
          4,
          1,
          3,
          2,
          1
         ],
         "xaxis": "x",
         "y": [
          "Robinia sp.",
          "Tilia sp.",
          "Robinia sp.",
          "Platanus sp.",
          "Tilia sp.",
          "Quercus sp.",
          "Quercus sp.",
          "other",
          "other",
          "Quercus sp.",
          "Tilia sp.",
          "Aesculus sp.",
          "Ulmus sp.",
          "Prunus sp.",
          "Sorbus sp.",
          "Quercus sp.",
          "other",
          "Malus sp.",
          "Tilia sp.",
          "Sorbus sp.",
          "Tilia sp.",
          "Platanus sp.",
          "Acer sp.",
          "Fraxinus sp.",
          "other",
          "Tilia sp.",
          "Quercus sp.",
          "other",
          "Tilia sp.",
          "Tilia sp.",
          "Platanus sp.",
          "Acer sp.",
          "Quercus sp.",
          "Sorbus sp.",
          "Tilia sp.",
          "Tilia sp.",
          "Tilia sp.",
          "Acer sp.",
          "Tilia sp.",
          "Platanus sp.",
          "Malus sp.",
          "other",
          "Tilia sp.",
          "Robinia sp.",
          "Tilia sp.",
          "Fraxinus sp.",
          "Prunus sp.",
          "Acer sp.",
          "Quercus sp.",
          "Sorbus sp.",
          "Sorbus sp.",
          "Acer sp.",
          "Platanus sp.",
          "Tilia sp.",
          "Tilia sp.",
          "Tilia sp.",
          "Tilia sp.",
          "Tilia sp.",
          "Tilia sp.",
          "Platanus sp.",
          "Tilia sp.",
          "Tilia sp.",
          "Tilia sp.",
          "Platanus sp.",
          "other",
          "Tilia sp.",
          "other",
          "Prunus sp.",
          "Tilia sp.",
          "Tilia sp.",
          "Crataegus sp.",
          "other",
          "Acer sp.",
          "other",
          "Tilia sp.",
          "Quercus sp.",
          "Prunus sp.",
          "other",
          "Fraxinus sp.",
          "Robinia sp.",
          "Aesculus sp.",
          "Platanus sp.",
          "Tilia sp.",
          "Robinia sp.",
          "Malus sp.",
          "Platanus sp.",
          "Platanus sp.",
          "Quercus sp.",
          "Tilia sp.",
          "Platanus sp.",
          "Acer sp.",
          "Sorbus sp.",
          "Platanus sp.",
          "Platanus sp.",
          "other",
          "Tilia sp.",
          "Platanus sp.",
          "Acer sp.",
          "Tilia sp.",
          "Acer sp.",
          "Tilia sp.",
          "Platanus sp.",
          "Sorbus sp.",
          "Platanus sp.",
          "Platanus sp.",
          "Robinia sp.",
          "Robinia sp.",
          "Aesculus sp.",
          "Tilia sp.",
          "Sorbus sp.",
          "Tilia sp.",
          "Sorbus sp.",
          "Fraxinus sp.",
          "Acer sp.",
          "Acer sp.",
          "Aesculus sp.",
          "other",
          "Fraxinus sp.",
          "Tilia sp.",
          "Sorbus sp.",
          "Ulmus sp.",
          "Platanus sp.",
          "Acer sp.",
          "Aesculus sp.",
          "Aesculus sp.",
          "Platanus sp.",
          "Fraxinus sp.",
          "Platanus sp.",
          "Platanus sp.",
          "Tilia sp.",
          "other",
          "Platanus sp.",
          "Tilia sp.",
          "other",
          "Tilia sp.",
          "other",
          "Quercus sp.",
          "Robinia sp.",
          "Tilia sp.",
          "Tilia sp.",
          "Malus sp.",
          "Tilia sp.",
          "Aesculus sp.",
          "Tilia sp.",
          "Platanus sp.",
          "Tilia sp.",
          "Tilia sp.",
          "Aesculus sp.",
          "other",
          "Platanus sp.",
          "Tilia sp.",
          "Tilia sp.",
          "Tilia sp.",
          "Robinia sp.",
          "Platanus sp.",
          "Prunus sp.",
          "other",
          "Platanus sp.",
          "Tilia sp.",
          "other",
          "Acer sp.",
          "Tilia sp.",
          "Quercus sp.",
          "Malus sp.",
          "Platanus sp.",
          "Aesculus sp.",
          "other",
          "Robinia sp.",
          "Platanus sp.",
          "other",
          "Sorbus sp.",
          "Platanus sp.",
          "Sorbus sp.",
          "Fraxinus sp.",
          "Tilia sp.",
          "Platanus sp.",
          "other",
          "Robinia sp.",
          "Sorbus sp.",
          "Sorbus sp.",
          "Prunus sp.",
          "Quercus sp.",
          "Quercus sp.",
          "Ulmus sp.",
          "Sorbus sp.",
          "Platanus sp.",
          "Sorbus sp.",
          "Acer sp.",
          "Quercus sp.",
          "Sorbus sp.",
          "Platanus sp.",
          "other",
          "Quercus sp.",
          "Platanus sp.",
          "Fraxinus sp.",
          "Sorbus sp.",
          "Quercus sp.",
          "Aesculus sp.",
          "Acer sp.",
          "Malus sp.",
          "Sorbus sp.",
          "Robinia sp.",
          "Tilia sp.",
          "Platanus sp.",
          "Aesculus sp.",
          "other",
          "other",
          "other",
          "other",
          "Robinia sp.",
          "Platanus sp.",
          "Quercus sp.",
          "other",
          "Tilia sp.",
          "Platanus sp.",
          "Acer sp.",
          "Fraxinus sp.",
          "Fraxinus sp.",
          "Fraxinus sp.",
          "Prunus sp.",
          "Fraxinus sp.",
          "Tilia sp.",
          "Aesculus sp.",
          "Sorbus sp.",
          "Aesculus sp.",
          "Tilia sp.",
          "Prunus sp.",
          "Tilia sp.",
          "Fraxinus sp.",
          "Quercus sp.",
          "other",
          "Tilia sp.",
          "Sorbus sp.",
          "Platanus sp.",
          "Tilia sp.",
          "other",
          "Platanus sp.",
          "other",
          "Fraxinus sp.",
          "Tilia sp.",
          "Acer sp.",
          "Platanus sp.",
          "Sorbus sp.",
          "Platanus sp.",
          "Tilia sp.",
          "Prunus sp.",
          "Tilia sp.",
          "Tilia sp.",
          "other",
          "Tilia sp.",
          "Fraxinus sp.",
          "Robinia sp.",
          "Sorbus sp.",
          "Quercus sp.",
          "Tilia sp.",
          "Fraxinus sp.",
          "Platanus sp.",
          "Fraxinus sp.",
          "Acer sp.",
          "Tilia sp.",
          "Tilia sp.",
          "Acer sp.",
          "Acer sp.",
          "Quercus sp.",
          "Robinia sp.",
          "Tilia sp.",
          "other",
          "other",
          "Tilia sp.",
          "Acer sp.",
          "Tilia sp.",
          "Crataegus sp.",
          "other",
          "Robinia sp.",
          "Platanus sp.",
          "other",
          "Quercus sp.",
          "Quercus sp.",
          "Acer sp.",
          "Sorbus sp.",
          "Acer sp.",
          "Malus sp.",
          "Tilia sp.",
          "Tilia sp.",
          "Crataegus sp.",
          "Acer sp.",
          "Tilia sp.",
          "Platanus sp.",
          "Prunus sp.",
          "Acer sp.",
          "Prunus sp.",
          "Quercus sp.",
          "Prunus sp.",
          "Prunus sp.",
          "Platanus sp.",
          "other",
          "Platanus sp.",
          "Quercus sp.",
          "Prunus sp.",
          "Prunus sp.",
          "Tilia sp.",
          "Platanus sp.",
          "other",
          "Robinia sp.",
          "Quercus sp.",
          "other",
          "Acer sp.",
          "Robinia sp.",
          "Platanus sp.",
          "Tilia sp.",
          "Tilia sp.",
          "Fraxinus sp.",
          "Tilia sp.",
          "Fraxinus sp.",
          "Acer sp.",
          "Tilia sp.",
          "Fraxinus sp.",
          "Tilia sp.",
          "Tilia sp.",
          "Platanus sp.",
          "Tilia sp.",
          "Crataegus sp.",
          "Robinia sp.",
          "Robinia sp.",
          "Tilia sp.",
          "Tilia sp.",
          "Platanus sp.",
          "Tilia sp.",
          "Quercus sp.",
          "Platanus sp.",
          "other",
          "Acer sp.",
          "Platanus sp.",
          "Sorbus sp.",
          "Robinia sp.",
          "other",
          "Platanus sp.",
          "Sorbus sp.",
          "Platanus sp.",
          "other",
          "Platanus sp.",
          "Tilia sp.",
          "Sorbus sp.",
          "Tilia sp.",
          "Quercus sp.",
          "Quercus sp.",
          "other",
          "Platanus sp.",
          "Tilia sp.",
          "Fraxinus sp.",
          "Platanus sp.",
          "Tilia sp.",
          "Fraxinus sp.",
          "Tilia sp.",
          "Platanus sp.",
          "Prunus sp.",
          "Ulmus sp.",
          "Tilia sp.",
          "Sorbus sp.",
          "Acer sp.",
          "other",
          "Platanus sp.",
          "Sorbus sp.",
          "other",
          "Tilia sp.",
          "Platanus sp.",
          "Sorbus sp.",
          "Platanus sp.",
          "Quercus sp.",
          "Tilia sp.",
          "Tilia sp.",
          "Robinia sp.",
          "Tilia sp.",
          "Platanus sp.",
          "Quercus sp.",
          "Tilia sp.",
          "Quercus sp.",
          "Tilia sp.",
          "Crataegus sp.",
          "Ulmus sp.",
          "Tilia sp.",
          "Platanus sp.",
          "Tilia sp.",
          "Platanus sp.",
          "Fraxinus sp.",
          "Robinia sp.",
          "Tilia sp.",
          "Tilia sp.",
          "Crataegus sp.",
          "other",
          "Quercus sp.",
          "Tilia sp.",
          "Tilia sp.",
          "Tilia sp.",
          "Acer sp.",
          "Tilia sp.",
          "Sorbus sp.",
          "Tilia sp.",
          "Fraxinus sp.",
          "Tilia sp.",
          "Platanus sp.",
          "Platanus sp.",
          "Tilia sp.",
          "Platanus sp.",
          "Platanus sp.",
          "Fraxinus sp.",
          "Prunus sp.",
          "Sorbus sp.",
          "Tilia sp.",
          "Robinia sp.",
          "Platanus sp.",
          "Platanus sp.",
          "Sorbus sp.",
          "Sorbus sp.",
          "Tilia sp.",
          "Ulmus sp.",
          "Quercus sp.",
          "other",
          "Robinia sp.",
          "Fraxinus sp.",
          "other",
          "Quercus sp.",
          "Sorbus sp.",
          "Crataegus sp.",
          "Tilia sp.",
          "Tilia sp.",
          "Tilia sp.",
          "other",
          "Platanus sp.",
          "Quercus sp.",
          "Malus sp.",
          "Acer sp.",
          "other",
          "Quercus sp.",
          "Platanus sp.",
          "Robinia sp.",
          "Tilia sp.",
          "Robinia sp.",
          "other",
          "Tilia sp.",
          "Acer sp.",
          "Tilia sp.",
          "Acer sp.",
          "Malus sp.",
          "Robinia sp.",
          "Tilia sp.",
          "Robinia sp.",
          "Acer sp.",
          "Robinia sp.",
          "Tilia sp.",
          "Ulmus sp.",
          "other",
          "Quercus sp.",
          "Platanus sp.",
          "Tilia sp.",
          "Robinia sp.",
          "Tilia sp.",
          "Tilia sp.",
          "Tilia sp."
         ],
         "yaxis": "y"
        },
        {
         "alignmentgroup": "True",
         "hovertemplate": "prediction=fn<br>tree_count=%{x}<br>slaegt=%{y}<extra></extra>",
         "legendgroup": "fn",
         "marker": {
          "color": "#EF553B",
          "pattern": {
           "shape": ""
          }
         },
         "name": "fn",
         "offsetgroup": "fn",
         "orientation": "h",
         "showlegend": true,
         "textposition": "auto",
         "type": "bar",
         "x": [
          1,
          1,
          12,
          1,
          5,
          1,
          4,
          4,
          1,
          4,
          1,
          1,
          1,
          1,
          5,
          1,
          1,
          1,
          1,
          1,
          1,
          1,
          3,
          2,
          1,
          2,
          2,
          1,
          12,
          2,
          1,
          1,
          2,
          1,
          3,
          14,
          1,
          19,
          2,
          1,
          1,
          1,
          1,
          1,
          1,
          1,
          1,
          2,
          4,
          1,
          2,
          1,
          2,
          1,
          3,
          4,
          1,
          1,
          2,
          1,
          1,
          1,
          4,
          5,
          1,
          4,
          1,
          1,
          1,
          1,
          4,
          10,
          1,
          2,
          3,
          1,
          1,
          1,
          1,
          1,
          1,
          1,
          1,
          3,
          1,
          3,
          2,
          1,
          18,
          1,
          1,
          1,
          1,
          3,
          1,
          1,
          1,
          2,
          2,
          1,
          1,
          5,
          1,
          1,
          10,
          1,
          1,
          1,
          1,
          1,
          1,
          2,
          1,
          4,
          1,
          3,
          1,
          1,
          1,
          2,
          1,
          1,
          1,
          2,
          10,
          1,
          7,
          1,
          1,
          1,
          5,
          2,
          1,
          15,
          1,
          4,
          1,
          2,
          1,
          1,
          1,
          5,
          2,
          1,
          1,
          1,
          2,
          1,
          4,
          1,
          1,
          3,
          1,
          3,
          1,
          1,
          10,
          4,
          2,
          2,
          2,
          4,
          2,
          1,
          1,
          1,
          1,
          1,
          1,
          3,
          4,
          1,
          3,
          1,
          4,
          1,
          2,
          1,
          4,
          1,
          1,
          7,
          1,
          16,
          1,
          1,
          25,
          1,
          2,
          5,
          11,
          1,
          2,
          3,
          2,
          1,
          2
         ],
         "xaxis": "x",
         "y": [
          "Tilia sp.",
          "Platanus sp.",
          "Ulmus sp.",
          "Acer sp.",
          "other",
          "Tilia sp.",
          "Sorbus sp.",
          "Sorbus sp.",
          "Prunus sp.",
          "Platanus sp.",
          "Fraxinus sp.",
          "Acer sp.",
          "Acer sp.",
          "Tilia sp.",
          "Tilia sp.",
          "Ulmus sp.",
          "Robinia sp.",
          "Fraxinus sp.",
          "Quercus sp.",
          "Platanus sp.",
          "Acer sp.",
          "Tilia sp.",
          "Tilia sp.",
          "Platanus sp.",
          "Prunus sp.",
          "Fraxinus sp.",
          "Aesculus sp.",
          "Sorbus sp.",
          "Malus sp.",
          "Quercus sp.",
          "Tilia sp.",
          "Quercus sp.",
          "Sorbus sp.",
          "Platanus sp.",
          "Tilia sp.",
          "Platanus sp.",
          "Fraxinus sp.",
          "Fraxinus sp.",
          "Prunus sp.",
          "Platanus sp.",
          "Platanus sp.",
          "Tilia sp.",
          "Prunus sp.",
          "Tilia sp.",
          "Tilia sp.",
          "Crataegus sp.",
          "Robinia sp.",
          "Tilia sp.",
          "Fraxinus sp.",
          "Quercus sp.",
          "Robinia sp.",
          "Robinia sp.",
          "Quercus sp.",
          "other",
          "Tilia sp.",
          "Acer sp.",
          "Platanus sp.",
          "Tilia sp.",
          "Tilia sp.",
          "Robinia sp.",
          "Acer sp.",
          "Fraxinus sp.",
          "Quercus sp.",
          "Tilia sp.",
          "Acer sp.",
          "Tilia sp.",
          "Robinia sp.",
          "Tilia sp.",
          "Robinia sp.",
          "Fraxinus sp.",
          "Crataegus sp.",
          "Platanus sp.",
          "Platanus sp.",
          "Malus sp.",
          "Malus sp.",
          "Crataegus sp.",
          "Robinia sp.",
          "Aesculus sp.",
          "Fraxinus sp.",
          "Tilia sp.",
          "Acer sp.",
          "Sorbus sp.",
          "other",
          "Acer sp.",
          "Quercus sp.",
          "Platanus sp.",
          "Tilia sp.",
          "Tilia sp.",
          "Platanus sp.",
          "Tilia sp.",
          "Sorbus sp.",
          "Sorbus sp.",
          "Crataegus sp.",
          "Crataegus sp.",
          "Malus sp.",
          "Fraxinus sp.",
          "Quercus sp.",
          "Tilia sp.",
          "Robinia sp.",
          "Acer sp.",
          "Prunus sp.",
          "Prunus sp.",
          "Robinia sp.",
          "Tilia sp.",
          "Platanus sp.",
          "Robinia sp.",
          "Sorbus sp.",
          "Quercus sp.",
          "Tilia sp.",
          "Tilia sp.",
          "Aesculus sp.",
          "Acer sp.",
          "Fraxinus sp.",
          "Fraxinus sp.",
          "Platanus sp.",
          "Prunus sp.",
          "Aesculus sp.",
          "Sorbus sp.",
          "Tilia sp.",
          "Prunus sp.",
          "Tilia sp.",
          "other",
          "Sorbus sp.",
          "other",
          "Ulmus sp.",
          "Prunus sp.",
          "Tilia sp.",
          "Robinia sp.",
          "Robinia sp.",
          "Tilia sp.",
          "Quercus sp.",
          "Tilia sp.",
          "Platanus sp.",
          "Sorbus sp.",
          "Robinia sp.",
          "Tilia sp.",
          "Platanus sp.",
          "Crataegus sp.",
          "Aesculus sp.",
          "Prunus sp.",
          "Quercus sp.",
          "Tilia sp.",
          "Acer sp.",
          "Fraxinus sp.",
          "Tilia sp.",
          "Crataegus sp.",
          "Tilia sp.",
          "Robinia sp.",
          "Fraxinus sp.",
          "Crataegus sp.",
          "Acer sp.",
          "Tilia sp.",
          "Malus sp.",
          "Acer sp.",
          "Tilia sp.",
          "other",
          "Platanus sp.",
          "Fraxinus sp.",
          "Acer sp.",
          "Acer sp.",
          "Tilia sp.",
          "Robinia sp.",
          "Tilia sp.",
          "other",
          "Tilia sp.",
          "Fraxinus sp.",
          "Aesculus sp.",
          "Prunus sp.",
          "Crataegus sp.",
          "Quercus sp.",
          "Crataegus sp.",
          "Sorbus sp.",
          "Tilia sp.",
          "Tilia sp.",
          "Prunus sp.",
          "Tilia sp.",
          "Prunus sp.",
          "Tilia sp.",
          "Malus sp.",
          "Platanus sp.",
          "Tilia sp.",
          "Tilia sp.",
          "Platanus sp.",
          "Platanus sp.",
          "Tilia sp.",
          "Fraxinus sp.",
          "Fraxinus sp.",
          "Acer sp.",
          "other",
          "Quercus sp.",
          "Sorbus sp.",
          "Quercus sp.",
          "Prunus sp.",
          "Fraxinus sp.",
          "other",
          "Platanus sp.",
          "Acer sp."
         ],
         "yaxis": "y"
        }
       ],
       "layout": {
        "barmode": "stack",
        "legend": {
         "title": {
          "text": "prediction"
         },
         "tracegroupgap": 0
        },
        "template": {
         "data": {
          "bar": [
           {
            "error_x": {
             "color": "#2a3f5f"
            },
            "error_y": {
             "color": "#2a3f5f"
            },
            "marker": {
             "line": {
              "color": "#E5ECF6",
              "width": 0.5
             },
             "pattern": {
              "fillmode": "overlay",
              "size": 10,
              "solidity": 0.2
             }
            },
            "type": "bar"
           }
          ],
          "barpolar": [
           {
            "marker": {
             "line": {
              "color": "#E5ECF6",
              "width": 0.5
             },
             "pattern": {
              "fillmode": "overlay",
              "size": 10,
              "solidity": 0.2
             }
            },
            "type": "barpolar"
           }
          ],
          "carpet": [
           {
            "aaxis": {
             "endlinecolor": "#2a3f5f",
             "gridcolor": "white",
             "linecolor": "white",
             "minorgridcolor": "white",
             "startlinecolor": "#2a3f5f"
            },
            "baxis": {
             "endlinecolor": "#2a3f5f",
             "gridcolor": "white",
             "linecolor": "white",
             "minorgridcolor": "white",
             "startlinecolor": "#2a3f5f"
            },
            "type": "carpet"
           }
          ],
          "choropleth": [
           {
            "colorbar": {
             "outlinewidth": 0,
             "ticks": ""
            },
            "type": "choropleth"
           }
          ],
          "contour": [
           {
            "colorbar": {
             "outlinewidth": 0,
             "ticks": ""
            },
            "colorscale": [
             [
              0,
              "#0d0887"
             ],
             [
              0.1111111111111111,
              "#46039f"
             ],
             [
              0.2222222222222222,
              "#7201a8"
             ],
             [
              0.3333333333333333,
              "#9c179e"
             ],
             [
              0.4444444444444444,
              "#bd3786"
             ],
             [
              0.5555555555555556,
              "#d8576b"
             ],
             [
              0.6666666666666666,
              "#ed7953"
             ],
             [
              0.7777777777777778,
              "#fb9f3a"
             ],
             [
              0.8888888888888888,
              "#fdca26"
             ],
             [
              1,
              "#f0f921"
             ]
            ],
            "type": "contour"
           }
          ],
          "contourcarpet": [
           {
            "colorbar": {
             "outlinewidth": 0,
             "ticks": ""
            },
            "type": "contourcarpet"
           }
          ],
          "heatmap": [
           {
            "colorbar": {
             "outlinewidth": 0,
             "ticks": ""
            },
            "colorscale": [
             [
              0,
              "#0d0887"
             ],
             [
              0.1111111111111111,
              "#46039f"
             ],
             [
              0.2222222222222222,
              "#7201a8"
             ],
             [
              0.3333333333333333,
              "#9c179e"
             ],
             [
              0.4444444444444444,
              "#bd3786"
             ],
             [
              0.5555555555555556,
              "#d8576b"
             ],
             [
              0.6666666666666666,
              "#ed7953"
             ],
             [
              0.7777777777777778,
              "#fb9f3a"
             ],
             [
              0.8888888888888888,
              "#fdca26"
             ],
             [
              1,
              "#f0f921"
             ]
            ],
            "type": "heatmap"
           }
          ],
          "heatmapgl": [
           {
            "colorbar": {
             "outlinewidth": 0,
             "ticks": ""
            },
            "colorscale": [
             [
              0,
              "#0d0887"
             ],
             [
              0.1111111111111111,
              "#46039f"
             ],
             [
              0.2222222222222222,
              "#7201a8"
             ],
             [
              0.3333333333333333,
              "#9c179e"
             ],
             [
              0.4444444444444444,
              "#bd3786"
             ],
             [
              0.5555555555555556,
              "#d8576b"
             ],
             [
              0.6666666666666666,
              "#ed7953"
             ],
             [
              0.7777777777777778,
              "#fb9f3a"
             ],
             [
              0.8888888888888888,
              "#fdca26"
             ],
             [
              1,
              "#f0f921"
             ]
            ],
            "type": "heatmapgl"
           }
          ],
          "histogram": [
           {
            "marker": {
             "pattern": {
              "fillmode": "overlay",
              "size": 10,
              "solidity": 0.2
             }
            },
            "type": "histogram"
           }
          ],
          "histogram2d": [
           {
            "colorbar": {
             "outlinewidth": 0,
             "ticks": ""
            },
            "colorscale": [
             [
              0,
              "#0d0887"
             ],
             [
              0.1111111111111111,
              "#46039f"
             ],
             [
              0.2222222222222222,
              "#7201a8"
             ],
             [
              0.3333333333333333,
              "#9c179e"
             ],
             [
              0.4444444444444444,
              "#bd3786"
             ],
             [
              0.5555555555555556,
              "#d8576b"
             ],
             [
              0.6666666666666666,
              "#ed7953"
             ],
             [
              0.7777777777777778,
              "#fb9f3a"
             ],
             [
              0.8888888888888888,
              "#fdca26"
             ],
             [
              1,
              "#f0f921"
             ]
            ],
            "type": "histogram2d"
           }
          ],
          "histogram2dcontour": [
           {
            "colorbar": {
             "outlinewidth": 0,
             "ticks": ""
            },
            "colorscale": [
             [
              0,
              "#0d0887"
             ],
             [
              0.1111111111111111,
              "#46039f"
             ],
             [
              0.2222222222222222,
              "#7201a8"
             ],
             [
              0.3333333333333333,
              "#9c179e"
             ],
             [
              0.4444444444444444,
              "#bd3786"
             ],
             [
              0.5555555555555556,
              "#d8576b"
             ],
             [
              0.6666666666666666,
              "#ed7953"
             ],
             [
              0.7777777777777778,
              "#fb9f3a"
             ],
             [
              0.8888888888888888,
              "#fdca26"
             ],
             [
              1,
              "#f0f921"
             ]
            ],
            "type": "histogram2dcontour"
           }
          ],
          "mesh3d": [
           {
            "colorbar": {
             "outlinewidth": 0,
             "ticks": ""
            },
            "type": "mesh3d"
           }
          ],
          "parcoords": [
           {
            "line": {
             "colorbar": {
              "outlinewidth": 0,
              "ticks": ""
             }
            },
            "type": "parcoords"
           }
          ],
          "pie": [
           {
            "automargin": true,
            "type": "pie"
           }
          ],
          "scatter": [
           {
            "fillpattern": {
             "fillmode": "overlay",
             "size": 10,
             "solidity": 0.2
            },
            "type": "scatter"
           }
          ],
          "scatter3d": [
           {
            "line": {
             "colorbar": {
              "outlinewidth": 0,
              "ticks": ""
             }
            },
            "marker": {
             "colorbar": {
              "outlinewidth": 0,
              "ticks": ""
             }
            },
            "type": "scatter3d"
           }
          ],
          "scattercarpet": [
           {
            "marker": {
             "colorbar": {
              "outlinewidth": 0,
              "ticks": ""
             }
            },
            "type": "scattercarpet"
           }
          ],
          "scattergeo": [
           {
            "marker": {
             "colorbar": {
              "outlinewidth": 0,
              "ticks": ""
             }
            },
            "type": "scattergeo"
           }
          ],
          "scattergl": [
           {
            "marker": {
             "colorbar": {
              "outlinewidth": 0,
              "ticks": ""
             }
            },
            "type": "scattergl"
           }
          ],
          "scattermapbox": [
           {
            "marker": {
             "colorbar": {
              "outlinewidth": 0,
              "ticks": ""
             }
            },
            "type": "scattermapbox"
           }
          ],
          "scatterpolar": [
           {
            "marker": {
             "colorbar": {
              "outlinewidth": 0,
              "ticks": ""
             }
            },
            "type": "scatterpolar"
           }
          ],
          "scatterpolargl": [
           {
            "marker": {
             "colorbar": {
              "outlinewidth": 0,
              "ticks": ""
             }
            },
            "type": "scatterpolargl"
           }
          ],
          "scatterternary": [
           {
            "marker": {
             "colorbar": {
              "outlinewidth": 0,
              "ticks": ""
             }
            },
            "type": "scatterternary"
           }
          ],
          "surface": [
           {
            "colorbar": {
             "outlinewidth": 0,
             "ticks": ""
            },
            "colorscale": [
             [
              0,
              "#0d0887"
             ],
             [
              0.1111111111111111,
              "#46039f"
             ],
             [
              0.2222222222222222,
              "#7201a8"
             ],
             [
              0.3333333333333333,
              "#9c179e"
             ],
             [
              0.4444444444444444,
              "#bd3786"
             ],
             [
              0.5555555555555556,
              "#d8576b"
             ],
             [
              0.6666666666666666,
              "#ed7953"
             ],
             [
              0.7777777777777778,
              "#fb9f3a"
             ],
             [
              0.8888888888888888,
              "#fdca26"
             ],
             [
              1,
              "#f0f921"
             ]
            ],
            "type": "surface"
           }
          ],
          "table": [
           {
            "cells": {
             "fill": {
              "color": "#EBF0F8"
             },
             "line": {
              "color": "white"
             }
            },
            "header": {
             "fill": {
              "color": "#C8D4E3"
             },
             "line": {
              "color": "white"
             }
            },
            "type": "table"
           }
          ]
         },
         "layout": {
          "annotationdefaults": {
           "arrowcolor": "#2a3f5f",
           "arrowhead": 0,
           "arrowwidth": 1
          },
          "autotypenumbers": "strict",
          "coloraxis": {
           "colorbar": {
            "outlinewidth": 0,
            "ticks": ""
           }
          },
          "colorscale": {
           "diverging": [
            [
             0,
             "#8e0152"
            ],
            [
             0.1,
             "#c51b7d"
            ],
            [
             0.2,
             "#de77ae"
            ],
            [
             0.3,
             "#f1b6da"
            ],
            [
             0.4,
             "#fde0ef"
            ],
            [
             0.5,
             "#f7f7f7"
            ],
            [
             0.6,
             "#e6f5d0"
            ],
            [
             0.7,
             "#b8e186"
            ],
            [
             0.8,
             "#7fbc41"
            ],
            [
             0.9,
             "#4d9221"
            ],
            [
             1,
             "#276419"
            ]
           ],
           "sequential": [
            [
             0,
             "#0d0887"
            ],
            [
             0.1111111111111111,
             "#46039f"
            ],
            [
             0.2222222222222222,
             "#7201a8"
            ],
            [
             0.3333333333333333,
             "#9c179e"
            ],
            [
             0.4444444444444444,
             "#bd3786"
            ],
            [
             0.5555555555555556,
             "#d8576b"
            ],
            [
             0.6666666666666666,
             "#ed7953"
            ],
            [
             0.7777777777777778,
             "#fb9f3a"
            ],
            [
             0.8888888888888888,
             "#fdca26"
            ],
            [
             1,
             "#f0f921"
            ]
           ],
           "sequentialminus": [
            [
             0,
             "#0d0887"
            ],
            [
             0.1111111111111111,
             "#46039f"
            ],
            [
             0.2222222222222222,
             "#7201a8"
            ],
            [
             0.3333333333333333,
             "#9c179e"
            ],
            [
             0.4444444444444444,
             "#bd3786"
            ],
            [
             0.5555555555555556,
             "#d8576b"
            ],
            [
             0.6666666666666666,
             "#ed7953"
            ],
            [
             0.7777777777777778,
             "#fb9f3a"
            ],
            [
             0.8888888888888888,
             "#fdca26"
            ],
            [
             1,
             "#f0f921"
            ]
           ]
          },
          "colorway": [
           "#636efa",
           "#EF553B",
           "#00cc96",
           "#ab63fa",
           "#FFA15A",
           "#19d3f3",
           "#FF6692",
           "#B6E880",
           "#FF97FF",
           "#FECB52"
          ],
          "font": {
           "color": "#2a3f5f"
          },
          "geo": {
           "bgcolor": "white",
           "lakecolor": "white",
           "landcolor": "#E5ECF6",
           "showlakes": true,
           "showland": true,
           "subunitcolor": "white"
          },
          "hoverlabel": {
           "align": "left"
          },
          "hovermode": "closest",
          "mapbox": {
           "style": "light"
          },
          "paper_bgcolor": "white",
          "plot_bgcolor": "#E5ECF6",
          "polar": {
           "angularaxis": {
            "gridcolor": "white",
            "linecolor": "white",
            "ticks": ""
           },
           "bgcolor": "#E5ECF6",
           "radialaxis": {
            "gridcolor": "white",
            "linecolor": "white",
            "ticks": ""
           }
          },
          "scene": {
           "xaxis": {
            "backgroundcolor": "#E5ECF6",
            "gridcolor": "white",
            "gridwidth": 2,
            "linecolor": "white",
            "showbackground": true,
            "ticks": "",
            "zerolinecolor": "white"
           },
           "yaxis": {
            "backgroundcolor": "#E5ECF6",
            "gridcolor": "white",
            "gridwidth": 2,
            "linecolor": "white",
            "showbackground": true,
            "ticks": "",
            "zerolinecolor": "white"
           },
           "zaxis": {
            "backgroundcolor": "#E5ECF6",
            "gridcolor": "white",
            "gridwidth": 2,
            "linecolor": "white",
            "showbackground": true,
            "ticks": "",
            "zerolinecolor": "white"
           }
          },
          "shapedefaults": {
           "line": {
            "color": "#2a3f5f"
           }
          },
          "ternary": {
           "aaxis": {
            "gridcolor": "white",
            "linecolor": "white",
            "ticks": ""
           },
           "baxis": {
            "gridcolor": "white",
            "linecolor": "white",
            "ticks": ""
           },
           "bgcolor": "#E5ECF6",
           "caxis": {
            "gridcolor": "white",
            "linecolor": "white",
            "ticks": ""
           }
          },
          "title": {
           "x": 0.05
          },
          "xaxis": {
           "automargin": true,
           "gridcolor": "white",
           "linecolor": "white",
           "ticks": "",
           "title": {
            "standoff": 15
           },
           "zerolinecolor": "white",
           "zerolinewidth": 2
          },
          "yaxis": {
           "automargin": true,
           "gridcolor": "white",
           "linecolor": "white",
           "ticks": "",
           "title": {
            "standoff": 15
           },
           "zerolinecolor": "white",
           "zerolinewidth": 2
          }
         }
        },
        "title": {
         "text": "Slaegt"
        },
        "xaxis": {
         "anchor": "y",
         "domain": [
          0,
          1
         ],
         "title": {
          "text": "tree_count"
         }
        },
        "yaxis": {
         "anchor": "x",
         "categoryorder": "total ascending",
         "domain": [
          0,
          1
         ],
         "title": {
          "text": "slaegt"
         }
        }
       }
      },
      "text/html": [
       "<div>                            <div id=\"88755d39-6482-4463-b021-9da70a74297b\" class=\"plotly-graph-div\" style=\"height:525px; width:100%;\"></div>            <script type=\"text/javascript\">                require([\"plotly\"], function(Plotly) {                    window.PLOTLYENV=window.PLOTLYENV || {};                                    if (document.getElementById(\"88755d39-6482-4463-b021-9da70a74297b\")) {                    Plotly.newPlot(                        \"88755d39-6482-4463-b021-9da70a74297b\",                        [{\"alignmentgroup\":\"True\",\"hovertemplate\":\"prediction=tp\\u003cbr\\u003etree_count=%{x}\\u003cbr\\u003eslaegt=%{y}\\u003cextra\\u003e\\u003c\\u002fextra\\u003e\",\"legendgroup\":\"tp\",\"marker\":{\"color\":\"#636efa\",\"pattern\":{\"shape\":\"\"}},\"name\":\"tp\",\"offsetgroup\":\"tp\",\"orientation\":\"h\",\"showlegend\":true,\"textposition\":\"auto\",\"x\":[4.0,2.0,1.0,8.0,11.0,3.0,2.0,4.0,1.0,2.0,2.0,2.0,1.0,4.0,16.0,3.0,2.0,3.0,1.0,6.0,4.0,3.0,14.0,6.0,1.0,3.0,7.0,6.0,3.0,4.0,2.0,4.0,3.0,6.0,3.0,11.0,7.0,1.0,2.0,1.0,2.0,2.0,4.0,1.0,2.0,5.0,2.0,17.0,3.0,2.0,5.0,4.0,1.0,4.0,1.0,5.0,2.0,1.0,2.0,1.0,1.0,1.0,1.0,9.0,5.0,4.0,1.0,2.0,1.0,1.0,3.0,2.0,2.0,4.0,3.0,1.0,1.0,2.0,6.0,1.0,1.0,1.0,4.0,1.0,8.0,1.0,1.0,2.0,3.0,2.0,1.0,1.0,17.0,1.0,1.0,1.0,3.0,1.0,2.0,6.0,2.0,1.0,1.0,1.0,1.0,2.0,1.0,6.0,1.0,1.0,1.0,1.0,4.0,16.0,2.0,5.0,5.0,2.0,4.0,4.0,2.0,1.0,1.0,1.0,1.0,3.0,2.0,1.0,1.0,2.0,1.0,1.0,3.0,1.0,1.0,1.0,4.0,2.0,5.0,2.0,1.0,6.0,1.0,2.0,7.0,6.0,7.0,1.0,1.0,1.0,2.0,4.0,2.0,1.0,2.0,4.0,2.0,4.0,5.0,1.0,2.0,5.0,4.0,2.0,1.0,1.0,11.0,2.0,3.0,10.0,1.0,2.0,6.0,1.0,1.0,4.0,1.0,1.0,2.0,2.0,3.0,1.0,1.0,1.0,3.0,2.0,1.0,35.0,1.0,4.0,1.0,1.0,2.0,2.0,7.0,2.0,1.0,1.0,1.0,1.0,1.0,4.0,6.0,2.0,3.0,1.0,1.0,6.0,8.0,3.0,3.0,3.0,1.0,3.0,1.0,8.0,1.0,4.0,16.0,2.0,2.0,1.0,1.0,1.0,1.0,2.0,1.0,6.0,2.0,1.0,5.0,5.0,1.0,1.0,4.0,2.0,3.0,3.0,7.0,1.0,1.0,1.0,2.0,1.0,4.0,4.0,1.0,3.0,3.0,3.0,1.0,5.0,1.0,3.0,1.0,4.0,1.0,4.0,1.0,3.0,3.0,1.0,1.0,4.0,1.0,6.0,16.0,4.0,12.0,1.0,1.0,5.0,2.0,4.0,3.0,2.0,4.0,2.0,2.0,10.0,12.0,13.0,4.0,4.0,9.0,4.0,4.0,2.0,4.0,1.0,1.0,4.0,2.0,3.0,3.0,7.0,3.0,1.0,1.0,1.0,1.0,4.0,3.0,9.0,6.0,1.0,1.0,3.0,1.0,3.0,3.0,1.0,2.0,6.0,5.0,1.0,2.0,5.0,9.0,1.0,1.0,1.0,1.0,2.0,3.0,3.0,1.0,12.0,1.0,1.0,1.0,1.0,1.0,4.0,4.0,11.0,1.0,1.0,1.0,1.0,1.0,2.0,6.0,6.0,1.0,1.0,1.0,1.0,1.0,2.0,5.0,2.0,1.0,1.0,1.0,4.0,3.0,4.0,3.0,11.0,1.0,1.0,6.0,1.0,11.0,2.0,7.0,1.0,1.0,1.0,1.0,1.0,4.0,1.0,8.0,1.0,1.0,3.0,1.0,2.0,1.0,2.0,1.0,2.0,1.0,2.0,1.0,1.0,1.0,3.0,3.0,4.0,4.0,5.0,6.0,6.0,3.0,10.0,14.0,1.0,1.0,2.0,6.0,1.0,1.0,1.0,2.0,3.0,7.0,2.0,4.0,1.0,2.0,6.0,6.0,1.0,1.0,4.0,2.0,1.0,1.0,2.0,2.0,1.0,3.0,7.0,5.0,1.0,1.0,1.0,1.0,24.0,1.0,1.0,1.0,2.0,1.0,1.0,1.0,1.0,4.0,5.0,2.0,6.0,1.0,3.0,1.0,23.0,1.0,2.0,2.0,1.0,1.0,2.0,4.0,1.0,3.0,2.0,1.0],\"xaxis\":\"x\",\"y\":[\"Robinia sp.\",\"Tilia sp.\",\"Robinia sp.\",\"Platanus sp.\",\"Tilia sp.\",\"Quercus sp.\",\"Quercus sp.\",\"other\",\"other\",\"Quercus sp.\",\"Tilia sp.\",\"Aesculus sp.\",\"Ulmus sp.\",\"Prunus sp.\",\"Sorbus sp.\",\"Quercus sp.\",\"other\",\"Malus sp.\",\"Tilia sp.\",\"Sorbus sp.\",\"Tilia sp.\",\"Platanus sp.\",\"Acer sp.\",\"Fraxinus sp.\",\"other\",\"Tilia sp.\",\"Quercus sp.\",\"other\",\"Tilia sp.\",\"Tilia sp.\",\"Platanus sp.\",\"Acer sp.\",\"Quercus sp.\",\"Sorbus sp.\",\"Tilia sp.\",\"Tilia sp.\",\"Tilia sp.\",\"Acer sp.\",\"Tilia sp.\",\"Platanus sp.\",\"Malus sp.\",\"other\",\"Tilia sp.\",\"Robinia sp.\",\"Tilia sp.\",\"Fraxinus sp.\",\"Prunus sp.\",\"Acer sp.\",\"Quercus sp.\",\"Sorbus sp.\",\"Sorbus sp.\",\"Acer sp.\",\"Platanus sp.\",\"Tilia sp.\",\"Tilia sp.\",\"Tilia sp.\",\"Tilia sp.\",\"Tilia sp.\",\"Tilia sp.\",\"Platanus sp.\",\"Tilia sp.\",\"Tilia sp.\",\"Tilia sp.\",\"Platanus sp.\",\"other\",\"Tilia sp.\",\"other\",\"Prunus sp.\",\"Tilia sp.\",\"Tilia sp.\",\"Crataegus sp.\",\"other\",\"Acer sp.\",\"other\",\"Tilia sp.\",\"Quercus sp.\",\"Prunus sp.\",\"other\",\"Fraxinus sp.\",\"Robinia sp.\",\"Aesculus sp.\",\"Platanus sp.\",\"Tilia sp.\",\"Robinia sp.\",\"Malus sp.\",\"Platanus sp.\",\"Platanus sp.\",\"Quercus sp.\",\"Tilia sp.\",\"Platanus sp.\",\"Acer sp.\",\"Sorbus sp.\",\"Platanus sp.\",\"Platanus sp.\",\"other\",\"Tilia sp.\",\"Platanus sp.\",\"Acer sp.\",\"Tilia sp.\",\"Acer sp.\",\"Tilia sp.\",\"Platanus sp.\",\"Sorbus sp.\",\"Platanus sp.\",\"Platanus sp.\",\"Robinia sp.\",\"Robinia sp.\",\"Aesculus sp.\",\"Tilia sp.\",\"Sorbus sp.\",\"Tilia sp.\",\"Sorbus sp.\",\"Fraxinus sp.\",\"Acer sp.\",\"Acer sp.\",\"Aesculus sp.\",\"other\",\"Fraxinus sp.\",\"Tilia sp.\",\"Sorbus sp.\",\"Ulmus sp.\",\"Platanus sp.\",\"Acer sp.\",\"Aesculus sp.\",\"Aesculus sp.\",\"Platanus sp.\",\"Fraxinus sp.\",\"Platanus sp.\",\"Platanus sp.\",\"Tilia sp.\",\"other\",\"Platanus sp.\",\"Tilia sp.\",\"other\",\"Tilia sp.\",\"other\",\"Quercus sp.\",\"Robinia sp.\",\"Tilia sp.\",\"Tilia sp.\",\"Malus sp.\",\"Tilia sp.\",\"Aesculus sp.\",\"Tilia sp.\",\"Platanus sp.\",\"Tilia sp.\",\"Tilia sp.\",\"Aesculus sp.\",\"other\",\"Platanus sp.\",\"Tilia sp.\",\"Tilia sp.\",\"Tilia sp.\",\"Robinia sp.\",\"Platanus sp.\",\"Prunus sp.\",\"other\",\"Platanus sp.\",\"Tilia sp.\",\"other\",\"Acer sp.\",\"Tilia sp.\",\"Quercus sp.\",\"Malus sp.\",\"Platanus sp.\",\"Aesculus sp.\",\"other\",\"Robinia sp.\",\"Platanus sp.\",\"other\",\"Sorbus sp.\",\"Platanus sp.\",\"Sorbus sp.\",\"Fraxinus sp.\",\"Tilia sp.\",\"Platanus sp.\",\"other\",\"Robinia sp.\",\"Sorbus sp.\",\"Sorbus sp.\",\"Prunus sp.\",\"Quercus sp.\",\"Quercus sp.\",\"Ulmus sp.\",\"Sorbus sp.\",\"Platanus sp.\",\"Sorbus sp.\",\"Acer sp.\",\"Quercus sp.\",\"Sorbus sp.\",\"Platanus sp.\",\"other\",\"Quercus sp.\",\"Platanus sp.\",\"Fraxinus sp.\",\"Sorbus sp.\",\"Quercus sp.\",\"Aesculus sp.\",\"Acer sp.\",\"Malus sp.\",\"Sorbus sp.\",\"Robinia sp.\",\"Tilia sp.\",\"Platanus sp.\",\"Aesculus sp.\",\"other\",\"other\",\"other\",\"other\",\"Robinia sp.\",\"Platanus sp.\",\"Quercus sp.\",\"other\",\"Tilia sp.\",\"Platanus sp.\",\"Acer sp.\",\"Fraxinus sp.\",\"Fraxinus sp.\",\"Fraxinus sp.\",\"Prunus sp.\",\"Fraxinus sp.\",\"Tilia sp.\",\"Aesculus sp.\",\"Sorbus sp.\",\"Aesculus sp.\",\"Tilia sp.\",\"Prunus sp.\",\"Tilia sp.\",\"Fraxinus sp.\",\"Quercus sp.\",\"other\",\"Tilia sp.\",\"Sorbus sp.\",\"Platanus sp.\",\"Tilia sp.\",\"other\",\"Platanus sp.\",\"other\",\"Fraxinus sp.\",\"Tilia sp.\",\"Acer sp.\",\"Platanus sp.\",\"Sorbus sp.\",\"Platanus sp.\",\"Tilia sp.\",\"Prunus sp.\",\"Tilia sp.\",\"Tilia sp.\",\"other\",\"Tilia sp.\",\"Fraxinus sp.\",\"Robinia sp.\",\"Sorbus sp.\",\"Quercus sp.\",\"Tilia sp.\",\"Fraxinus sp.\",\"Platanus sp.\",\"Fraxinus sp.\",\"Acer sp.\",\"Tilia sp.\",\"Tilia sp.\",\"Acer sp.\",\"Acer sp.\",\"Quercus sp.\",\"Robinia sp.\",\"Tilia sp.\",\"other\",\"other\",\"Tilia sp.\",\"Acer sp.\",\"Tilia sp.\",\"Crataegus sp.\",\"other\",\"Robinia sp.\",\"Platanus sp.\",\"other\",\"Quercus sp.\",\"Quercus sp.\",\"Acer sp.\",\"Sorbus sp.\",\"Acer sp.\",\"Malus sp.\",\"Tilia sp.\",\"Tilia sp.\",\"Crataegus sp.\",\"Acer sp.\",\"Tilia sp.\",\"Platanus sp.\",\"Prunus sp.\",\"Acer sp.\",\"Prunus sp.\",\"Quercus sp.\",\"Prunus sp.\",\"Prunus sp.\",\"Platanus sp.\",\"other\",\"Platanus sp.\",\"Quercus sp.\",\"Prunus sp.\",\"Prunus sp.\",\"Tilia sp.\",\"Platanus sp.\",\"other\",\"Robinia sp.\",\"Quercus sp.\",\"other\",\"Acer sp.\",\"Robinia sp.\",\"Platanus sp.\",\"Tilia sp.\",\"Tilia sp.\",\"Fraxinus sp.\",\"Tilia sp.\",\"Fraxinus sp.\",\"Acer sp.\",\"Tilia sp.\",\"Fraxinus sp.\",\"Tilia sp.\",\"Tilia sp.\",\"Platanus sp.\",\"Tilia sp.\",\"Crataegus sp.\",\"Robinia sp.\",\"Robinia sp.\",\"Tilia sp.\",\"Tilia sp.\",\"Platanus sp.\",\"Tilia sp.\",\"Quercus sp.\",\"Platanus sp.\",\"other\",\"Acer sp.\",\"Platanus sp.\",\"Sorbus sp.\",\"Robinia sp.\",\"other\",\"Platanus sp.\",\"Sorbus sp.\",\"Platanus sp.\",\"other\",\"Platanus sp.\",\"Tilia sp.\",\"Sorbus sp.\",\"Tilia sp.\",\"Quercus sp.\",\"Quercus sp.\",\"other\",\"Platanus sp.\",\"Tilia sp.\",\"Fraxinus sp.\",\"Platanus sp.\",\"Tilia sp.\",\"Fraxinus sp.\",\"Tilia sp.\",\"Platanus sp.\",\"Prunus sp.\",\"Ulmus sp.\",\"Tilia sp.\",\"Sorbus sp.\",\"Acer sp.\",\"other\",\"Platanus sp.\",\"Sorbus sp.\",\"other\",\"Tilia sp.\",\"Platanus sp.\",\"Sorbus sp.\",\"Platanus sp.\",\"Quercus sp.\",\"Tilia sp.\",\"Tilia sp.\",\"Robinia sp.\",\"Tilia sp.\",\"Platanus sp.\",\"Quercus sp.\",\"Tilia sp.\",\"Quercus sp.\",\"Tilia sp.\",\"Crataegus sp.\",\"Ulmus sp.\",\"Tilia sp.\",\"Platanus sp.\",\"Tilia sp.\",\"Platanus sp.\",\"Fraxinus sp.\",\"Robinia sp.\",\"Tilia sp.\",\"Tilia sp.\",\"Crataegus sp.\",\"other\",\"Quercus sp.\",\"Tilia sp.\",\"Tilia sp.\",\"Tilia sp.\",\"Acer sp.\",\"Tilia sp.\",\"Sorbus sp.\",\"Tilia sp.\",\"Fraxinus sp.\",\"Tilia sp.\",\"Platanus sp.\",\"Platanus sp.\",\"Tilia sp.\",\"Platanus sp.\",\"Platanus sp.\",\"Fraxinus sp.\",\"Prunus sp.\",\"Sorbus sp.\",\"Tilia sp.\",\"Robinia sp.\",\"Platanus sp.\",\"Platanus sp.\",\"Sorbus sp.\",\"Sorbus sp.\",\"Tilia sp.\",\"Ulmus sp.\",\"Quercus sp.\",\"other\",\"Robinia sp.\",\"Fraxinus sp.\",\"other\",\"Quercus sp.\",\"Sorbus sp.\",\"Crataegus sp.\",\"Tilia sp.\",\"Tilia sp.\",\"Tilia sp.\",\"other\",\"Platanus sp.\",\"Quercus sp.\",\"Malus sp.\",\"Acer sp.\",\"other\",\"Quercus sp.\",\"Platanus sp.\",\"Robinia sp.\",\"Tilia sp.\",\"Robinia sp.\",\"other\",\"Tilia sp.\",\"Acer sp.\",\"Tilia sp.\",\"Acer sp.\",\"Malus sp.\",\"Robinia sp.\",\"Tilia sp.\",\"Robinia sp.\",\"Acer sp.\",\"Robinia sp.\",\"Tilia sp.\",\"Ulmus sp.\",\"other\",\"Quercus sp.\",\"Platanus sp.\",\"Tilia sp.\",\"Robinia sp.\",\"Tilia sp.\",\"Tilia sp.\",\"Tilia sp.\"],\"yaxis\":\"y\",\"type\":\"bar\"},{\"alignmentgroup\":\"True\",\"hovertemplate\":\"prediction=fn\\u003cbr\\u003etree_count=%{x}\\u003cbr\\u003eslaegt=%{y}\\u003cextra\\u003e\\u003c\\u002fextra\\u003e\",\"legendgroup\":\"fn\",\"marker\":{\"color\":\"#EF553B\",\"pattern\":{\"shape\":\"\"}},\"name\":\"fn\",\"offsetgroup\":\"fn\",\"orientation\":\"h\",\"showlegend\":true,\"textposition\":\"auto\",\"x\":[1.0,1.0,12.0,1.0,5.0,1.0,4.0,4.0,1.0,4.0,1.0,1.0,1.0,1.0,5.0,1.0,1.0,1.0,1.0,1.0,1.0,1.0,3.0,2.0,1.0,2.0,2.0,1.0,12.0,2.0,1.0,1.0,2.0,1.0,3.0,14.0,1.0,19.0,2.0,1.0,1.0,1.0,1.0,1.0,1.0,1.0,1.0,2.0,4.0,1.0,2.0,1.0,2.0,1.0,3.0,4.0,1.0,1.0,2.0,1.0,1.0,1.0,4.0,5.0,1.0,4.0,1.0,1.0,1.0,1.0,4.0,10.0,1.0,2.0,3.0,1.0,1.0,1.0,1.0,1.0,1.0,1.0,1.0,3.0,1.0,3.0,2.0,1.0,18.0,1.0,1.0,1.0,1.0,3.0,1.0,1.0,1.0,2.0,2.0,1.0,1.0,5.0,1.0,1.0,10.0,1.0,1.0,1.0,1.0,1.0,1.0,2.0,1.0,4.0,1.0,3.0,1.0,1.0,1.0,2.0,1.0,1.0,1.0,2.0,10.0,1.0,7.0,1.0,1.0,1.0,5.0,2.0,1.0,15.0,1.0,4.0,1.0,2.0,1.0,1.0,1.0,5.0,2.0,1.0,1.0,1.0,2.0,1.0,4.0,1.0,1.0,3.0,1.0,3.0,1.0,1.0,10.0,4.0,2.0,2.0,2.0,4.0,2.0,1.0,1.0,1.0,1.0,1.0,1.0,3.0,4.0,1.0,3.0,1.0,4.0,1.0,2.0,1.0,4.0,1.0,1.0,7.0,1.0,16.0,1.0,1.0,25.0,1.0,2.0,5.0,11.0,1.0,2.0,3.0,2.0,1.0,2.0],\"xaxis\":\"x\",\"y\":[\"Tilia sp.\",\"Platanus sp.\",\"Ulmus sp.\",\"Acer sp.\",\"other\",\"Tilia sp.\",\"Sorbus sp.\",\"Sorbus sp.\",\"Prunus sp.\",\"Platanus sp.\",\"Fraxinus sp.\",\"Acer sp.\",\"Acer sp.\",\"Tilia sp.\",\"Tilia sp.\",\"Ulmus sp.\",\"Robinia sp.\",\"Fraxinus sp.\",\"Quercus sp.\",\"Platanus sp.\",\"Acer sp.\",\"Tilia sp.\",\"Tilia sp.\",\"Platanus sp.\",\"Prunus sp.\",\"Fraxinus sp.\",\"Aesculus sp.\",\"Sorbus sp.\",\"Malus sp.\",\"Quercus sp.\",\"Tilia sp.\",\"Quercus sp.\",\"Sorbus sp.\",\"Platanus sp.\",\"Tilia sp.\",\"Platanus sp.\",\"Fraxinus sp.\",\"Fraxinus sp.\",\"Prunus sp.\",\"Platanus sp.\",\"Platanus sp.\",\"Tilia sp.\",\"Prunus sp.\",\"Tilia sp.\",\"Tilia sp.\",\"Crataegus sp.\",\"Robinia sp.\",\"Tilia sp.\",\"Fraxinus sp.\",\"Quercus sp.\",\"Robinia sp.\",\"Robinia sp.\",\"Quercus sp.\",\"other\",\"Tilia sp.\",\"Acer sp.\",\"Platanus sp.\",\"Tilia sp.\",\"Tilia sp.\",\"Robinia sp.\",\"Acer sp.\",\"Fraxinus sp.\",\"Quercus sp.\",\"Tilia sp.\",\"Acer sp.\",\"Tilia sp.\",\"Robinia sp.\",\"Tilia sp.\",\"Robinia sp.\",\"Fraxinus sp.\",\"Crataegus sp.\",\"Platanus sp.\",\"Platanus sp.\",\"Malus sp.\",\"Malus sp.\",\"Crataegus sp.\",\"Robinia sp.\",\"Aesculus sp.\",\"Fraxinus sp.\",\"Tilia sp.\",\"Acer sp.\",\"Sorbus sp.\",\"other\",\"Acer sp.\",\"Quercus sp.\",\"Platanus sp.\",\"Tilia sp.\",\"Tilia sp.\",\"Platanus sp.\",\"Tilia sp.\",\"Sorbus sp.\",\"Sorbus sp.\",\"Crataegus sp.\",\"Crataegus sp.\",\"Malus sp.\",\"Fraxinus sp.\",\"Quercus sp.\",\"Tilia sp.\",\"Robinia sp.\",\"Acer sp.\",\"Prunus sp.\",\"Prunus sp.\",\"Robinia sp.\",\"Tilia sp.\",\"Platanus sp.\",\"Robinia sp.\",\"Sorbus sp.\",\"Quercus sp.\",\"Tilia sp.\",\"Tilia sp.\",\"Aesculus sp.\",\"Acer sp.\",\"Fraxinus sp.\",\"Fraxinus sp.\",\"Platanus sp.\",\"Prunus sp.\",\"Aesculus sp.\",\"Sorbus sp.\",\"Tilia sp.\",\"Prunus sp.\",\"Tilia sp.\",\"other\",\"Sorbus sp.\",\"other\",\"Ulmus sp.\",\"Prunus sp.\",\"Tilia sp.\",\"Robinia sp.\",\"Robinia sp.\",\"Tilia sp.\",\"Quercus sp.\",\"Tilia sp.\",\"Platanus sp.\",\"Sorbus sp.\",\"Robinia sp.\",\"Tilia sp.\",\"Platanus sp.\",\"Crataegus sp.\",\"Aesculus sp.\",\"Prunus sp.\",\"Quercus sp.\",\"Tilia sp.\",\"Acer sp.\",\"Fraxinus sp.\",\"Tilia sp.\",\"Crataegus sp.\",\"Tilia sp.\",\"Robinia sp.\",\"Fraxinus sp.\",\"Crataegus sp.\",\"Acer sp.\",\"Tilia sp.\",\"Malus sp.\",\"Acer sp.\",\"Tilia sp.\",\"other\",\"Platanus sp.\",\"Fraxinus sp.\",\"Acer sp.\",\"Acer sp.\",\"Tilia sp.\",\"Robinia sp.\",\"Tilia sp.\",\"other\",\"Tilia sp.\",\"Fraxinus sp.\",\"Aesculus sp.\",\"Prunus sp.\",\"Crataegus sp.\",\"Quercus sp.\",\"Crataegus sp.\",\"Sorbus sp.\",\"Tilia sp.\",\"Tilia sp.\",\"Prunus sp.\",\"Tilia sp.\",\"Prunus sp.\",\"Tilia sp.\",\"Malus sp.\",\"Platanus sp.\",\"Tilia sp.\",\"Tilia sp.\",\"Platanus sp.\",\"Platanus sp.\",\"Tilia sp.\",\"Fraxinus sp.\",\"Fraxinus sp.\",\"Acer sp.\",\"other\",\"Quercus sp.\",\"Sorbus sp.\",\"Quercus sp.\",\"Prunus sp.\",\"Fraxinus sp.\",\"other\",\"Platanus sp.\",\"Acer sp.\"],\"yaxis\":\"y\",\"type\":\"bar\"}],                        {\"template\":{\"data\":{\"histogram2dcontour\":[{\"type\":\"histogram2dcontour\",\"colorbar\":{\"outlinewidth\":0,\"ticks\":\"\"},\"colorscale\":[[0.0,\"#0d0887\"],[0.1111111111111111,\"#46039f\"],[0.2222222222222222,\"#7201a8\"],[0.3333333333333333,\"#9c179e\"],[0.4444444444444444,\"#bd3786\"],[0.5555555555555556,\"#d8576b\"],[0.6666666666666666,\"#ed7953\"],[0.7777777777777778,\"#fb9f3a\"],[0.8888888888888888,\"#fdca26\"],[1.0,\"#f0f921\"]]}],\"choropleth\":[{\"type\":\"choropleth\",\"colorbar\":{\"outlinewidth\":0,\"ticks\":\"\"}}],\"histogram2d\":[{\"type\":\"histogram2d\",\"colorbar\":{\"outlinewidth\":0,\"ticks\":\"\"},\"colorscale\":[[0.0,\"#0d0887\"],[0.1111111111111111,\"#46039f\"],[0.2222222222222222,\"#7201a8\"],[0.3333333333333333,\"#9c179e\"],[0.4444444444444444,\"#bd3786\"],[0.5555555555555556,\"#d8576b\"],[0.6666666666666666,\"#ed7953\"],[0.7777777777777778,\"#fb9f3a\"],[0.8888888888888888,\"#fdca26\"],[1.0,\"#f0f921\"]]}],\"heatmap\":[{\"type\":\"heatmap\",\"colorbar\":{\"outlinewidth\":0,\"ticks\":\"\"},\"colorscale\":[[0.0,\"#0d0887\"],[0.1111111111111111,\"#46039f\"],[0.2222222222222222,\"#7201a8\"],[0.3333333333333333,\"#9c179e\"],[0.4444444444444444,\"#bd3786\"],[0.5555555555555556,\"#d8576b\"],[0.6666666666666666,\"#ed7953\"],[0.7777777777777778,\"#fb9f3a\"],[0.8888888888888888,\"#fdca26\"],[1.0,\"#f0f921\"]]}],\"heatmapgl\":[{\"type\":\"heatmapgl\",\"colorbar\":{\"outlinewidth\":0,\"ticks\":\"\"},\"colorscale\":[[0.0,\"#0d0887\"],[0.1111111111111111,\"#46039f\"],[0.2222222222222222,\"#7201a8\"],[0.3333333333333333,\"#9c179e\"],[0.4444444444444444,\"#bd3786\"],[0.5555555555555556,\"#d8576b\"],[0.6666666666666666,\"#ed7953\"],[0.7777777777777778,\"#fb9f3a\"],[0.8888888888888888,\"#fdca26\"],[1.0,\"#f0f921\"]]}],\"contourcarpet\":[{\"type\":\"contourcarpet\",\"colorbar\":{\"outlinewidth\":0,\"ticks\":\"\"}}],\"contour\":[{\"type\":\"contour\",\"colorbar\":{\"outlinewidth\":0,\"ticks\":\"\"},\"colorscale\":[[0.0,\"#0d0887\"],[0.1111111111111111,\"#46039f\"],[0.2222222222222222,\"#7201a8\"],[0.3333333333333333,\"#9c179e\"],[0.4444444444444444,\"#bd3786\"],[0.5555555555555556,\"#d8576b\"],[0.6666666666666666,\"#ed7953\"],[0.7777777777777778,\"#fb9f3a\"],[0.8888888888888888,\"#fdca26\"],[1.0,\"#f0f921\"]]}],\"surface\":[{\"type\":\"surface\",\"colorbar\":{\"outlinewidth\":0,\"ticks\":\"\"},\"colorscale\":[[0.0,\"#0d0887\"],[0.1111111111111111,\"#46039f\"],[0.2222222222222222,\"#7201a8\"],[0.3333333333333333,\"#9c179e\"],[0.4444444444444444,\"#bd3786\"],[0.5555555555555556,\"#d8576b\"],[0.6666666666666666,\"#ed7953\"],[0.7777777777777778,\"#fb9f3a\"],[0.8888888888888888,\"#fdca26\"],[1.0,\"#f0f921\"]]}],\"mesh3d\":[{\"type\":\"mesh3d\",\"colorbar\":{\"outlinewidth\":0,\"ticks\":\"\"}}],\"scatter\":[{\"fillpattern\":{\"fillmode\":\"overlay\",\"size\":10,\"solidity\":0.2},\"type\":\"scatter\"}],\"parcoords\":[{\"type\":\"parcoords\",\"line\":{\"colorbar\":{\"outlinewidth\":0,\"ticks\":\"\"}}}],\"scatterpolargl\":[{\"type\":\"scatterpolargl\",\"marker\":{\"colorbar\":{\"outlinewidth\":0,\"ticks\":\"\"}}}],\"bar\":[{\"error_x\":{\"color\":\"#2a3f5f\"},\"error_y\":{\"color\":\"#2a3f5f\"},\"marker\":{\"line\":{\"color\":\"#E5ECF6\",\"width\":0.5},\"pattern\":{\"fillmode\":\"overlay\",\"size\":10,\"solidity\":0.2}},\"type\":\"bar\"}],\"scattergeo\":[{\"type\":\"scattergeo\",\"marker\":{\"colorbar\":{\"outlinewidth\":0,\"ticks\":\"\"}}}],\"scatterpolar\":[{\"type\":\"scatterpolar\",\"marker\":{\"colorbar\":{\"outlinewidth\":0,\"ticks\":\"\"}}}],\"histogram\":[{\"marker\":{\"pattern\":{\"fillmode\":\"overlay\",\"size\":10,\"solidity\":0.2}},\"type\":\"histogram\"}],\"scattergl\":[{\"type\":\"scattergl\",\"marker\":{\"colorbar\":{\"outlinewidth\":0,\"ticks\":\"\"}}}],\"scatter3d\":[{\"type\":\"scatter3d\",\"line\":{\"colorbar\":{\"outlinewidth\":0,\"ticks\":\"\"}},\"marker\":{\"colorbar\":{\"outlinewidth\":0,\"ticks\":\"\"}}}],\"scattermapbox\":[{\"type\":\"scattermapbox\",\"marker\":{\"colorbar\":{\"outlinewidth\":0,\"ticks\":\"\"}}}],\"scatterternary\":[{\"type\":\"scatterternary\",\"marker\":{\"colorbar\":{\"outlinewidth\":0,\"ticks\":\"\"}}}],\"scattercarpet\":[{\"type\":\"scattercarpet\",\"marker\":{\"colorbar\":{\"outlinewidth\":0,\"ticks\":\"\"}}}],\"carpet\":[{\"aaxis\":{\"endlinecolor\":\"#2a3f5f\",\"gridcolor\":\"white\",\"linecolor\":\"white\",\"minorgridcolor\":\"white\",\"startlinecolor\":\"#2a3f5f\"},\"baxis\":{\"endlinecolor\":\"#2a3f5f\",\"gridcolor\":\"white\",\"linecolor\":\"white\",\"minorgridcolor\":\"white\",\"startlinecolor\":\"#2a3f5f\"},\"type\":\"carpet\"}],\"table\":[{\"cells\":{\"fill\":{\"color\":\"#EBF0F8\"},\"line\":{\"color\":\"white\"}},\"header\":{\"fill\":{\"color\":\"#C8D4E3\"},\"line\":{\"color\":\"white\"}},\"type\":\"table\"}],\"barpolar\":[{\"marker\":{\"line\":{\"color\":\"#E5ECF6\",\"width\":0.5},\"pattern\":{\"fillmode\":\"overlay\",\"size\":10,\"solidity\":0.2}},\"type\":\"barpolar\"}],\"pie\":[{\"automargin\":true,\"type\":\"pie\"}]},\"layout\":{\"autotypenumbers\":\"strict\",\"colorway\":[\"#636efa\",\"#EF553B\",\"#00cc96\",\"#ab63fa\",\"#FFA15A\",\"#19d3f3\",\"#FF6692\",\"#B6E880\",\"#FF97FF\",\"#FECB52\"],\"font\":{\"color\":\"#2a3f5f\"},\"hovermode\":\"closest\",\"hoverlabel\":{\"align\":\"left\"},\"paper_bgcolor\":\"white\",\"plot_bgcolor\":\"#E5ECF6\",\"polar\":{\"bgcolor\":\"#E5ECF6\",\"angularaxis\":{\"gridcolor\":\"white\",\"linecolor\":\"white\",\"ticks\":\"\"},\"radialaxis\":{\"gridcolor\":\"white\",\"linecolor\":\"white\",\"ticks\":\"\"}},\"ternary\":{\"bgcolor\":\"#E5ECF6\",\"aaxis\":{\"gridcolor\":\"white\",\"linecolor\":\"white\",\"ticks\":\"\"},\"baxis\":{\"gridcolor\":\"white\",\"linecolor\":\"white\",\"ticks\":\"\"},\"caxis\":{\"gridcolor\":\"white\",\"linecolor\":\"white\",\"ticks\":\"\"}},\"coloraxis\":{\"colorbar\":{\"outlinewidth\":0,\"ticks\":\"\"}},\"colorscale\":{\"sequential\":[[0.0,\"#0d0887\"],[0.1111111111111111,\"#46039f\"],[0.2222222222222222,\"#7201a8\"],[0.3333333333333333,\"#9c179e\"],[0.4444444444444444,\"#bd3786\"],[0.5555555555555556,\"#d8576b\"],[0.6666666666666666,\"#ed7953\"],[0.7777777777777778,\"#fb9f3a\"],[0.8888888888888888,\"#fdca26\"],[1.0,\"#f0f921\"]],\"sequentialminus\":[[0.0,\"#0d0887\"],[0.1111111111111111,\"#46039f\"],[0.2222222222222222,\"#7201a8\"],[0.3333333333333333,\"#9c179e\"],[0.4444444444444444,\"#bd3786\"],[0.5555555555555556,\"#d8576b\"],[0.6666666666666666,\"#ed7953\"],[0.7777777777777778,\"#fb9f3a\"],[0.8888888888888888,\"#fdca26\"],[1.0,\"#f0f921\"]],\"diverging\":[[0,\"#8e0152\"],[0.1,\"#c51b7d\"],[0.2,\"#de77ae\"],[0.3,\"#f1b6da\"],[0.4,\"#fde0ef\"],[0.5,\"#f7f7f7\"],[0.6,\"#e6f5d0\"],[0.7,\"#b8e186\"],[0.8,\"#7fbc41\"],[0.9,\"#4d9221\"],[1,\"#276419\"]]},\"xaxis\":{\"gridcolor\":\"white\",\"linecolor\":\"white\",\"ticks\":\"\",\"title\":{\"standoff\":15},\"zerolinecolor\":\"white\",\"automargin\":true,\"zerolinewidth\":2},\"yaxis\":{\"gridcolor\":\"white\",\"linecolor\":\"white\",\"ticks\":\"\",\"title\":{\"standoff\":15},\"zerolinecolor\":\"white\",\"automargin\":true,\"zerolinewidth\":2},\"scene\":{\"xaxis\":{\"backgroundcolor\":\"#E5ECF6\",\"gridcolor\":\"white\",\"linecolor\":\"white\",\"showbackground\":true,\"ticks\":\"\",\"zerolinecolor\":\"white\",\"gridwidth\":2},\"yaxis\":{\"backgroundcolor\":\"#E5ECF6\",\"gridcolor\":\"white\",\"linecolor\":\"white\",\"showbackground\":true,\"ticks\":\"\",\"zerolinecolor\":\"white\",\"gridwidth\":2},\"zaxis\":{\"backgroundcolor\":\"#E5ECF6\",\"gridcolor\":\"white\",\"linecolor\":\"white\",\"showbackground\":true,\"ticks\":\"\",\"zerolinecolor\":\"white\",\"gridwidth\":2}},\"shapedefaults\":{\"line\":{\"color\":\"#2a3f5f\"}},\"annotationdefaults\":{\"arrowcolor\":\"#2a3f5f\",\"arrowhead\":0,\"arrowwidth\":1},\"geo\":{\"bgcolor\":\"white\",\"landcolor\":\"#E5ECF6\",\"subunitcolor\":\"white\",\"showland\":true,\"showlakes\":true,\"lakecolor\":\"white\"},\"title\":{\"x\":0.05},\"mapbox\":{\"style\":\"light\"}}},\"xaxis\":{\"anchor\":\"y\",\"domain\":[0.0,1.0],\"title\":{\"text\":\"tree_count\"}},\"yaxis\":{\"anchor\":\"x\",\"domain\":[0.0,1.0],\"title\":{\"text\":\"slaegt\"},\"categoryorder\":\"total ascending\"},\"legend\":{\"title\":{\"text\":\"prediction\"},\"tracegroupgap\":0},\"title\":{\"text\":\"Slaegt\"},\"barmode\":\"stack\"},                        {\"responsive\": true}                    ).then(function(){\n",
       "                            \n",
       "var gd = document.getElementById('88755d39-6482-4463-b021-9da70a74297b');\n",
       "var x = new MutationObserver(function (mutations, observer) {{\n",
       "        var display = window.getComputedStyle(gd).display;\n",
       "        if (!display || display === 'none') {{\n",
       "            console.log([gd, 'removed!']);\n",
       "            Plotly.purge(gd);\n",
       "            observer.disconnect();\n",
       "        }}\n",
       "}});\n",
       "\n",
       "// Listen for the removal of the full notebook cells\n",
       "var notebookContainer = gd.closest('#notebook-container');\n",
       "if (notebookContainer) {{\n",
       "    x.observe(notebookContainer, {childList: true});\n",
       "}}\n",
       "\n",
       "// Listen for the clearing of the current output cell\n",
       "var outputEl = gd.closest('.output');\n",
       "if (outputEl) {{\n",
       "    x.observe(outputEl, {childList: true});\n",
       "}}\n",
       "\n",
       "                        })                };                });            </script>        </div>"
      ]
     },
     "metadata": {},
     "output_type": "display_data"
    }
   ],
   "source": [
    "#Plotting the slaegt feature\n",
    "fig = px.bar(test_trees, x=test_trees.tree_count, y=test_trees.slaegt, color=\"prediction\", title=\"Slaegt\")\n",
    "fig.update_layout(barmode='stack', yaxis={'categoryorder':'total ascending'})\n",
    "fig.show()"
   ]
  },
  {
   "cell_type": "code",
   "execution_count": 70,
   "id": "e8440c44",
   "metadata": {},
   "outputs": [
    {
     "data": {
      "application/vnd.plotly.v1+json": {
       "config": {
        "plotlyServerURL": "https://plot.ly"
       },
       "data": [
        {
         "alignmentgroup": "True",
         "hovertemplate": "prediction=tp<br>tree_count=%{x}<br>omgivelse=%{y}<extra></extra>",
         "legendgroup": "tp",
         "marker": {
          "color": "#636efa",
          "pattern": {
           "shape": ""
          }
         },
         "name": "tp",
         "offsetgroup": "tp",
         "orientation": "h",
         "showlegend": true,
         "textposition": "auto",
         "type": "bar",
         "x": [
          4,
          2,
          1,
          8,
          11,
          3,
          2,
          4,
          1,
          2,
          2,
          2,
          1,
          4,
          16,
          3,
          2,
          3,
          1,
          6,
          4,
          3,
          14,
          6,
          1,
          3,
          7,
          6,
          3,
          4,
          2,
          4,
          3,
          6,
          3,
          11,
          7,
          1,
          2,
          1,
          2,
          2,
          4,
          1,
          2,
          5,
          2,
          17,
          3,
          2,
          5,
          4,
          1,
          4,
          1,
          5,
          2,
          1,
          2,
          1,
          1,
          1,
          1,
          9,
          5,
          4,
          1,
          2,
          1,
          1,
          3,
          2,
          2,
          4,
          3,
          1,
          1,
          2,
          6,
          1,
          1,
          1,
          4,
          1,
          8,
          1,
          1,
          2,
          3,
          2,
          1,
          1,
          17,
          1,
          1,
          1,
          3,
          1,
          2,
          6,
          2,
          1,
          1,
          1,
          1,
          2,
          1,
          6,
          1,
          1,
          1,
          1,
          4,
          16,
          2,
          5,
          5,
          2,
          4,
          4,
          2,
          1,
          1,
          1,
          1,
          3,
          2,
          1,
          1,
          2,
          1,
          1,
          3,
          1,
          1,
          1,
          4,
          2,
          5,
          2,
          1,
          6,
          1,
          2,
          7,
          6,
          7,
          1,
          1,
          1,
          2,
          4,
          2,
          1,
          2,
          4,
          2,
          4,
          5,
          1,
          2,
          5,
          4,
          2,
          1,
          1,
          11,
          2,
          3,
          10,
          1,
          2,
          6,
          1,
          1,
          4,
          1,
          1,
          2,
          2,
          3,
          1,
          1,
          1,
          3,
          2,
          1,
          35,
          1,
          4,
          1,
          1,
          2,
          2,
          7,
          2,
          1,
          1,
          1,
          1,
          1,
          4,
          6,
          2,
          3,
          1,
          1,
          6,
          8,
          3,
          3,
          3,
          1,
          3,
          1,
          8,
          1,
          4,
          16,
          2,
          2,
          1,
          1,
          1,
          1,
          2,
          1,
          6,
          2,
          1,
          5,
          5,
          1,
          1,
          4,
          2,
          3,
          3,
          7,
          1,
          1,
          1,
          2,
          1,
          4,
          4,
          1,
          3,
          3,
          3,
          1,
          5,
          1,
          3,
          1,
          4,
          1,
          4,
          1,
          3,
          3,
          1,
          1,
          4,
          1,
          6,
          16,
          4,
          12,
          1,
          1,
          5,
          2,
          4,
          3,
          2,
          4,
          2,
          2,
          10,
          12,
          13,
          4,
          4,
          9,
          4,
          4,
          2,
          4,
          1,
          1,
          4,
          2,
          3,
          3,
          7,
          3,
          1,
          1,
          1,
          1,
          4,
          3,
          9,
          6,
          1,
          1,
          3,
          1,
          3,
          3,
          1,
          2,
          6,
          5,
          1,
          2,
          5,
          9,
          1,
          1,
          1,
          1,
          2,
          3,
          3,
          1,
          12,
          1,
          1,
          1,
          1,
          1,
          4,
          4,
          11,
          1,
          1,
          1,
          1,
          1,
          2,
          6,
          6,
          1,
          1,
          1,
          1,
          1,
          2,
          5,
          2,
          1,
          1,
          1,
          4,
          3,
          4,
          3,
          11,
          1,
          1,
          6,
          1,
          11,
          2,
          7,
          1,
          1,
          1,
          1,
          1,
          4,
          1,
          8,
          1,
          1,
          3,
          1,
          2,
          1,
          2,
          1,
          2,
          1,
          2,
          1,
          1,
          1,
          3,
          3,
          4,
          4,
          5,
          6,
          6,
          3,
          10,
          14,
          1,
          1,
          2,
          6,
          1,
          1,
          1,
          2,
          3,
          7,
          2,
          4,
          1,
          2,
          6,
          6,
          1,
          1,
          4,
          2,
          1,
          1,
          2,
          2,
          1,
          3,
          7,
          5,
          1,
          1,
          1,
          1,
          24,
          1,
          1,
          1,
          2,
          1,
          1,
          1,
          1,
          4,
          5,
          2,
          6,
          1,
          3,
          1,
          23,
          1,
          2,
          2,
          1,
          1,
          2,
          4,
          1,
          3,
          2,
          1
         ],
         "xaxis": "x",
         "y": [
          "Grus",
          "Grus",
          "Fast belægning",
          "Fast belægning",
          "Grus",
          "Græs",
          "Græs",
          "Græs",
          "Fast belægning",
          "Stauder",
          "Fast belægning",
          "Fast belægning",
          "Grus",
          "Græs",
          "Fast belægning",
          "Grus",
          "Fast belægning",
          "Grus",
          "Fast belægning",
          "Fast belægning",
          "Fast belægning",
          "Grus",
          "Busket",
          "Barkflis",
          "Græs",
          "Græs",
          "Fast belægning",
          "Græs",
          "Grus",
          "Fast belægning",
          "Græs",
          "Fast belægning",
          "Græs",
          "Græs",
          "Fast belægning",
          "Fast belægning",
          "Græs",
          "Grus",
          "Fast belægning",
          "Fast belægning",
          "Fast belægning",
          "Grus",
          "Fast belægning",
          "Fast belægning",
          "Fast belægning",
          "Fast belægning",
          "Grus",
          "Fast belægning",
          "Græs",
          "Grus",
          "Græs",
          "Fast belægning",
          "Fast belægning",
          "Fast belægning",
          "Fast belægning",
          "Fast belægning",
          "Fast belægning",
          "Grus",
          "Grus",
          "Fast belægning",
          "Fast belægning",
          "Fast belægning",
          "Fast belægning",
          "Busket",
          "Fast belægning",
          "Græs",
          "Grus",
          "Grus",
          "Fast belægning",
          "Græs",
          "Græs",
          "Græs",
          "Grus",
          "Stauder",
          "Grus",
          "Fast belægning",
          "Ikke registreret",
          "Græs",
          "Græs",
          "Grus",
          "Fast belægning",
          "Græs",
          "Græs",
          "Græs",
          "Stauder",
          "Fast belægning",
          "Fast belægning",
          "Fast belægning",
          "Grus",
          "Grus",
          "Fast belægning",
          "Græs",
          "Græs",
          "Fast belægning",
          "Fast belægning",
          "Busket",
          "Grus",
          "Fast belægning",
          "Fast belægning",
          "Fast belægning",
          "Fast belægning",
          "Fast belægning",
          "Busket",
          "Fast belægning",
          "Fast belægning",
          "Grus",
          "Fast belægning",
          "Græs",
          "Grus",
          "Grus",
          "Fast belægning",
          "Fast belægning",
          "Barkflis",
          "Ikke registreret",
          "Grus",
          "Grus",
          "Græs",
          "Græs",
          "Fast belægning",
          "Busket",
          "Fast belægning",
          "Fast belægning",
          "Græs",
          "Grus",
          "Græs",
          "Fast belægning",
          "Græs",
          "Fast belægning",
          "Grus",
          "Fast belægning",
          "Grus",
          "Græs",
          "Græs",
          "Græs",
          "Fast belægning",
          "Græs",
          "Fast belægning",
          "Grus",
          "Grus",
          "Fast belægning",
          "Fast belægning",
          "Fast belægning",
          "Fast belægning",
          "Grus",
          "Fast belægning",
          "Græs",
          "Fast belægning",
          "Græs",
          "Græs",
          "Fast belægning",
          "Fast belægning",
          "Fast belægning",
          "Fast belægning",
          "Grus",
          "Fast belægning",
          "Busket",
          "Fast belægning",
          "Fast belægning",
          "Fast belægning",
          "Fast belægning",
          "Fast belægning",
          "Græs",
          "Fast belægning",
          "Barkflis",
          "Grus",
          "Græs",
          "Græs",
          "Fast belægning",
          "Fast belægning",
          "Græs",
          "Fast belægning",
          "Græs",
          "Græs",
          "Barkflis",
          "Græs",
          "Fast belægning",
          "Grus",
          "Fast belægning",
          "Grus",
          "Græs",
          "Grus",
          "Grus",
          "Græs",
          "Fast belægning",
          "Fast belægning",
          "Grus",
          "Græs",
          "Græs",
          "Fast belægning",
          "Græs",
          "Fast belægning",
          "Græs",
          "Græs",
          "Barkflis",
          "Grus",
          "Grus",
          "Grus",
          "Fast belægning",
          "Fast belægning",
          "Fast belægning",
          "Fast belægning",
          "Grus",
          "Fast belægning",
          "Fast belægning",
          "Græs",
          "Græs",
          "Ikke registreret",
          "Grus",
          "Fast belægning",
          "Græs",
          "Fast belægning",
          "Græs",
          "Græs",
          "Græs",
          "Fast belægning",
          "Fast belægning",
          "Fast belægning",
          "Fast belægning",
          "Grus",
          "Stauder",
          "Busket",
          "Fast belægning",
          "Busket",
          "Græs",
          "Fast belægning",
          "Fast belægning",
          "Busket",
          "Fast belægning",
          "Fast belægning",
          "Stauder",
          "Grus",
          "Fast belægning",
          "Fast belægning",
          "Fast belægning",
          "Fast belægning",
          "Grus",
          "Fast belægning",
          "Græs",
          "Græs",
          "Fast belægning",
          "Græs",
          "Fast belægning",
          "Fast belægning",
          "Fast belægning",
          "Grus",
          "Græs",
          "Grus",
          "Fast belægning",
          "Græs",
          "Fast belægning",
          "Barkflis",
          "Græs",
          "Grus",
          "Fast belægning",
          "Fast belægning",
          "Barkflis",
          "Græs",
          "Fast belægning",
          "Græs",
          "Græs",
          "Busket",
          "Græs",
          "Fast belægning",
          "Fast belægning",
          "Græs",
          "Fast belægning",
          "Græs",
          "Fast belægning",
          "Fast belægning",
          "Fast belægning",
          "Fast belægning",
          "Fast belægning",
          "Fast belægning",
          "Fast belægning",
          "Græs",
          "Busket",
          "Ikke registreret",
          "Græs",
          "Fast belægning",
          "Fast belægning",
          "Busket",
          "Grus",
          "Fast belægning",
          "Græs",
          "Busket",
          "Græs",
          "Fast belægning",
          "Græs",
          "Fast belægning",
          "Græs",
          "Fast belægning",
          "Barkflis",
          "Stauder",
          "Fast belægning",
          "Græs",
          "Fast belægning",
          "Græs",
          "Græs",
          "Fast belægning",
          "Grus",
          "Fast belægning",
          "Barkflis",
          "Stauder",
          "Fast belægning",
          "Fast belægning",
          "Fast belægning",
          "Fast belægning",
          "Fast belægning",
          "Fast belægning",
          "Grus",
          "Fast belægning",
          "Fast belægning",
          "Fast belægning",
          "Græs",
          "Fast belægning",
          "Busket",
          "Fast belægning",
          "Græs",
          "Fast belægning",
          "Fast belægning",
          "Grus",
          "Grus",
          "Grus",
          "Fast belægning",
          "Græs",
          "Fast belægning",
          "Græs",
          "Græs",
          "Græs",
          "Fast belægning",
          "Stauder",
          "Busket",
          "Fast belægning",
          "Fast belægning",
          "Fast belægning",
          "Fast belægning",
          "Fast belægning",
          "Grus",
          "Fast belægning",
          "Græs",
          "Busket",
          "Fast belægning",
          "Busket",
          "Fast belægning",
          "Græs",
          "Grus",
          "Græs",
          "Fast belægning",
          "Fast belægning",
          "Fast belægning",
          "Fast belægning",
          "Græs",
          "Barkflis",
          "Fast belægning",
          "Fast belægning",
          "Busket",
          "Græs",
          "Græs",
          "Græs",
          "Græs",
          "Grus",
          "Fast belægning",
          "Grus",
          "Fast belægning",
          "Fast belægning",
          "Fast belægning",
          "Fast belægning",
          "Fast belægning",
          "Fast belægning",
          "Fast belægning",
          "Fast belægning",
          "Fast belægning",
          "Fast belægning",
          "Fast belægning",
          "Fast belægning",
          "Grus",
          "Fast belægning",
          "Fast belægning",
          "Fast belægning",
          "Fast belægning",
          "Fast belægning",
          "Fast belægning",
          "Fast belægning",
          "Græs",
          "Græs",
          "Grus",
          "Fast belægning",
          "Fast belægning",
          "Græs",
          "Fast belægning",
          "Busket",
          "Fast belægning",
          "Grus",
          "Fast belægning",
          "Græs",
          "Grus",
          "Fast belægning",
          "Fast belægning",
          "Grus",
          "Grus",
          "Fast belægning",
          "Fast belægning",
          "Fast belægning",
          "Fast belægning",
          "Fast belægning",
          "Busket",
          "Grus",
          "Fast belægning",
          "Græs",
          "Stauder",
          "Barkflis",
          "Fast belægning",
          "Fast belægning",
          "Græs",
          "Busket",
          "Grus",
          "Fast belægning",
          "Græs",
          "Græs",
          "Barkflis",
          "Fast belægning",
          "Græs",
          "Græs",
          "Busket",
          "Fast belægning",
          "Fast belægning",
          "Fast belægning",
          "Fast belægning",
          "Fast belægning",
          "Græs",
          "Stauder",
          "Græs",
          "Fast belægning",
          "Grus",
          "Grus",
          "Fast belægning",
          "Græs",
          "Grus",
          "Fast belægning",
          "Fast belægning",
          "Græs",
          "Barkflis",
          "Fast belægning",
          "Busket",
          "Barkflis",
          "Fast belægning",
          "Fast belægning",
          "Fast belægning",
          "Busket",
          "Grus",
          "Grus",
          "Stauder",
          "Grus",
          "Fast belægning",
          "Græs",
          "Fast belægning",
          "Fast belægning",
          "Busket",
          "Grus"
         ],
         "yaxis": "y"
        },
        {
         "alignmentgroup": "True",
         "hovertemplate": "prediction=fn<br>tree_count=%{x}<br>omgivelse=%{y}<extra></extra>",
         "legendgroup": "fn",
         "marker": {
          "color": "#EF553B",
          "pattern": {
           "shape": ""
          }
         },
         "name": "fn",
         "offsetgroup": "fn",
         "orientation": "h",
         "showlegend": true,
         "textposition": "auto",
         "type": "bar",
         "x": [
          1,
          1,
          12,
          1,
          5,
          1,
          4,
          4,
          1,
          4,
          1,
          1,
          1,
          1,
          5,
          1,
          1,
          1,
          1,
          1,
          1,
          1,
          3,
          2,
          1,
          2,
          2,
          1,
          12,
          2,
          1,
          1,
          2,
          1,
          3,
          14,
          1,
          19,
          2,
          1,
          1,
          1,
          1,
          1,
          1,
          1,
          1,
          2,
          4,
          1,
          2,
          1,
          2,
          1,
          3,
          4,
          1,
          1,
          2,
          1,
          1,
          1,
          4,
          5,
          1,
          4,
          1,
          1,
          1,
          1,
          4,
          10,
          1,
          2,
          3,
          1,
          1,
          1,
          1,
          1,
          1,
          1,
          1,
          3,
          1,
          3,
          2,
          1,
          18,
          1,
          1,
          1,
          1,
          3,
          1,
          1,
          1,
          2,
          2,
          1,
          1,
          5,
          1,
          1,
          10,
          1,
          1,
          1,
          1,
          1,
          1,
          2,
          1,
          4,
          1,
          3,
          1,
          1,
          1,
          2,
          1,
          1,
          1,
          2,
          10,
          1,
          7,
          1,
          1,
          1,
          5,
          2,
          1,
          15,
          1,
          4,
          1,
          2,
          1,
          1,
          1,
          5,
          2,
          1,
          1,
          1,
          2,
          1,
          4,
          1,
          1,
          3,
          1,
          3,
          1,
          1,
          10,
          4,
          2,
          2,
          2,
          4,
          2,
          1,
          1,
          1,
          1,
          1,
          1,
          3,
          4,
          1,
          3,
          1,
          4,
          1,
          2,
          1,
          4,
          1,
          1,
          7,
          1,
          16,
          1,
          1,
          25,
          1,
          2,
          5,
          11,
          1,
          2,
          3,
          2,
          1,
          2
         ],
         "xaxis": "x",
         "y": [
          "Fast belægning",
          "Fast belægning",
          "Græs",
          "Græs",
          "Grus",
          "Fast belægning",
          "Græs",
          "Græs",
          "Græs",
          "Busket",
          "Græs",
          "Græs",
          "Busket",
          "Græs",
          "Fast belægning",
          "Græs",
          "Græs",
          "Fast belægning",
          "Fast belægning",
          "Grus",
          "Græs",
          "Fast belægning",
          "Grus",
          "Græs",
          "Fast belægning",
          "Græs",
          "Græs",
          "Fast belægning",
          "Grus",
          "Grus",
          "Fast belægning",
          "Grus",
          "Græs",
          "Fast belægning",
          "Fast belægning",
          "Græs",
          "Græs",
          "Græs",
          "Græs",
          "Græs",
          "Grus",
          "Busket",
          "Grus",
          "Fast belægning",
          "Græs",
          "Fast belægning",
          "Græs",
          "Fast belægning",
          "Græs",
          "Fast belægning",
          "Fast belægning",
          "Fast belægning",
          "Græs",
          "Græs",
          "Fast belægning",
          "Fast belægning",
          "Græs",
          "Fast belægning",
          "Græs",
          "Fast belægning",
          "Græs",
          "Fast belægning",
          "Græs",
          "Busket",
          "Fast belægning",
          "Fast belægning",
          "Fast belægning",
          "Fast belægning",
          "Græs",
          "Grus",
          "Grus",
          "Busket",
          "Grus",
          "Græs",
          "Stauder",
          "Græs",
          "Grus",
          "Busket",
          "Græs",
          "Ikke registreret",
          "Fast belægning",
          "Barkflis",
          "Græs",
          "Busket",
          "Grus",
          "Fast belægning",
          "Fast belægning",
          "Fast belægning",
          "Græs",
          "Græs",
          "Busket",
          "Græs",
          "Busket",
          "Græs",
          "Grus",
          "Græs",
          "Stauder",
          "Græs",
          "Stauder",
          "Græs",
          "Græs",
          "Græs",
          "Fast belægning",
          "Grus",
          "Grus",
          "Fast belægning",
          "Grus",
          "Fast belægning",
          "Fast belægning",
          "Fast belægning",
          "Græs",
          "Ikke registreret",
          "Græs",
          "Fast belægning",
          "Fast belægning",
          "Græs",
          "Græs",
          "Grus",
          "Fast belægning",
          "Græs",
          "Fast belægning",
          "Fast belægning",
          "Græs",
          "Græs",
          "Fast belægning",
          "Græs",
          "Græs",
          "Græs",
          "Fast belægning",
          "Fast belægning",
          "Fast belægning",
          "Grus",
          "Fast belægning",
          "Græs",
          "Fast belægning",
          "Busket",
          "Grus",
          "Græs",
          "Græs",
          "Græs",
          "Græs",
          "Grus",
          "Busket",
          "Grus",
          "Fast belægning",
          "Busket",
          "Busket",
          "Busket",
          "Ikke registreret",
          "Grus",
          "Fast belægning",
          "Fast belægning",
          "Fast belægning",
          "Busket",
          "Fast belægning",
          "Grus",
          "Grus",
          "Busket",
          "Græs",
          "Grus",
          "Fast belægning",
          "Græs",
          "Fast belægning",
          "Græs",
          "Græs",
          "Græs",
          "Fast belægning",
          "Græs",
          "Græs",
          "Busket",
          "Græs",
          "Grus",
          "Fast belægning",
          "Græs",
          "Græs",
          "Fast belægning",
          "Græs",
          "Grus",
          "Fast belægning",
          "Fast belægning",
          "Fast belægning",
          "Grus",
          "Græs",
          "Busket",
          "Fast belægning",
          "Busket",
          "Fast belægning",
          "Græs",
          "Græs",
          "Græs",
          "Græs",
          "Græs",
          "Fast belægning",
          "Grus",
          "Græs",
          "Grus",
          "Græs"
         ],
         "yaxis": "y"
        }
       ],
       "layout": {
        "barmode": "stack",
        "legend": {
         "title": {
          "text": "prediction"
         },
         "tracegroupgap": 0
        },
        "template": {
         "data": {
          "bar": [
           {
            "error_x": {
             "color": "#2a3f5f"
            },
            "error_y": {
             "color": "#2a3f5f"
            },
            "marker": {
             "line": {
              "color": "#E5ECF6",
              "width": 0.5
             },
             "pattern": {
              "fillmode": "overlay",
              "size": 10,
              "solidity": 0.2
             }
            },
            "type": "bar"
           }
          ],
          "barpolar": [
           {
            "marker": {
             "line": {
              "color": "#E5ECF6",
              "width": 0.5
             },
             "pattern": {
              "fillmode": "overlay",
              "size": 10,
              "solidity": 0.2
             }
            },
            "type": "barpolar"
           }
          ],
          "carpet": [
           {
            "aaxis": {
             "endlinecolor": "#2a3f5f",
             "gridcolor": "white",
             "linecolor": "white",
             "minorgridcolor": "white",
             "startlinecolor": "#2a3f5f"
            },
            "baxis": {
             "endlinecolor": "#2a3f5f",
             "gridcolor": "white",
             "linecolor": "white",
             "minorgridcolor": "white",
             "startlinecolor": "#2a3f5f"
            },
            "type": "carpet"
           }
          ],
          "choropleth": [
           {
            "colorbar": {
             "outlinewidth": 0,
             "ticks": ""
            },
            "type": "choropleth"
           }
          ],
          "contour": [
           {
            "colorbar": {
             "outlinewidth": 0,
             "ticks": ""
            },
            "colorscale": [
             [
              0,
              "#0d0887"
             ],
             [
              0.1111111111111111,
              "#46039f"
             ],
             [
              0.2222222222222222,
              "#7201a8"
             ],
             [
              0.3333333333333333,
              "#9c179e"
             ],
             [
              0.4444444444444444,
              "#bd3786"
             ],
             [
              0.5555555555555556,
              "#d8576b"
             ],
             [
              0.6666666666666666,
              "#ed7953"
             ],
             [
              0.7777777777777778,
              "#fb9f3a"
             ],
             [
              0.8888888888888888,
              "#fdca26"
             ],
             [
              1,
              "#f0f921"
             ]
            ],
            "type": "contour"
           }
          ],
          "contourcarpet": [
           {
            "colorbar": {
             "outlinewidth": 0,
             "ticks": ""
            },
            "type": "contourcarpet"
           }
          ],
          "heatmap": [
           {
            "colorbar": {
             "outlinewidth": 0,
             "ticks": ""
            },
            "colorscale": [
             [
              0,
              "#0d0887"
             ],
             [
              0.1111111111111111,
              "#46039f"
             ],
             [
              0.2222222222222222,
              "#7201a8"
             ],
             [
              0.3333333333333333,
              "#9c179e"
             ],
             [
              0.4444444444444444,
              "#bd3786"
             ],
             [
              0.5555555555555556,
              "#d8576b"
             ],
             [
              0.6666666666666666,
              "#ed7953"
             ],
             [
              0.7777777777777778,
              "#fb9f3a"
             ],
             [
              0.8888888888888888,
              "#fdca26"
             ],
             [
              1,
              "#f0f921"
             ]
            ],
            "type": "heatmap"
           }
          ],
          "heatmapgl": [
           {
            "colorbar": {
             "outlinewidth": 0,
             "ticks": ""
            },
            "colorscale": [
             [
              0,
              "#0d0887"
             ],
             [
              0.1111111111111111,
              "#46039f"
             ],
             [
              0.2222222222222222,
              "#7201a8"
             ],
             [
              0.3333333333333333,
              "#9c179e"
             ],
             [
              0.4444444444444444,
              "#bd3786"
             ],
             [
              0.5555555555555556,
              "#d8576b"
             ],
             [
              0.6666666666666666,
              "#ed7953"
             ],
             [
              0.7777777777777778,
              "#fb9f3a"
             ],
             [
              0.8888888888888888,
              "#fdca26"
             ],
             [
              1,
              "#f0f921"
             ]
            ],
            "type": "heatmapgl"
           }
          ],
          "histogram": [
           {
            "marker": {
             "pattern": {
              "fillmode": "overlay",
              "size": 10,
              "solidity": 0.2
             }
            },
            "type": "histogram"
           }
          ],
          "histogram2d": [
           {
            "colorbar": {
             "outlinewidth": 0,
             "ticks": ""
            },
            "colorscale": [
             [
              0,
              "#0d0887"
             ],
             [
              0.1111111111111111,
              "#46039f"
             ],
             [
              0.2222222222222222,
              "#7201a8"
             ],
             [
              0.3333333333333333,
              "#9c179e"
             ],
             [
              0.4444444444444444,
              "#bd3786"
             ],
             [
              0.5555555555555556,
              "#d8576b"
             ],
             [
              0.6666666666666666,
              "#ed7953"
             ],
             [
              0.7777777777777778,
              "#fb9f3a"
             ],
             [
              0.8888888888888888,
              "#fdca26"
             ],
             [
              1,
              "#f0f921"
             ]
            ],
            "type": "histogram2d"
           }
          ],
          "histogram2dcontour": [
           {
            "colorbar": {
             "outlinewidth": 0,
             "ticks": ""
            },
            "colorscale": [
             [
              0,
              "#0d0887"
             ],
             [
              0.1111111111111111,
              "#46039f"
             ],
             [
              0.2222222222222222,
              "#7201a8"
             ],
             [
              0.3333333333333333,
              "#9c179e"
             ],
             [
              0.4444444444444444,
              "#bd3786"
             ],
             [
              0.5555555555555556,
              "#d8576b"
             ],
             [
              0.6666666666666666,
              "#ed7953"
             ],
             [
              0.7777777777777778,
              "#fb9f3a"
             ],
             [
              0.8888888888888888,
              "#fdca26"
             ],
             [
              1,
              "#f0f921"
             ]
            ],
            "type": "histogram2dcontour"
           }
          ],
          "mesh3d": [
           {
            "colorbar": {
             "outlinewidth": 0,
             "ticks": ""
            },
            "type": "mesh3d"
           }
          ],
          "parcoords": [
           {
            "line": {
             "colorbar": {
              "outlinewidth": 0,
              "ticks": ""
             }
            },
            "type": "parcoords"
           }
          ],
          "pie": [
           {
            "automargin": true,
            "type": "pie"
           }
          ],
          "scatter": [
           {
            "fillpattern": {
             "fillmode": "overlay",
             "size": 10,
             "solidity": 0.2
            },
            "type": "scatter"
           }
          ],
          "scatter3d": [
           {
            "line": {
             "colorbar": {
              "outlinewidth": 0,
              "ticks": ""
             }
            },
            "marker": {
             "colorbar": {
              "outlinewidth": 0,
              "ticks": ""
             }
            },
            "type": "scatter3d"
           }
          ],
          "scattercarpet": [
           {
            "marker": {
             "colorbar": {
              "outlinewidth": 0,
              "ticks": ""
             }
            },
            "type": "scattercarpet"
           }
          ],
          "scattergeo": [
           {
            "marker": {
             "colorbar": {
              "outlinewidth": 0,
              "ticks": ""
             }
            },
            "type": "scattergeo"
           }
          ],
          "scattergl": [
           {
            "marker": {
             "colorbar": {
              "outlinewidth": 0,
              "ticks": ""
             }
            },
            "type": "scattergl"
           }
          ],
          "scattermapbox": [
           {
            "marker": {
             "colorbar": {
              "outlinewidth": 0,
              "ticks": ""
             }
            },
            "type": "scattermapbox"
           }
          ],
          "scatterpolar": [
           {
            "marker": {
             "colorbar": {
              "outlinewidth": 0,
              "ticks": ""
             }
            },
            "type": "scatterpolar"
           }
          ],
          "scatterpolargl": [
           {
            "marker": {
             "colorbar": {
              "outlinewidth": 0,
              "ticks": ""
             }
            },
            "type": "scatterpolargl"
           }
          ],
          "scatterternary": [
           {
            "marker": {
             "colorbar": {
              "outlinewidth": 0,
              "ticks": ""
             }
            },
            "type": "scatterternary"
           }
          ],
          "surface": [
           {
            "colorbar": {
             "outlinewidth": 0,
             "ticks": ""
            },
            "colorscale": [
             [
              0,
              "#0d0887"
             ],
             [
              0.1111111111111111,
              "#46039f"
             ],
             [
              0.2222222222222222,
              "#7201a8"
             ],
             [
              0.3333333333333333,
              "#9c179e"
             ],
             [
              0.4444444444444444,
              "#bd3786"
             ],
             [
              0.5555555555555556,
              "#d8576b"
             ],
             [
              0.6666666666666666,
              "#ed7953"
             ],
             [
              0.7777777777777778,
              "#fb9f3a"
             ],
             [
              0.8888888888888888,
              "#fdca26"
             ],
             [
              1,
              "#f0f921"
             ]
            ],
            "type": "surface"
           }
          ],
          "table": [
           {
            "cells": {
             "fill": {
              "color": "#EBF0F8"
             },
             "line": {
              "color": "white"
             }
            },
            "header": {
             "fill": {
              "color": "#C8D4E3"
             },
             "line": {
              "color": "white"
             }
            },
            "type": "table"
           }
          ]
         },
         "layout": {
          "annotationdefaults": {
           "arrowcolor": "#2a3f5f",
           "arrowhead": 0,
           "arrowwidth": 1
          },
          "autotypenumbers": "strict",
          "coloraxis": {
           "colorbar": {
            "outlinewidth": 0,
            "ticks": ""
           }
          },
          "colorscale": {
           "diverging": [
            [
             0,
             "#8e0152"
            ],
            [
             0.1,
             "#c51b7d"
            ],
            [
             0.2,
             "#de77ae"
            ],
            [
             0.3,
             "#f1b6da"
            ],
            [
             0.4,
             "#fde0ef"
            ],
            [
             0.5,
             "#f7f7f7"
            ],
            [
             0.6,
             "#e6f5d0"
            ],
            [
             0.7,
             "#b8e186"
            ],
            [
             0.8,
             "#7fbc41"
            ],
            [
             0.9,
             "#4d9221"
            ],
            [
             1,
             "#276419"
            ]
           ],
           "sequential": [
            [
             0,
             "#0d0887"
            ],
            [
             0.1111111111111111,
             "#46039f"
            ],
            [
             0.2222222222222222,
             "#7201a8"
            ],
            [
             0.3333333333333333,
             "#9c179e"
            ],
            [
             0.4444444444444444,
             "#bd3786"
            ],
            [
             0.5555555555555556,
             "#d8576b"
            ],
            [
             0.6666666666666666,
             "#ed7953"
            ],
            [
             0.7777777777777778,
             "#fb9f3a"
            ],
            [
             0.8888888888888888,
             "#fdca26"
            ],
            [
             1,
             "#f0f921"
            ]
           ],
           "sequentialminus": [
            [
             0,
             "#0d0887"
            ],
            [
             0.1111111111111111,
             "#46039f"
            ],
            [
             0.2222222222222222,
             "#7201a8"
            ],
            [
             0.3333333333333333,
             "#9c179e"
            ],
            [
             0.4444444444444444,
             "#bd3786"
            ],
            [
             0.5555555555555556,
             "#d8576b"
            ],
            [
             0.6666666666666666,
             "#ed7953"
            ],
            [
             0.7777777777777778,
             "#fb9f3a"
            ],
            [
             0.8888888888888888,
             "#fdca26"
            ],
            [
             1,
             "#f0f921"
            ]
           ]
          },
          "colorway": [
           "#636efa",
           "#EF553B",
           "#00cc96",
           "#ab63fa",
           "#FFA15A",
           "#19d3f3",
           "#FF6692",
           "#B6E880",
           "#FF97FF",
           "#FECB52"
          ],
          "font": {
           "color": "#2a3f5f"
          },
          "geo": {
           "bgcolor": "white",
           "lakecolor": "white",
           "landcolor": "#E5ECF6",
           "showlakes": true,
           "showland": true,
           "subunitcolor": "white"
          },
          "hoverlabel": {
           "align": "left"
          },
          "hovermode": "closest",
          "mapbox": {
           "style": "light"
          },
          "paper_bgcolor": "white",
          "plot_bgcolor": "#E5ECF6",
          "polar": {
           "angularaxis": {
            "gridcolor": "white",
            "linecolor": "white",
            "ticks": ""
           },
           "bgcolor": "#E5ECF6",
           "radialaxis": {
            "gridcolor": "white",
            "linecolor": "white",
            "ticks": ""
           }
          },
          "scene": {
           "xaxis": {
            "backgroundcolor": "#E5ECF6",
            "gridcolor": "white",
            "gridwidth": 2,
            "linecolor": "white",
            "showbackground": true,
            "ticks": "",
            "zerolinecolor": "white"
           },
           "yaxis": {
            "backgroundcolor": "#E5ECF6",
            "gridcolor": "white",
            "gridwidth": 2,
            "linecolor": "white",
            "showbackground": true,
            "ticks": "",
            "zerolinecolor": "white"
           },
           "zaxis": {
            "backgroundcolor": "#E5ECF6",
            "gridcolor": "white",
            "gridwidth": 2,
            "linecolor": "white",
            "showbackground": true,
            "ticks": "",
            "zerolinecolor": "white"
           }
          },
          "shapedefaults": {
           "line": {
            "color": "#2a3f5f"
           }
          },
          "ternary": {
           "aaxis": {
            "gridcolor": "white",
            "linecolor": "white",
            "ticks": ""
           },
           "baxis": {
            "gridcolor": "white",
            "linecolor": "white",
            "ticks": ""
           },
           "bgcolor": "#E5ECF6",
           "caxis": {
            "gridcolor": "white",
            "linecolor": "white",
            "ticks": ""
           }
          },
          "title": {
           "x": 0.05
          },
          "xaxis": {
           "automargin": true,
           "gridcolor": "white",
           "linecolor": "white",
           "ticks": "",
           "title": {
            "standoff": 15
           },
           "zerolinecolor": "white",
           "zerolinewidth": 2
          },
          "yaxis": {
           "automargin": true,
           "gridcolor": "white",
           "linecolor": "white",
           "ticks": "",
           "title": {
            "standoff": 15
           },
           "zerolinecolor": "white",
           "zerolinewidth": 2
          }
         }
        },
        "title": {
         "text": "Omgivelse"
        },
        "xaxis": {
         "anchor": "y",
         "domain": [
          0,
          1
         ],
         "title": {
          "text": "tree_count"
         }
        },
        "yaxis": {
         "anchor": "x",
         "categoryorder": "total ascending",
         "domain": [
          0,
          1
         ],
         "title": {
          "text": "omgivelse"
         }
        }
       }
      },
      "text/html": [
       "<div>                            <div id=\"60b62f12-9c11-4368-80d2-748c3f273304\" class=\"plotly-graph-div\" style=\"height:525px; width:100%;\"></div>            <script type=\"text/javascript\">                require([\"plotly\"], function(Plotly) {                    window.PLOTLYENV=window.PLOTLYENV || {};                                    if (document.getElementById(\"60b62f12-9c11-4368-80d2-748c3f273304\")) {                    Plotly.newPlot(                        \"60b62f12-9c11-4368-80d2-748c3f273304\",                        [{\"alignmentgroup\":\"True\",\"hovertemplate\":\"prediction=tp\\u003cbr\\u003etree_count=%{x}\\u003cbr\\u003eomgivelse=%{y}\\u003cextra\\u003e\\u003c\\u002fextra\\u003e\",\"legendgroup\":\"tp\",\"marker\":{\"color\":\"#636efa\",\"pattern\":{\"shape\":\"\"}},\"name\":\"tp\",\"offsetgroup\":\"tp\",\"orientation\":\"h\",\"showlegend\":true,\"textposition\":\"auto\",\"x\":[4.0,2.0,1.0,8.0,11.0,3.0,2.0,4.0,1.0,2.0,2.0,2.0,1.0,4.0,16.0,3.0,2.0,3.0,1.0,6.0,4.0,3.0,14.0,6.0,1.0,3.0,7.0,6.0,3.0,4.0,2.0,4.0,3.0,6.0,3.0,11.0,7.0,1.0,2.0,1.0,2.0,2.0,4.0,1.0,2.0,5.0,2.0,17.0,3.0,2.0,5.0,4.0,1.0,4.0,1.0,5.0,2.0,1.0,2.0,1.0,1.0,1.0,1.0,9.0,5.0,4.0,1.0,2.0,1.0,1.0,3.0,2.0,2.0,4.0,3.0,1.0,1.0,2.0,6.0,1.0,1.0,1.0,4.0,1.0,8.0,1.0,1.0,2.0,3.0,2.0,1.0,1.0,17.0,1.0,1.0,1.0,3.0,1.0,2.0,6.0,2.0,1.0,1.0,1.0,1.0,2.0,1.0,6.0,1.0,1.0,1.0,1.0,4.0,16.0,2.0,5.0,5.0,2.0,4.0,4.0,2.0,1.0,1.0,1.0,1.0,3.0,2.0,1.0,1.0,2.0,1.0,1.0,3.0,1.0,1.0,1.0,4.0,2.0,5.0,2.0,1.0,6.0,1.0,2.0,7.0,6.0,7.0,1.0,1.0,1.0,2.0,4.0,2.0,1.0,2.0,4.0,2.0,4.0,5.0,1.0,2.0,5.0,4.0,2.0,1.0,1.0,11.0,2.0,3.0,10.0,1.0,2.0,6.0,1.0,1.0,4.0,1.0,1.0,2.0,2.0,3.0,1.0,1.0,1.0,3.0,2.0,1.0,35.0,1.0,4.0,1.0,1.0,2.0,2.0,7.0,2.0,1.0,1.0,1.0,1.0,1.0,4.0,6.0,2.0,3.0,1.0,1.0,6.0,8.0,3.0,3.0,3.0,1.0,3.0,1.0,8.0,1.0,4.0,16.0,2.0,2.0,1.0,1.0,1.0,1.0,2.0,1.0,6.0,2.0,1.0,5.0,5.0,1.0,1.0,4.0,2.0,3.0,3.0,7.0,1.0,1.0,1.0,2.0,1.0,4.0,4.0,1.0,3.0,3.0,3.0,1.0,5.0,1.0,3.0,1.0,4.0,1.0,4.0,1.0,3.0,3.0,1.0,1.0,4.0,1.0,6.0,16.0,4.0,12.0,1.0,1.0,5.0,2.0,4.0,3.0,2.0,4.0,2.0,2.0,10.0,12.0,13.0,4.0,4.0,9.0,4.0,4.0,2.0,4.0,1.0,1.0,4.0,2.0,3.0,3.0,7.0,3.0,1.0,1.0,1.0,1.0,4.0,3.0,9.0,6.0,1.0,1.0,3.0,1.0,3.0,3.0,1.0,2.0,6.0,5.0,1.0,2.0,5.0,9.0,1.0,1.0,1.0,1.0,2.0,3.0,3.0,1.0,12.0,1.0,1.0,1.0,1.0,1.0,4.0,4.0,11.0,1.0,1.0,1.0,1.0,1.0,2.0,6.0,6.0,1.0,1.0,1.0,1.0,1.0,2.0,5.0,2.0,1.0,1.0,1.0,4.0,3.0,4.0,3.0,11.0,1.0,1.0,6.0,1.0,11.0,2.0,7.0,1.0,1.0,1.0,1.0,1.0,4.0,1.0,8.0,1.0,1.0,3.0,1.0,2.0,1.0,2.0,1.0,2.0,1.0,2.0,1.0,1.0,1.0,3.0,3.0,4.0,4.0,5.0,6.0,6.0,3.0,10.0,14.0,1.0,1.0,2.0,6.0,1.0,1.0,1.0,2.0,3.0,7.0,2.0,4.0,1.0,2.0,6.0,6.0,1.0,1.0,4.0,2.0,1.0,1.0,2.0,2.0,1.0,3.0,7.0,5.0,1.0,1.0,1.0,1.0,24.0,1.0,1.0,1.0,2.0,1.0,1.0,1.0,1.0,4.0,5.0,2.0,6.0,1.0,3.0,1.0,23.0,1.0,2.0,2.0,1.0,1.0,2.0,4.0,1.0,3.0,2.0,1.0],\"xaxis\":\"x\",\"y\":[\"Grus\",\"Grus\",\"Fast bel\\u00e6gning\",\"Fast bel\\u00e6gning\",\"Grus\",\"Gr\\u00e6s\",\"Gr\\u00e6s\",\"Gr\\u00e6s\",\"Fast bel\\u00e6gning\",\"Stauder\",\"Fast bel\\u00e6gning\",\"Fast bel\\u00e6gning\",\"Grus\",\"Gr\\u00e6s\",\"Fast bel\\u00e6gning\",\"Grus\",\"Fast bel\\u00e6gning\",\"Grus\",\"Fast bel\\u00e6gning\",\"Fast bel\\u00e6gning\",\"Fast bel\\u00e6gning\",\"Grus\",\"Busket\",\"Barkflis\",\"Gr\\u00e6s\",\"Gr\\u00e6s\",\"Fast bel\\u00e6gning\",\"Gr\\u00e6s\",\"Grus\",\"Fast bel\\u00e6gning\",\"Gr\\u00e6s\",\"Fast bel\\u00e6gning\",\"Gr\\u00e6s\",\"Gr\\u00e6s\",\"Fast bel\\u00e6gning\",\"Fast bel\\u00e6gning\",\"Gr\\u00e6s\",\"Grus\",\"Fast bel\\u00e6gning\",\"Fast bel\\u00e6gning\",\"Fast bel\\u00e6gning\",\"Grus\",\"Fast bel\\u00e6gning\",\"Fast bel\\u00e6gning\",\"Fast bel\\u00e6gning\",\"Fast bel\\u00e6gning\",\"Grus\",\"Fast bel\\u00e6gning\",\"Gr\\u00e6s\",\"Grus\",\"Gr\\u00e6s\",\"Fast bel\\u00e6gning\",\"Fast bel\\u00e6gning\",\"Fast bel\\u00e6gning\",\"Fast bel\\u00e6gning\",\"Fast bel\\u00e6gning\",\"Fast bel\\u00e6gning\",\"Grus\",\"Grus\",\"Fast bel\\u00e6gning\",\"Fast bel\\u00e6gning\",\"Fast bel\\u00e6gning\",\"Fast bel\\u00e6gning\",\"Busket\",\"Fast bel\\u00e6gning\",\"Gr\\u00e6s\",\"Grus\",\"Grus\",\"Fast bel\\u00e6gning\",\"Gr\\u00e6s\",\"Gr\\u00e6s\",\"Gr\\u00e6s\",\"Grus\",\"Stauder\",\"Grus\",\"Fast bel\\u00e6gning\",\"Ikke registreret\",\"Gr\\u00e6s\",\"Gr\\u00e6s\",\"Grus\",\"Fast bel\\u00e6gning\",\"Gr\\u00e6s\",\"Gr\\u00e6s\",\"Gr\\u00e6s\",\"Stauder\",\"Fast bel\\u00e6gning\",\"Fast bel\\u00e6gning\",\"Fast bel\\u00e6gning\",\"Grus\",\"Grus\",\"Fast bel\\u00e6gning\",\"Gr\\u00e6s\",\"Gr\\u00e6s\",\"Fast bel\\u00e6gning\",\"Fast bel\\u00e6gning\",\"Busket\",\"Grus\",\"Fast bel\\u00e6gning\",\"Fast bel\\u00e6gning\",\"Fast bel\\u00e6gning\",\"Fast bel\\u00e6gning\",\"Fast bel\\u00e6gning\",\"Busket\",\"Fast bel\\u00e6gning\",\"Fast bel\\u00e6gning\",\"Grus\",\"Fast bel\\u00e6gning\",\"Gr\\u00e6s\",\"Grus\",\"Grus\",\"Fast bel\\u00e6gning\",\"Fast bel\\u00e6gning\",\"Barkflis\",\"Ikke registreret\",\"Grus\",\"Grus\",\"Gr\\u00e6s\",\"Gr\\u00e6s\",\"Fast bel\\u00e6gning\",\"Busket\",\"Fast bel\\u00e6gning\",\"Fast bel\\u00e6gning\",\"Gr\\u00e6s\",\"Grus\",\"Gr\\u00e6s\",\"Fast bel\\u00e6gning\",\"Gr\\u00e6s\",\"Fast bel\\u00e6gning\",\"Grus\",\"Fast bel\\u00e6gning\",\"Grus\",\"Gr\\u00e6s\",\"Gr\\u00e6s\",\"Gr\\u00e6s\",\"Fast bel\\u00e6gning\",\"Gr\\u00e6s\",\"Fast bel\\u00e6gning\",\"Grus\",\"Grus\",\"Fast bel\\u00e6gning\",\"Fast bel\\u00e6gning\",\"Fast bel\\u00e6gning\",\"Fast bel\\u00e6gning\",\"Grus\",\"Fast bel\\u00e6gning\",\"Gr\\u00e6s\",\"Fast bel\\u00e6gning\",\"Gr\\u00e6s\",\"Gr\\u00e6s\",\"Fast bel\\u00e6gning\",\"Fast bel\\u00e6gning\",\"Fast bel\\u00e6gning\",\"Fast bel\\u00e6gning\",\"Grus\",\"Fast bel\\u00e6gning\",\"Busket\",\"Fast bel\\u00e6gning\",\"Fast bel\\u00e6gning\",\"Fast bel\\u00e6gning\",\"Fast bel\\u00e6gning\",\"Fast bel\\u00e6gning\",\"Gr\\u00e6s\",\"Fast bel\\u00e6gning\",\"Barkflis\",\"Grus\",\"Gr\\u00e6s\",\"Gr\\u00e6s\",\"Fast bel\\u00e6gning\",\"Fast bel\\u00e6gning\",\"Gr\\u00e6s\",\"Fast bel\\u00e6gning\",\"Gr\\u00e6s\",\"Gr\\u00e6s\",\"Barkflis\",\"Gr\\u00e6s\",\"Fast bel\\u00e6gning\",\"Grus\",\"Fast bel\\u00e6gning\",\"Grus\",\"Gr\\u00e6s\",\"Grus\",\"Grus\",\"Gr\\u00e6s\",\"Fast bel\\u00e6gning\",\"Fast bel\\u00e6gning\",\"Grus\",\"Gr\\u00e6s\",\"Gr\\u00e6s\",\"Fast bel\\u00e6gning\",\"Gr\\u00e6s\",\"Fast bel\\u00e6gning\",\"Gr\\u00e6s\",\"Gr\\u00e6s\",\"Barkflis\",\"Grus\",\"Grus\",\"Grus\",\"Fast bel\\u00e6gning\",\"Fast bel\\u00e6gning\",\"Fast bel\\u00e6gning\",\"Fast bel\\u00e6gning\",\"Grus\",\"Fast bel\\u00e6gning\",\"Fast bel\\u00e6gning\",\"Gr\\u00e6s\",\"Gr\\u00e6s\",\"Ikke registreret\",\"Grus\",\"Fast bel\\u00e6gning\",\"Gr\\u00e6s\",\"Fast bel\\u00e6gning\",\"Gr\\u00e6s\",\"Gr\\u00e6s\",\"Gr\\u00e6s\",\"Fast bel\\u00e6gning\",\"Fast bel\\u00e6gning\",\"Fast bel\\u00e6gning\",\"Fast bel\\u00e6gning\",\"Grus\",\"Stauder\",\"Busket\",\"Fast bel\\u00e6gning\",\"Busket\",\"Gr\\u00e6s\",\"Fast bel\\u00e6gning\",\"Fast bel\\u00e6gning\",\"Busket\",\"Fast bel\\u00e6gning\",\"Fast bel\\u00e6gning\",\"Stauder\",\"Grus\",\"Fast bel\\u00e6gning\",\"Fast bel\\u00e6gning\",\"Fast bel\\u00e6gning\",\"Fast bel\\u00e6gning\",\"Grus\",\"Fast bel\\u00e6gning\",\"Gr\\u00e6s\",\"Gr\\u00e6s\",\"Fast bel\\u00e6gning\",\"Gr\\u00e6s\",\"Fast bel\\u00e6gning\",\"Fast bel\\u00e6gning\",\"Fast bel\\u00e6gning\",\"Grus\",\"Gr\\u00e6s\",\"Grus\",\"Fast bel\\u00e6gning\",\"Gr\\u00e6s\",\"Fast bel\\u00e6gning\",\"Barkflis\",\"Gr\\u00e6s\",\"Grus\",\"Fast bel\\u00e6gning\",\"Fast bel\\u00e6gning\",\"Barkflis\",\"Gr\\u00e6s\",\"Fast bel\\u00e6gning\",\"Gr\\u00e6s\",\"Gr\\u00e6s\",\"Busket\",\"Gr\\u00e6s\",\"Fast bel\\u00e6gning\",\"Fast bel\\u00e6gning\",\"Gr\\u00e6s\",\"Fast bel\\u00e6gning\",\"Gr\\u00e6s\",\"Fast bel\\u00e6gning\",\"Fast bel\\u00e6gning\",\"Fast bel\\u00e6gning\",\"Fast bel\\u00e6gning\",\"Fast bel\\u00e6gning\",\"Fast bel\\u00e6gning\",\"Fast bel\\u00e6gning\",\"Gr\\u00e6s\",\"Busket\",\"Ikke registreret\",\"Gr\\u00e6s\",\"Fast bel\\u00e6gning\",\"Fast bel\\u00e6gning\",\"Busket\",\"Grus\",\"Fast bel\\u00e6gning\",\"Gr\\u00e6s\",\"Busket\",\"Gr\\u00e6s\",\"Fast bel\\u00e6gning\",\"Gr\\u00e6s\",\"Fast bel\\u00e6gning\",\"Gr\\u00e6s\",\"Fast bel\\u00e6gning\",\"Barkflis\",\"Stauder\",\"Fast bel\\u00e6gning\",\"Gr\\u00e6s\",\"Fast bel\\u00e6gning\",\"Gr\\u00e6s\",\"Gr\\u00e6s\",\"Fast bel\\u00e6gning\",\"Grus\",\"Fast bel\\u00e6gning\",\"Barkflis\",\"Stauder\",\"Fast bel\\u00e6gning\",\"Fast bel\\u00e6gning\",\"Fast bel\\u00e6gning\",\"Fast bel\\u00e6gning\",\"Fast bel\\u00e6gning\",\"Fast bel\\u00e6gning\",\"Grus\",\"Fast bel\\u00e6gning\",\"Fast bel\\u00e6gning\",\"Fast bel\\u00e6gning\",\"Gr\\u00e6s\",\"Fast bel\\u00e6gning\",\"Busket\",\"Fast bel\\u00e6gning\",\"Gr\\u00e6s\",\"Fast bel\\u00e6gning\",\"Fast bel\\u00e6gning\",\"Grus\",\"Grus\",\"Grus\",\"Fast bel\\u00e6gning\",\"Gr\\u00e6s\",\"Fast bel\\u00e6gning\",\"Gr\\u00e6s\",\"Gr\\u00e6s\",\"Gr\\u00e6s\",\"Fast bel\\u00e6gning\",\"Stauder\",\"Busket\",\"Fast bel\\u00e6gning\",\"Fast bel\\u00e6gning\",\"Fast bel\\u00e6gning\",\"Fast bel\\u00e6gning\",\"Fast bel\\u00e6gning\",\"Grus\",\"Fast bel\\u00e6gning\",\"Gr\\u00e6s\",\"Busket\",\"Fast bel\\u00e6gning\",\"Busket\",\"Fast bel\\u00e6gning\",\"Gr\\u00e6s\",\"Grus\",\"Gr\\u00e6s\",\"Fast bel\\u00e6gning\",\"Fast bel\\u00e6gning\",\"Fast bel\\u00e6gning\",\"Fast bel\\u00e6gning\",\"Gr\\u00e6s\",\"Barkflis\",\"Fast bel\\u00e6gning\",\"Fast bel\\u00e6gning\",\"Busket\",\"Gr\\u00e6s\",\"Gr\\u00e6s\",\"Gr\\u00e6s\",\"Gr\\u00e6s\",\"Grus\",\"Fast bel\\u00e6gning\",\"Grus\",\"Fast bel\\u00e6gning\",\"Fast bel\\u00e6gning\",\"Fast bel\\u00e6gning\",\"Fast bel\\u00e6gning\",\"Fast bel\\u00e6gning\",\"Fast bel\\u00e6gning\",\"Fast bel\\u00e6gning\",\"Fast bel\\u00e6gning\",\"Fast bel\\u00e6gning\",\"Fast bel\\u00e6gning\",\"Fast bel\\u00e6gning\",\"Fast bel\\u00e6gning\",\"Grus\",\"Fast bel\\u00e6gning\",\"Fast bel\\u00e6gning\",\"Fast bel\\u00e6gning\",\"Fast bel\\u00e6gning\",\"Fast bel\\u00e6gning\",\"Fast bel\\u00e6gning\",\"Fast bel\\u00e6gning\",\"Gr\\u00e6s\",\"Gr\\u00e6s\",\"Grus\",\"Fast bel\\u00e6gning\",\"Fast bel\\u00e6gning\",\"Gr\\u00e6s\",\"Fast bel\\u00e6gning\",\"Busket\",\"Fast bel\\u00e6gning\",\"Grus\",\"Fast bel\\u00e6gning\",\"Gr\\u00e6s\",\"Grus\",\"Fast bel\\u00e6gning\",\"Fast bel\\u00e6gning\",\"Grus\",\"Grus\",\"Fast bel\\u00e6gning\",\"Fast bel\\u00e6gning\",\"Fast bel\\u00e6gning\",\"Fast bel\\u00e6gning\",\"Fast bel\\u00e6gning\",\"Busket\",\"Grus\",\"Fast bel\\u00e6gning\",\"Gr\\u00e6s\",\"Stauder\",\"Barkflis\",\"Fast bel\\u00e6gning\",\"Fast bel\\u00e6gning\",\"Gr\\u00e6s\",\"Busket\",\"Grus\",\"Fast bel\\u00e6gning\",\"Gr\\u00e6s\",\"Gr\\u00e6s\",\"Barkflis\",\"Fast bel\\u00e6gning\",\"Gr\\u00e6s\",\"Gr\\u00e6s\",\"Busket\",\"Fast bel\\u00e6gning\",\"Fast bel\\u00e6gning\",\"Fast bel\\u00e6gning\",\"Fast bel\\u00e6gning\",\"Fast bel\\u00e6gning\",\"Gr\\u00e6s\",\"Stauder\",\"Gr\\u00e6s\",\"Fast bel\\u00e6gning\",\"Grus\",\"Grus\",\"Fast bel\\u00e6gning\",\"Gr\\u00e6s\",\"Grus\",\"Fast bel\\u00e6gning\",\"Fast bel\\u00e6gning\",\"Gr\\u00e6s\",\"Barkflis\",\"Fast bel\\u00e6gning\",\"Busket\",\"Barkflis\",\"Fast bel\\u00e6gning\",\"Fast bel\\u00e6gning\",\"Fast bel\\u00e6gning\",\"Busket\",\"Grus\",\"Grus\",\"Stauder\",\"Grus\",\"Fast bel\\u00e6gning\",\"Gr\\u00e6s\",\"Fast bel\\u00e6gning\",\"Fast bel\\u00e6gning\",\"Busket\",\"Grus\"],\"yaxis\":\"y\",\"type\":\"bar\"},{\"alignmentgroup\":\"True\",\"hovertemplate\":\"prediction=fn\\u003cbr\\u003etree_count=%{x}\\u003cbr\\u003eomgivelse=%{y}\\u003cextra\\u003e\\u003c\\u002fextra\\u003e\",\"legendgroup\":\"fn\",\"marker\":{\"color\":\"#EF553B\",\"pattern\":{\"shape\":\"\"}},\"name\":\"fn\",\"offsetgroup\":\"fn\",\"orientation\":\"h\",\"showlegend\":true,\"textposition\":\"auto\",\"x\":[1.0,1.0,12.0,1.0,5.0,1.0,4.0,4.0,1.0,4.0,1.0,1.0,1.0,1.0,5.0,1.0,1.0,1.0,1.0,1.0,1.0,1.0,3.0,2.0,1.0,2.0,2.0,1.0,12.0,2.0,1.0,1.0,2.0,1.0,3.0,14.0,1.0,19.0,2.0,1.0,1.0,1.0,1.0,1.0,1.0,1.0,1.0,2.0,4.0,1.0,2.0,1.0,2.0,1.0,3.0,4.0,1.0,1.0,2.0,1.0,1.0,1.0,4.0,5.0,1.0,4.0,1.0,1.0,1.0,1.0,4.0,10.0,1.0,2.0,3.0,1.0,1.0,1.0,1.0,1.0,1.0,1.0,1.0,3.0,1.0,3.0,2.0,1.0,18.0,1.0,1.0,1.0,1.0,3.0,1.0,1.0,1.0,2.0,2.0,1.0,1.0,5.0,1.0,1.0,10.0,1.0,1.0,1.0,1.0,1.0,1.0,2.0,1.0,4.0,1.0,3.0,1.0,1.0,1.0,2.0,1.0,1.0,1.0,2.0,10.0,1.0,7.0,1.0,1.0,1.0,5.0,2.0,1.0,15.0,1.0,4.0,1.0,2.0,1.0,1.0,1.0,5.0,2.0,1.0,1.0,1.0,2.0,1.0,4.0,1.0,1.0,3.0,1.0,3.0,1.0,1.0,10.0,4.0,2.0,2.0,2.0,4.0,2.0,1.0,1.0,1.0,1.0,1.0,1.0,3.0,4.0,1.0,3.0,1.0,4.0,1.0,2.0,1.0,4.0,1.0,1.0,7.0,1.0,16.0,1.0,1.0,25.0,1.0,2.0,5.0,11.0,1.0,2.0,3.0,2.0,1.0,2.0],\"xaxis\":\"x\",\"y\":[\"Fast bel\\u00e6gning\",\"Fast bel\\u00e6gning\",\"Gr\\u00e6s\",\"Gr\\u00e6s\",\"Grus\",\"Fast bel\\u00e6gning\",\"Gr\\u00e6s\",\"Gr\\u00e6s\",\"Gr\\u00e6s\",\"Busket\",\"Gr\\u00e6s\",\"Gr\\u00e6s\",\"Busket\",\"Gr\\u00e6s\",\"Fast bel\\u00e6gning\",\"Gr\\u00e6s\",\"Gr\\u00e6s\",\"Fast bel\\u00e6gning\",\"Fast bel\\u00e6gning\",\"Grus\",\"Gr\\u00e6s\",\"Fast bel\\u00e6gning\",\"Grus\",\"Gr\\u00e6s\",\"Fast bel\\u00e6gning\",\"Gr\\u00e6s\",\"Gr\\u00e6s\",\"Fast bel\\u00e6gning\",\"Grus\",\"Grus\",\"Fast bel\\u00e6gning\",\"Grus\",\"Gr\\u00e6s\",\"Fast bel\\u00e6gning\",\"Fast bel\\u00e6gning\",\"Gr\\u00e6s\",\"Gr\\u00e6s\",\"Gr\\u00e6s\",\"Gr\\u00e6s\",\"Gr\\u00e6s\",\"Grus\",\"Busket\",\"Grus\",\"Fast bel\\u00e6gning\",\"Gr\\u00e6s\",\"Fast bel\\u00e6gning\",\"Gr\\u00e6s\",\"Fast bel\\u00e6gning\",\"Gr\\u00e6s\",\"Fast bel\\u00e6gning\",\"Fast bel\\u00e6gning\",\"Fast bel\\u00e6gning\",\"Gr\\u00e6s\",\"Gr\\u00e6s\",\"Fast bel\\u00e6gning\",\"Fast bel\\u00e6gning\",\"Gr\\u00e6s\",\"Fast bel\\u00e6gning\",\"Gr\\u00e6s\",\"Fast bel\\u00e6gning\",\"Gr\\u00e6s\",\"Fast bel\\u00e6gning\",\"Gr\\u00e6s\",\"Busket\",\"Fast bel\\u00e6gning\",\"Fast bel\\u00e6gning\",\"Fast bel\\u00e6gning\",\"Fast bel\\u00e6gning\",\"Gr\\u00e6s\",\"Grus\",\"Grus\",\"Busket\",\"Grus\",\"Gr\\u00e6s\",\"Stauder\",\"Gr\\u00e6s\",\"Grus\",\"Busket\",\"Gr\\u00e6s\",\"Ikke registreret\",\"Fast bel\\u00e6gning\",\"Barkflis\",\"Gr\\u00e6s\",\"Busket\",\"Grus\",\"Fast bel\\u00e6gning\",\"Fast bel\\u00e6gning\",\"Fast bel\\u00e6gning\",\"Gr\\u00e6s\",\"Gr\\u00e6s\",\"Busket\",\"Gr\\u00e6s\",\"Busket\",\"Gr\\u00e6s\",\"Grus\",\"Gr\\u00e6s\",\"Stauder\",\"Gr\\u00e6s\",\"Stauder\",\"Gr\\u00e6s\",\"Gr\\u00e6s\",\"Gr\\u00e6s\",\"Fast bel\\u00e6gning\",\"Grus\",\"Grus\",\"Fast bel\\u00e6gning\",\"Grus\",\"Fast bel\\u00e6gning\",\"Fast bel\\u00e6gning\",\"Fast bel\\u00e6gning\",\"Gr\\u00e6s\",\"Ikke registreret\",\"Gr\\u00e6s\",\"Fast bel\\u00e6gning\",\"Fast bel\\u00e6gning\",\"Gr\\u00e6s\",\"Gr\\u00e6s\",\"Grus\",\"Fast bel\\u00e6gning\",\"Gr\\u00e6s\",\"Fast bel\\u00e6gning\",\"Fast bel\\u00e6gning\",\"Gr\\u00e6s\",\"Gr\\u00e6s\",\"Fast bel\\u00e6gning\",\"Gr\\u00e6s\",\"Gr\\u00e6s\",\"Gr\\u00e6s\",\"Fast bel\\u00e6gning\",\"Fast bel\\u00e6gning\",\"Fast bel\\u00e6gning\",\"Grus\",\"Fast bel\\u00e6gning\",\"Gr\\u00e6s\",\"Fast bel\\u00e6gning\",\"Busket\",\"Grus\",\"Gr\\u00e6s\",\"Gr\\u00e6s\",\"Gr\\u00e6s\",\"Gr\\u00e6s\",\"Grus\",\"Busket\",\"Grus\",\"Fast bel\\u00e6gning\",\"Busket\",\"Busket\",\"Busket\",\"Ikke registreret\",\"Grus\",\"Fast bel\\u00e6gning\",\"Fast bel\\u00e6gning\",\"Fast bel\\u00e6gning\",\"Busket\",\"Fast bel\\u00e6gning\",\"Grus\",\"Grus\",\"Busket\",\"Gr\\u00e6s\",\"Grus\",\"Fast bel\\u00e6gning\",\"Gr\\u00e6s\",\"Fast bel\\u00e6gning\",\"Gr\\u00e6s\",\"Gr\\u00e6s\",\"Gr\\u00e6s\",\"Fast bel\\u00e6gning\",\"Gr\\u00e6s\",\"Gr\\u00e6s\",\"Busket\",\"Gr\\u00e6s\",\"Grus\",\"Fast bel\\u00e6gning\",\"Gr\\u00e6s\",\"Gr\\u00e6s\",\"Fast bel\\u00e6gning\",\"Gr\\u00e6s\",\"Grus\",\"Fast bel\\u00e6gning\",\"Fast bel\\u00e6gning\",\"Fast bel\\u00e6gning\",\"Grus\",\"Gr\\u00e6s\",\"Busket\",\"Fast bel\\u00e6gning\",\"Busket\",\"Fast bel\\u00e6gning\",\"Gr\\u00e6s\",\"Gr\\u00e6s\",\"Gr\\u00e6s\",\"Gr\\u00e6s\",\"Gr\\u00e6s\",\"Fast bel\\u00e6gning\",\"Grus\",\"Gr\\u00e6s\",\"Grus\",\"Gr\\u00e6s\"],\"yaxis\":\"y\",\"type\":\"bar\"}],                        {\"template\":{\"data\":{\"histogram2dcontour\":[{\"type\":\"histogram2dcontour\",\"colorbar\":{\"outlinewidth\":0,\"ticks\":\"\"},\"colorscale\":[[0.0,\"#0d0887\"],[0.1111111111111111,\"#46039f\"],[0.2222222222222222,\"#7201a8\"],[0.3333333333333333,\"#9c179e\"],[0.4444444444444444,\"#bd3786\"],[0.5555555555555556,\"#d8576b\"],[0.6666666666666666,\"#ed7953\"],[0.7777777777777778,\"#fb9f3a\"],[0.8888888888888888,\"#fdca26\"],[1.0,\"#f0f921\"]]}],\"choropleth\":[{\"type\":\"choropleth\",\"colorbar\":{\"outlinewidth\":0,\"ticks\":\"\"}}],\"histogram2d\":[{\"type\":\"histogram2d\",\"colorbar\":{\"outlinewidth\":0,\"ticks\":\"\"},\"colorscale\":[[0.0,\"#0d0887\"],[0.1111111111111111,\"#46039f\"],[0.2222222222222222,\"#7201a8\"],[0.3333333333333333,\"#9c179e\"],[0.4444444444444444,\"#bd3786\"],[0.5555555555555556,\"#d8576b\"],[0.6666666666666666,\"#ed7953\"],[0.7777777777777778,\"#fb9f3a\"],[0.8888888888888888,\"#fdca26\"],[1.0,\"#f0f921\"]]}],\"heatmap\":[{\"type\":\"heatmap\",\"colorbar\":{\"outlinewidth\":0,\"ticks\":\"\"},\"colorscale\":[[0.0,\"#0d0887\"],[0.1111111111111111,\"#46039f\"],[0.2222222222222222,\"#7201a8\"],[0.3333333333333333,\"#9c179e\"],[0.4444444444444444,\"#bd3786\"],[0.5555555555555556,\"#d8576b\"],[0.6666666666666666,\"#ed7953\"],[0.7777777777777778,\"#fb9f3a\"],[0.8888888888888888,\"#fdca26\"],[1.0,\"#f0f921\"]]}],\"heatmapgl\":[{\"type\":\"heatmapgl\",\"colorbar\":{\"outlinewidth\":0,\"ticks\":\"\"},\"colorscale\":[[0.0,\"#0d0887\"],[0.1111111111111111,\"#46039f\"],[0.2222222222222222,\"#7201a8\"],[0.3333333333333333,\"#9c179e\"],[0.4444444444444444,\"#bd3786\"],[0.5555555555555556,\"#d8576b\"],[0.6666666666666666,\"#ed7953\"],[0.7777777777777778,\"#fb9f3a\"],[0.8888888888888888,\"#fdca26\"],[1.0,\"#f0f921\"]]}],\"contourcarpet\":[{\"type\":\"contourcarpet\",\"colorbar\":{\"outlinewidth\":0,\"ticks\":\"\"}}],\"contour\":[{\"type\":\"contour\",\"colorbar\":{\"outlinewidth\":0,\"ticks\":\"\"},\"colorscale\":[[0.0,\"#0d0887\"],[0.1111111111111111,\"#46039f\"],[0.2222222222222222,\"#7201a8\"],[0.3333333333333333,\"#9c179e\"],[0.4444444444444444,\"#bd3786\"],[0.5555555555555556,\"#d8576b\"],[0.6666666666666666,\"#ed7953\"],[0.7777777777777778,\"#fb9f3a\"],[0.8888888888888888,\"#fdca26\"],[1.0,\"#f0f921\"]]}],\"surface\":[{\"type\":\"surface\",\"colorbar\":{\"outlinewidth\":0,\"ticks\":\"\"},\"colorscale\":[[0.0,\"#0d0887\"],[0.1111111111111111,\"#46039f\"],[0.2222222222222222,\"#7201a8\"],[0.3333333333333333,\"#9c179e\"],[0.4444444444444444,\"#bd3786\"],[0.5555555555555556,\"#d8576b\"],[0.6666666666666666,\"#ed7953\"],[0.7777777777777778,\"#fb9f3a\"],[0.8888888888888888,\"#fdca26\"],[1.0,\"#f0f921\"]]}],\"mesh3d\":[{\"type\":\"mesh3d\",\"colorbar\":{\"outlinewidth\":0,\"ticks\":\"\"}}],\"scatter\":[{\"fillpattern\":{\"fillmode\":\"overlay\",\"size\":10,\"solidity\":0.2},\"type\":\"scatter\"}],\"parcoords\":[{\"type\":\"parcoords\",\"line\":{\"colorbar\":{\"outlinewidth\":0,\"ticks\":\"\"}}}],\"scatterpolargl\":[{\"type\":\"scatterpolargl\",\"marker\":{\"colorbar\":{\"outlinewidth\":0,\"ticks\":\"\"}}}],\"bar\":[{\"error_x\":{\"color\":\"#2a3f5f\"},\"error_y\":{\"color\":\"#2a3f5f\"},\"marker\":{\"line\":{\"color\":\"#E5ECF6\",\"width\":0.5},\"pattern\":{\"fillmode\":\"overlay\",\"size\":10,\"solidity\":0.2}},\"type\":\"bar\"}],\"scattergeo\":[{\"type\":\"scattergeo\",\"marker\":{\"colorbar\":{\"outlinewidth\":0,\"ticks\":\"\"}}}],\"scatterpolar\":[{\"type\":\"scatterpolar\",\"marker\":{\"colorbar\":{\"outlinewidth\":0,\"ticks\":\"\"}}}],\"histogram\":[{\"marker\":{\"pattern\":{\"fillmode\":\"overlay\",\"size\":10,\"solidity\":0.2}},\"type\":\"histogram\"}],\"scattergl\":[{\"type\":\"scattergl\",\"marker\":{\"colorbar\":{\"outlinewidth\":0,\"ticks\":\"\"}}}],\"scatter3d\":[{\"type\":\"scatter3d\",\"line\":{\"colorbar\":{\"outlinewidth\":0,\"ticks\":\"\"}},\"marker\":{\"colorbar\":{\"outlinewidth\":0,\"ticks\":\"\"}}}],\"scattermapbox\":[{\"type\":\"scattermapbox\",\"marker\":{\"colorbar\":{\"outlinewidth\":0,\"ticks\":\"\"}}}],\"scatterternary\":[{\"type\":\"scatterternary\",\"marker\":{\"colorbar\":{\"outlinewidth\":0,\"ticks\":\"\"}}}],\"scattercarpet\":[{\"type\":\"scattercarpet\",\"marker\":{\"colorbar\":{\"outlinewidth\":0,\"ticks\":\"\"}}}],\"carpet\":[{\"aaxis\":{\"endlinecolor\":\"#2a3f5f\",\"gridcolor\":\"white\",\"linecolor\":\"white\",\"minorgridcolor\":\"white\",\"startlinecolor\":\"#2a3f5f\"},\"baxis\":{\"endlinecolor\":\"#2a3f5f\",\"gridcolor\":\"white\",\"linecolor\":\"white\",\"minorgridcolor\":\"white\",\"startlinecolor\":\"#2a3f5f\"},\"type\":\"carpet\"}],\"table\":[{\"cells\":{\"fill\":{\"color\":\"#EBF0F8\"},\"line\":{\"color\":\"white\"}},\"header\":{\"fill\":{\"color\":\"#C8D4E3\"},\"line\":{\"color\":\"white\"}},\"type\":\"table\"}],\"barpolar\":[{\"marker\":{\"line\":{\"color\":\"#E5ECF6\",\"width\":0.5},\"pattern\":{\"fillmode\":\"overlay\",\"size\":10,\"solidity\":0.2}},\"type\":\"barpolar\"}],\"pie\":[{\"automargin\":true,\"type\":\"pie\"}]},\"layout\":{\"autotypenumbers\":\"strict\",\"colorway\":[\"#636efa\",\"#EF553B\",\"#00cc96\",\"#ab63fa\",\"#FFA15A\",\"#19d3f3\",\"#FF6692\",\"#B6E880\",\"#FF97FF\",\"#FECB52\"],\"font\":{\"color\":\"#2a3f5f\"},\"hovermode\":\"closest\",\"hoverlabel\":{\"align\":\"left\"},\"paper_bgcolor\":\"white\",\"plot_bgcolor\":\"#E5ECF6\",\"polar\":{\"bgcolor\":\"#E5ECF6\",\"angularaxis\":{\"gridcolor\":\"white\",\"linecolor\":\"white\",\"ticks\":\"\"},\"radialaxis\":{\"gridcolor\":\"white\",\"linecolor\":\"white\",\"ticks\":\"\"}},\"ternary\":{\"bgcolor\":\"#E5ECF6\",\"aaxis\":{\"gridcolor\":\"white\",\"linecolor\":\"white\",\"ticks\":\"\"},\"baxis\":{\"gridcolor\":\"white\",\"linecolor\":\"white\",\"ticks\":\"\"},\"caxis\":{\"gridcolor\":\"white\",\"linecolor\":\"white\",\"ticks\":\"\"}},\"coloraxis\":{\"colorbar\":{\"outlinewidth\":0,\"ticks\":\"\"}},\"colorscale\":{\"sequential\":[[0.0,\"#0d0887\"],[0.1111111111111111,\"#46039f\"],[0.2222222222222222,\"#7201a8\"],[0.3333333333333333,\"#9c179e\"],[0.4444444444444444,\"#bd3786\"],[0.5555555555555556,\"#d8576b\"],[0.6666666666666666,\"#ed7953\"],[0.7777777777777778,\"#fb9f3a\"],[0.8888888888888888,\"#fdca26\"],[1.0,\"#f0f921\"]],\"sequentialminus\":[[0.0,\"#0d0887\"],[0.1111111111111111,\"#46039f\"],[0.2222222222222222,\"#7201a8\"],[0.3333333333333333,\"#9c179e\"],[0.4444444444444444,\"#bd3786\"],[0.5555555555555556,\"#d8576b\"],[0.6666666666666666,\"#ed7953\"],[0.7777777777777778,\"#fb9f3a\"],[0.8888888888888888,\"#fdca26\"],[1.0,\"#f0f921\"]],\"diverging\":[[0,\"#8e0152\"],[0.1,\"#c51b7d\"],[0.2,\"#de77ae\"],[0.3,\"#f1b6da\"],[0.4,\"#fde0ef\"],[0.5,\"#f7f7f7\"],[0.6,\"#e6f5d0\"],[0.7,\"#b8e186\"],[0.8,\"#7fbc41\"],[0.9,\"#4d9221\"],[1,\"#276419\"]]},\"xaxis\":{\"gridcolor\":\"white\",\"linecolor\":\"white\",\"ticks\":\"\",\"title\":{\"standoff\":15},\"zerolinecolor\":\"white\",\"automargin\":true,\"zerolinewidth\":2},\"yaxis\":{\"gridcolor\":\"white\",\"linecolor\":\"white\",\"ticks\":\"\",\"title\":{\"standoff\":15},\"zerolinecolor\":\"white\",\"automargin\":true,\"zerolinewidth\":2},\"scene\":{\"xaxis\":{\"backgroundcolor\":\"#E5ECF6\",\"gridcolor\":\"white\",\"linecolor\":\"white\",\"showbackground\":true,\"ticks\":\"\",\"zerolinecolor\":\"white\",\"gridwidth\":2},\"yaxis\":{\"backgroundcolor\":\"#E5ECF6\",\"gridcolor\":\"white\",\"linecolor\":\"white\",\"showbackground\":true,\"ticks\":\"\",\"zerolinecolor\":\"white\",\"gridwidth\":2},\"zaxis\":{\"backgroundcolor\":\"#E5ECF6\",\"gridcolor\":\"white\",\"linecolor\":\"white\",\"showbackground\":true,\"ticks\":\"\",\"zerolinecolor\":\"white\",\"gridwidth\":2}},\"shapedefaults\":{\"line\":{\"color\":\"#2a3f5f\"}},\"annotationdefaults\":{\"arrowcolor\":\"#2a3f5f\",\"arrowhead\":0,\"arrowwidth\":1},\"geo\":{\"bgcolor\":\"white\",\"landcolor\":\"#E5ECF6\",\"subunitcolor\":\"white\",\"showland\":true,\"showlakes\":true,\"lakecolor\":\"white\"},\"title\":{\"x\":0.05},\"mapbox\":{\"style\":\"light\"}}},\"xaxis\":{\"anchor\":\"y\",\"domain\":[0.0,1.0],\"title\":{\"text\":\"tree_count\"}},\"yaxis\":{\"anchor\":\"x\",\"domain\":[0.0,1.0],\"title\":{\"text\":\"omgivelse\"},\"categoryorder\":\"total ascending\"},\"legend\":{\"title\":{\"text\":\"prediction\"},\"tracegroupgap\":0},\"title\":{\"text\":\"Omgivelse\"},\"barmode\":\"stack\"},                        {\"responsive\": true}                    ).then(function(){\n",
       "                            \n",
       "var gd = document.getElementById('60b62f12-9c11-4368-80d2-748c3f273304');\n",
       "var x = new MutationObserver(function (mutations, observer) {{\n",
       "        var display = window.getComputedStyle(gd).display;\n",
       "        if (!display || display === 'none') {{\n",
       "            console.log([gd, 'removed!']);\n",
       "            Plotly.purge(gd);\n",
       "            observer.disconnect();\n",
       "        }}\n",
       "}});\n",
       "\n",
       "// Listen for the removal of the full notebook cells\n",
       "var notebookContainer = gd.closest('#notebook-container');\n",
       "if (notebookContainer) {{\n",
       "    x.observe(notebookContainer, {childList: true});\n",
       "}}\n",
       "\n",
       "// Listen for the clearing of the current output cell\n",
       "var outputEl = gd.closest('.output');\n",
       "if (outputEl) {{\n",
       "    x.observe(outputEl, {childList: true});\n",
       "}}\n",
       "\n",
       "                        })                };                });            </script>        </div>"
      ]
     },
     "metadata": {},
     "output_type": "display_data"
    }
   ],
   "source": [
    "#Plotting the omgivelse feature\n",
    "fig = px.bar(test_trees, x=test_trees.tree_count, y=test_trees.omgivelse, color=\"prediction\", title=\"Omgivelse\")\n",
    "fig.update_layout(barmode='stack', yaxis={'categoryorder':'total ascending'})\n",
    "fig.show()"
   ]
  },
  {
   "cell_type": "code",
   "execution_count": 69,
   "id": "95987d8a",
   "metadata": {},
   "outputs": [
    {
     "data": {
      "application/vnd.plotly.v1+json": {
       "config": {
        "plotlyServerURL": "https://plot.ly"
       },
       "data": [
        {
         "alignmentgroup": "True",
         "hovertemplate": "prediction=tp<br>tree_count=%{x}<br>placering=%{y}<extra></extra>",
         "legendgroup": "tp",
         "marker": {
          "color": "#636efa",
          "pattern": {
           "shape": ""
          }
         },
         "name": "tp",
         "offsetgroup": "tp",
         "orientation": "h",
         "showlegend": true,
         "textposition": "auto",
         "type": "bar",
         "x": [
          4,
          2,
          1,
          8,
          11,
          3,
          2,
          4,
          1,
          2,
          2,
          2,
          1,
          4,
          16,
          3,
          2,
          3,
          1,
          6,
          4,
          3,
          14,
          6,
          1,
          3,
          7,
          6,
          3,
          4,
          2,
          4,
          3,
          6,
          3,
          11,
          7,
          1,
          2,
          1,
          2,
          2,
          4,
          1,
          2,
          5,
          2,
          17,
          3,
          2,
          5,
          4,
          1,
          4,
          1,
          5,
          2,
          1,
          2,
          1,
          1,
          1,
          1,
          9,
          5,
          4,
          1,
          2,
          1,
          1,
          3,
          2,
          2,
          4,
          3,
          1,
          1,
          2,
          6,
          1,
          1,
          1,
          4,
          1,
          8,
          1,
          1,
          2,
          3,
          2,
          1,
          1,
          17,
          1,
          1,
          1,
          3,
          1,
          2,
          6,
          2,
          1,
          1,
          1,
          1,
          2,
          1,
          6,
          1,
          1,
          1,
          1,
          4,
          16,
          2,
          5,
          5,
          2,
          4,
          4,
          2,
          1,
          1,
          1,
          1,
          3,
          2,
          1,
          1,
          2,
          1,
          1,
          3,
          1,
          1,
          1,
          4,
          2,
          5,
          2,
          1,
          6,
          1,
          2,
          7,
          6,
          7,
          1,
          1,
          1,
          2,
          4,
          2,
          1,
          2,
          4,
          2,
          4,
          5,
          1,
          2,
          5,
          4,
          2,
          1,
          1,
          11,
          2,
          3,
          10,
          1,
          2,
          6,
          1,
          1,
          4,
          1,
          1,
          2,
          2,
          3,
          1,
          1,
          1,
          3,
          2,
          1,
          35,
          1,
          4,
          1,
          1,
          2,
          2,
          7,
          2,
          1,
          1,
          1,
          1,
          1,
          4,
          6,
          2,
          3,
          1,
          1,
          6,
          8,
          3,
          3,
          3,
          1,
          3,
          1,
          8,
          1,
          4,
          16,
          2,
          2,
          1,
          1,
          1,
          1,
          2,
          1,
          6,
          2,
          1,
          5,
          5,
          1,
          1,
          4,
          2,
          3,
          3,
          7,
          1,
          1,
          1,
          2,
          1,
          4,
          4,
          1,
          3,
          3,
          3,
          1,
          5,
          1,
          3,
          1,
          4,
          1,
          4,
          1,
          3,
          3,
          1,
          1,
          4,
          1,
          6,
          16,
          4,
          12,
          1,
          1,
          5,
          2,
          4,
          3,
          2,
          4,
          2,
          2,
          10,
          12,
          13,
          4,
          4,
          9,
          4,
          4,
          2,
          4,
          1,
          1,
          4,
          2,
          3,
          3,
          7,
          3,
          1,
          1,
          1,
          1,
          4,
          3,
          9,
          6,
          1,
          1,
          3,
          1,
          3,
          3,
          1,
          2,
          6,
          5,
          1,
          2,
          5,
          9,
          1,
          1,
          1,
          1,
          2,
          3,
          3,
          1,
          12,
          1,
          1,
          1,
          1,
          1,
          4,
          4,
          11,
          1,
          1,
          1,
          1,
          1,
          2,
          6,
          6,
          1,
          1,
          1,
          1,
          1,
          2,
          5,
          2,
          1,
          1,
          1,
          4,
          3,
          4,
          3,
          11,
          1,
          1,
          6,
          1,
          11,
          2,
          7,
          1,
          1,
          1,
          1,
          1,
          4,
          1,
          8,
          1,
          1,
          3,
          1,
          2,
          1,
          2,
          1,
          2,
          1,
          2,
          1,
          1,
          1,
          3,
          3,
          4,
          4,
          5,
          6,
          6,
          3,
          10,
          14,
          1,
          1,
          2,
          6,
          1,
          1,
          1,
          2,
          3,
          7,
          2,
          4,
          1,
          2,
          6,
          6,
          1,
          1,
          4,
          2,
          1,
          1,
          2,
          2,
          1,
          3,
          7,
          5,
          1,
          1,
          1,
          1,
          24,
          1,
          1,
          1,
          2,
          1,
          1,
          1,
          1,
          4,
          5,
          2,
          6,
          1,
          3,
          1,
          23,
          1,
          2,
          2,
          1,
          1,
          2,
          4,
          1,
          3,
          2,
          1
         ],
         "xaxis": "x",
         "y": [
          "Torv og plads",
          "Siderabat",
          "Torv og plads",
          "Fortov",
          "Siderabat",
          "Grønt anlæg",
          "Siderabat",
          "Midterrabat",
          "Vejareal",
          "Siderabat",
          "Fortov",
          "Fortov",
          "Siderabat",
          "Grønt anlæg",
          "Fortov",
          "Torv og plads",
          "Vejareal",
          "Torv og plads",
          "Fortov",
          "Fortov",
          "Fortov",
          "Siderabat",
          "Siderabat",
          "Fortov",
          "Siderabat",
          "Midterrabat",
          "Fortov",
          "Siderabat",
          "Siderabat",
          "Cykelsti",
          "Siderabat",
          "Torv og plads",
          "Siderabat",
          "Grønt anlæg",
          "Fortov",
          "Fortov",
          "Siderabat",
          "Fortov",
          "Fortov",
          "Fortov",
          "Vejareal",
          "Vejareal",
          "Cykelsti",
          "Torv og plads",
          "Vejareal",
          "Fortov",
          "Vejareal",
          "Midterrabat",
          "Midterrabat",
          "Siderabat",
          "Siderabat",
          "Fortov",
          "Siderabat",
          "Fortov",
          "Vejareal",
          "Cykelsti",
          "Fortov",
          "Fortov",
          "Siderabat",
          "Cykelsti",
          "Siderabat",
          "Cykelsti",
          "Fortov",
          "Siderabat",
          "Vejareal",
          "Fortov",
          "Vejareal",
          "Vejareal",
          "Fortov",
          "Grønt anlæg",
          "Grønt anlæg",
          "Grønt anlæg",
          "Vejareal",
          "Vejareal",
          "Fortov",
          "Fortov",
          "Ikke registreret",
          "Torv og plads",
          "Siderabat",
          "Fortov",
          "Fortov",
          "Siderabat",
          "Midterrabat",
          "Siderabat",
          "Vejareal",
          "Siderabat",
          "Cykelsti",
          "Vejareal",
          "Torv og plads",
          "Siderabat",
          "Vejareal",
          "Vejareal",
          "Midterrabat",
          "Fortov",
          "Fortov",
          "Midterrabat",
          "Fortov",
          "Fortov",
          "Siderabat",
          "Fortov",
          "Vejareal",
          "Fortov",
          "Vejareal",
          "Fortov",
          "Vejareal",
          "Torv og plads",
          "Cykelsti",
          "Siderabat",
          "Torv og plads",
          "Vejareal",
          "Fortov",
          "Fortov",
          "Vejareal",
          "Ikke registreret",
          "Fortov",
          "Fortov",
          "Grønt anlæg",
          "Grønt anlæg",
          "Vejareal",
          "Siderabat",
          "Siderabat",
          "Vejareal",
          "Grønt anlæg",
          "Siderabat",
          "Siderabat",
          "Siderabat",
          "Siderabat",
          "Cykelsti",
          "Torv og plads",
          "Fortov",
          "Vejareal",
          "Siderabat",
          "Siderabat",
          "Siderabat",
          "Fortov",
          "Siderabat",
          "Vejareal",
          "Fortov",
          "Torv og plads",
          "Fortov",
          "Vejareal",
          "Siderabat",
          "Fortov",
          "Torv og plads",
          "Vejareal",
          "Siderabat",
          "Ikke registreret",
          "Siderabat",
          "Siderabat",
          "Vejareal",
          "Cykelsti",
          "Fortov",
          "Cykelsti",
          "Fortov",
          "Siderabat",
          "Torv og plads",
          "Siderabat",
          "Siderabat",
          "Fortov",
          "Fortov",
          "Siderabat",
          "Siderabat",
          "Cykelsti",
          "Torv og plads",
          "Vejareal",
          "Siderabat",
          "Grønt anlæg",
          "Fortov",
          "Siderabat",
          "Siderabat",
          "Siderabat",
          "Midterrabat",
          "Siderabat",
          "Cykelsti",
          "Siderabat",
          "Vejareal",
          "Fortov",
          "Fortov",
          "Vejareal",
          "Vejareal",
          "Siderabat",
          "Vejareal",
          "Siderabat",
          "Fortov",
          "Vejareal",
          "Torv og plads",
          "Vejareal",
          "Siderabat",
          "Vejareal",
          "Siderabat",
          "Siderabat",
          "Siderabat",
          "Siderabat",
          "Siderabat",
          "Siderabat",
          "Siderabat",
          "Siderabat",
          "Fortov",
          "Fortov",
          "Grønt anlæg",
          "Siderabat",
          "Fortov",
          "Vejareal",
          "Vejareal",
          "Grønt anlæg",
          "Midterrabat",
          "Vejareal",
          "Siderabat",
          "Vejareal",
          "Siderabat",
          "Vejareal",
          "Grønt anlæg",
          "Siderabat",
          "Siderabat",
          "Fortov",
          "Torv og plads",
          "Fortov",
          "Cykelsti",
          "Torv og plads",
          "Fortov",
          "Grønt anlæg",
          "Fortov",
          "Grønt anlæg",
          "Siderabat",
          "Fortov",
          "Fortov",
          "Grønt anlæg",
          "Siderabat",
          "Fortov",
          "Siderabat",
          "Vejareal",
          "Cykelsti",
          "Fortov",
          "Vejareal",
          "Siderabat",
          "Vejareal",
          "Fortov",
          "Siderabat",
          "Siderabat",
          "Fortov",
          "Grønt anlæg",
          "Cykelsti",
          "Fortov",
          "Fortov",
          "Fortov",
          "Siderabat",
          "Fortov",
          "Cykelsti",
          "Grønt anlæg",
          "Vejareal",
          "Vejareal",
          "Midterrabat",
          "Fortov",
          "Fortov",
          "Vejareal",
          "Vejareal",
          "Siderabat",
          "Fortov",
          "Siderabat",
          "Midterrabat",
          "Fortov",
          "Grønt anlæg",
          "Fortov",
          "Vejareal",
          "Midterrabat",
          "Vejareal",
          "Siderabat",
          "Vejareal",
          "Fortov",
          "Fortov",
          "Fortov",
          "Fortov",
          "Fortov",
          "Fortov",
          "Midterrabat",
          "Torv og plads",
          "Ikke registreret",
          "Siderabat",
          "Siderabat",
          "Fortov",
          "Siderabat",
          "Vejareal",
          "Grønt anlæg",
          "Midterrabat",
          "Vejareal",
          "Midterrabat",
          "Fortov",
          "Siderabat",
          "Vejareal",
          "Siderabat",
          "Vejareal",
          "Siderabat",
          "Fortov",
          "Fortov",
          "Siderabat",
          "Fortov",
          "Midterrabat",
          "Grønt anlæg",
          "Torv og plads",
          "Vejareal",
          "Vejareal",
          "Siderabat",
          "Fortov",
          "Cykelsti",
          "Cykelsti",
          "Vejareal",
          "Vejareal",
          "Cykelsti",
          "Fortov",
          "Siderabat",
          "Torv og plads",
          "Fortov",
          "Vejareal",
          "Siderabat",
          "Fortov",
          "Vejareal",
          "Fortov",
          "Midterrabat",
          "Fortov",
          "Siderabat",
          "Fortov",
          "Fortov",
          "Vejareal",
          "Fortov",
          "Siderabat",
          "Fortov",
          "Midterrabat",
          "Grønt anlæg",
          "Siderabat",
          "Siderabat",
          "Fortov",
          "Siderabat",
          "Siderabat",
          "Vejareal",
          "Vejareal",
          "Vejareal",
          "Vejareal",
          "Fortov",
          "Vejareal",
          "Siderabat",
          "Siderabat",
          "Fortov",
          "Siderabat",
          "Vejareal",
          "Midterrabat",
          "Fortov",
          "Cykelsti",
          "Fortov",
          "Fortov",
          "Vejareal",
          "Siderabat",
          "Midterrabat",
          "Cykelsti",
          "Siderabat",
          "Fortov",
          "Fortov",
          "Siderabat",
          "Midterrabat",
          "Vejareal",
          "Siderabat",
          "Fortov",
          "Vejareal",
          "Fortov",
          "Vejareal",
          "Fortov",
          "Vejareal",
          "Fortov",
          "Vejareal",
          "Fortov",
          "Torv og plads",
          "Fortov",
          "Vejareal",
          "Fortov",
          "Cykelsti",
          "Torv og plads",
          "Fortov",
          "Vejareal",
          "Midterrabat",
          "Vejareal",
          "Vejareal",
          "Cykelsti",
          "Fortov",
          "Fortov",
          "Siderabat",
          "Grønt anlæg",
          "Siderabat",
          "Cykelsti",
          "Vejareal",
          "Grønt anlæg",
          "Fortov",
          "Siderabat",
          "Fortov",
          "Siderabat",
          "Siderabat",
          "Siderabat",
          "Siderabat",
          "Vejareal",
          "Fortov",
          "Siderabat",
          "Fortov",
          "Fortov",
          "Siderabat",
          "Fortov",
          "Cykelsti",
          "Cykelsti",
          "Siderabat",
          "Fortov",
          "Fortov",
          "Midterrabat",
          "Midterrabat",
          "Siderabat",
          "Fortov",
          "Fortov",
          "Siderabat",
          "Siderabat",
          "Vejareal",
          "Vejareal",
          "Grønt anlæg",
          "Siderabat",
          "Cykelsti",
          "Vejareal",
          "Siderabat",
          "Vejareal",
          "Vejareal",
          "Grønt anlæg",
          "Fortov",
          "Fortov",
          "Fortov",
          "Siderabat",
          "Siderabat",
          "Fortov",
          "Siderabat",
          "Vejareal",
          "Fortov",
          "Siderabat",
          "Fortov",
          "Siderabat",
          "Vejareal",
          "Fortov",
          "Fortov",
          "Siderabat",
          "Fortov",
          "Fortov",
          "Grønt anlæg",
          "Midterrabat",
          "Fortov",
          "Cykelsti",
          "Torv og plads",
          "Vejareal",
          "Torv og plads",
          "Vejareal",
          "Fortov",
          "Vejareal",
          "Torv og plads",
          "Fortov",
          "Fortov",
          "Fortov",
          "Grønt anlæg",
          "Torv og plads"
         ],
         "yaxis": "y"
        },
        {
         "alignmentgroup": "True",
         "hovertemplate": "prediction=fn<br>tree_count=%{x}<br>placering=%{y}<extra></extra>",
         "legendgroup": "fn",
         "marker": {
          "color": "#EF553B",
          "pattern": {
           "shape": ""
          }
         },
         "name": "fn",
         "offsetgroup": "fn",
         "orientation": "h",
         "showlegend": true,
         "textposition": "auto",
         "type": "bar",
         "x": [
          1,
          1,
          12,
          1,
          5,
          1,
          4,
          4,
          1,
          4,
          1,
          1,
          1,
          1,
          5,
          1,
          1,
          1,
          1,
          1,
          1,
          1,
          3,
          2,
          1,
          2,
          2,
          1,
          12,
          2,
          1,
          1,
          2,
          1,
          3,
          14,
          1,
          19,
          2,
          1,
          1,
          1,
          1,
          1,
          1,
          1,
          1,
          2,
          4,
          1,
          2,
          1,
          2,
          1,
          3,
          4,
          1,
          1,
          2,
          1,
          1,
          1,
          4,
          5,
          1,
          4,
          1,
          1,
          1,
          1,
          4,
          10,
          1,
          2,
          3,
          1,
          1,
          1,
          1,
          1,
          1,
          1,
          1,
          3,
          1,
          3,
          2,
          1,
          18,
          1,
          1,
          1,
          1,
          3,
          1,
          1,
          1,
          2,
          2,
          1,
          1,
          5,
          1,
          1,
          10,
          1,
          1,
          1,
          1,
          1,
          1,
          2,
          1,
          4,
          1,
          3,
          1,
          1,
          1,
          2,
          1,
          1,
          1,
          2,
          10,
          1,
          7,
          1,
          1,
          1,
          5,
          2,
          1,
          15,
          1,
          4,
          1,
          2,
          1,
          1,
          1,
          5,
          2,
          1,
          1,
          1,
          2,
          1,
          4,
          1,
          1,
          3,
          1,
          3,
          1,
          1,
          10,
          4,
          2,
          2,
          2,
          4,
          2,
          1,
          1,
          1,
          1,
          1,
          1,
          3,
          4,
          1,
          3,
          1,
          4,
          1,
          2,
          1,
          4,
          1,
          1,
          7,
          1,
          16,
          1,
          1,
          25,
          1,
          2,
          5,
          11,
          1,
          2,
          3,
          2,
          1,
          2
         ],
         "xaxis": "x",
         "y": [
          "Fortov",
          "Cykelsti",
          "Siderabat",
          "Grønt anlæg",
          "Torv og plads",
          "Fortov",
          "Siderabat",
          "Siderabat",
          "Siderabat",
          "Siderabat",
          "Siderabat",
          "Siderabat",
          "Grønt anlæg",
          "Midterrabat",
          "Torv og plads",
          "Siderabat",
          "Grønt anlæg",
          "Cykelsti",
          "Cykelsti",
          "Torv og plads",
          "Siderabat",
          "Siderabat",
          "Fortov",
          "Siderabat",
          "Torv og plads",
          "Grønt anlæg",
          "Siderabat",
          "Fortov",
          "Torv og plads",
          "Vejareal",
          "Cykelsti",
          "Vejareal",
          "Siderabat",
          "Cykelsti",
          "Fortov",
          "Midterrabat",
          "Siderabat",
          "Siderabat",
          "Grønt anlæg",
          "Grønt anlæg",
          "Siderabat",
          "Fortov",
          "Torv og plads",
          "Siderabat",
          "Vejareal",
          "Vejareal",
          "Siderabat",
          "Fortov",
          "Siderabat",
          "Cykelsti",
          "Fortov",
          "Torv og plads",
          "Grønt anlæg",
          "Siderabat",
          "Torv og plads",
          "Torv og plads",
          "Grønt anlæg",
          "Torv og plads",
          "Midterrabat",
          "Torv og plads",
          "Grønt anlæg",
          "Fortov",
          "Siderabat",
          "Grønt anlæg",
          "Fortov",
          "Fortov",
          "Vejareal",
          "Vejareal",
          "Siderabat",
          "Siderabat",
          "Vejareal",
          "Siderabat",
          "Fortov",
          "Siderabat",
          "Vejareal",
          "Midterrabat",
          "Siderabat",
          "Midterrabat",
          "Siderabat",
          "Fortov",
          "Fortov",
          "Fortov",
          "Siderabat",
          "Grønt anlæg",
          "Vejareal",
          "Vejareal",
          "Fortov",
          "Fortov",
          "Siderabat",
          "Fortov",
          "Fortov",
          "Siderabat",
          "Vejareal",
          "Siderabat",
          "Fortov",
          "Siderabat",
          "Siderabat",
          "Siderabat",
          "Vejareal",
          "Grønt anlæg",
          "Siderabat",
          "Siderabat",
          "Cykelsti",
          "Fortov",
          "Siderabat",
          "Torv og plads",
          "Fortov",
          "Cykelsti",
          "Torv og plads",
          "Siderabat",
          "Grønt anlæg",
          "Siderabat",
          "Siderabat",
          "Fortov",
          "Fortov",
          "Grønt anlæg",
          "Grønt anlæg",
          "Vejareal",
          "Vejareal",
          "Grønt anlæg",
          "Torv og plads",
          "Vejareal",
          "Siderabat",
          "Siderabat",
          "Vejareal",
          "Siderabat",
          "Siderabat",
          "Siderabat",
          "Vejareal",
          "Fortov",
          "Siderabat",
          "Torv og plads",
          "Fortov",
          "Siderabat",
          "Torv og plads",
          "Grønt anlæg",
          "Torv og plads",
          "Siderabat",
          "Grønt anlæg",
          "Grønt anlæg",
          "Siderabat",
          "Grønt anlæg",
          "Siderabat",
          "Vejareal",
          "Fortov",
          "Siderabat",
          "Grønt anlæg",
          "Torv og plads",
          "Ikke registreret",
          "Vejareal",
          "Siderabat",
          "Torv og plads",
          "Vejareal",
          "Grønt anlæg",
          "Torv og plads",
          "Vejareal",
          "Siderabat",
          "Siderabat",
          "Siderabat",
          "Siderabat",
          "Torv og plads",
          "Siderabat",
          "Fortov",
          "Siderabat",
          "Midterrabat",
          "Grønt anlæg",
          "Torv og plads",
          "Grønt anlæg",
          "Siderabat",
          "Fortov",
          "Siderabat",
          "Vejareal",
          "Torv og plads",
          "Siderabat",
          "Grønt anlæg",
          "Torv og plads",
          "Siderabat",
          "Torv og plads",
          "Vejareal",
          "Vejareal",
          "Fortov",
          "Fortov",
          "Siderabat",
          "Siderabat",
          "Midterrabat",
          "Siderabat",
          "Vejareal",
          "Grønt anlæg",
          "Siderabat",
          "Siderabat",
          "Siderabat",
          "Siderabat",
          "Torv og plads",
          "Vejareal",
          "Siderabat",
          "Fortov",
          "Siderabat"
         ],
         "yaxis": "y"
        }
       ],
       "layout": {
        "barmode": "stack",
        "legend": {
         "title": {
          "text": "prediction"
         },
         "tracegroupgap": 0
        },
        "template": {
         "data": {
          "bar": [
           {
            "error_x": {
             "color": "#2a3f5f"
            },
            "error_y": {
             "color": "#2a3f5f"
            },
            "marker": {
             "line": {
              "color": "#E5ECF6",
              "width": 0.5
             },
             "pattern": {
              "fillmode": "overlay",
              "size": 10,
              "solidity": 0.2
             }
            },
            "type": "bar"
           }
          ],
          "barpolar": [
           {
            "marker": {
             "line": {
              "color": "#E5ECF6",
              "width": 0.5
             },
             "pattern": {
              "fillmode": "overlay",
              "size": 10,
              "solidity": 0.2
             }
            },
            "type": "barpolar"
           }
          ],
          "carpet": [
           {
            "aaxis": {
             "endlinecolor": "#2a3f5f",
             "gridcolor": "white",
             "linecolor": "white",
             "minorgridcolor": "white",
             "startlinecolor": "#2a3f5f"
            },
            "baxis": {
             "endlinecolor": "#2a3f5f",
             "gridcolor": "white",
             "linecolor": "white",
             "minorgridcolor": "white",
             "startlinecolor": "#2a3f5f"
            },
            "type": "carpet"
           }
          ],
          "choropleth": [
           {
            "colorbar": {
             "outlinewidth": 0,
             "ticks": ""
            },
            "type": "choropleth"
           }
          ],
          "contour": [
           {
            "colorbar": {
             "outlinewidth": 0,
             "ticks": ""
            },
            "colorscale": [
             [
              0,
              "#0d0887"
             ],
             [
              0.1111111111111111,
              "#46039f"
             ],
             [
              0.2222222222222222,
              "#7201a8"
             ],
             [
              0.3333333333333333,
              "#9c179e"
             ],
             [
              0.4444444444444444,
              "#bd3786"
             ],
             [
              0.5555555555555556,
              "#d8576b"
             ],
             [
              0.6666666666666666,
              "#ed7953"
             ],
             [
              0.7777777777777778,
              "#fb9f3a"
             ],
             [
              0.8888888888888888,
              "#fdca26"
             ],
             [
              1,
              "#f0f921"
             ]
            ],
            "type": "contour"
           }
          ],
          "contourcarpet": [
           {
            "colorbar": {
             "outlinewidth": 0,
             "ticks": ""
            },
            "type": "contourcarpet"
           }
          ],
          "heatmap": [
           {
            "colorbar": {
             "outlinewidth": 0,
             "ticks": ""
            },
            "colorscale": [
             [
              0,
              "#0d0887"
             ],
             [
              0.1111111111111111,
              "#46039f"
             ],
             [
              0.2222222222222222,
              "#7201a8"
             ],
             [
              0.3333333333333333,
              "#9c179e"
             ],
             [
              0.4444444444444444,
              "#bd3786"
             ],
             [
              0.5555555555555556,
              "#d8576b"
             ],
             [
              0.6666666666666666,
              "#ed7953"
             ],
             [
              0.7777777777777778,
              "#fb9f3a"
             ],
             [
              0.8888888888888888,
              "#fdca26"
             ],
             [
              1,
              "#f0f921"
             ]
            ],
            "type": "heatmap"
           }
          ],
          "heatmapgl": [
           {
            "colorbar": {
             "outlinewidth": 0,
             "ticks": ""
            },
            "colorscale": [
             [
              0,
              "#0d0887"
             ],
             [
              0.1111111111111111,
              "#46039f"
             ],
             [
              0.2222222222222222,
              "#7201a8"
             ],
             [
              0.3333333333333333,
              "#9c179e"
             ],
             [
              0.4444444444444444,
              "#bd3786"
             ],
             [
              0.5555555555555556,
              "#d8576b"
             ],
             [
              0.6666666666666666,
              "#ed7953"
             ],
             [
              0.7777777777777778,
              "#fb9f3a"
             ],
             [
              0.8888888888888888,
              "#fdca26"
             ],
             [
              1,
              "#f0f921"
             ]
            ],
            "type": "heatmapgl"
           }
          ],
          "histogram": [
           {
            "marker": {
             "pattern": {
              "fillmode": "overlay",
              "size": 10,
              "solidity": 0.2
             }
            },
            "type": "histogram"
           }
          ],
          "histogram2d": [
           {
            "colorbar": {
             "outlinewidth": 0,
             "ticks": ""
            },
            "colorscale": [
             [
              0,
              "#0d0887"
             ],
             [
              0.1111111111111111,
              "#46039f"
             ],
             [
              0.2222222222222222,
              "#7201a8"
             ],
             [
              0.3333333333333333,
              "#9c179e"
             ],
             [
              0.4444444444444444,
              "#bd3786"
             ],
             [
              0.5555555555555556,
              "#d8576b"
             ],
             [
              0.6666666666666666,
              "#ed7953"
             ],
             [
              0.7777777777777778,
              "#fb9f3a"
             ],
             [
              0.8888888888888888,
              "#fdca26"
             ],
             [
              1,
              "#f0f921"
             ]
            ],
            "type": "histogram2d"
           }
          ],
          "histogram2dcontour": [
           {
            "colorbar": {
             "outlinewidth": 0,
             "ticks": ""
            },
            "colorscale": [
             [
              0,
              "#0d0887"
             ],
             [
              0.1111111111111111,
              "#46039f"
             ],
             [
              0.2222222222222222,
              "#7201a8"
             ],
             [
              0.3333333333333333,
              "#9c179e"
             ],
             [
              0.4444444444444444,
              "#bd3786"
             ],
             [
              0.5555555555555556,
              "#d8576b"
             ],
             [
              0.6666666666666666,
              "#ed7953"
             ],
             [
              0.7777777777777778,
              "#fb9f3a"
             ],
             [
              0.8888888888888888,
              "#fdca26"
             ],
             [
              1,
              "#f0f921"
             ]
            ],
            "type": "histogram2dcontour"
           }
          ],
          "mesh3d": [
           {
            "colorbar": {
             "outlinewidth": 0,
             "ticks": ""
            },
            "type": "mesh3d"
           }
          ],
          "parcoords": [
           {
            "line": {
             "colorbar": {
              "outlinewidth": 0,
              "ticks": ""
             }
            },
            "type": "parcoords"
           }
          ],
          "pie": [
           {
            "automargin": true,
            "type": "pie"
           }
          ],
          "scatter": [
           {
            "fillpattern": {
             "fillmode": "overlay",
             "size": 10,
             "solidity": 0.2
            },
            "type": "scatter"
           }
          ],
          "scatter3d": [
           {
            "line": {
             "colorbar": {
              "outlinewidth": 0,
              "ticks": ""
             }
            },
            "marker": {
             "colorbar": {
              "outlinewidth": 0,
              "ticks": ""
             }
            },
            "type": "scatter3d"
           }
          ],
          "scattercarpet": [
           {
            "marker": {
             "colorbar": {
              "outlinewidth": 0,
              "ticks": ""
             }
            },
            "type": "scattercarpet"
           }
          ],
          "scattergeo": [
           {
            "marker": {
             "colorbar": {
              "outlinewidth": 0,
              "ticks": ""
             }
            },
            "type": "scattergeo"
           }
          ],
          "scattergl": [
           {
            "marker": {
             "colorbar": {
              "outlinewidth": 0,
              "ticks": ""
             }
            },
            "type": "scattergl"
           }
          ],
          "scattermapbox": [
           {
            "marker": {
             "colorbar": {
              "outlinewidth": 0,
              "ticks": ""
             }
            },
            "type": "scattermapbox"
           }
          ],
          "scatterpolar": [
           {
            "marker": {
             "colorbar": {
              "outlinewidth": 0,
              "ticks": ""
             }
            },
            "type": "scatterpolar"
           }
          ],
          "scatterpolargl": [
           {
            "marker": {
             "colorbar": {
              "outlinewidth": 0,
              "ticks": ""
             }
            },
            "type": "scatterpolargl"
           }
          ],
          "scatterternary": [
           {
            "marker": {
             "colorbar": {
              "outlinewidth": 0,
              "ticks": ""
             }
            },
            "type": "scatterternary"
           }
          ],
          "surface": [
           {
            "colorbar": {
             "outlinewidth": 0,
             "ticks": ""
            },
            "colorscale": [
             [
              0,
              "#0d0887"
             ],
             [
              0.1111111111111111,
              "#46039f"
             ],
             [
              0.2222222222222222,
              "#7201a8"
             ],
             [
              0.3333333333333333,
              "#9c179e"
             ],
             [
              0.4444444444444444,
              "#bd3786"
             ],
             [
              0.5555555555555556,
              "#d8576b"
             ],
             [
              0.6666666666666666,
              "#ed7953"
             ],
             [
              0.7777777777777778,
              "#fb9f3a"
             ],
             [
              0.8888888888888888,
              "#fdca26"
             ],
             [
              1,
              "#f0f921"
             ]
            ],
            "type": "surface"
           }
          ],
          "table": [
           {
            "cells": {
             "fill": {
              "color": "#EBF0F8"
             },
             "line": {
              "color": "white"
             }
            },
            "header": {
             "fill": {
              "color": "#C8D4E3"
             },
             "line": {
              "color": "white"
             }
            },
            "type": "table"
           }
          ]
         },
         "layout": {
          "annotationdefaults": {
           "arrowcolor": "#2a3f5f",
           "arrowhead": 0,
           "arrowwidth": 1
          },
          "autotypenumbers": "strict",
          "coloraxis": {
           "colorbar": {
            "outlinewidth": 0,
            "ticks": ""
           }
          },
          "colorscale": {
           "diverging": [
            [
             0,
             "#8e0152"
            ],
            [
             0.1,
             "#c51b7d"
            ],
            [
             0.2,
             "#de77ae"
            ],
            [
             0.3,
             "#f1b6da"
            ],
            [
             0.4,
             "#fde0ef"
            ],
            [
             0.5,
             "#f7f7f7"
            ],
            [
             0.6,
             "#e6f5d0"
            ],
            [
             0.7,
             "#b8e186"
            ],
            [
             0.8,
             "#7fbc41"
            ],
            [
             0.9,
             "#4d9221"
            ],
            [
             1,
             "#276419"
            ]
           ],
           "sequential": [
            [
             0,
             "#0d0887"
            ],
            [
             0.1111111111111111,
             "#46039f"
            ],
            [
             0.2222222222222222,
             "#7201a8"
            ],
            [
             0.3333333333333333,
             "#9c179e"
            ],
            [
             0.4444444444444444,
             "#bd3786"
            ],
            [
             0.5555555555555556,
             "#d8576b"
            ],
            [
             0.6666666666666666,
             "#ed7953"
            ],
            [
             0.7777777777777778,
             "#fb9f3a"
            ],
            [
             0.8888888888888888,
             "#fdca26"
            ],
            [
             1,
             "#f0f921"
            ]
           ],
           "sequentialminus": [
            [
             0,
             "#0d0887"
            ],
            [
             0.1111111111111111,
             "#46039f"
            ],
            [
             0.2222222222222222,
             "#7201a8"
            ],
            [
             0.3333333333333333,
             "#9c179e"
            ],
            [
             0.4444444444444444,
             "#bd3786"
            ],
            [
             0.5555555555555556,
             "#d8576b"
            ],
            [
             0.6666666666666666,
             "#ed7953"
            ],
            [
             0.7777777777777778,
             "#fb9f3a"
            ],
            [
             0.8888888888888888,
             "#fdca26"
            ],
            [
             1,
             "#f0f921"
            ]
           ]
          },
          "colorway": [
           "#636efa",
           "#EF553B",
           "#00cc96",
           "#ab63fa",
           "#FFA15A",
           "#19d3f3",
           "#FF6692",
           "#B6E880",
           "#FF97FF",
           "#FECB52"
          ],
          "font": {
           "color": "#2a3f5f"
          },
          "geo": {
           "bgcolor": "white",
           "lakecolor": "white",
           "landcolor": "#E5ECF6",
           "showlakes": true,
           "showland": true,
           "subunitcolor": "white"
          },
          "hoverlabel": {
           "align": "left"
          },
          "hovermode": "closest",
          "mapbox": {
           "style": "light"
          },
          "paper_bgcolor": "white",
          "plot_bgcolor": "#E5ECF6",
          "polar": {
           "angularaxis": {
            "gridcolor": "white",
            "linecolor": "white",
            "ticks": ""
           },
           "bgcolor": "#E5ECF6",
           "radialaxis": {
            "gridcolor": "white",
            "linecolor": "white",
            "ticks": ""
           }
          },
          "scene": {
           "xaxis": {
            "backgroundcolor": "#E5ECF6",
            "gridcolor": "white",
            "gridwidth": 2,
            "linecolor": "white",
            "showbackground": true,
            "ticks": "",
            "zerolinecolor": "white"
           },
           "yaxis": {
            "backgroundcolor": "#E5ECF6",
            "gridcolor": "white",
            "gridwidth": 2,
            "linecolor": "white",
            "showbackground": true,
            "ticks": "",
            "zerolinecolor": "white"
           },
           "zaxis": {
            "backgroundcolor": "#E5ECF6",
            "gridcolor": "white",
            "gridwidth": 2,
            "linecolor": "white",
            "showbackground": true,
            "ticks": "",
            "zerolinecolor": "white"
           }
          },
          "shapedefaults": {
           "line": {
            "color": "#2a3f5f"
           }
          },
          "ternary": {
           "aaxis": {
            "gridcolor": "white",
            "linecolor": "white",
            "ticks": ""
           },
           "baxis": {
            "gridcolor": "white",
            "linecolor": "white",
            "ticks": ""
           },
           "bgcolor": "#E5ECF6",
           "caxis": {
            "gridcolor": "white",
            "linecolor": "white",
            "ticks": ""
           }
          },
          "title": {
           "x": 0.05
          },
          "xaxis": {
           "automargin": true,
           "gridcolor": "white",
           "linecolor": "white",
           "ticks": "",
           "title": {
            "standoff": 15
           },
           "zerolinecolor": "white",
           "zerolinewidth": 2
          },
          "yaxis": {
           "automargin": true,
           "gridcolor": "white",
           "linecolor": "white",
           "ticks": "",
           "title": {
            "standoff": 15
           },
           "zerolinecolor": "white",
           "zerolinewidth": 2
          }
         }
        },
        "title": {
         "text": "Placering"
        },
        "xaxis": {
         "anchor": "y",
         "domain": [
          0,
          1
         ],
         "title": {
          "text": "tree_count"
         }
        },
        "yaxis": {
         "anchor": "x",
         "categoryorder": "total ascending",
         "domain": [
          0,
          1
         ],
         "title": {
          "text": "placering"
         }
        }
       }
      },
      "text/html": [
       "<div>                            <div id=\"15a8beca-ba25-4c64-b4ae-0f6eec403c59\" class=\"plotly-graph-div\" style=\"height:525px; width:100%;\"></div>            <script type=\"text/javascript\">                require([\"plotly\"], function(Plotly) {                    window.PLOTLYENV=window.PLOTLYENV || {};                                    if (document.getElementById(\"15a8beca-ba25-4c64-b4ae-0f6eec403c59\")) {                    Plotly.newPlot(                        \"15a8beca-ba25-4c64-b4ae-0f6eec403c59\",                        [{\"alignmentgroup\":\"True\",\"hovertemplate\":\"prediction=tp\\u003cbr\\u003etree_count=%{x}\\u003cbr\\u003eplacering=%{y}\\u003cextra\\u003e\\u003c\\u002fextra\\u003e\",\"legendgroup\":\"tp\",\"marker\":{\"color\":\"#636efa\",\"pattern\":{\"shape\":\"\"}},\"name\":\"tp\",\"offsetgroup\":\"tp\",\"orientation\":\"h\",\"showlegend\":true,\"textposition\":\"auto\",\"x\":[4.0,2.0,1.0,8.0,11.0,3.0,2.0,4.0,1.0,2.0,2.0,2.0,1.0,4.0,16.0,3.0,2.0,3.0,1.0,6.0,4.0,3.0,14.0,6.0,1.0,3.0,7.0,6.0,3.0,4.0,2.0,4.0,3.0,6.0,3.0,11.0,7.0,1.0,2.0,1.0,2.0,2.0,4.0,1.0,2.0,5.0,2.0,17.0,3.0,2.0,5.0,4.0,1.0,4.0,1.0,5.0,2.0,1.0,2.0,1.0,1.0,1.0,1.0,9.0,5.0,4.0,1.0,2.0,1.0,1.0,3.0,2.0,2.0,4.0,3.0,1.0,1.0,2.0,6.0,1.0,1.0,1.0,4.0,1.0,8.0,1.0,1.0,2.0,3.0,2.0,1.0,1.0,17.0,1.0,1.0,1.0,3.0,1.0,2.0,6.0,2.0,1.0,1.0,1.0,1.0,2.0,1.0,6.0,1.0,1.0,1.0,1.0,4.0,16.0,2.0,5.0,5.0,2.0,4.0,4.0,2.0,1.0,1.0,1.0,1.0,3.0,2.0,1.0,1.0,2.0,1.0,1.0,3.0,1.0,1.0,1.0,4.0,2.0,5.0,2.0,1.0,6.0,1.0,2.0,7.0,6.0,7.0,1.0,1.0,1.0,2.0,4.0,2.0,1.0,2.0,4.0,2.0,4.0,5.0,1.0,2.0,5.0,4.0,2.0,1.0,1.0,11.0,2.0,3.0,10.0,1.0,2.0,6.0,1.0,1.0,4.0,1.0,1.0,2.0,2.0,3.0,1.0,1.0,1.0,3.0,2.0,1.0,35.0,1.0,4.0,1.0,1.0,2.0,2.0,7.0,2.0,1.0,1.0,1.0,1.0,1.0,4.0,6.0,2.0,3.0,1.0,1.0,6.0,8.0,3.0,3.0,3.0,1.0,3.0,1.0,8.0,1.0,4.0,16.0,2.0,2.0,1.0,1.0,1.0,1.0,2.0,1.0,6.0,2.0,1.0,5.0,5.0,1.0,1.0,4.0,2.0,3.0,3.0,7.0,1.0,1.0,1.0,2.0,1.0,4.0,4.0,1.0,3.0,3.0,3.0,1.0,5.0,1.0,3.0,1.0,4.0,1.0,4.0,1.0,3.0,3.0,1.0,1.0,4.0,1.0,6.0,16.0,4.0,12.0,1.0,1.0,5.0,2.0,4.0,3.0,2.0,4.0,2.0,2.0,10.0,12.0,13.0,4.0,4.0,9.0,4.0,4.0,2.0,4.0,1.0,1.0,4.0,2.0,3.0,3.0,7.0,3.0,1.0,1.0,1.0,1.0,4.0,3.0,9.0,6.0,1.0,1.0,3.0,1.0,3.0,3.0,1.0,2.0,6.0,5.0,1.0,2.0,5.0,9.0,1.0,1.0,1.0,1.0,2.0,3.0,3.0,1.0,12.0,1.0,1.0,1.0,1.0,1.0,4.0,4.0,11.0,1.0,1.0,1.0,1.0,1.0,2.0,6.0,6.0,1.0,1.0,1.0,1.0,1.0,2.0,5.0,2.0,1.0,1.0,1.0,4.0,3.0,4.0,3.0,11.0,1.0,1.0,6.0,1.0,11.0,2.0,7.0,1.0,1.0,1.0,1.0,1.0,4.0,1.0,8.0,1.0,1.0,3.0,1.0,2.0,1.0,2.0,1.0,2.0,1.0,2.0,1.0,1.0,1.0,3.0,3.0,4.0,4.0,5.0,6.0,6.0,3.0,10.0,14.0,1.0,1.0,2.0,6.0,1.0,1.0,1.0,2.0,3.0,7.0,2.0,4.0,1.0,2.0,6.0,6.0,1.0,1.0,4.0,2.0,1.0,1.0,2.0,2.0,1.0,3.0,7.0,5.0,1.0,1.0,1.0,1.0,24.0,1.0,1.0,1.0,2.0,1.0,1.0,1.0,1.0,4.0,5.0,2.0,6.0,1.0,3.0,1.0,23.0,1.0,2.0,2.0,1.0,1.0,2.0,4.0,1.0,3.0,2.0,1.0],\"xaxis\":\"x\",\"y\":[\"Torv og plads\",\"Siderabat\",\"Torv og plads\",\"Fortov\",\"Siderabat\",\"Gr\\u00f8nt anl\\u00e6g\",\"Siderabat\",\"Midterrabat\",\"Vejareal\",\"Siderabat\",\"Fortov\",\"Fortov\",\"Siderabat\",\"Gr\\u00f8nt anl\\u00e6g\",\"Fortov\",\"Torv og plads\",\"Vejareal\",\"Torv og plads\",\"Fortov\",\"Fortov\",\"Fortov\",\"Siderabat\",\"Siderabat\",\"Fortov\",\"Siderabat\",\"Midterrabat\",\"Fortov\",\"Siderabat\",\"Siderabat\",\"Cykelsti\",\"Siderabat\",\"Torv og plads\",\"Siderabat\",\"Gr\\u00f8nt anl\\u00e6g\",\"Fortov\",\"Fortov\",\"Siderabat\",\"Fortov\",\"Fortov\",\"Fortov\",\"Vejareal\",\"Vejareal\",\"Cykelsti\",\"Torv og plads\",\"Vejareal\",\"Fortov\",\"Vejareal\",\"Midterrabat\",\"Midterrabat\",\"Siderabat\",\"Siderabat\",\"Fortov\",\"Siderabat\",\"Fortov\",\"Vejareal\",\"Cykelsti\",\"Fortov\",\"Fortov\",\"Siderabat\",\"Cykelsti\",\"Siderabat\",\"Cykelsti\",\"Fortov\",\"Siderabat\",\"Vejareal\",\"Fortov\",\"Vejareal\",\"Vejareal\",\"Fortov\",\"Gr\\u00f8nt anl\\u00e6g\",\"Gr\\u00f8nt anl\\u00e6g\",\"Gr\\u00f8nt anl\\u00e6g\",\"Vejareal\",\"Vejareal\",\"Fortov\",\"Fortov\",\"Ikke registreret\",\"Torv og plads\",\"Siderabat\",\"Fortov\",\"Fortov\",\"Siderabat\",\"Midterrabat\",\"Siderabat\",\"Vejareal\",\"Siderabat\",\"Cykelsti\",\"Vejareal\",\"Torv og plads\",\"Siderabat\",\"Vejareal\",\"Vejareal\",\"Midterrabat\",\"Fortov\",\"Fortov\",\"Midterrabat\",\"Fortov\",\"Fortov\",\"Siderabat\",\"Fortov\",\"Vejareal\",\"Fortov\",\"Vejareal\",\"Fortov\",\"Vejareal\",\"Torv og plads\",\"Cykelsti\",\"Siderabat\",\"Torv og plads\",\"Vejareal\",\"Fortov\",\"Fortov\",\"Vejareal\",\"Ikke registreret\",\"Fortov\",\"Fortov\",\"Gr\\u00f8nt anl\\u00e6g\",\"Gr\\u00f8nt anl\\u00e6g\",\"Vejareal\",\"Siderabat\",\"Siderabat\",\"Vejareal\",\"Gr\\u00f8nt anl\\u00e6g\",\"Siderabat\",\"Siderabat\",\"Siderabat\",\"Siderabat\",\"Cykelsti\",\"Torv og plads\",\"Fortov\",\"Vejareal\",\"Siderabat\",\"Siderabat\",\"Siderabat\",\"Fortov\",\"Siderabat\",\"Vejareal\",\"Fortov\",\"Torv og plads\",\"Fortov\",\"Vejareal\",\"Siderabat\",\"Fortov\",\"Torv og plads\",\"Vejareal\",\"Siderabat\",\"Ikke registreret\",\"Siderabat\",\"Siderabat\",\"Vejareal\",\"Cykelsti\",\"Fortov\",\"Cykelsti\",\"Fortov\",\"Siderabat\",\"Torv og plads\",\"Siderabat\",\"Siderabat\",\"Fortov\",\"Fortov\",\"Siderabat\",\"Siderabat\",\"Cykelsti\",\"Torv og plads\",\"Vejareal\",\"Siderabat\",\"Gr\\u00f8nt anl\\u00e6g\",\"Fortov\",\"Siderabat\",\"Siderabat\",\"Siderabat\",\"Midterrabat\",\"Siderabat\",\"Cykelsti\",\"Siderabat\",\"Vejareal\",\"Fortov\",\"Fortov\",\"Vejareal\",\"Vejareal\",\"Siderabat\",\"Vejareal\",\"Siderabat\",\"Fortov\",\"Vejareal\",\"Torv og plads\",\"Vejareal\",\"Siderabat\",\"Vejareal\",\"Siderabat\",\"Siderabat\",\"Siderabat\",\"Siderabat\",\"Siderabat\",\"Siderabat\",\"Siderabat\",\"Siderabat\",\"Fortov\",\"Fortov\",\"Gr\\u00f8nt anl\\u00e6g\",\"Siderabat\",\"Fortov\",\"Vejareal\",\"Vejareal\",\"Gr\\u00f8nt anl\\u00e6g\",\"Midterrabat\",\"Vejareal\",\"Siderabat\",\"Vejareal\",\"Siderabat\",\"Vejareal\",\"Gr\\u00f8nt anl\\u00e6g\",\"Siderabat\",\"Siderabat\",\"Fortov\",\"Torv og plads\",\"Fortov\",\"Cykelsti\",\"Torv og plads\",\"Fortov\",\"Gr\\u00f8nt anl\\u00e6g\",\"Fortov\",\"Gr\\u00f8nt anl\\u00e6g\",\"Siderabat\",\"Fortov\",\"Fortov\",\"Gr\\u00f8nt anl\\u00e6g\",\"Siderabat\",\"Fortov\",\"Siderabat\",\"Vejareal\",\"Cykelsti\",\"Fortov\",\"Vejareal\",\"Siderabat\",\"Vejareal\",\"Fortov\",\"Siderabat\",\"Siderabat\",\"Fortov\",\"Gr\\u00f8nt anl\\u00e6g\",\"Cykelsti\",\"Fortov\",\"Fortov\",\"Fortov\",\"Siderabat\",\"Fortov\",\"Cykelsti\",\"Gr\\u00f8nt anl\\u00e6g\",\"Vejareal\",\"Vejareal\",\"Midterrabat\",\"Fortov\",\"Fortov\",\"Vejareal\",\"Vejareal\",\"Siderabat\",\"Fortov\",\"Siderabat\",\"Midterrabat\",\"Fortov\",\"Gr\\u00f8nt anl\\u00e6g\",\"Fortov\",\"Vejareal\",\"Midterrabat\",\"Vejareal\",\"Siderabat\",\"Vejareal\",\"Fortov\",\"Fortov\",\"Fortov\",\"Fortov\",\"Fortov\",\"Fortov\",\"Midterrabat\",\"Torv og plads\",\"Ikke registreret\",\"Siderabat\",\"Siderabat\",\"Fortov\",\"Siderabat\",\"Vejareal\",\"Gr\\u00f8nt anl\\u00e6g\",\"Midterrabat\",\"Vejareal\",\"Midterrabat\",\"Fortov\",\"Siderabat\",\"Vejareal\",\"Siderabat\",\"Vejareal\",\"Siderabat\",\"Fortov\",\"Fortov\",\"Siderabat\",\"Fortov\",\"Midterrabat\",\"Gr\\u00f8nt anl\\u00e6g\",\"Torv og plads\",\"Vejareal\",\"Vejareal\",\"Siderabat\",\"Fortov\",\"Cykelsti\",\"Cykelsti\",\"Vejareal\",\"Vejareal\",\"Cykelsti\",\"Fortov\",\"Siderabat\",\"Torv og plads\",\"Fortov\",\"Vejareal\",\"Siderabat\",\"Fortov\",\"Vejareal\",\"Fortov\",\"Midterrabat\",\"Fortov\",\"Siderabat\",\"Fortov\",\"Fortov\",\"Vejareal\",\"Fortov\",\"Siderabat\",\"Fortov\",\"Midterrabat\",\"Gr\\u00f8nt anl\\u00e6g\",\"Siderabat\",\"Siderabat\",\"Fortov\",\"Siderabat\",\"Siderabat\",\"Vejareal\",\"Vejareal\",\"Vejareal\",\"Vejareal\",\"Fortov\",\"Vejareal\",\"Siderabat\",\"Siderabat\",\"Fortov\",\"Siderabat\",\"Vejareal\",\"Midterrabat\",\"Fortov\",\"Cykelsti\",\"Fortov\",\"Fortov\",\"Vejareal\",\"Siderabat\",\"Midterrabat\",\"Cykelsti\",\"Siderabat\",\"Fortov\",\"Fortov\",\"Siderabat\",\"Midterrabat\",\"Vejareal\",\"Siderabat\",\"Fortov\",\"Vejareal\",\"Fortov\",\"Vejareal\",\"Fortov\",\"Vejareal\",\"Fortov\",\"Vejareal\",\"Fortov\",\"Torv og plads\",\"Fortov\",\"Vejareal\",\"Fortov\",\"Cykelsti\",\"Torv og plads\",\"Fortov\",\"Vejareal\",\"Midterrabat\",\"Vejareal\",\"Vejareal\",\"Cykelsti\",\"Fortov\",\"Fortov\",\"Siderabat\",\"Gr\\u00f8nt anl\\u00e6g\",\"Siderabat\",\"Cykelsti\",\"Vejareal\",\"Gr\\u00f8nt anl\\u00e6g\",\"Fortov\",\"Siderabat\",\"Fortov\",\"Siderabat\",\"Siderabat\",\"Siderabat\",\"Siderabat\",\"Vejareal\",\"Fortov\",\"Siderabat\",\"Fortov\",\"Fortov\",\"Siderabat\",\"Fortov\",\"Cykelsti\",\"Cykelsti\",\"Siderabat\",\"Fortov\",\"Fortov\",\"Midterrabat\",\"Midterrabat\",\"Siderabat\",\"Fortov\",\"Fortov\",\"Siderabat\",\"Siderabat\",\"Vejareal\",\"Vejareal\",\"Gr\\u00f8nt anl\\u00e6g\",\"Siderabat\",\"Cykelsti\",\"Vejareal\",\"Siderabat\",\"Vejareal\",\"Vejareal\",\"Gr\\u00f8nt anl\\u00e6g\",\"Fortov\",\"Fortov\",\"Fortov\",\"Siderabat\",\"Siderabat\",\"Fortov\",\"Siderabat\",\"Vejareal\",\"Fortov\",\"Siderabat\",\"Fortov\",\"Siderabat\",\"Vejareal\",\"Fortov\",\"Fortov\",\"Siderabat\",\"Fortov\",\"Fortov\",\"Gr\\u00f8nt anl\\u00e6g\",\"Midterrabat\",\"Fortov\",\"Cykelsti\",\"Torv og plads\",\"Vejareal\",\"Torv og plads\",\"Vejareal\",\"Fortov\",\"Vejareal\",\"Torv og plads\",\"Fortov\",\"Fortov\",\"Fortov\",\"Gr\\u00f8nt anl\\u00e6g\",\"Torv og plads\"],\"yaxis\":\"y\",\"type\":\"bar\"},{\"alignmentgroup\":\"True\",\"hovertemplate\":\"prediction=fn\\u003cbr\\u003etree_count=%{x}\\u003cbr\\u003eplacering=%{y}\\u003cextra\\u003e\\u003c\\u002fextra\\u003e\",\"legendgroup\":\"fn\",\"marker\":{\"color\":\"#EF553B\",\"pattern\":{\"shape\":\"\"}},\"name\":\"fn\",\"offsetgroup\":\"fn\",\"orientation\":\"h\",\"showlegend\":true,\"textposition\":\"auto\",\"x\":[1.0,1.0,12.0,1.0,5.0,1.0,4.0,4.0,1.0,4.0,1.0,1.0,1.0,1.0,5.0,1.0,1.0,1.0,1.0,1.0,1.0,1.0,3.0,2.0,1.0,2.0,2.0,1.0,12.0,2.0,1.0,1.0,2.0,1.0,3.0,14.0,1.0,19.0,2.0,1.0,1.0,1.0,1.0,1.0,1.0,1.0,1.0,2.0,4.0,1.0,2.0,1.0,2.0,1.0,3.0,4.0,1.0,1.0,2.0,1.0,1.0,1.0,4.0,5.0,1.0,4.0,1.0,1.0,1.0,1.0,4.0,10.0,1.0,2.0,3.0,1.0,1.0,1.0,1.0,1.0,1.0,1.0,1.0,3.0,1.0,3.0,2.0,1.0,18.0,1.0,1.0,1.0,1.0,3.0,1.0,1.0,1.0,2.0,2.0,1.0,1.0,5.0,1.0,1.0,10.0,1.0,1.0,1.0,1.0,1.0,1.0,2.0,1.0,4.0,1.0,3.0,1.0,1.0,1.0,2.0,1.0,1.0,1.0,2.0,10.0,1.0,7.0,1.0,1.0,1.0,5.0,2.0,1.0,15.0,1.0,4.0,1.0,2.0,1.0,1.0,1.0,5.0,2.0,1.0,1.0,1.0,2.0,1.0,4.0,1.0,1.0,3.0,1.0,3.0,1.0,1.0,10.0,4.0,2.0,2.0,2.0,4.0,2.0,1.0,1.0,1.0,1.0,1.0,1.0,3.0,4.0,1.0,3.0,1.0,4.0,1.0,2.0,1.0,4.0,1.0,1.0,7.0,1.0,16.0,1.0,1.0,25.0,1.0,2.0,5.0,11.0,1.0,2.0,3.0,2.0,1.0,2.0],\"xaxis\":\"x\",\"y\":[\"Fortov\",\"Cykelsti\",\"Siderabat\",\"Gr\\u00f8nt anl\\u00e6g\",\"Torv og plads\",\"Fortov\",\"Siderabat\",\"Siderabat\",\"Siderabat\",\"Siderabat\",\"Siderabat\",\"Siderabat\",\"Gr\\u00f8nt anl\\u00e6g\",\"Midterrabat\",\"Torv og plads\",\"Siderabat\",\"Gr\\u00f8nt anl\\u00e6g\",\"Cykelsti\",\"Cykelsti\",\"Torv og plads\",\"Siderabat\",\"Siderabat\",\"Fortov\",\"Siderabat\",\"Torv og plads\",\"Gr\\u00f8nt anl\\u00e6g\",\"Siderabat\",\"Fortov\",\"Torv og plads\",\"Vejareal\",\"Cykelsti\",\"Vejareal\",\"Siderabat\",\"Cykelsti\",\"Fortov\",\"Midterrabat\",\"Siderabat\",\"Siderabat\",\"Gr\\u00f8nt anl\\u00e6g\",\"Gr\\u00f8nt anl\\u00e6g\",\"Siderabat\",\"Fortov\",\"Torv og plads\",\"Siderabat\",\"Vejareal\",\"Vejareal\",\"Siderabat\",\"Fortov\",\"Siderabat\",\"Cykelsti\",\"Fortov\",\"Torv og plads\",\"Gr\\u00f8nt anl\\u00e6g\",\"Siderabat\",\"Torv og plads\",\"Torv og plads\",\"Gr\\u00f8nt anl\\u00e6g\",\"Torv og plads\",\"Midterrabat\",\"Torv og plads\",\"Gr\\u00f8nt anl\\u00e6g\",\"Fortov\",\"Siderabat\",\"Gr\\u00f8nt anl\\u00e6g\",\"Fortov\",\"Fortov\",\"Vejareal\",\"Vejareal\",\"Siderabat\",\"Siderabat\",\"Vejareal\",\"Siderabat\",\"Fortov\",\"Siderabat\",\"Vejareal\",\"Midterrabat\",\"Siderabat\",\"Midterrabat\",\"Siderabat\",\"Fortov\",\"Fortov\",\"Fortov\",\"Siderabat\",\"Gr\\u00f8nt anl\\u00e6g\",\"Vejareal\",\"Vejareal\",\"Fortov\",\"Fortov\",\"Siderabat\",\"Fortov\",\"Fortov\",\"Siderabat\",\"Vejareal\",\"Siderabat\",\"Fortov\",\"Siderabat\",\"Siderabat\",\"Siderabat\",\"Vejareal\",\"Gr\\u00f8nt anl\\u00e6g\",\"Siderabat\",\"Siderabat\",\"Cykelsti\",\"Fortov\",\"Siderabat\",\"Torv og plads\",\"Fortov\",\"Cykelsti\",\"Torv og plads\",\"Siderabat\",\"Gr\\u00f8nt anl\\u00e6g\",\"Siderabat\",\"Siderabat\",\"Fortov\",\"Fortov\",\"Gr\\u00f8nt anl\\u00e6g\",\"Gr\\u00f8nt anl\\u00e6g\",\"Vejareal\",\"Vejareal\",\"Gr\\u00f8nt anl\\u00e6g\",\"Torv og plads\",\"Vejareal\",\"Siderabat\",\"Siderabat\",\"Vejareal\",\"Siderabat\",\"Siderabat\",\"Siderabat\",\"Vejareal\",\"Fortov\",\"Siderabat\",\"Torv og plads\",\"Fortov\",\"Siderabat\",\"Torv og plads\",\"Gr\\u00f8nt anl\\u00e6g\",\"Torv og plads\",\"Siderabat\",\"Gr\\u00f8nt anl\\u00e6g\",\"Gr\\u00f8nt anl\\u00e6g\",\"Siderabat\",\"Gr\\u00f8nt anl\\u00e6g\",\"Siderabat\",\"Vejareal\",\"Fortov\",\"Siderabat\",\"Gr\\u00f8nt anl\\u00e6g\",\"Torv og plads\",\"Ikke registreret\",\"Vejareal\",\"Siderabat\",\"Torv og plads\",\"Vejareal\",\"Gr\\u00f8nt anl\\u00e6g\",\"Torv og plads\",\"Vejareal\",\"Siderabat\",\"Siderabat\",\"Siderabat\",\"Siderabat\",\"Torv og plads\",\"Siderabat\",\"Fortov\",\"Siderabat\",\"Midterrabat\",\"Gr\\u00f8nt anl\\u00e6g\",\"Torv og plads\",\"Gr\\u00f8nt anl\\u00e6g\",\"Siderabat\",\"Fortov\",\"Siderabat\",\"Vejareal\",\"Torv og plads\",\"Siderabat\",\"Gr\\u00f8nt anl\\u00e6g\",\"Torv og plads\",\"Siderabat\",\"Torv og plads\",\"Vejareal\",\"Vejareal\",\"Fortov\",\"Fortov\",\"Siderabat\",\"Siderabat\",\"Midterrabat\",\"Siderabat\",\"Vejareal\",\"Gr\\u00f8nt anl\\u00e6g\",\"Siderabat\",\"Siderabat\",\"Siderabat\",\"Siderabat\",\"Torv og plads\",\"Vejareal\",\"Siderabat\",\"Fortov\",\"Siderabat\"],\"yaxis\":\"y\",\"type\":\"bar\"}],                        {\"template\":{\"data\":{\"histogram2dcontour\":[{\"type\":\"histogram2dcontour\",\"colorbar\":{\"outlinewidth\":0,\"ticks\":\"\"},\"colorscale\":[[0.0,\"#0d0887\"],[0.1111111111111111,\"#46039f\"],[0.2222222222222222,\"#7201a8\"],[0.3333333333333333,\"#9c179e\"],[0.4444444444444444,\"#bd3786\"],[0.5555555555555556,\"#d8576b\"],[0.6666666666666666,\"#ed7953\"],[0.7777777777777778,\"#fb9f3a\"],[0.8888888888888888,\"#fdca26\"],[1.0,\"#f0f921\"]]}],\"choropleth\":[{\"type\":\"choropleth\",\"colorbar\":{\"outlinewidth\":0,\"ticks\":\"\"}}],\"histogram2d\":[{\"type\":\"histogram2d\",\"colorbar\":{\"outlinewidth\":0,\"ticks\":\"\"},\"colorscale\":[[0.0,\"#0d0887\"],[0.1111111111111111,\"#46039f\"],[0.2222222222222222,\"#7201a8\"],[0.3333333333333333,\"#9c179e\"],[0.4444444444444444,\"#bd3786\"],[0.5555555555555556,\"#d8576b\"],[0.6666666666666666,\"#ed7953\"],[0.7777777777777778,\"#fb9f3a\"],[0.8888888888888888,\"#fdca26\"],[1.0,\"#f0f921\"]]}],\"heatmap\":[{\"type\":\"heatmap\",\"colorbar\":{\"outlinewidth\":0,\"ticks\":\"\"},\"colorscale\":[[0.0,\"#0d0887\"],[0.1111111111111111,\"#46039f\"],[0.2222222222222222,\"#7201a8\"],[0.3333333333333333,\"#9c179e\"],[0.4444444444444444,\"#bd3786\"],[0.5555555555555556,\"#d8576b\"],[0.6666666666666666,\"#ed7953\"],[0.7777777777777778,\"#fb9f3a\"],[0.8888888888888888,\"#fdca26\"],[1.0,\"#f0f921\"]]}],\"heatmapgl\":[{\"type\":\"heatmapgl\",\"colorbar\":{\"outlinewidth\":0,\"ticks\":\"\"},\"colorscale\":[[0.0,\"#0d0887\"],[0.1111111111111111,\"#46039f\"],[0.2222222222222222,\"#7201a8\"],[0.3333333333333333,\"#9c179e\"],[0.4444444444444444,\"#bd3786\"],[0.5555555555555556,\"#d8576b\"],[0.6666666666666666,\"#ed7953\"],[0.7777777777777778,\"#fb9f3a\"],[0.8888888888888888,\"#fdca26\"],[1.0,\"#f0f921\"]]}],\"contourcarpet\":[{\"type\":\"contourcarpet\",\"colorbar\":{\"outlinewidth\":0,\"ticks\":\"\"}}],\"contour\":[{\"type\":\"contour\",\"colorbar\":{\"outlinewidth\":0,\"ticks\":\"\"},\"colorscale\":[[0.0,\"#0d0887\"],[0.1111111111111111,\"#46039f\"],[0.2222222222222222,\"#7201a8\"],[0.3333333333333333,\"#9c179e\"],[0.4444444444444444,\"#bd3786\"],[0.5555555555555556,\"#d8576b\"],[0.6666666666666666,\"#ed7953\"],[0.7777777777777778,\"#fb9f3a\"],[0.8888888888888888,\"#fdca26\"],[1.0,\"#f0f921\"]]}],\"surface\":[{\"type\":\"surface\",\"colorbar\":{\"outlinewidth\":0,\"ticks\":\"\"},\"colorscale\":[[0.0,\"#0d0887\"],[0.1111111111111111,\"#46039f\"],[0.2222222222222222,\"#7201a8\"],[0.3333333333333333,\"#9c179e\"],[0.4444444444444444,\"#bd3786\"],[0.5555555555555556,\"#d8576b\"],[0.6666666666666666,\"#ed7953\"],[0.7777777777777778,\"#fb9f3a\"],[0.8888888888888888,\"#fdca26\"],[1.0,\"#f0f921\"]]}],\"mesh3d\":[{\"type\":\"mesh3d\",\"colorbar\":{\"outlinewidth\":0,\"ticks\":\"\"}}],\"scatter\":[{\"fillpattern\":{\"fillmode\":\"overlay\",\"size\":10,\"solidity\":0.2},\"type\":\"scatter\"}],\"parcoords\":[{\"type\":\"parcoords\",\"line\":{\"colorbar\":{\"outlinewidth\":0,\"ticks\":\"\"}}}],\"scatterpolargl\":[{\"type\":\"scatterpolargl\",\"marker\":{\"colorbar\":{\"outlinewidth\":0,\"ticks\":\"\"}}}],\"bar\":[{\"error_x\":{\"color\":\"#2a3f5f\"},\"error_y\":{\"color\":\"#2a3f5f\"},\"marker\":{\"line\":{\"color\":\"#E5ECF6\",\"width\":0.5},\"pattern\":{\"fillmode\":\"overlay\",\"size\":10,\"solidity\":0.2}},\"type\":\"bar\"}],\"scattergeo\":[{\"type\":\"scattergeo\",\"marker\":{\"colorbar\":{\"outlinewidth\":0,\"ticks\":\"\"}}}],\"scatterpolar\":[{\"type\":\"scatterpolar\",\"marker\":{\"colorbar\":{\"outlinewidth\":0,\"ticks\":\"\"}}}],\"histogram\":[{\"marker\":{\"pattern\":{\"fillmode\":\"overlay\",\"size\":10,\"solidity\":0.2}},\"type\":\"histogram\"}],\"scattergl\":[{\"type\":\"scattergl\",\"marker\":{\"colorbar\":{\"outlinewidth\":0,\"ticks\":\"\"}}}],\"scatter3d\":[{\"type\":\"scatter3d\",\"line\":{\"colorbar\":{\"outlinewidth\":0,\"ticks\":\"\"}},\"marker\":{\"colorbar\":{\"outlinewidth\":0,\"ticks\":\"\"}}}],\"scattermapbox\":[{\"type\":\"scattermapbox\",\"marker\":{\"colorbar\":{\"outlinewidth\":0,\"ticks\":\"\"}}}],\"scatterternary\":[{\"type\":\"scatterternary\",\"marker\":{\"colorbar\":{\"outlinewidth\":0,\"ticks\":\"\"}}}],\"scattercarpet\":[{\"type\":\"scattercarpet\",\"marker\":{\"colorbar\":{\"outlinewidth\":0,\"ticks\":\"\"}}}],\"carpet\":[{\"aaxis\":{\"endlinecolor\":\"#2a3f5f\",\"gridcolor\":\"white\",\"linecolor\":\"white\",\"minorgridcolor\":\"white\",\"startlinecolor\":\"#2a3f5f\"},\"baxis\":{\"endlinecolor\":\"#2a3f5f\",\"gridcolor\":\"white\",\"linecolor\":\"white\",\"minorgridcolor\":\"white\",\"startlinecolor\":\"#2a3f5f\"},\"type\":\"carpet\"}],\"table\":[{\"cells\":{\"fill\":{\"color\":\"#EBF0F8\"},\"line\":{\"color\":\"white\"}},\"header\":{\"fill\":{\"color\":\"#C8D4E3\"},\"line\":{\"color\":\"white\"}},\"type\":\"table\"}],\"barpolar\":[{\"marker\":{\"line\":{\"color\":\"#E5ECF6\",\"width\":0.5},\"pattern\":{\"fillmode\":\"overlay\",\"size\":10,\"solidity\":0.2}},\"type\":\"barpolar\"}],\"pie\":[{\"automargin\":true,\"type\":\"pie\"}]},\"layout\":{\"autotypenumbers\":\"strict\",\"colorway\":[\"#636efa\",\"#EF553B\",\"#00cc96\",\"#ab63fa\",\"#FFA15A\",\"#19d3f3\",\"#FF6692\",\"#B6E880\",\"#FF97FF\",\"#FECB52\"],\"font\":{\"color\":\"#2a3f5f\"},\"hovermode\":\"closest\",\"hoverlabel\":{\"align\":\"left\"},\"paper_bgcolor\":\"white\",\"plot_bgcolor\":\"#E5ECF6\",\"polar\":{\"bgcolor\":\"#E5ECF6\",\"angularaxis\":{\"gridcolor\":\"white\",\"linecolor\":\"white\",\"ticks\":\"\"},\"radialaxis\":{\"gridcolor\":\"white\",\"linecolor\":\"white\",\"ticks\":\"\"}},\"ternary\":{\"bgcolor\":\"#E5ECF6\",\"aaxis\":{\"gridcolor\":\"white\",\"linecolor\":\"white\",\"ticks\":\"\"},\"baxis\":{\"gridcolor\":\"white\",\"linecolor\":\"white\",\"ticks\":\"\"},\"caxis\":{\"gridcolor\":\"white\",\"linecolor\":\"white\",\"ticks\":\"\"}},\"coloraxis\":{\"colorbar\":{\"outlinewidth\":0,\"ticks\":\"\"}},\"colorscale\":{\"sequential\":[[0.0,\"#0d0887\"],[0.1111111111111111,\"#46039f\"],[0.2222222222222222,\"#7201a8\"],[0.3333333333333333,\"#9c179e\"],[0.4444444444444444,\"#bd3786\"],[0.5555555555555556,\"#d8576b\"],[0.6666666666666666,\"#ed7953\"],[0.7777777777777778,\"#fb9f3a\"],[0.8888888888888888,\"#fdca26\"],[1.0,\"#f0f921\"]],\"sequentialminus\":[[0.0,\"#0d0887\"],[0.1111111111111111,\"#46039f\"],[0.2222222222222222,\"#7201a8\"],[0.3333333333333333,\"#9c179e\"],[0.4444444444444444,\"#bd3786\"],[0.5555555555555556,\"#d8576b\"],[0.6666666666666666,\"#ed7953\"],[0.7777777777777778,\"#fb9f3a\"],[0.8888888888888888,\"#fdca26\"],[1.0,\"#f0f921\"]],\"diverging\":[[0,\"#8e0152\"],[0.1,\"#c51b7d\"],[0.2,\"#de77ae\"],[0.3,\"#f1b6da\"],[0.4,\"#fde0ef\"],[0.5,\"#f7f7f7\"],[0.6,\"#e6f5d0\"],[0.7,\"#b8e186\"],[0.8,\"#7fbc41\"],[0.9,\"#4d9221\"],[1,\"#276419\"]]},\"xaxis\":{\"gridcolor\":\"white\",\"linecolor\":\"white\",\"ticks\":\"\",\"title\":{\"standoff\":15},\"zerolinecolor\":\"white\",\"automargin\":true,\"zerolinewidth\":2},\"yaxis\":{\"gridcolor\":\"white\",\"linecolor\":\"white\",\"ticks\":\"\",\"title\":{\"standoff\":15},\"zerolinecolor\":\"white\",\"automargin\":true,\"zerolinewidth\":2},\"scene\":{\"xaxis\":{\"backgroundcolor\":\"#E5ECF6\",\"gridcolor\":\"white\",\"linecolor\":\"white\",\"showbackground\":true,\"ticks\":\"\",\"zerolinecolor\":\"white\",\"gridwidth\":2},\"yaxis\":{\"backgroundcolor\":\"#E5ECF6\",\"gridcolor\":\"white\",\"linecolor\":\"white\",\"showbackground\":true,\"ticks\":\"\",\"zerolinecolor\":\"white\",\"gridwidth\":2},\"zaxis\":{\"backgroundcolor\":\"#E5ECF6\",\"gridcolor\":\"white\",\"linecolor\":\"white\",\"showbackground\":true,\"ticks\":\"\",\"zerolinecolor\":\"white\",\"gridwidth\":2}},\"shapedefaults\":{\"line\":{\"color\":\"#2a3f5f\"}},\"annotationdefaults\":{\"arrowcolor\":\"#2a3f5f\",\"arrowhead\":0,\"arrowwidth\":1},\"geo\":{\"bgcolor\":\"white\",\"landcolor\":\"#E5ECF6\",\"subunitcolor\":\"white\",\"showland\":true,\"showlakes\":true,\"lakecolor\":\"white\"},\"title\":{\"x\":0.05},\"mapbox\":{\"style\":\"light\"}}},\"xaxis\":{\"anchor\":\"y\",\"domain\":[0.0,1.0],\"title\":{\"text\":\"tree_count\"}},\"yaxis\":{\"anchor\":\"x\",\"domain\":[0.0,1.0],\"title\":{\"text\":\"placering\"},\"categoryorder\":\"total ascending\"},\"legend\":{\"title\":{\"text\":\"prediction\"},\"tracegroupgap\":0},\"title\":{\"text\":\"Placering\"},\"barmode\":\"stack\"},                        {\"responsive\": true}                    ).then(function(){\n",
       "                            \n",
       "var gd = document.getElementById('15a8beca-ba25-4c64-b4ae-0f6eec403c59');\n",
       "var x = new MutationObserver(function (mutations, observer) {{\n",
       "        var display = window.getComputedStyle(gd).display;\n",
       "        if (!display || display === 'none') {{\n",
       "            console.log([gd, 'removed!']);\n",
       "            Plotly.purge(gd);\n",
       "            observer.disconnect();\n",
       "        }}\n",
       "}});\n",
       "\n",
       "// Listen for the removal of the full notebook cells\n",
       "var notebookContainer = gd.closest('#notebook-container');\n",
       "if (notebookContainer) {{\n",
       "    x.observe(notebookContainer, {childList: true});\n",
       "}}\n",
       "\n",
       "// Listen for the clearing of the current output cell\n",
       "var outputEl = gd.closest('.output');\n",
       "if (outputEl) {{\n",
       "    x.observe(outputEl, {childList: true});\n",
       "}}\n",
       "\n",
       "                        })                };                });            </script>        </div>"
      ]
     },
     "metadata": {},
     "output_type": "display_data"
    }
   ],
   "source": [
    "#Plotting the placement feature\n",
    "fig = px.bar(test_trees, x=test_trees.tree_count, y=test_trees.placering, color=\"prediction\", title=\"Placering\")\n",
    "fig.update_layout(barmode='stack', yaxis={'categoryorder':'total ascending'})\n",
    "fig.show()"
   ]
  },
  {
   "cell_type": "code",
   "execution_count": 68,
   "id": "8980ad20",
   "metadata": {
    "scrolled": false
   },
   "outputs": [
    {
     "data": {
      "application/vnd.plotly.v1+json": {
       "config": {
        "plotlyServerURL": "https://plot.ly"
       },
       "data": [
        {
         "alignmentgroup": "True",
         "hovertemplate": "prediction=tp<br>tree_count=%{x}<br>bydelsnavn=%{y}<extra></extra>",
         "legendgroup": "tp",
         "marker": {
          "color": "#636efa",
          "pattern": {
           "shape": ""
          }
         },
         "name": "tp",
         "offsetgroup": "tp",
         "orientation": "h",
         "showlegend": true,
         "textposition": "auto",
         "type": "bar",
         "x": [
          4,
          2,
          1,
          8,
          11,
          3,
          2,
          4,
          1,
          2,
          2,
          2,
          1,
          4,
          16,
          3,
          2,
          3,
          1,
          6,
          4,
          3,
          14,
          6,
          1,
          3,
          7,
          6,
          3,
          4,
          2,
          4,
          3,
          6,
          3,
          11,
          7,
          1,
          2,
          1,
          2,
          2,
          4,
          1,
          2,
          5,
          2,
          17,
          3,
          2,
          5,
          4,
          1,
          4,
          1,
          5,
          2,
          1,
          2,
          1,
          1,
          1,
          1,
          9,
          5,
          4,
          1,
          2,
          1,
          1,
          3,
          2,
          2,
          4,
          3,
          1,
          1,
          2,
          6,
          1,
          1,
          1,
          4,
          1,
          8,
          1,
          1,
          2,
          3,
          2,
          1,
          1,
          17,
          1,
          1,
          1,
          3,
          1,
          2,
          6,
          2,
          1,
          1,
          1,
          1,
          2,
          1,
          6,
          1,
          1,
          1,
          1,
          4,
          16,
          2,
          5,
          5,
          2,
          4,
          4,
          2,
          1,
          1,
          1,
          1,
          3,
          2,
          1,
          1,
          2,
          1,
          1,
          3,
          1,
          1,
          1,
          4,
          2,
          5,
          2,
          1,
          6,
          1,
          2,
          7,
          6,
          7,
          1,
          1,
          1,
          2,
          4,
          2,
          1,
          2,
          4,
          2,
          4,
          5,
          1,
          2,
          5,
          4,
          2,
          1,
          1,
          11,
          2,
          3,
          10,
          1,
          2,
          6,
          1,
          1,
          4,
          1,
          1,
          2,
          2,
          3,
          1,
          1,
          1,
          3,
          2,
          1,
          35,
          1,
          4,
          1,
          1,
          2,
          2,
          7,
          2,
          1,
          1,
          1,
          1,
          1,
          4,
          6,
          2,
          3,
          1,
          1,
          6,
          8,
          3,
          3,
          3,
          1,
          3,
          1,
          8,
          1,
          4,
          16,
          2,
          2,
          1,
          1,
          1,
          1,
          2,
          1,
          6,
          2,
          1,
          5,
          5,
          1,
          1,
          4,
          2,
          3,
          3,
          7,
          1,
          1,
          1,
          2,
          1,
          4,
          4,
          1,
          3,
          3,
          3,
          1,
          5,
          1,
          3,
          1,
          4,
          1,
          4,
          1,
          3,
          3,
          1,
          1,
          4,
          1,
          6,
          16,
          4,
          12,
          1,
          1,
          5,
          2,
          4,
          3,
          2,
          4,
          2,
          2,
          10,
          12,
          13,
          4,
          4,
          9,
          4,
          4,
          2,
          4,
          1,
          1,
          4,
          2,
          3,
          3,
          7,
          3,
          1,
          1,
          1,
          1,
          4,
          3,
          9,
          6,
          1,
          1,
          3,
          1,
          3,
          3,
          1,
          2,
          6,
          5,
          1,
          2,
          5,
          9,
          1,
          1,
          1,
          1,
          2,
          3,
          3,
          1,
          12,
          1,
          1,
          1,
          1,
          1,
          4,
          4,
          11,
          1,
          1,
          1,
          1,
          1,
          2,
          6,
          6,
          1,
          1,
          1,
          1,
          1,
          2,
          5,
          2,
          1,
          1,
          1,
          4,
          3,
          4,
          3,
          11,
          1,
          1,
          6,
          1,
          11,
          2,
          7,
          1,
          1,
          1,
          1,
          1,
          4,
          1,
          8,
          1,
          1,
          3,
          1,
          2,
          1,
          2,
          1,
          2,
          1,
          2,
          1,
          1,
          1,
          3,
          3,
          4,
          4,
          5,
          6,
          6,
          3,
          10,
          14,
          1,
          1,
          2,
          6,
          1,
          1,
          1,
          2,
          3,
          7,
          2,
          4,
          1,
          2,
          6,
          6,
          1,
          1,
          4,
          2,
          1,
          1,
          2,
          2,
          1,
          3,
          7,
          5,
          1,
          1,
          1,
          1,
          24,
          1,
          1,
          1,
          2,
          1,
          1,
          1,
          1,
          4,
          5,
          2,
          6,
          1,
          3,
          1,
          23,
          1,
          2,
          2,
          1,
          1,
          2,
          4,
          1,
          3,
          2,
          1
         ],
         "xaxis": "x",
         "y": [
          "Vesterbro-Kongens Enghave",
          "Indre By",
          "Indre By",
          "Indre By",
          "Indre By",
          "Valby",
          "Amager Øst",
          "Vesterbro-Kongens Enghave",
          "Nørrebro",
          "Amager Vest",
          "Østerbro",
          "Indre By",
          "Bispebjerg",
          "Indre By",
          "Valby",
          "Amager Øst",
          "Østerbro",
          "Vesterbro-Kongens Enghave",
          "Nørrebro",
          "Nørrebro",
          "Østerbro",
          "Amager Vest",
          "Vesterbro-Kongens Enghave",
          "Amager Øst",
          "Østerbro",
          "Østerbro",
          "Østerbro",
          "Brønshøj-Husum",
          "Indre By",
          "Nørrebro",
          "Amager Vest",
          "Indre By",
          "Valby",
          "Valby",
          "Østerbro",
          "Indre By",
          "Valby",
          "Indre By",
          "Indre By",
          "Nørrebro",
          "Østerbro",
          "Vesterbro-Kongens Enghave",
          "Valby",
          "Indre By",
          "Indre By",
          "Nørrebro",
          "Vesterbro-Kongens Enghave",
          "Nørrebro",
          "Vanløse",
          "Brønshøj-Husum",
          "Amager Vest",
          "Vesterbro-Kongens Enghave",
          "Bispebjerg",
          "Indre By",
          "Østerbro",
          "Nørrebro",
          "Indre By",
          "Bispebjerg",
          "Østerbro",
          "Bispebjerg",
          "Østerbro",
          "Nørrebro",
          "Vesterbro-Kongens Enghave",
          "Nørrebro",
          "Amager Øst",
          "Østerbro",
          "Amager Vest",
          "Østerbro",
          "Amager Vest",
          "Nørrebro",
          "Bispebjerg",
          "Nørrebro",
          "Indre By",
          "Indre By",
          "Indre By",
          "Indre By",
          "Valby",
          "Amager Øst",
          "Valby",
          "Østerbro",
          "Indre By",
          "Østerbro",
          "Østerbro",
          "Amager Vest",
          "Nørrebro",
          "Vanløse",
          "Østerbro",
          "Nørrebro",
          "Østerbro",
          "Amager Vest",
          "Amager Vest",
          "Amager Vest",
          "Indre By",
          "Amager Øst",
          "Amager Vest",
          "Amager Vest",
          "Østerbro",
          "Østerbro",
          "Nørrebro",
          "Nørrebro",
          "Brønshøj-Husum",
          "Amager Øst",
          "Amager Øst",
          "Vanløse",
          "Bispebjerg",
          "Indre By",
          "Vesterbro-Kongens Enghave",
          "Brønshøj-Husum",
          "Østerbro",
          "Nørrebro",
          "Indre By",
          "Vesterbro-Kongens Enghave",
          "Vanløse",
          "Vesterbro-Kongens Enghave",
          "Indre By",
          "Nørrebro",
          "Vesterbro-Kongens Enghave",
          "Valby",
          "Indre By",
          "Amager Vest",
          "Vesterbro-Kongens Enghave",
          "Østerbro",
          "Bispebjerg",
          "Nørrebro",
          "Brønshøj-Husum",
          "Vanløse",
          "Nørrebro",
          "Østerbro",
          "Østerbro",
          "Østerbro",
          "Amager Vest",
          "Amager Vest",
          "Bispebjerg",
          "Nørrebro",
          "Østerbro",
          "Vanløse",
          "Brønshøj-Husum",
          "Nørrebro",
          "Nørrebro",
          "Østerbro",
          "Valby",
          "Vanløse",
          "Indre By",
          "Nørrebro",
          "Bispebjerg",
          "Vesterbro-Kongens Enghave",
          "Indre By",
          "Brønshøj-Husum",
          "Nørrebro",
          "Amager Øst",
          "Nørrebro",
          "Østerbro",
          "Vanløse",
          "Amager Øst",
          "Amager Øst",
          "Østerbro",
          "Vesterbro-Kongens Enghave",
          "Vesterbro-Kongens Enghave",
          "Østerbro",
          "Brønshøj-Husum",
          "Bispebjerg",
          "Amager Vest",
          "Brønshøj-Husum",
          "Nørrebro",
          "Indre By",
          "Bispebjerg",
          "Nørrebro",
          "Indre By",
          "Vanløse",
          "Nørrebro",
          "Vanløse",
          "Østerbro",
          "Amager Vest",
          "Amager Øst",
          "Amager Vest",
          "Amager Øst",
          "Østerbro",
          "Nørrebro",
          "Østerbro",
          "Amager Vest",
          "Vesterbro-Kongens Enghave",
          "Østerbro",
          "Amager Øst",
          "Vesterbro-Kongens Enghave",
          "Østerbro",
          "Amager Øst",
          "Amager Vest",
          "Amager Vest",
          "Nørrebro",
          "Amager Vest",
          "Bispebjerg",
          "Valby",
          "Valby",
          "Bispebjerg",
          "Nørrebro",
          "Vanløse",
          "Vanløse",
          "Indre By",
          "Valby",
          "Indre By",
          "Amager Vest",
          "Nørrebro",
          "Amager Øst",
          "Amager Øst",
          "Østerbro",
          "Vesterbro-Kongens Enghave",
          "Amager Øst",
          "Amager Øst",
          "Vesterbro-Kongens Enghave",
          "Amager Vest",
          "Nørrebro",
          "Indre By",
          "Valby",
          "Amager Vest",
          "Valby",
          "Østerbro",
          "Indre By",
          "Nørrebro",
          "Amager Øst",
          "Vanløse",
          "Østerbro",
          "Østerbro",
          "Bispebjerg",
          "Amager Vest",
          "Indre By",
          "Vesterbro-Kongens Enghave",
          "Indre By",
          "Vanløse",
          "Østerbro",
          "Amager Vest",
          "Østerbro",
          "Nørrebro",
          "Amager Øst",
          "Nørrebro",
          "Vanløse",
          "Vesterbro-Kongens Enghave",
          "Indre By",
          "Bispebjerg",
          "Valby",
          "Amager Øst",
          "Vesterbro-Kongens Enghave",
          "Østerbro",
          "Østerbro",
          "Amager Vest",
          "Indre By",
          "Valby",
          "Indre By",
          "Nørrebro",
          "Vesterbro-Kongens Enghave",
          "Vesterbro-Kongens Enghave",
          "Vanløse",
          "Nørrebro",
          "Vesterbro-Kongens Enghave",
          "Indre By",
          "Valby",
          "Vanløse",
          "Valby",
          "Indre By",
          "Vanløse",
          "Indre By",
          "Nørrebro",
          "Vesterbro-Kongens Enghave",
          "Indre By",
          "Nørrebro",
          "Vesterbro-Kongens Enghave",
          "Brønshøj-Husum",
          "Vesterbro-Kongens Enghave",
          "Vesterbro-Kongens Enghave",
          "Østerbro",
          "Østerbro",
          "Østerbro",
          "Amager Øst",
          "Amager Vest",
          "Indre By",
          "Østerbro",
          "Vesterbro-Kongens Enghave",
          "Indre By",
          "Valby",
          "Indre By",
          "Valby",
          "Vanløse",
          "Nørrebro",
          "Indre By",
          "Nørrebro",
          "Østerbro",
          "Bispebjerg",
          "Indre By",
          "Indre By",
          "Vesterbro-Kongens Enghave",
          "Vanløse",
          "Østerbro",
          "Vesterbro-Kongens Enghave",
          "Østerbro",
          "Nørrebro",
          "Østerbro",
          "Østerbro",
          "Østerbro",
          "Vanløse",
          "Indre By",
          "Østerbro",
          "Indre By",
          "Bispebjerg",
          "Indre By",
          "Vanløse",
          "Valby",
          "Vesterbro-Kongens Enghave",
          "Amager Vest",
          "Nørrebro",
          "Amager Øst",
          "Indre By",
          "Indre By",
          "Vesterbro-Kongens Enghave",
          "Brønshøj-Husum",
          "Valby",
          "Østerbro",
          "Indre By",
          "Østerbro",
          "Østerbro",
          "Østerbro",
          "Bispebjerg",
          "Nørrebro",
          "Østerbro",
          "Nørrebro",
          "Amager Øst",
          "Indre By",
          "Indre By",
          "Østerbro",
          "Østerbro",
          "Valby",
          "Vanløse",
          "Østerbro",
          "Vesterbro-Kongens Enghave",
          "Valby",
          "Østerbro",
          "Østerbro",
          "Nørrebro",
          "Vanløse",
          "Østerbro",
          "Vanløse",
          "Vesterbro-Kongens Enghave",
          "Østerbro",
          "Østerbro",
          "Amager Vest",
          "Indre By",
          "Amager Vest",
          "Amager Vest",
          "Amager Øst",
          "Amager Øst",
          "Vesterbro-Kongens Enghave",
          "Østerbro",
          "Valby",
          "Vesterbro-Kongens Enghave",
          "Amager Øst",
          "Brønshøj-Husum",
          "Indre By",
          "Amager Øst",
          "Amager Vest",
          "Vesterbro-Kongens Enghave",
          "Amager Vest",
          "Amager Vest",
          "Østerbro",
          "Bispebjerg",
          "Nørrebro",
          "Vanløse",
          "Østerbro",
          "Østerbro",
          "Amager Øst",
          "Amager Øst",
          "Østerbro",
          "Indre By",
          "Nørrebro",
          "Østerbro",
          "Østerbro",
          "Amager Øst",
          "Vesterbro-Kongens Enghave",
          "Østerbro",
          "Nørrebro",
          "Østerbro",
          "Østerbro",
          "Vesterbro-Kongens Enghave",
          "Nørrebro",
          "Amager Øst",
          "Vesterbro-Kongens Enghave",
          "Valby",
          "Valby",
          "Amager Vest",
          "Nørrebro",
          "Brønshøj-Husum",
          "Nørrebro",
          "Amager Vest",
          "Amager Vest",
          "Nørrebro",
          "Indre By",
          "Vanløse",
          "Amager Vest",
          "Østerbro",
          "Østerbro",
          "Østerbro",
          "Valby",
          "Indre By",
          "Amager Øst",
          "Valby",
          "Østerbro",
          "Vanløse",
          "Vanløse",
          "Amager Vest",
          "Amager Vest",
          "Østerbro",
          "Vesterbro-Kongens Enghave",
          "Valby",
          "Bispebjerg",
          "Vesterbro-Kongens Enghave",
          "Nørrebro",
          "Vesterbro-Kongens Enghave",
          "Vesterbro-Kongens Enghave",
          "Vesterbro-Kongens Enghave",
          "Nørrebro",
          "Amager Øst",
          "Amager Vest",
          "Amager Øst",
          "Valby",
          "Østerbro",
          "Amager Vest",
          "Valby",
          "Valby",
          "Amager Øst",
          "Indre By",
          "Nørrebro",
          "Bispebjerg",
          "Amager Øst",
          "Valby",
          "Valby",
          "Indre By",
          "Nørrebro",
          "Nørrebro",
          "Vesterbro-Kongens Enghave",
          "Valby",
          "Nørrebro",
          "Vesterbro-Kongens Enghave",
          "Østerbro",
          "Vanløse",
          "Indre By",
          "Nørrebro",
          "Nørrebro",
          "Amager Øst",
          "Nørrebro",
          "Bispebjerg",
          "Østerbro",
          "Nørrebro",
          "Østerbro",
          "Bispebjerg",
          "Indre By",
          "Amager Øst",
          "Amager Vest",
          "Østerbro",
          "Valby",
          "Vesterbro-Kongens Enghave",
          "Østerbro",
          "Østerbro"
         ],
         "yaxis": "y"
        },
        {
         "alignmentgroup": "True",
         "hovertemplate": "prediction=fn<br>tree_count=%{x}<br>bydelsnavn=%{y}<extra></extra>",
         "legendgroup": "fn",
         "marker": {
          "color": "#EF553B",
          "pattern": {
           "shape": ""
          }
         },
         "name": "fn",
         "offsetgroup": "fn",
         "orientation": "h",
         "showlegend": true,
         "textposition": "auto",
         "type": "bar",
         "x": [
          1,
          1,
          12,
          1,
          5,
          1,
          4,
          4,
          1,
          4,
          1,
          1,
          1,
          1,
          5,
          1,
          1,
          1,
          1,
          1,
          1,
          1,
          3,
          2,
          1,
          2,
          2,
          1,
          12,
          2,
          1,
          1,
          2,
          1,
          3,
          14,
          1,
          19,
          2,
          1,
          1,
          1,
          1,
          1,
          1,
          1,
          1,
          2,
          4,
          1,
          2,
          1,
          2,
          1,
          3,
          4,
          1,
          1,
          2,
          1,
          1,
          1,
          4,
          5,
          1,
          4,
          1,
          1,
          1,
          1,
          4,
          10,
          1,
          2,
          3,
          1,
          1,
          1,
          1,
          1,
          1,
          1,
          1,
          3,
          1,
          3,
          2,
          1,
          18,
          1,
          1,
          1,
          1,
          3,
          1,
          1,
          1,
          2,
          2,
          1,
          1,
          5,
          1,
          1,
          10,
          1,
          1,
          1,
          1,
          1,
          1,
          2,
          1,
          4,
          1,
          3,
          1,
          1,
          1,
          2,
          1,
          1,
          1,
          2,
          10,
          1,
          7,
          1,
          1,
          1,
          5,
          2,
          1,
          15,
          1,
          4,
          1,
          2,
          1,
          1,
          1,
          5,
          2,
          1,
          1,
          1,
          2,
          1,
          4,
          1,
          1,
          3,
          1,
          3,
          1,
          1,
          10,
          4,
          2,
          2,
          2,
          4,
          2,
          1,
          1,
          1,
          1,
          1,
          1,
          3,
          4,
          1,
          3,
          1,
          4,
          1,
          2,
          1,
          4,
          1,
          1,
          7,
          1,
          16,
          1,
          1,
          25,
          1,
          2,
          5,
          11,
          1,
          2,
          3,
          2,
          1,
          2
         ],
         "xaxis": "x",
         "y": [
          "Nørrebro",
          "Østerbro",
          "Østerbro",
          "Amager Vest",
          "Bispebjerg",
          "Vesterbro-Kongens Enghave",
          "Valby",
          "Amager Vest",
          "Brønshøj-Husum",
          "Vanløse",
          "Valby",
          "Amager Vest",
          "Østerbro",
          "Indre By",
          "Indre By",
          "Amager Vest",
          "Østerbro",
          "Nørrebro",
          "Valby",
          "Østerbro",
          "Vanløse",
          "Bispebjerg",
          "Indre By",
          "Amager Vest",
          "Indre By",
          "Valby",
          "Brønshøj-Husum",
          "Østerbro",
          "Valby",
          "Bispebjerg",
          "Nørrebro",
          "Valby",
          "Valby",
          "Vanløse",
          "Indre By",
          "Østerbro",
          "Vanløse",
          "Valby",
          "Amager Øst",
          "Bispebjerg",
          "Amager Vest",
          "Østerbro",
          "Valby",
          "Indre By",
          "Vesterbro-Kongens Enghave",
          "Indre By",
          "Amager Vest",
          "Østerbro",
          "Valby",
          "Valby",
          "Indre By",
          "Brønshøj-Husum",
          "Valby",
          "Vanløse",
          "Indre By",
          "Nørrebro",
          "Bispebjerg",
          "Indre By",
          "Vesterbro-Kongens Enghave",
          "Brønshøj-Husum",
          "Amager Øst",
          "Valby",
          "Østerbro",
          "Bispebjerg",
          "Østerbro",
          "Vesterbro-Kongens Enghave",
          "Østerbro",
          "Indre By",
          "Brønshøj-Husum",
          "Valby",
          "Østerbro",
          "Vanløse",
          "Østerbro",
          "Bispebjerg",
          "Vesterbro-Kongens Enghave",
          "Vesterbro-Kongens Enghave",
          "Amager Vest",
          "Brønshøj-Husum",
          "Østerbro",
          "Indre By",
          "Nørrebro",
          "Østerbro",
          "Vesterbro-Kongens Enghave",
          "Valby",
          "Østerbro",
          "Amager Øst",
          "Indre By",
          "Østerbro",
          "Indre By",
          "Nørrebro",
          "Vesterbro-Kongens Enghave",
          "Amager Vest",
          "Østerbro",
          "Amager Øst",
          "Nørrebro",
          "Vanløse",
          "Amager Vest",
          "Bispebjerg",
          "Nørrebro",
          "Vesterbro-Kongens Enghave",
          "Brønshøj-Husum",
          "Valby",
          "Vanløse",
          "Indre By",
          "Amager Vest",
          "Brønshøj-Husum",
          "Vesterbro-Kongens Enghave",
          "Vanløse",
          "Indre By",
          "Amager Vest",
          "Nørrebro",
          "Østerbro",
          "Amager Vest",
          "Indre By",
          "Nørrebro",
          "Nørrebro",
          "Østerbro",
          "Nørrebro",
          "Brønshøj-Husum",
          "Valby",
          "Indre By",
          "Amager Øst",
          "Valby",
          "Amager Vest",
          "Bispebjerg",
          "Brønshøj-Husum",
          "Amager Vest",
          "Amager Vest",
          "Østerbro",
          "Indre By",
          "Indre By",
          "Østerbro",
          "Indre By",
          "Vanløse",
          "Brønshøj-Husum",
          "Bispebjerg",
          "Østerbro",
          "Bispebjerg",
          "Østerbro",
          "Indre By",
          "Amager Vest",
          "Nørrebro",
          "Vesterbro-Kongens Enghave",
          "Nørrebro",
          "Bispebjerg",
          "Brønshøj-Husum",
          "Valby",
          "Østerbro",
          "Brønshøj-Husum",
          "Amager Vest",
          "Vanløse",
          "Indre By",
          "Brønshøj-Husum",
          "Amager Øst",
          "Vanløse",
          "Nørrebro",
          "Amager Vest",
          "Indre By",
          "Vesterbro-Kongens Enghave",
          "Amager Vest",
          "Indre By",
          "Brønshøj-Husum",
          "Østerbro",
          "Amager Vest",
          "Vesterbro-Kongens Enghave",
          "Valby",
          "Østerbro",
          "Indre By",
          "Bispebjerg",
          "Vesterbro-Kongens Enghave",
          "Bispebjerg",
          "Nørrebro",
          "Indre By",
          "Østerbro",
          "Amager Øst",
          "Indre By",
          "Brønshøj-Husum",
          "Østerbro",
          "Østerbro",
          "Østerbro",
          "Indre By",
          "Indre By",
          "Østerbro",
          "Vanløse",
          "Indre By",
          "Indre By",
          "Brønshøj-Husum",
          "Vesterbro-Kongens Enghave",
          "Brønshøj-Husum",
          "Valby",
          "Amager Vest",
          "Østerbro",
          "Indre By",
          "Amager Øst",
          "Amager Vest",
          "Østerbro",
          "Vanløse"
         ],
         "yaxis": "y"
        }
       ],
       "layout": {
        "barmode": "stack",
        "legend": {
         "title": {
          "text": "prediction"
         },
         "tracegroupgap": 0
        },
        "template": {
         "data": {
          "bar": [
           {
            "error_x": {
             "color": "#2a3f5f"
            },
            "error_y": {
             "color": "#2a3f5f"
            },
            "marker": {
             "line": {
              "color": "#E5ECF6",
              "width": 0.5
             },
             "pattern": {
              "fillmode": "overlay",
              "size": 10,
              "solidity": 0.2
             }
            },
            "type": "bar"
           }
          ],
          "barpolar": [
           {
            "marker": {
             "line": {
              "color": "#E5ECF6",
              "width": 0.5
             },
             "pattern": {
              "fillmode": "overlay",
              "size": 10,
              "solidity": 0.2
             }
            },
            "type": "barpolar"
           }
          ],
          "carpet": [
           {
            "aaxis": {
             "endlinecolor": "#2a3f5f",
             "gridcolor": "white",
             "linecolor": "white",
             "minorgridcolor": "white",
             "startlinecolor": "#2a3f5f"
            },
            "baxis": {
             "endlinecolor": "#2a3f5f",
             "gridcolor": "white",
             "linecolor": "white",
             "minorgridcolor": "white",
             "startlinecolor": "#2a3f5f"
            },
            "type": "carpet"
           }
          ],
          "choropleth": [
           {
            "colorbar": {
             "outlinewidth": 0,
             "ticks": ""
            },
            "type": "choropleth"
           }
          ],
          "contour": [
           {
            "colorbar": {
             "outlinewidth": 0,
             "ticks": ""
            },
            "colorscale": [
             [
              0,
              "#0d0887"
             ],
             [
              0.1111111111111111,
              "#46039f"
             ],
             [
              0.2222222222222222,
              "#7201a8"
             ],
             [
              0.3333333333333333,
              "#9c179e"
             ],
             [
              0.4444444444444444,
              "#bd3786"
             ],
             [
              0.5555555555555556,
              "#d8576b"
             ],
             [
              0.6666666666666666,
              "#ed7953"
             ],
             [
              0.7777777777777778,
              "#fb9f3a"
             ],
             [
              0.8888888888888888,
              "#fdca26"
             ],
             [
              1,
              "#f0f921"
             ]
            ],
            "type": "contour"
           }
          ],
          "contourcarpet": [
           {
            "colorbar": {
             "outlinewidth": 0,
             "ticks": ""
            },
            "type": "contourcarpet"
           }
          ],
          "heatmap": [
           {
            "colorbar": {
             "outlinewidth": 0,
             "ticks": ""
            },
            "colorscale": [
             [
              0,
              "#0d0887"
             ],
             [
              0.1111111111111111,
              "#46039f"
             ],
             [
              0.2222222222222222,
              "#7201a8"
             ],
             [
              0.3333333333333333,
              "#9c179e"
             ],
             [
              0.4444444444444444,
              "#bd3786"
             ],
             [
              0.5555555555555556,
              "#d8576b"
             ],
             [
              0.6666666666666666,
              "#ed7953"
             ],
             [
              0.7777777777777778,
              "#fb9f3a"
             ],
             [
              0.8888888888888888,
              "#fdca26"
             ],
             [
              1,
              "#f0f921"
             ]
            ],
            "type": "heatmap"
           }
          ],
          "heatmapgl": [
           {
            "colorbar": {
             "outlinewidth": 0,
             "ticks": ""
            },
            "colorscale": [
             [
              0,
              "#0d0887"
             ],
             [
              0.1111111111111111,
              "#46039f"
             ],
             [
              0.2222222222222222,
              "#7201a8"
             ],
             [
              0.3333333333333333,
              "#9c179e"
             ],
             [
              0.4444444444444444,
              "#bd3786"
             ],
             [
              0.5555555555555556,
              "#d8576b"
             ],
             [
              0.6666666666666666,
              "#ed7953"
             ],
             [
              0.7777777777777778,
              "#fb9f3a"
             ],
             [
              0.8888888888888888,
              "#fdca26"
             ],
             [
              1,
              "#f0f921"
             ]
            ],
            "type": "heatmapgl"
           }
          ],
          "histogram": [
           {
            "marker": {
             "pattern": {
              "fillmode": "overlay",
              "size": 10,
              "solidity": 0.2
             }
            },
            "type": "histogram"
           }
          ],
          "histogram2d": [
           {
            "colorbar": {
             "outlinewidth": 0,
             "ticks": ""
            },
            "colorscale": [
             [
              0,
              "#0d0887"
             ],
             [
              0.1111111111111111,
              "#46039f"
             ],
             [
              0.2222222222222222,
              "#7201a8"
             ],
             [
              0.3333333333333333,
              "#9c179e"
             ],
             [
              0.4444444444444444,
              "#bd3786"
             ],
             [
              0.5555555555555556,
              "#d8576b"
             ],
             [
              0.6666666666666666,
              "#ed7953"
             ],
             [
              0.7777777777777778,
              "#fb9f3a"
             ],
             [
              0.8888888888888888,
              "#fdca26"
             ],
             [
              1,
              "#f0f921"
             ]
            ],
            "type": "histogram2d"
           }
          ],
          "histogram2dcontour": [
           {
            "colorbar": {
             "outlinewidth": 0,
             "ticks": ""
            },
            "colorscale": [
             [
              0,
              "#0d0887"
             ],
             [
              0.1111111111111111,
              "#46039f"
             ],
             [
              0.2222222222222222,
              "#7201a8"
             ],
             [
              0.3333333333333333,
              "#9c179e"
             ],
             [
              0.4444444444444444,
              "#bd3786"
             ],
             [
              0.5555555555555556,
              "#d8576b"
             ],
             [
              0.6666666666666666,
              "#ed7953"
             ],
             [
              0.7777777777777778,
              "#fb9f3a"
             ],
             [
              0.8888888888888888,
              "#fdca26"
             ],
             [
              1,
              "#f0f921"
             ]
            ],
            "type": "histogram2dcontour"
           }
          ],
          "mesh3d": [
           {
            "colorbar": {
             "outlinewidth": 0,
             "ticks": ""
            },
            "type": "mesh3d"
           }
          ],
          "parcoords": [
           {
            "line": {
             "colorbar": {
              "outlinewidth": 0,
              "ticks": ""
             }
            },
            "type": "parcoords"
           }
          ],
          "pie": [
           {
            "automargin": true,
            "type": "pie"
           }
          ],
          "scatter": [
           {
            "fillpattern": {
             "fillmode": "overlay",
             "size": 10,
             "solidity": 0.2
            },
            "type": "scatter"
           }
          ],
          "scatter3d": [
           {
            "line": {
             "colorbar": {
              "outlinewidth": 0,
              "ticks": ""
             }
            },
            "marker": {
             "colorbar": {
              "outlinewidth": 0,
              "ticks": ""
             }
            },
            "type": "scatter3d"
           }
          ],
          "scattercarpet": [
           {
            "marker": {
             "colorbar": {
              "outlinewidth": 0,
              "ticks": ""
             }
            },
            "type": "scattercarpet"
           }
          ],
          "scattergeo": [
           {
            "marker": {
             "colorbar": {
              "outlinewidth": 0,
              "ticks": ""
             }
            },
            "type": "scattergeo"
           }
          ],
          "scattergl": [
           {
            "marker": {
             "colorbar": {
              "outlinewidth": 0,
              "ticks": ""
             }
            },
            "type": "scattergl"
           }
          ],
          "scattermapbox": [
           {
            "marker": {
             "colorbar": {
              "outlinewidth": 0,
              "ticks": ""
             }
            },
            "type": "scattermapbox"
           }
          ],
          "scatterpolar": [
           {
            "marker": {
             "colorbar": {
              "outlinewidth": 0,
              "ticks": ""
             }
            },
            "type": "scatterpolar"
           }
          ],
          "scatterpolargl": [
           {
            "marker": {
             "colorbar": {
              "outlinewidth": 0,
              "ticks": ""
             }
            },
            "type": "scatterpolargl"
           }
          ],
          "scatterternary": [
           {
            "marker": {
             "colorbar": {
              "outlinewidth": 0,
              "ticks": ""
             }
            },
            "type": "scatterternary"
           }
          ],
          "surface": [
           {
            "colorbar": {
             "outlinewidth": 0,
             "ticks": ""
            },
            "colorscale": [
             [
              0,
              "#0d0887"
             ],
             [
              0.1111111111111111,
              "#46039f"
             ],
             [
              0.2222222222222222,
              "#7201a8"
             ],
             [
              0.3333333333333333,
              "#9c179e"
             ],
             [
              0.4444444444444444,
              "#bd3786"
             ],
             [
              0.5555555555555556,
              "#d8576b"
             ],
             [
              0.6666666666666666,
              "#ed7953"
             ],
             [
              0.7777777777777778,
              "#fb9f3a"
             ],
             [
              0.8888888888888888,
              "#fdca26"
             ],
             [
              1,
              "#f0f921"
             ]
            ],
            "type": "surface"
           }
          ],
          "table": [
           {
            "cells": {
             "fill": {
              "color": "#EBF0F8"
             },
             "line": {
              "color": "white"
             }
            },
            "header": {
             "fill": {
              "color": "#C8D4E3"
             },
             "line": {
              "color": "white"
             }
            },
            "type": "table"
           }
          ]
         },
         "layout": {
          "annotationdefaults": {
           "arrowcolor": "#2a3f5f",
           "arrowhead": 0,
           "arrowwidth": 1
          },
          "autotypenumbers": "strict",
          "coloraxis": {
           "colorbar": {
            "outlinewidth": 0,
            "ticks": ""
           }
          },
          "colorscale": {
           "diverging": [
            [
             0,
             "#8e0152"
            ],
            [
             0.1,
             "#c51b7d"
            ],
            [
             0.2,
             "#de77ae"
            ],
            [
             0.3,
             "#f1b6da"
            ],
            [
             0.4,
             "#fde0ef"
            ],
            [
             0.5,
             "#f7f7f7"
            ],
            [
             0.6,
             "#e6f5d0"
            ],
            [
             0.7,
             "#b8e186"
            ],
            [
             0.8,
             "#7fbc41"
            ],
            [
             0.9,
             "#4d9221"
            ],
            [
             1,
             "#276419"
            ]
           ],
           "sequential": [
            [
             0,
             "#0d0887"
            ],
            [
             0.1111111111111111,
             "#46039f"
            ],
            [
             0.2222222222222222,
             "#7201a8"
            ],
            [
             0.3333333333333333,
             "#9c179e"
            ],
            [
             0.4444444444444444,
             "#bd3786"
            ],
            [
             0.5555555555555556,
             "#d8576b"
            ],
            [
             0.6666666666666666,
             "#ed7953"
            ],
            [
             0.7777777777777778,
             "#fb9f3a"
            ],
            [
             0.8888888888888888,
             "#fdca26"
            ],
            [
             1,
             "#f0f921"
            ]
           ],
           "sequentialminus": [
            [
             0,
             "#0d0887"
            ],
            [
             0.1111111111111111,
             "#46039f"
            ],
            [
             0.2222222222222222,
             "#7201a8"
            ],
            [
             0.3333333333333333,
             "#9c179e"
            ],
            [
             0.4444444444444444,
             "#bd3786"
            ],
            [
             0.5555555555555556,
             "#d8576b"
            ],
            [
             0.6666666666666666,
             "#ed7953"
            ],
            [
             0.7777777777777778,
             "#fb9f3a"
            ],
            [
             0.8888888888888888,
             "#fdca26"
            ],
            [
             1,
             "#f0f921"
            ]
           ]
          },
          "colorway": [
           "#636efa",
           "#EF553B",
           "#00cc96",
           "#ab63fa",
           "#FFA15A",
           "#19d3f3",
           "#FF6692",
           "#B6E880",
           "#FF97FF",
           "#FECB52"
          ],
          "font": {
           "color": "#2a3f5f"
          },
          "geo": {
           "bgcolor": "white",
           "lakecolor": "white",
           "landcolor": "#E5ECF6",
           "showlakes": true,
           "showland": true,
           "subunitcolor": "white"
          },
          "hoverlabel": {
           "align": "left"
          },
          "hovermode": "closest",
          "mapbox": {
           "style": "light"
          },
          "paper_bgcolor": "white",
          "plot_bgcolor": "#E5ECF6",
          "polar": {
           "angularaxis": {
            "gridcolor": "white",
            "linecolor": "white",
            "ticks": ""
           },
           "bgcolor": "#E5ECF6",
           "radialaxis": {
            "gridcolor": "white",
            "linecolor": "white",
            "ticks": ""
           }
          },
          "scene": {
           "xaxis": {
            "backgroundcolor": "#E5ECF6",
            "gridcolor": "white",
            "gridwidth": 2,
            "linecolor": "white",
            "showbackground": true,
            "ticks": "",
            "zerolinecolor": "white"
           },
           "yaxis": {
            "backgroundcolor": "#E5ECF6",
            "gridcolor": "white",
            "gridwidth": 2,
            "linecolor": "white",
            "showbackground": true,
            "ticks": "",
            "zerolinecolor": "white"
           },
           "zaxis": {
            "backgroundcolor": "#E5ECF6",
            "gridcolor": "white",
            "gridwidth": 2,
            "linecolor": "white",
            "showbackground": true,
            "ticks": "",
            "zerolinecolor": "white"
           }
          },
          "shapedefaults": {
           "line": {
            "color": "#2a3f5f"
           }
          },
          "ternary": {
           "aaxis": {
            "gridcolor": "white",
            "linecolor": "white",
            "ticks": ""
           },
           "baxis": {
            "gridcolor": "white",
            "linecolor": "white",
            "ticks": ""
           },
           "bgcolor": "#E5ECF6",
           "caxis": {
            "gridcolor": "white",
            "linecolor": "white",
            "ticks": ""
           }
          },
          "title": {
           "x": 0.05
          },
          "xaxis": {
           "automargin": true,
           "gridcolor": "white",
           "linecolor": "white",
           "ticks": "",
           "title": {
            "standoff": 15
           },
           "zerolinecolor": "white",
           "zerolinewidth": 2
          },
          "yaxis": {
           "automargin": true,
           "gridcolor": "white",
           "linecolor": "white",
           "ticks": "",
           "title": {
            "standoff": 15
           },
           "zerolinecolor": "white",
           "zerolinewidth": 2
          }
         }
        },
        "title": {
         "text": "Bydelsnavn"
        },
        "xaxis": {
         "anchor": "y",
         "domain": [
          0,
          1
         ],
         "title": {
          "text": "tree_count"
         }
        },
        "yaxis": {
         "anchor": "x",
         "categoryorder": "total ascending",
         "domain": [
          0,
          1
         ],
         "title": {
          "text": "bydelsnavn"
         }
        }
       }
      },
      "text/html": [
       "<div>                            <div id=\"e49b95df-cd90-485c-b008-f1914faf9b9c\" class=\"plotly-graph-div\" style=\"height:525px; width:100%;\"></div>            <script type=\"text/javascript\">                require([\"plotly\"], function(Plotly) {                    window.PLOTLYENV=window.PLOTLYENV || {};                                    if (document.getElementById(\"e49b95df-cd90-485c-b008-f1914faf9b9c\")) {                    Plotly.newPlot(                        \"e49b95df-cd90-485c-b008-f1914faf9b9c\",                        [{\"alignmentgroup\":\"True\",\"hovertemplate\":\"prediction=tp\\u003cbr\\u003etree_count=%{x}\\u003cbr\\u003ebydelsnavn=%{y}\\u003cextra\\u003e\\u003c\\u002fextra\\u003e\",\"legendgroup\":\"tp\",\"marker\":{\"color\":\"#636efa\",\"pattern\":{\"shape\":\"\"}},\"name\":\"tp\",\"offsetgroup\":\"tp\",\"orientation\":\"h\",\"showlegend\":true,\"textposition\":\"auto\",\"x\":[4.0,2.0,1.0,8.0,11.0,3.0,2.0,4.0,1.0,2.0,2.0,2.0,1.0,4.0,16.0,3.0,2.0,3.0,1.0,6.0,4.0,3.0,14.0,6.0,1.0,3.0,7.0,6.0,3.0,4.0,2.0,4.0,3.0,6.0,3.0,11.0,7.0,1.0,2.0,1.0,2.0,2.0,4.0,1.0,2.0,5.0,2.0,17.0,3.0,2.0,5.0,4.0,1.0,4.0,1.0,5.0,2.0,1.0,2.0,1.0,1.0,1.0,1.0,9.0,5.0,4.0,1.0,2.0,1.0,1.0,3.0,2.0,2.0,4.0,3.0,1.0,1.0,2.0,6.0,1.0,1.0,1.0,4.0,1.0,8.0,1.0,1.0,2.0,3.0,2.0,1.0,1.0,17.0,1.0,1.0,1.0,3.0,1.0,2.0,6.0,2.0,1.0,1.0,1.0,1.0,2.0,1.0,6.0,1.0,1.0,1.0,1.0,4.0,16.0,2.0,5.0,5.0,2.0,4.0,4.0,2.0,1.0,1.0,1.0,1.0,3.0,2.0,1.0,1.0,2.0,1.0,1.0,3.0,1.0,1.0,1.0,4.0,2.0,5.0,2.0,1.0,6.0,1.0,2.0,7.0,6.0,7.0,1.0,1.0,1.0,2.0,4.0,2.0,1.0,2.0,4.0,2.0,4.0,5.0,1.0,2.0,5.0,4.0,2.0,1.0,1.0,11.0,2.0,3.0,10.0,1.0,2.0,6.0,1.0,1.0,4.0,1.0,1.0,2.0,2.0,3.0,1.0,1.0,1.0,3.0,2.0,1.0,35.0,1.0,4.0,1.0,1.0,2.0,2.0,7.0,2.0,1.0,1.0,1.0,1.0,1.0,4.0,6.0,2.0,3.0,1.0,1.0,6.0,8.0,3.0,3.0,3.0,1.0,3.0,1.0,8.0,1.0,4.0,16.0,2.0,2.0,1.0,1.0,1.0,1.0,2.0,1.0,6.0,2.0,1.0,5.0,5.0,1.0,1.0,4.0,2.0,3.0,3.0,7.0,1.0,1.0,1.0,2.0,1.0,4.0,4.0,1.0,3.0,3.0,3.0,1.0,5.0,1.0,3.0,1.0,4.0,1.0,4.0,1.0,3.0,3.0,1.0,1.0,4.0,1.0,6.0,16.0,4.0,12.0,1.0,1.0,5.0,2.0,4.0,3.0,2.0,4.0,2.0,2.0,10.0,12.0,13.0,4.0,4.0,9.0,4.0,4.0,2.0,4.0,1.0,1.0,4.0,2.0,3.0,3.0,7.0,3.0,1.0,1.0,1.0,1.0,4.0,3.0,9.0,6.0,1.0,1.0,3.0,1.0,3.0,3.0,1.0,2.0,6.0,5.0,1.0,2.0,5.0,9.0,1.0,1.0,1.0,1.0,2.0,3.0,3.0,1.0,12.0,1.0,1.0,1.0,1.0,1.0,4.0,4.0,11.0,1.0,1.0,1.0,1.0,1.0,2.0,6.0,6.0,1.0,1.0,1.0,1.0,1.0,2.0,5.0,2.0,1.0,1.0,1.0,4.0,3.0,4.0,3.0,11.0,1.0,1.0,6.0,1.0,11.0,2.0,7.0,1.0,1.0,1.0,1.0,1.0,4.0,1.0,8.0,1.0,1.0,3.0,1.0,2.0,1.0,2.0,1.0,2.0,1.0,2.0,1.0,1.0,1.0,3.0,3.0,4.0,4.0,5.0,6.0,6.0,3.0,10.0,14.0,1.0,1.0,2.0,6.0,1.0,1.0,1.0,2.0,3.0,7.0,2.0,4.0,1.0,2.0,6.0,6.0,1.0,1.0,4.0,2.0,1.0,1.0,2.0,2.0,1.0,3.0,7.0,5.0,1.0,1.0,1.0,1.0,24.0,1.0,1.0,1.0,2.0,1.0,1.0,1.0,1.0,4.0,5.0,2.0,6.0,1.0,3.0,1.0,23.0,1.0,2.0,2.0,1.0,1.0,2.0,4.0,1.0,3.0,2.0,1.0],\"xaxis\":\"x\",\"y\":[\"Vesterbro-Kongens Enghave\",\"Indre By\",\"Indre By\",\"Indre By\",\"Indre By\",\"Valby\",\"Amager \\u00d8st\",\"Vesterbro-Kongens Enghave\",\"N\\u00f8rrebro\",\"Amager Vest\",\"\\u00d8sterbro\",\"Indre By\",\"Bispebjerg\",\"Indre By\",\"Valby\",\"Amager \\u00d8st\",\"\\u00d8sterbro\",\"Vesterbro-Kongens Enghave\",\"N\\u00f8rrebro\",\"N\\u00f8rrebro\",\"\\u00d8sterbro\",\"Amager Vest\",\"Vesterbro-Kongens Enghave\",\"Amager \\u00d8st\",\"\\u00d8sterbro\",\"\\u00d8sterbro\",\"\\u00d8sterbro\",\"Br\\u00f8nsh\\u00f8j-Husum\",\"Indre By\",\"N\\u00f8rrebro\",\"Amager Vest\",\"Indre By\",\"Valby\",\"Valby\",\"\\u00d8sterbro\",\"Indre By\",\"Valby\",\"Indre By\",\"Indre By\",\"N\\u00f8rrebro\",\"\\u00d8sterbro\",\"Vesterbro-Kongens Enghave\",\"Valby\",\"Indre By\",\"Indre By\",\"N\\u00f8rrebro\",\"Vesterbro-Kongens Enghave\",\"N\\u00f8rrebro\",\"Vanl\\u00f8se\",\"Br\\u00f8nsh\\u00f8j-Husum\",\"Amager Vest\",\"Vesterbro-Kongens Enghave\",\"Bispebjerg\",\"Indre By\",\"\\u00d8sterbro\",\"N\\u00f8rrebro\",\"Indre By\",\"Bispebjerg\",\"\\u00d8sterbro\",\"Bispebjerg\",\"\\u00d8sterbro\",\"N\\u00f8rrebro\",\"Vesterbro-Kongens Enghave\",\"N\\u00f8rrebro\",\"Amager \\u00d8st\",\"\\u00d8sterbro\",\"Amager Vest\",\"\\u00d8sterbro\",\"Amager Vest\",\"N\\u00f8rrebro\",\"Bispebjerg\",\"N\\u00f8rrebro\",\"Indre By\",\"Indre By\",\"Indre By\",\"Indre By\",\"Valby\",\"Amager \\u00d8st\",\"Valby\",\"\\u00d8sterbro\",\"Indre By\",\"\\u00d8sterbro\",\"\\u00d8sterbro\",\"Amager Vest\",\"N\\u00f8rrebro\",\"Vanl\\u00f8se\",\"\\u00d8sterbro\",\"N\\u00f8rrebro\",\"\\u00d8sterbro\",\"Amager Vest\",\"Amager Vest\",\"Amager Vest\",\"Indre By\",\"Amager \\u00d8st\",\"Amager Vest\",\"Amager Vest\",\"\\u00d8sterbro\",\"\\u00d8sterbro\",\"N\\u00f8rrebro\",\"N\\u00f8rrebro\",\"Br\\u00f8nsh\\u00f8j-Husum\",\"Amager \\u00d8st\",\"Amager \\u00d8st\",\"Vanl\\u00f8se\",\"Bispebjerg\",\"Indre By\",\"Vesterbro-Kongens Enghave\",\"Br\\u00f8nsh\\u00f8j-Husum\",\"\\u00d8sterbro\",\"N\\u00f8rrebro\",\"Indre By\",\"Vesterbro-Kongens Enghave\",\"Vanl\\u00f8se\",\"Vesterbro-Kongens Enghave\",\"Indre By\",\"N\\u00f8rrebro\",\"Vesterbro-Kongens Enghave\",\"Valby\",\"Indre By\",\"Amager Vest\",\"Vesterbro-Kongens Enghave\",\"\\u00d8sterbro\",\"Bispebjerg\",\"N\\u00f8rrebro\",\"Br\\u00f8nsh\\u00f8j-Husum\",\"Vanl\\u00f8se\",\"N\\u00f8rrebro\",\"\\u00d8sterbro\",\"\\u00d8sterbro\",\"\\u00d8sterbro\",\"Amager Vest\",\"Amager Vest\",\"Bispebjerg\",\"N\\u00f8rrebro\",\"\\u00d8sterbro\",\"Vanl\\u00f8se\",\"Br\\u00f8nsh\\u00f8j-Husum\",\"N\\u00f8rrebro\",\"N\\u00f8rrebro\",\"\\u00d8sterbro\",\"Valby\",\"Vanl\\u00f8se\",\"Indre By\",\"N\\u00f8rrebro\",\"Bispebjerg\",\"Vesterbro-Kongens Enghave\",\"Indre By\",\"Br\\u00f8nsh\\u00f8j-Husum\",\"N\\u00f8rrebro\",\"Amager \\u00d8st\",\"N\\u00f8rrebro\",\"\\u00d8sterbro\",\"Vanl\\u00f8se\",\"Amager \\u00d8st\",\"Amager \\u00d8st\",\"\\u00d8sterbro\",\"Vesterbro-Kongens Enghave\",\"Vesterbro-Kongens Enghave\",\"\\u00d8sterbro\",\"Br\\u00f8nsh\\u00f8j-Husum\",\"Bispebjerg\",\"Amager Vest\",\"Br\\u00f8nsh\\u00f8j-Husum\",\"N\\u00f8rrebro\",\"Indre By\",\"Bispebjerg\",\"N\\u00f8rrebro\",\"Indre By\",\"Vanl\\u00f8se\",\"N\\u00f8rrebro\",\"Vanl\\u00f8se\",\"\\u00d8sterbro\",\"Amager Vest\",\"Amager \\u00d8st\",\"Amager Vest\",\"Amager \\u00d8st\",\"\\u00d8sterbro\",\"N\\u00f8rrebro\",\"\\u00d8sterbro\",\"Amager Vest\",\"Vesterbro-Kongens Enghave\",\"\\u00d8sterbro\",\"Amager \\u00d8st\",\"Vesterbro-Kongens Enghave\",\"\\u00d8sterbro\",\"Amager \\u00d8st\",\"Amager Vest\",\"Amager Vest\",\"N\\u00f8rrebro\",\"Amager Vest\",\"Bispebjerg\",\"Valby\",\"Valby\",\"Bispebjerg\",\"N\\u00f8rrebro\",\"Vanl\\u00f8se\",\"Vanl\\u00f8se\",\"Indre By\",\"Valby\",\"Indre By\",\"Amager Vest\",\"N\\u00f8rrebro\",\"Amager \\u00d8st\",\"Amager \\u00d8st\",\"\\u00d8sterbro\",\"Vesterbro-Kongens Enghave\",\"Amager \\u00d8st\",\"Amager \\u00d8st\",\"Vesterbro-Kongens Enghave\",\"Amager Vest\",\"N\\u00f8rrebro\",\"Indre By\",\"Valby\",\"Amager Vest\",\"Valby\",\"\\u00d8sterbro\",\"Indre By\",\"N\\u00f8rrebro\",\"Amager \\u00d8st\",\"Vanl\\u00f8se\",\"\\u00d8sterbro\",\"\\u00d8sterbro\",\"Bispebjerg\",\"Amager Vest\",\"Indre By\",\"Vesterbro-Kongens Enghave\",\"Indre By\",\"Vanl\\u00f8se\",\"\\u00d8sterbro\",\"Amager Vest\",\"\\u00d8sterbro\",\"N\\u00f8rrebro\",\"Amager \\u00d8st\",\"N\\u00f8rrebro\",\"Vanl\\u00f8se\",\"Vesterbro-Kongens Enghave\",\"Indre By\",\"Bispebjerg\",\"Valby\",\"Amager \\u00d8st\",\"Vesterbro-Kongens Enghave\",\"\\u00d8sterbro\",\"\\u00d8sterbro\",\"Amager Vest\",\"Indre By\",\"Valby\",\"Indre By\",\"N\\u00f8rrebro\",\"Vesterbro-Kongens Enghave\",\"Vesterbro-Kongens Enghave\",\"Vanl\\u00f8se\",\"N\\u00f8rrebro\",\"Vesterbro-Kongens Enghave\",\"Indre By\",\"Valby\",\"Vanl\\u00f8se\",\"Valby\",\"Indre By\",\"Vanl\\u00f8se\",\"Indre By\",\"N\\u00f8rrebro\",\"Vesterbro-Kongens Enghave\",\"Indre By\",\"N\\u00f8rrebro\",\"Vesterbro-Kongens Enghave\",\"Br\\u00f8nsh\\u00f8j-Husum\",\"Vesterbro-Kongens Enghave\",\"Vesterbro-Kongens Enghave\",\"\\u00d8sterbro\",\"\\u00d8sterbro\",\"\\u00d8sterbro\",\"Amager \\u00d8st\",\"Amager Vest\",\"Indre By\",\"\\u00d8sterbro\",\"Vesterbro-Kongens Enghave\",\"Indre By\",\"Valby\",\"Indre By\",\"Valby\",\"Vanl\\u00f8se\",\"N\\u00f8rrebro\",\"Indre By\",\"N\\u00f8rrebro\",\"\\u00d8sterbro\",\"Bispebjerg\",\"Indre By\",\"Indre By\",\"Vesterbro-Kongens Enghave\",\"Vanl\\u00f8se\",\"\\u00d8sterbro\",\"Vesterbro-Kongens Enghave\",\"\\u00d8sterbro\",\"N\\u00f8rrebro\",\"\\u00d8sterbro\",\"\\u00d8sterbro\",\"\\u00d8sterbro\",\"Vanl\\u00f8se\",\"Indre By\",\"\\u00d8sterbro\",\"Indre By\",\"Bispebjerg\",\"Indre By\",\"Vanl\\u00f8se\",\"Valby\",\"Vesterbro-Kongens Enghave\",\"Amager Vest\",\"N\\u00f8rrebro\",\"Amager \\u00d8st\",\"Indre By\",\"Indre By\",\"Vesterbro-Kongens Enghave\",\"Br\\u00f8nsh\\u00f8j-Husum\",\"Valby\",\"\\u00d8sterbro\",\"Indre By\",\"\\u00d8sterbro\",\"\\u00d8sterbro\",\"\\u00d8sterbro\",\"Bispebjerg\",\"N\\u00f8rrebro\",\"\\u00d8sterbro\",\"N\\u00f8rrebro\",\"Amager \\u00d8st\",\"Indre By\",\"Indre By\",\"\\u00d8sterbro\",\"\\u00d8sterbro\",\"Valby\",\"Vanl\\u00f8se\",\"\\u00d8sterbro\",\"Vesterbro-Kongens Enghave\",\"Valby\",\"\\u00d8sterbro\",\"\\u00d8sterbro\",\"N\\u00f8rrebro\",\"Vanl\\u00f8se\",\"\\u00d8sterbro\",\"Vanl\\u00f8se\",\"Vesterbro-Kongens Enghave\",\"\\u00d8sterbro\",\"\\u00d8sterbro\",\"Amager Vest\",\"Indre By\",\"Amager Vest\",\"Amager Vest\",\"Amager \\u00d8st\",\"Amager \\u00d8st\",\"Vesterbro-Kongens Enghave\",\"\\u00d8sterbro\",\"Valby\",\"Vesterbro-Kongens Enghave\",\"Amager \\u00d8st\",\"Br\\u00f8nsh\\u00f8j-Husum\",\"Indre By\",\"Amager \\u00d8st\",\"Amager Vest\",\"Vesterbro-Kongens Enghave\",\"Amager Vest\",\"Amager Vest\",\"\\u00d8sterbro\",\"Bispebjerg\",\"N\\u00f8rrebro\",\"Vanl\\u00f8se\",\"\\u00d8sterbro\",\"\\u00d8sterbro\",\"Amager \\u00d8st\",\"Amager \\u00d8st\",\"\\u00d8sterbro\",\"Indre By\",\"N\\u00f8rrebro\",\"\\u00d8sterbro\",\"\\u00d8sterbro\",\"Amager \\u00d8st\",\"Vesterbro-Kongens Enghave\",\"\\u00d8sterbro\",\"N\\u00f8rrebro\",\"\\u00d8sterbro\",\"\\u00d8sterbro\",\"Vesterbro-Kongens Enghave\",\"N\\u00f8rrebro\",\"Amager \\u00d8st\",\"Vesterbro-Kongens Enghave\",\"Valby\",\"Valby\",\"Amager Vest\",\"N\\u00f8rrebro\",\"Br\\u00f8nsh\\u00f8j-Husum\",\"N\\u00f8rrebro\",\"Amager Vest\",\"Amager Vest\",\"N\\u00f8rrebro\",\"Indre By\",\"Vanl\\u00f8se\",\"Amager Vest\",\"\\u00d8sterbro\",\"\\u00d8sterbro\",\"\\u00d8sterbro\",\"Valby\",\"Indre By\",\"Amager \\u00d8st\",\"Valby\",\"\\u00d8sterbro\",\"Vanl\\u00f8se\",\"Vanl\\u00f8se\",\"Amager Vest\",\"Amager Vest\",\"\\u00d8sterbro\",\"Vesterbro-Kongens Enghave\",\"Valby\",\"Bispebjerg\",\"Vesterbro-Kongens Enghave\",\"N\\u00f8rrebro\",\"Vesterbro-Kongens Enghave\",\"Vesterbro-Kongens Enghave\",\"Vesterbro-Kongens Enghave\",\"N\\u00f8rrebro\",\"Amager \\u00d8st\",\"Amager Vest\",\"Amager \\u00d8st\",\"Valby\",\"\\u00d8sterbro\",\"Amager Vest\",\"Valby\",\"Valby\",\"Amager \\u00d8st\",\"Indre By\",\"N\\u00f8rrebro\",\"Bispebjerg\",\"Amager \\u00d8st\",\"Valby\",\"Valby\",\"Indre By\",\"N\\u00f8rrebro\",\"N\\u00f8rrebro\",\"Vesterbro-Kongens Enghave\",\"Valby\",\"N\\u00f8rrebro\",\"Vesterbro-Kongens Enghave\",\"\\u00d8sterbro\",\"Vanl\\u00f8se\",\"Indre By\",\"N\\u00f8rrebro\",\"N\\u00f8rrebro\",\"Amager \\u00d8st\",\"N\\u00f8rrebro\",\"Bispebjerg\",\"\\u00d8sterbro\",\"N\\u00f8rrebro\",\"\\u00d8sterbro\",\"Bispebjerg\",\"Indre By\",\"Amager \\u00d8st\",\"Amager Vest\",\"\\u00d8sterbro\",\"Valby\",\"Vesterbro-Kongens Enghave\",\"\\u00d8sterbro\",\"\\u00d8sterbro\"],\"yaxis\":\"y\",\"type\":\"bar\"},{\"alignmentgroup\":\"True\",\"hovertemplate\":\"prediction=fn\\u003cbr\\u003etree_count=%{x}\\u003cbr\\u003ebydelsnavn=%{y}\\u003cextra\\u003e\\u003c\\u002fextra\\u003e\",\"legendgroup\":\"fn\",\"marker\":{\"color\":\"#EF553B\",\"pattern\":{\"shape\":\"\"}},\"name\":\"fn\",\"offsetgroup\":\"fn\",\"orientation\":\"h\",\"showlegend\":true,\"textposition\":\"auto\",\"x\":[1.0,1.0,12.0,1.0,5.0,1.0,4.0,4.0,1.0,4.0,1.0,1.0,1.0,1.0,5.0,1.0,1.0,1.0,1.0,1.0,1.0,1.0,3.0,2.0,1.0,2.0,2.0,1.0,12.0,2.0,1.0,1.0,2.0,1.0,3.0,14.0,1.0,19.0,2.0,1.0,1.0,1.0,1.0,1.0,1.0,1.0,1.0,2.0,4.0,1.0,2.0,1.0,2.0,1.0,3.0,4.0,1.0,1.0,2.0,1.0,1.0,1.0,4.0,5.0,1.0,4.0,1.0,1.0,1.0,1.0,4.0,10.0,1.0,2.0,3.0,1.0,1.0,1.0,1.0,1.0,1.0,1.0,1.0,3.0,1.0,3.0,2.0,1.0,18.0,1.0,1.0,1.0,1.0,3.0,1.0,1.0,1.0,2.0,2.0,1.0,1.0,5.0,1.0,1.0,10.0,1.0,1.0,1.0,1.0,1.0,1.0,2.0,1.0,4.0,1.0,3.0,1.0,1.0,1.0,2.0,1.0,1.0,1.0,2.0,10.0,1.0,7.0,1.0,1.0,1.0,5.0,2.0,1.0,15.0,1.0,4.0,1.0,2.0,1.0,1.0,1.0,5.0,2.0,1.0,1.0,1.0,2.0,1.0,4.0,1.0,1.0,3.0,1.0,3.0,1.0,1.0,10.0,4.0,2.0,2.0,2.0,4.0,2.0,1.0,1.0,1.0,1.0,1.0,1.0,3.0,4.0,1.0,3.0,1.0,4.0,1.0,2.0,1.0,4.0,1.0,1.0,7.0,1.0,16.0,1.0,1.0,25.0,1.0,2.0,5.0,11.0,1.0,2.0,3.0,2.0,1.0,2.0],\"xaxis\":\"x\",\"y\":[\"N\\u00f8rrebro\",\"\\u00d8sterbro\",\"\\u00d8sterbro\",\"Amager Vest\",\"Bispebjerg\",\"Vesterbro-Kongens Enghave\",\"Valby\",\"Amager Vest\",\"Br\\u00f8nsh\\u00f8j-Husum\",\"Vanl\\u00f8se\",\"Valby\",\"Amager Vest\",\"\\u00d8sterbro\",\"Indre By\",\"Indre By\",\"Amager Vest\",\"\\u00d8sterbro\",\"N\\u00f8rrebro\",\"Valby\",\"\\u00d8sterbro\",\"Vanl\\u00f8se\",\"Bispebjerg\",\"Indre By\",\"Amager Vest\",\"Indre By\",\"Valby\",\"Br\\u00f8nsh\\u00f8j-Husum\",\"\\u00d8sterbro\",\"Valby\",\"Bispebjerg\",\"N\\u00f8rrebro\",\"Valby\",\"Valby\",\"Vanl\\u00f8se\",\"Indre By\",\"\\u00d8sterbro\",\"Vanl\\u00f8se\",\"Valby\",\"Amager \\u00d8st\",\"Bispebjerg\",\"Amager Vest\",\"\\u00d8sterbro\",\"Valby\",\"Indre By\",\"Vesterbro-Kongens Enghave\",\"Indre By\",\"Amager Vest\",\"\\u00d8sterbro\",\"Valby\",\"Valby\",\"Indre By\",\"Br\\u00f8nsh\\u00f8j-Husum\",\"Valby\",\"Vanl\\u00f8se\",\"Indre By\",\"N\\u00f8rrebro\",\"Bispebjerg\",\"Indre By\",\"Vesterbro-Kongens Enghave\",\"Br\\u00f8nsh\\u00f8j-Husum\",\"Amager \\u00d8st\",\"Valby\",\"\\u00d8sterbro\",\"Bispebjerg\",\"\\u00d8sterbro\",\"Vesterbro-Kongens Enghave\",\"\\u00d8sterbro\",\"Indre By\",\"Br\\u00f8nsh\\u00f8j-Husum\",\"Valby\",\"\\u00d8sterbro\",\"Vanl\\u00f8se\",\"\\u00d8sterbro\",\"Bispebjerg\",\"Vesterbro-Kongens Enghave\",\"Vesterbro-Kongens Enghave\",\"Amager Vest\",\"Br\\u00f8nsh\\u00f8j-Husum\",\"\\u00d8sterbro\",\"Indre By\",\"N\\u00f8rrebro\",\"\\u00d8sterbro\",\"Vesterbro-Kongens Enghave\",\"Valby\",\"\\u00d8sterbro\",\"Amager \\u00d8st\",\"Indre By\",\"\\u00d8sterbro\",\"Indre By\",\"N\\u00f8rrebro\",\"Vesterbro-Kongens Enghave\",\"Amager Vest\",\"\\u00d8sterbro\",\"Amager \\u00d8st\",\"N\\u00f8rrebro\",\"Vanl\\u00f8se\",\"Amager Vest\",\"Bispebjerg\",\"N\\u00f8rrebro\",\"Vesterbro-Kongens Enghave\",\"Br\\u00f8nsh\\u00f8j-Husum\",\"Valby\",\"Vanl\\u00f8se\",\"Indre By\",\"Amager Vest\",\"Br\\u00f8nsh\\u00f8j-Husum\",\"Vesterbro-Kongens Enghave\",\"Vanl\\u00f8se\",\"Indre By\",\"Amager Vest\",\"N\\u00f8rrebro\",\"\\u00d8sterbro\",\"Amager Vest\",\"Indre By\",\"N\\u00f8rrebro\",\"N\\u00f8rrebro\",\"\\u00d8sterbro\",\"N\\u00f8rrebro\",\"Br\\u00f8nsh\\u00f8j-Husum\",\"Valby\",\"Indre By\",\"Amager \\u00d8st\",\"Valby\",\"Amager Vest\",\"Bispebjerg\",\"Br\\u00f8nsh\\u00f8j-Husum\",\"Amager Vest\",\"Amager Vest\",\"\\u00d8sterbro\",\"Indre By\",\"Indre By\",\"\\u00d8sterbro\",\"Indre By\",\"Vanl\\u00f8se\",\"Br\\u00f8nsh\\u00f8j-Husum\",\"Bispebjerg\",\"\\u00d8sterbro\",\"Bispebjerg\",\"\\u00d8sterbro\",\"Indre By\",\"Amager Vest\",\"N\\u00f8rrebro\",\"Vesterbro-Kongens Enghave\",\"N\\u00f8rrebro\",\"Bispebjerg\",\"Br\\u00f8nsh\\u00f8j-Husum\",\"Valby\",\"\\u00d8sterbro\",\"Br\\u00f8nsh\\u00f8j-Husum\",\"Amager Vest\",\"Vanl\\u00f8se\",\"Indre By\",\"Br\\u00f8nsh\\u00f8j-Husum\",\"Amager \\u00d8st\",\"Vanl\\u00f8se\",\"N\\u00f8rrebro\",\"Amager Vest\",\"Indre By\",\"Vesterbro-Kongens Enghave\",\"Amager Vest\",\"Indre By\",\"Br\\u00f8nsh\\u00f8j-Husum\",\"\\u00d8sterbro\",\"Amager Vest\",\"Vesterbro-Kongens Enghave\",\"Valby\",\"\\u00d8sterbro\",\"Indre By\",\"Bispebjerg\",\"Vesterbro-Kongens Enghave\",\"Bispebjerg\",\"N\\u00f8rrebro\",\"Indre By\",\"\\u00d8sterbro\",\"Amager \\u00d8st\",\"Indre By\",\"Br\\u00f8nsh\\u00f8j-Husum\",\"\\u00d8sterbro\",\"\\u00d8sterbro\",\"\\u00d8sterbro\",\"Indre By\",\"Indre By\",\"\\u00d8sterbro\",\"Vanl\\u00f8se\",\"Indre By\",\"Indre By\",\"Br\\u00f8nsh\\u00f8j-Husum\",\"Vesterbro-Kongens Enghave\",\"Br\\u00f8nsh\\u00f8j-Husum\",\"Valby\",\"Amager Vest\",\"\\u00d8sterbro\",\"Indre By\",\"Amager \\u00d8st\",\"Amager Vest\",\"\\u00d8sterbro\",\"Vanl\\u00f8se\"],\"yaxis\":\"y\",\"type\":\"bar\"}],                        {\"template\":{\"data\":{\"histogram2dcontour\":[{\"type\":\"histogram2dcontour\",\"colorbar\":{\"outlinewidth\":0,\"ticks\":\"\"},\"colorscale\":[[0.0,\"#0d0887\"],[0.1111111111111111,\"#46039f\"],[0.2222222222222222,\"#7201a8\"],[0.3333333333333333,\"#9c179e\"],[0.4444444444444444,\"#bd3786\"],[0.5555555555555556,\"#d8576b\"],[0.6666666666666666,\"#ed7953\"],[0.7777777777777778,\"#fb9f3a\"],[0.8888888888888888,\"#fdca26\"],[1.0,\"#f0f921\"]]}],\"choropleth\":[{\"type\":\"choropleth\",\"colorbar\":{\"outlinewidth\":0,\"ticks\":\"\"}}],\"histogram2d\":[{\"type\":\"histogram2d\",\"colorbar\":{\"outlinewidth\":0,\"ticks\":\"\"},\"colorscale\":[[0.0,\"#0d0887\"],[0.1111111111111111,\"#46039f\"],[0.2222222222222222,\"#7201a8\"],[0.3333333333333333,\"#9c179e\"],[0.4444444444444444,\"#bd3786\"],[0.5555555555555556,\"#d8576b\"],[0.6666666666666666,\"#ed7953\"],[0.7777777777777778,\"#fb9f3a\"],[0.8888888888888888,\"#fdca26\"],[1.0,\"#f0f921\"]]}],\"heatmap\":[{\"type\":\"heatmap\",\"colorbar\":{\"outlinewidth\":0,\"ticks\":\"\"},\"colorscale\":[[0.0,\"#0d0887\"],[0.1111111111111111,\"#46039f\"],[0.2222222222222222,\"#7201a8\"],[0.3333333333333333,\"#9c179e\"],[0.4444444444444444,\"#bd3786\"],[0.5555555555555556,\"#d8576b\"],[0.6666666666666666,\"#ed7953\"],[0.7777777777777778,\"#fb9f3a\"],[0.8888888888888888,\"#fdca26\"],[1.0,\"#f0f921\"]]}],\"heatmapgl\":[{\"type\":\"heatmapgl\",\"colorbar\":{\"outlinewidth\":0,\"ticks\":\"\"},\"colorscale\":[[0.0,\"#0d0887\"],[0.1111111111111111,\"#46039f\"],[0.2222222222222222,\"#7201a8\"],[0.3333333333333333,\"#9c179e\"],[0.4444444444444444,\"#bd3786\"],[0.5555555555555556,\"#d8576b\"],[0.6666666666666666,\"#ed7953\"],[0.7777777777777778,\"#fb9f3a\"],[0.8888888888888888,\"#fdca26\"],[1.0,\"#f0f921\"]]}],\"contourcarpet\":[{\"type\":\"contourcarpet\",\"colorbar\":{\"outlinewidth\":0,\"ticks\":\"\"}}],\"contour\":[{\"type\":\"contour\",\"colorbar\":{\"outlinewidth\":0,\"ticks\":\"\"},\"colorscale\":[[0.0,\"#0d0887\"],[0.1111111111111111,\"#46039f\"],[0.2222222222222222,\"#7201a8\"],[0.3333333333333333,\"#9c179e\"],[0.4444444444444444,\"#bd3786\"],[0.5555555555555556,\"#d8576b\"],[0.6666666666666666,\"#ed7953\"],[0.7777777777777778,\"#fb9f3a\"],[0.8888888888888888,\"#fdca26\"],[1.0,\"#f0f921\"]]}],\"surface\":[{\"type\":\"surface\",\"colorbar\":{\"outlinewidth\":0,\"ticks\":\"\"},\"colorscale\":[[0.0,\"#0d0887\"],[0.1111111111111111,\"#46039f\"],[0.2222222222222222,\"#7201a8\"],[0.3333333333333333,\"#9c179e\"],[0.4444444444444444,\"#bd3786\"],[0.5555555555555556,\"#d8576b\"],[0.6666666666666666,\"#ed7953\"],[0.7777777777777778,\"#fb9f3a\"],[0.8888888888888888,\"#fdca26\"],[1.0,\"#f0f921\"]]}],\"mesh3d\":[{\"type\":\"mesh3d\",\"colorbar\":{\"outlinewidth\":0,\"ticks\":\"\"}}],\"scatter\":[{\"fillpattern\":{\"fillmode\":\"overlay\",\"size\":10,\"solidity\":0.2},\"type\":\"scatter\"}],\"parcoords\":[{\"type\":\"parcoords\",\"line\":{\"colorbar\":{\"outlinewidth\":0,\"ticks\":\"\"}}}],\"scatterpolargl\":[{\"type\":\"scatterpolargl\",\"marker\":{\"colorbar\":{\"outlinewidth\":0,\"ticks\":\"\"}}}],\"bar\":[{\"error_x\":{\"color\":\"#2a3f5f\"},\"error_y\":{\"color\":\"#2a3f5f\"},\"marker\":{\"line\":{\"color\":\"#E5ECF6\",\"width\":0.5},\"pattern\":{\"fillmode\":\"overlay\",\"size\":10,\"solidity\":0.2}},\"type\":\"bar\"}],\"scattergeo\":[{\"type\":\"scattergeo\",\"marker\":{\"colorbar\":{\"outlinewidth\":0,\"ticks\":\"\"}}}],\"scatterpolar\":[{\"type\":\"scatterpolar\",\"marker\":{\"colorbar\":{\"outlinewidth\":0,\"ticks\":\"\"}}}],\"histogram\":[{\"marker\":{\"pattern\":{\"fillmode\":\"overlay\",\"size\":10,\"solidity\":0.2}},\"type\":\"histogram\"}],\"scattergl\":[{\"type\":\"scattergl\",\"marker\":{\"colorbar\":{\"outlinewidth\":0,\"ticks\":\"\"}}}],\"scatter3d\":[{\"type\":\"scatter3d\",\"line\":{\"colorbar\":{\"outlinewidth\":0,\"ticks\":\"\"}},\"marker\":{\"colorbar\":{\"outlinewidth\":0,\"ticks\":\"\"}}}],\"scattermapbox\":[{\"type\":\"scattermapbox\",\"marker\":{\"colorbar\":{\"outlinewidth\":0,\"ticks\":\"\"}}}],\"scatterternary\":[{\"type\":\"scatterternary\",\"marker\":{\"colorbar\":{\"outlinewidth\":0,\"ticks\":\"\"}}}],\"scattercarpet\":[{\"type\":\"scattercarpet\",\"marker\":{\"colorbar\":{\"outlinewidth\":0,\"ticks\":\"\"}}}],\"carpet\":[{\"aaxis\":{\"endlinecolor\":\"#2a3f5f\",\"gridcolor\":\"white\",\"linecolor\":\"white\",\"minorgridcolor\":\"white\",\"startlinecolor\":\"#2a3f5f\"},\"baxis\":{\"endlinecolor\":\"#2a3f5f\",\"gridcolor\":\"white\",\"linecolor\":\"white\",\"minorgridcolor\":\"white\",\"startlinecolor\":\"#2a3f5f\"},\"type\":\"carpet\"}],\"table\":[{\"cells\":{\"fill\":{\"color\":\"#EBF0F8\"},\"line\":{\"color\":\"white\"}},\"header\":{\"fill\":{\"color\":\"#C8D4E3\"},\"line\":{\"color\":\"white\"}},\"type\":\"table\"}],\"barpolar\":[{\"marker\":{\"line\":{\"color\":\"#E5ECF6\",\"width\":0.5},\"pattern\":{\"fillmode\":\"overlay\",\"size\":10,\"solidity\":0.2}},\"type\":\"barpolar\"}],\"pie\":[{\"automargin\":true,\"type\":\"pie\"}]},\"layout\":{\"autotypenumbers\":\"strict\",\"colorway\":[\"#636efa\",\"#EF553B\",\"#00cc96\",\"#ab63fa\",\"#FFA15A\",\"#19d3f3\",\"#FF6692\",\"#B6E880\",\"#FF97FF\",\"#FECB52\"],\"font\":{\"color\":\"#2a3f5f\"},\"hovermode\":\"closest\",\"hoverlabel\":{\"align\":\"left\"},\"paper_bgcolor\":\"white\",\"plot_bgcolor\":\"#E5ECF6\",\"polar\":{\"bgcolor\":\"#E5ECF6\",\"angularaxis\":{\"gridcolor\":\"white\",\"linecolor\":\"white\",\"ticks\":\"\"},\"radialaxis\":{\"gridcolor\":\"white\",\"linecolor\":\"white\",\"ticks\":\"\"}},\"ternary\":{\"bgcolor\":\"#E5ECF6\",\"aaxis\":{\"gridcolor\":\"white\",\"linecolor\":\"white\",\"ticks\":\"\"},\"baxis\":{\"gridcolor\":\"white\",\"linecolor\":\"white\",\"ticks\":\"\"},\"caxis\":{\"gridcolor\":\"white\",\"linecolor\":\"white\",\"ticks\":\"\"}},\"coloraxis\":{\"colorbar\":{\"outlinewidth\":0,\"ticks\":\"\"}},\"colorscale\":{\"sequential\":[[0.0,\"#0d0887\"],[0.1111111111111111,\"#46039f\"],[0.2222222222222222,\"#7201a8\"],[0.3333333333333333,\"#9c179e\"],[0.4444444444444444,\"#bd3786\"],[0.5555555555555556,\"#d8576b\"],[0.6666666666666666,\"#ed7953\"],[0.7777777777777778,\"#fb9f3a\"],[0.8888888888888888,\"#fdca26\"],[1.0,\"#f0f921\"]],\"sequentialminus\":[[0.0,\"#0d0887\"],[0.1111111111111111,\"#46039f\"],[0.2222222222222222,\"#7201a8\"],[0.3333333333333333,\"#9c179e\"],[0.4444444444444444,\"#bd3786\"],[0.5555555555555556,\"#d8576b\"],[0.6666666666666666,\"#ed7953\"],[0.7777777777777778,\"#fb9f3a\"],[0.8888888888888888,\"#fdca26\"],[1.0,\"#f0f921\"]],\"diverging\":[[0,\"#8e0152\"],[0.1,\"#c51b7d\"],[0.2,\"#de77ae\"],[0.3,\"#f1b6da\"],[0.4,\"#fde0ef\"],[0.5,\"#f7f7f7\"],[0.6,\"#e6f5d0\"],[0.7,\"#b8e186\"],[0.8,\"#7fbc41\"],[0.9,\"#4d9221\"],[1,\"#276419\"]]},\"xaxis\":{\"gridcolor\":\"white\",\"linecolor\":\"white\",\"ticks\":\"\",\"title\":{\"standoff\":15},\"zerolinecolor\":\"white\",\"automargin\":true,\"zerolinewidth\":2},\"yaxis\":{\"gridcolor\":\"white\",\"linecolor\":\"white\",\"ticks\":\"\",\"title\":{\"standoff\":15},\"zerolinecolor\":\"white\",\"automargin\":true,\"zerolinewidth\":2},\"scene\":{\"xaxis\":{\"backgroundcolor\":\"#E5ECF6\",\"gridcolor\":\"white\",\"linecolor\":\"white\",\"showbackground\":true,\"ticks\":\"\",\"zerolinecolor\":\"white\",\"gridwidth\":2},\"yaxis\":{\"backgroundcolor\":\"#E5ECF6\",\"gridcolor\":\"white\",\"linecolor\":\"white\",\"showbackground\":true,\"ticks\":\"\",\"zerolinecolor\":\"white\",\"gridwidth\":2},\"zaxis\":{\"backgroundcolor\":\"#E5ECF6\",\"gridcolor\":\"white\",\"linecolor\":\"white\",\"showbackground\":true,\"ticks\":\"\",\"zerolinecolor\":\"white\",\"gridwidth\":2}},\"shapedefaults\":{\"line\":{\"color\":\"#2a3f5f\"}},\"annotationdefaults\":{\"arrowcolor\":\"#2a3f5f\",\"arrowhead\":0,\"arrowwidth\":1},\"geo\":{\"bgcolor\":\"white\",\"landcolor\":\"#E5ECF6\",\"subunitcolor\":\"white\",\"showland\":true,\"showlakes\":true,\"lakecolor\":\"white\"},\"title\":{\"x\":0.05},\"mapbox\":{\"style\":\"light\"}}},\"xaxis\":{\"anchor\":\"y\",\"domain\":[0.0,1.0],\"title\":{\"text\":\"tree_count\"}},\"yaxis\":{\"anchor\":\"x\",\"domain\":[0.0,1.0],\"title\":{\"text\":\"bydelsnavn\"},\"categoryorder\":\"total ascending\"},\"legend\":{\"title\":{\"text\":\"prediction\"},\"tracegroupgap\":0},\"title\":{\"text\":\"Bydelsnavn\"},\"barmode\":\"stack\"},                        {\"responsive\": true}                    ).then(function(){\n",
       "                            \n",
       "var gd = document.getElementById('e49b95df-cd90-485c-b008-f1914faf9b9c');\n",
       "var x = new MutationObserver(function (mutations, observer) {{\n",
       "        var display = window.getComputedStyle(gd).display;\n",
       "        if (!display || display === 'none') {{\n",
       "            console.log([gd, 'removed!']);\n",
       "            Plotly.purge(gd);\n",
       "            observer.disconnect();\n",
       "        }}\n",
       "}});\n",
       "\n",
       "// Listen for the removal of the full notebook cells\n",
       "var notebookContainer = gd.closest('#notebook-container');\n",
       "if (notebookContainer) {{\n",
       "    x.observe(notebookContainer, {childList: true});\n",
       "}}\n",
       "\n",
       "// Listen for the clearing of the current output cell\n",
       "var outputEl = gd.closest('.output');\n",
       "if (outputEl) {{\n",
       "    x.observe(outputEl, {childList: true});\n",
       "}}\n",
       "\n",
       "                        })                };                });            </script>        </div>"
      ]
     },
     "metadata": {},
     "output_type": "display_data"
    }
   ],
   "source": [
    "#Plotting the city district feature\n",
    "fig = px.bar(test_trees, x=test_trees.tree_count, y=test_trees.bydelsnavn, color=\"prediction\", title=\"Bydelsnavn\")\n",
    "fig.update_layout(barmode='stack', yaxis={'categoryorder':'total ascending'})\n",
    "\n",
    "fig.show()"
   ]
  },
  {
   "cell_type": "code",
   "execution_count": 365,
   "id": "8b1dde6d",
   "metadata": {
    "scrolled": true
   },
   "outputs": [
    {
     "data": {
      "text/html": [
       "<div>\n",
       "<style scoped>\n",
       "    .dataframe tbody tr th:only-of-type {\n",
       "        vertical-align: middle;\n",
       "    }\n",
       "\n",
       "    .dataframe tbody tr th {\n",
       "        vertical-align: top;\n",
       "    }\n",
       "\n",
       "    .dataframe thead th {\n",
       "        text-align: right;\n",
       "    }\n",
       "</style>\n",
       "<table border=\"1\" class=\"dataframe\">\n",
       "  <thead>\n",
       "    <tr style=\"text-align: right;\">\n",
       "      <th></th>\n",
       "      <th>count</th>\n",
       "    </tr>\n",
       "    <tr>\n",
       "      <th>bydelsnavn</th>\n",
       "      <th></th>\n",
       "    </tr>\n",
       "  </thead>\n",
       "  <tbody>\n",
       "    <tr>\n",
       "      <th>Østerbro</th>\n",
       "      <td>3897</td>\n",
       "    </tr>\n",
       "    <tr>\n",
       "      <th>Indre By</th>\n",
       "      <td>2901</td>\n",
       "    </tr>\n",
       "    <tr>\n",
       "      <th>Amager Vest</th>\n",
       "      <td>2765</td>\n",
       "    </tr>\n",
       "    <tr>\n",
       "      <th>Nørrebro</th>\n",
       "      <td>2343</td>\n",
       "    </tr>\n",
       "    <tr>\n",
       "      <th>Vesterbro-Kongens Enghave</th>\n",
       "      <td>2238</td>\n",
       "    </tr>\n",
       "    <tr>\n",
       "      <th>Valby</th>\n",
       "      <td>1801</td>\n",
       "    </tr>\n",
       "    <tr>\n",
       "      <th>Amager Øst</th>\n",
       "      <td>1140</td>\n",
       "    </tr>\n",
       "    <tr>\n",
       "      <th>Bispebjerg</th>\n",
       "      <td>1016</td>\n",
       "    </tr>\n",
       "    <tr>\n",
       "      <th>Brønshøj-Husum</th>\n",
       "      <td>1007</td>\n",
       "    </tr>\n",
       "    <tr>\n",
       "      <th>Vanløse</th>\n",
       "      <td>994</td>\n",
       "    </tr>\n",
       "  </tbody>\n",
       "</table>\n",
       "</div>"
      ],
      "text/plain": [
       "                           count\n",
       "bydelsnavn                      \n",
       "Østerbro                    3897\n",
       "Indre By                    2901\n",
       "Amager Vest                 2765\n",
       "Nørrebro                    2343\n",
       "Vesterbro-Kongens Enghave   2238\n",
       "Valby                       1801\n",
       "Amager Øst                  1140\n",
       "Bispebjerg                  1016\n",
       "Brønshøj-Husum              1007\n",
       "Vanløse                      994"
      ]
     },
     "execution_count": 365,
     "metadata": {},
     "output_type": "execute_result"
    }
   ],
   "source": [
    "#Define dataframe with number of trees in each district\n",
    "trees_in_districts=pd.DataFrame(trees[\"bydelsnavn\"].value_counts())\n",
    "trees_in_districts"
   ]
  },
  {
   "cell_type": "code",
   "execution_count": 366,
   "id": "00df09ea",
   "metadata": {},
   "outputs": [],
   "source": [
    "###Trees per person \n",
    "\n",
    "#Open shapefile with city district shapes\n",
    "shapefile = gpd.read_file('bydele/bydel/bydelPolygon.shp',  geometry=\"geometry\")"
   ]
  },
  {
   "cell_type": "code",
   "execution_count": 371,
   "id": "cc8198ce",
   "metadata": {},
   "outputs": [],
   "source": [
    "#Define city district names\n",
    "shapefile[\"navn\"] = [\"Nørrebro\", \"Vanløse\", \"Brønshøj-Husum\", \"Amager Vest\", \"Østerbro\", \"Vesterbro-Kongens Enghave\",\n",
    "                    \"Valby\", \"Bispebjerg\", \"Amager Øst\", \"Indre By\"]"
   ]
  },
  {
   "cell_type": "code",
   "execution_count": 372,
   "id": "49ee7cc1",
   "metadata": {},
   "outputs": [],
   "source": [
    "#Define population in each district retrieved from København Kommunes Statistikbank\n",
    "shapefile[\"population\"] = [56395,80779,78962,80363,65877,40710,43690,54626,62476,87226]"
   ]
  },
  {
   "cell_type": "code",
   "execution_count": 373,
   "id": "2c1594f7",
   "metadata": {},
   "outputs": [],
   "source": [
    "merged = pd.merge(trees_in_districts, shapefile, left_on= \"bydelsnavn\", right_on = \"navn\")"
   ]
  },
  {
   "cell_type": "code",
   "execution_count": 375,
   "id": "49cb3ca1",
   "metadata": {},
   "outputs": [],
   "source": [
    "#Create trees_per_person column\n",
    "merged[\"trees_per_person\"]  = merged[\"count\"]/merged[\"population\"]"
   ]
  },
  {
   "cell_type": "code",
   "execution_count": 379,
   "id": "4904c4df",
   "metadata": {},
   "outputs": [
    {
     "data": {
      "text/html": [
       "<div>\n",
       "<style scoped>\n",
       "    .dataframe tbody tr th:only-of-type {\n",
       "        vertical-align: middle;\n",
       "    }\n",
       "\n",
       "    .dataframe tbody tr th {\n",
       "        vertical-align: top;\n",
       "    }\n",
       "\n",
       "    .dataframe thead th {\n",
       "        text-align: right;\n",
       "    }\n",
       "</style>\n",
       "<table border=\"1\" class=\"dataframe\">\n",
       "  <thead>\n",
       "    <tr style=\"text-align: right;\">\n",
       "      <th></th>\n",
       "      <th>index</th>\n",
       "      <th>u</th>\n",
       "      <th>v</th>\n",
       "      <th>osmid</th>\n",
       "      <th>name</th>\n",
       "      <th>highway</th>\n",
       "      <th>maxspeed</th>\n",
       "      <th>length</th>\n",
       "      <th>lanes</th>\n",
       "      <th>geometry</th>\n",
       "      <th>...</th>\n",
       "      <th>id</th>\n",
       "      <th>slaegt</th>\n",
       "      <th>bydelsnavn</th>\n",
       "      <th>placering</th>\n",
       "      <th>omgivelse</th>\n",
       "      <th>wkb_geometry</th>\n",
       "      <th>planteaar</th>\n",
       "      <th>lon</th>\n",
       "      <th>lat</th>\n",
       "      <th>tree_count</th>\n",
       "    </tr>\n",
       "  </thead>\n",
       "  <tbody>\n",
       "    <tr>\n",
       "      <th>3</th>\n",
       "      <td>49268</td>\n",
       "      <td>3289070014</td>\n",
       "      <td>4502345275</td>\n",
       "      <td>41501770</td>\n",
       "      <td>Gunnar Nu Hansens Plads</td>\n",
       "      <td>service</td>\n",
       "      <td>50.0</td>\n",
       "      <td>52.555</td>\n",
       "      <td>2</td>\n",
       "      <td>LINESTRING (12.5748782 55.7048787, 12.5740406 ...</td>\n",
       "      <td>...</td>\n",
       "      <td>NaN</td>\n",
       "      <td>0</td>\n",
       "      <td>0</td>\n",
       "      <td>0</td>\n",
       "      <td>0</td>\n",
       "      <td>NaN</td>\n",
       "      <td>0.0</td>\n",
       "      <td>NaN</td>\n",
       "      <td>NaN</td>\n",
       "      <td>0.0</td>\n",
       "    </tr>\n",
       "  </tbody>\n",
       "</table>\n",
       "<p>1 rows × 37 columns</p>\n",
       "</div>"
      ],
      "text/plain": [
       "   index           u           v     osmid                     name  highway  \\\n",
       "3  49268  3289070014  4502345275  41501770  Gunnar Nu Hansens Plads  service   \n",
       "\n",
       "   maxspeed  length  lanes                                           geometry  \\\n",
       "3      50.0  52.555      2  LINESTRING (12.5748782 55.7048787, 12.5740406 ...   \n",
       "\n",
       "   ...  id  slaegt  bydelsnavn  placering  omgivelse  wkb_geometry  planteaar  \\\n",
       "3  ... NaN       0           0          0          0           NaN        0.0   \n",
       "\n",
       "   lon  lat  tree_count  \n",
       "3  NaN  NaN         0.0  \n",
       "\n",
       "[1 rows x 37 columns]"
      ]
     },
     "execution_count": 379,
     "metadata": {},
     "output_type": "execute_result"
    }
   ],
   "source": [
    "#Calculate percentage of trees that are predicted in each area compared to total number of trees for that area\n",
    "fn_trees.head(1)"
   ]
  },
  {
   "cell_type": "code",
   "execution_count": 383,
   "id": "ebccd033",
   "metadata": {},
   "outputs": [
    {
     "name": "stderr",
     "output_type": "stream",
     "text": [
      "/var/folders/92/g6x9yhvs6qs640vx7psry10r0000gn/T/ipykernel_75520/1064494137.py:2: SettingWithCopyWarning:\n",
      "\n",
      "\n",
      "A value is trying to be set on a copy of a slice from a DataFrame.\n",
      "Try using .loc[row_indexer,col_indexer] = value instead\n",
      "\n",
      "See the caveats in the documentation: https://pandas.pydata.org/pandas-docs/stable/user_guide/indexing.html#returning-a-view-versus-a-copy\n",
      "\n"
     ]
    },
    {
     "data": {
      "text/html": [
       "<div>\n",
       "<style scoped>\n",
       "    .dataframe tbody tr th:only-of-type {\n",
       "        vertical-align: middle;\n",
       "    }\n",
       "\n",
       "    .dataframe tbody tr th {\n",
       "        vertical-align: top;\n",
       "    }\n",
       "\n",
       "    .dataframe thead th {\n",
       "        text-align: right;\n",
       "    }\n",
       "</style>\n",
       "<table border=\"1\" class=\"dataframe\">\n",
       "  <thead>\n",
       "    <tr style=\"text-align: right;\">\n",
       "      <th></th>\n",
       "      <th>index</th>\n",
       "      <th>u</th>\n",
       "      <th>v</th>\n",
       "      <th>osmid</th>\n",
       "      <th>name</th>\n",
       "      <th>highway</th>\n",
       "      <th>maxspeed</th>\n",
       "      <th>length</th>\n",
       "      <th>lanes</th>\n",
       "      <th>geometry</th>\n",
       "      <th>...</th>\n",
       "      <th>id</th>\n",
       "      <th>slaegt</th>\n",
       "      <th>bydelsnavn</th>\n",
       "      <th>placering</th>\n",
       "      <th>omgivelse</th>\n",
       "      <th>wkb_geometry</th>\n",
       "      <th>planteaar</th>\n",
       "      <th>lon</th>\n",
       "      <th>lat</th>\n",
       "      <th>tree_count</th>\n",
       "    </tr>\n",
       "  </thead>\n",
       "  <tbody>\n",
       "    <tr>\n",
       "      <th>3</th>\n",
       "      <td>49268</td>\n",
       "      <td>3289070014</td>\n",
       "      <td>4502345275</td>\n",
       "      <td>41501770</td>\n",
       "      <td>Gunnar Nu Hansens Plads</td>\n",
       "      <td>service</td>\n",
       "      <td>50.0</td>\n",
       "      <td>52.555</td>\n",
       "      <td>2</td>\n",
       "      <td>LINESTRING (12.57488 55.70488, 12.57404 55.70485)</td>\n",
       "      <td>...</td>\n",
       "      <td>NaN</td>\n",
       "      <td>0</td>\n",
       "      <td>0</td>\n",
       "      <td>0</td>\n",
       "      <td>0</td>\n",
       "      <td>NaN</td>\n",
       "      <td>0.0</td>\n",
       "      <td>NaN</td>\n",
       "      <td>NaN</td>\n",
       "      <td>0.0</td>\n",
       "    </tr>\n",
       "  </tbody>\n",
       "</table>\n",
       "<p>1 rows × 37 columns</p>\n",
       "</div>"
      ],
      "text/plain": [
       "   index           u           v     osmid                     name  highway  \\\n",
       "3  49268  3289070014  4502345275  41501770  Gunnar Nu Hansens Plads  service   \n",
       "\n",
       "   maxspeed  length  lanes                                           geometry  \\\n",
       "3      50.0  52.555      2  LINESTRING (12.57488 55.70488, 12.57404 55.70485)   \n",
       "\n",
       "   ...  id  slaegt  bydelsnavn  placering  omgivelse  wkb_geometry  planteaar  \\\n",
       "3  ... NaN       0           0          0          0           NaN        0.0   \n",
       "\n",
       "   lon  lat  tree_count  \n",
       "3  NaN  NaN         0.0  \n",
       "\n",
       "[1 rows x 37 columns]"
      ]
     },
     "execution_count": 383,
     "metadata": {},
     "output_type": "execute_result"
    }
   ],
   "source": [
    "from shapely import wkt\n",
    "fn_trees['geometry'] = fn_trees['geometry'].apply(wkt.loads)\n",
    "\n",
    "fn_trees_gdf = gpd.GeoDataFrame(fn_trees, geometry='geometry')\n",
    "fn_trees_gdf.head(1)"
   ]
  },
  {
   "cell_type": "code",
   "execution_count": 384,
   "id": "efaaab0c",
   "metadata": {},
   "outputs": [
    {
     "name": "stderr",
     "output_type": "stream",
     "text": [
      "/var/folders/92/g6x9yhvs6qs640vx7psry10r0000gn/T/ipykernel_75520/1879796227.py:1: UserWarning:\n",
      "\n",
      "CRS mismatch between the CRS of left geometries and the CRS of right geometries.\n",
      "Use `to_crs()` to reproject one of the input geometries to match the CRS of the other.\n",
      "\n",
      "Left CRS: None\n",
      "Right CRS: GEOGCS[\"WGS 84\",DATUM[\"WGS_1984\",SPHEROID[\"WGS 84\" ...\n",
      "\n",
      "\n"
     ]
    }
   ],
   "source": [
    "#Intersect false positive streets with c\n",
    "pred_trees_districts = gpd.sjoin(fn_trees_gdf, shapefile, how = 'inner', predicate = \"intersects\")"
   ]
  },
  {
   "cell_type": "code",
   "execution_count": 397,
   "id": "4a75282e",
   "metadata": {},
   "outputs": [],
   "source": [
    "#Compute percentage of false positives for each city district\n",
    "percentages=[]\n",
    "for key, val in trees[\"bydelsnavn\"].value_counts().items():\n",
    "    for key2, val2 in pred_trees_districts[\"navn\"].value_counts().items():\n",
    "        if key == key2:\n",
    "            percentage = val2/val*100\n",
    "            percentages.append([key, percentage])\n",
    "            \n"
   ]
  },
  {
   "cell_type": "code",
   "execution_count": 422,
   "id": "b9a8e891",
   "metadata": {},
   "outputs": [
    {
     "data": {
      "text/html": [
       "<div>\n",
       "<style scoped>\n",
       "    .dataframe tbody tr th:only-of-type {\n",
       "        vertical-align: middle;\n",
       "    }\n",
       "\n",
       "    .dataframe tbody tr th {\n",
       "        vertical-align: top;\n",
       "    }\n",
       "\n",
       "    .dataframe thead th {\n",
       "        text-align: right;\n",
       "    }\n",
       "</style>\n",
       "<table border=\"1\" class=\"dataframe\">\n",
       "  <thead>\n",
       "    <tr style=\"text-align: right;\">\n",
       "      <th></th>\n",
       "      <th>bydelsnavn</th>\n",
       "      <th>percentage</th>\n",
       "    </tr>\n",
       "  </thead>\n",
       "  <tbody>\n",
       "    <tr>\n",
       "      <th>0</th>\n",
       "      <td>Østerbro</td>\n",
       "      <td>9.314858</td>\n",
       "    </tr>\n",
       "    <tr>\n",
       "      <th>1</th>\n",
       "      <td>Indre By</td>\n",
       "      <td>15.442951</td>\n",
       "    </tr>\n",
       "    <tr>\n",
       "      <th>2</th>\n",
       "      <td>Amager Vest</td>\n",
       "      <td>9.728752</td>\n",
       "    </tr>\n",
       "    <tr>\n",
       "      <th>3</th>\n",
       "      <td>Nørrebro</td>\n",
       "      <td>9.731114</td>\n",
       "    </tr>\n",
       "    <tr>\n",
       "      <th>4</th>\n",
       "      <td>Vesterbro-Kongens Enghave</td>\n",
       "      <td>10.813226</td>\n",
       "    </tr>\n",
       "    <tr>\n",
       "      <th>5</th>\n",
       "      <td>Valby</td>\n",
       "      <td>10.494170</td>\n",
       "    </tr>\n",
       "    <tr>\n",
       "      <th>6</th>\n",
       "      <td>Amager Øst</td>\n",
       "      <td>20.789474</td>\n",
       "    </tr>\n",
       "    <tr>\n",
       "      <th>7</th>\n",
       "      <td>Bispebjerg</td>\n",
       "      <td>27.165354</td>\n",
       "    </tr>\n",
       "    <tr>\n",
       "      <th>8</th>\n",
       "      <td>Brønshøj-Husum</td>\n",
       "      <td>10.427011</td>\n",
       "    </tr>\n",
       "    <tr>\n",
       "      <th>9</th>\n",
       "      <td>Vanløse</td>\n",
       "      <td>16.901408</td>\n",
       "    </tr>\n",
       "  </tbody>\n",
       "</table>\n",
       "</div>"
      ],
      "text/plain": [
       "                  bydelsnavn  percentage\n",
       "0                   Østerbro    9.314858\n",
       "1                   Indre By   15.442951\n",
       "2                Amager Vest    9.728752\n",
       "3                   Nørrebro    9.731114\n",
       "4  Vesterbro-Kongens Enghave   10.813226\n",
       "5                      Valby   10.494170\n",
       "6                 Amager Øst   20.789474\n",
       "7                 Bispebjerg   27.165354\n",
       "8             Brønshøj-Husum   10.427011\n",
       "9                    Vanløse   16.901408"
      ]
     },
     "execution_count": 422,
     "metadata": {},
     "output_type": "execute_result"
    }
   ],
   "source": [
    "prediction_percentage = pd.DataFrame(percentages, columns =[\"bydelsnavn\", \"percentage\"])\n",
    "prediction_percentage"
   ]
  },
  {
   "cell_type": "code",
   "execution_count": 425,
   "id": "20a99e95",
   "metadata": {},
   "outputs": [
    {
     "data": {
      "text/html": [
       "<div>\n",
       "<style scoped>\n",
       "    .dataframe tbody tr th:only-of-type {\n",
       "        vertical-align: middle;\n",
       "    }\n",
       "\n",
       "    .dataframe tbody tr th {\n",
       "        vertical-align: top;\n",
       "    }\n",
       "\n",
       "    .dataframe thead th {\n",
       "        text-align: right;\n",
       "    }\n",
       "</style>\n",
       "<table border=\"1\" class=\"dataframe\">\n",
       "  <thead>\n",
       "    <tr style=\"text-align: right;\">\n",
       "      <th></th>\n",
       "      <th>count</th>\n",
       "      <th>id</th>\n",
       "      <th>bydel_nr</th>\n",
       "      <th>navn</th>\n",
       "      <th>areal_m2</th>\n",
       "      <th>ogc_fid</th>\n",
       "      <th>geometry</th>\n",
       "      <th>population</th>\n",
       "    </tr>\n",
       "  </thead>\n",
       "  <tbody>\n",
       "    <tr>\n",
       "      <th>0</th>\n",
       "      <td>3897</td>\n",
       "      <td>1</td>\n",
       "      <td>2.0</td>\n",
       "      <td>Østerbro</td>\n",
       "      <td>9858727.0</td>\n",
       "      <td>5</td>\n",
       "      <td>POLYGON ((12.59777 55.70348, 12.59700 55.70331...</td>\n",
       "      <td>65877</td>\n",
       "    </tr>\n",
       "    <tr>\n",
       "      <th>1</th>\n",
       "      <td>2901</td>\n",
       "      <td>1</td>\n",
       "      <td>1.0</td>\n",
       "      <td>Indre By</td>\n",
       "      <td>10471990.0</td>\n",
       "      <td>10</td>\n",
       "      <td>MULTIPOLYGON (((12.72897 55.70386, 12.72899 55...</td>\n",
       "      <td>87226</td>\n",
       "    </tr>\n",
       "    <tr>\n",
       "      <th>2</th>\n",
       "      <td>2765</td>\n",
       "      <td>1</td>\n",
       "      <td>10.0</td>\n",
       "      <td>Amager Vest</td>\n",
       "      <td>19364766.0</td>\n",
       "      <td>4</td>\n",
       "      <td>POLYGON ((12.58271 55.66850, 12.58661 55.66783...</td>\n",
       "      <td>80363</td>\n",
       "    </tr>\n",
       "    <tr>\n",
       "      <th>3</th>\n",
       "      <td>2343</td>\n",
       "      <td>1</td>\n",
       "      <td>3.0</td>\n",
       "      <td>Nørrebro</td>\n",
       "      <td>4107620.0</td>\n",
       "      <td>1</td>\n",
       "      <td>POLYGON ((12.53704 55.69653, 12.53736 55.69661...</td>\n",
       "      <td>56395</td>\n",
       "    </tr>\n",
       "    <tr>\n",
       "      <th>4</th>\n",
       "      <td>2238</td>\n",
       "      <td>1</td>\n",
       "      <td>4.0</td>\n",
       "      <td>Vesterbro-Kongens Enghave</td>\n",
       "      <td>8327301.0</td>\n",
       "      <td>6</td>\n",
       "      <td>POLYGON ((12.54553 55.63972, 12.54677 55.63900...</td>\n",
       "      <td>40710</td>\n",
       "    </tr>\n",
       "  </tbody>\n",
       "</table>\n",
       "</div>"
      ],
      "text/plain": [
       "   count  id  bydel_nr                       navn    areal_m2 ogc_fid  \\\n",
       "0   3897   1       2.0                   Østerbro   9858727.0       5   \n",
       "1   2901   1       1.0                   Indre By  10471990.0      10   \n",
       "2   2765   1      10.0                Amager Vest  19364766.0       4   \n",
       "3   2343   1       3.0                   Nørrebro   4107620.0       1   \n",
       "4   2238   1       4.0  Vesterbro-Kongens Enghave   8327301.0       6   \n",
       "\n",
       "                                            geometry  population  \n",
       "0  POLYGON ((12.59777 55.70348, 12.59700 55.70331...       65877  \n",
       "1  MULTIPOLYGON (((12.72897 55.70386, 12.72899 55...       87226  \n",
       "2  POLYGON ((12.58271 55.66850, 12.58661 55.66783...       80363  \n",
       "3  POLYGON ((12.53704 55.69653, 12.53736 55.69661...       56395  \n",
       "4  POLYGON ((12.54553 55.63972, 12.54677 55.63900...       40710  "
      ]
     },
     "execution_count": 425,
     "metadata": {},
     "output_type": "execute_result"
    }
   ],
   "source": [
    "trees_districts = pd.merge(trees_in_districts, shapefile, left_on=\"bydelsnavn\", right_on=\"navn\")\n",
    "trees_districts.head()"
   ]
  },
  {
   "cell_type": "code",
   "execution_count": 426,
   "id": "f1fc62ea",
   "metadata": {},
   "outputs": [],
   "source": [
    "trees_districts = pd.merge(trees_districts, prediction_percentage, left_on =\"navn\", right_on=\"bydelsnavn\")"
   ]
  },
  {
   "cell_type": "code",
   "execution_count": 427,
   "id": "73237739",
   "metadata": {
    "scrolled": true
   },
   "outputs": [
    {
     "data": {
      "text/html": [
       "<div>\n",
       "<style scoped>\n",
       "    .dataframe tbody tr th:only-of-type {\n",
       "        vertical-align: middle;\n",
       "    }\n",
       "\n",
       "    .dataframe tbody tr th {\n",
       "        vertical-align: top;\n",
       "    }\n",
       "\n",
       "    .dataframe thead th {\n",
       "        text-align: right;\n",
       "    }\n",
       "</style>\n",
       "<table border=\"1\" class=\"dataframe\">\n",
       "  <thead>\n",
       "    <tr style=\"text-align: right;\">\n",
       "      <th></th>\n",
       "      <th>count</th>\n",
       "      <th>id</th>\n",
       "      <th>bydel_nr</th>\n",
       "      <th>navn</th>\n",
       "      <th>areal_m2</th>\n",
       "      <th>ogc_fid</th>\n",
       "      <th>geometry</th>\n",
       "      <th>population</th>\n",
       "      <th>bydelsnavn</th>\n",
       "      <th>percentage</th>\n",
       "    </tr>\n",
       "  </thead>\n",
       "  <tbody>\n",
       "    <tr>\n",
       "      <th>0</th>\n",
       "      <td>3897</td>\n",
       "      <td>1</td>\n",
       "      <td>2.0</td>\n",
       "      <td>Østerbro</td>\n",
       "      <td>9858727.0</td>\n",
       "      <td>5</td>\n",
       "      <td>POLYGON ((12.59777 55.70348, 12.59700 55.70331...</td>\n",
       "      <td>65877</td>\n",
       "      <td>Østerbro</td>\n",
       "      <td>9.314858</td>\n",
       "    </tr>\n",
       "  </tbody>\n",
       "</table>\n",
       "</div>"
      ],
      "text/plain": [
       "   count  id  bydel_nr      navn   areal_m2 ogc_fid  \\\n",
       "0   3897   1       2.0  Østerbro  9858727.0       5   \n",
       "\n",
       "                                            geometry  population bydelsnavn  \\\n",
       "0  POLYGON ((12.59777 55.70348, 12.59700 55.70331...       65877   Østerbro   \n",
       "\n",
       "   percentage  \n",
       "0    9.314858  "
      ]
     },
     "execution_count": 427,
     "metadata": {},
     "output_type": "execute_result"
    }
   ],
   "source": [
    "#trees_districts['geometry'] = trees_districts['geometry'].apply(wkt.loads)\n",
    "\n",
    "trees_districts_gdf = gpd.GeoDataFrame(trees_districts, geometry='geometry')\n",
    "trees_districts_gdf.head(1)"
   ]
  },
  {
   "cell_type": "code",
   "execution_count": 457,
   "id": "064d610d",
   "metadata": {},
   "outputs": [
    {
     "data": {
      "text/plain": [
       "(12.438985278000024, 12.748313332195444, 55.606849684208655, 55.73870494954021)"
      ]
     },
     "execution_count": 457,
     "metadata": {},
     "output_type": "execute_result"
    },
    {
     "data": {
      "image/png": "[encoded data removed]",
      "text/plain": [
       "<Figure size 1500x1000 with 2 Axes>"
      ]
     },
     "metadata": {},
     "output_type": "display_data"
    }
   ],
   "source": [
    "#Tree population heatmap\n",
    "\n",
    "fig, ax = plt.subplots(1, figsize=(15,10))\n",
    "trees_districts_gdf.plot(column='count', cmap='Greens', linewidth=1, ax=ax, edgecolor='0.9', legend = True)\n",
    "ax.set_title(\"Trees per City District\")\n",
    "ax.axis('off')"
   ]
  },
  {
   "cell_type": "code",
   "execution_count": 458,
   "id": "65c80793",
   "metadata": {},
   "outputs": [
    {
     "data": {
      "text/plain": [
       "(12.438985278000024, 12.748313332195444, 55.606849684208655, 55.73870494954021)"
      ]
     },
     "execution_count": 458,
     "metadata": {},
     "output_type": "execute_result"
    },
    {
     "data": {
      "image/png": "[encoded data removed]",
      "text/plain": [
       "<Figure size 1500x1000 with 2 Axes>"
      ]
     },
     "metadata": {},
     "output_type": "display_data"
    }
   ],
   "source": [
    "#False positive prediction heatmap\n",
    "\n",
    "fig, ax = plt.subplots(1, figsize=(15,10))\n",
    "trees_districts_gdf.plot(column='percentage', cmap='Blues', linewidth=1, ax=ax, edgecolor='0.9', legend = True)\n",
    "ax.set_title(\"False Positive Predictions per City District\")\n",
    "ax.axis('off')"
   ]
  },
  {
   "cell_type": "code",
   "execution_count": 435,
   "id": "b268d8ac",
   "metadata": {},
   "outputs": [
    {
     "data": {
      "text/html": [
       "<div>\n",
       "<style scoped>\n",
       "    .dataframe tbody tr th:only-of-type {\n",
       "        vertical-align: middle;\n",
       "    }\n",
       "\n",
       "    .dataframe tbody tr th {\n",
       "        vertical-align: top;\n",
       "    }\n",
       "\n",
       "    .dataframe thead th {\n",
       "        text-align: right;\n",
       "    }\n",
       "</style>\n",
       "<table border=\"1\" class=\"dataframe\">\n",
       "  <thead>\n",
       "    <tr style=\"text-align: right;\">\n",
       "      <th></th>\n",
       "      <th>count</th>\n",
       "      <th>id</th>\n",
       "      <th>bydel_nr</th>\n",
       "      <th>navn</th>\n",
       "      <th>areal_m2</th>\n",
       "      <th>ogc_fid</th>\n",
       "      <th>geometry</th>\n",
       "      <th>population</th>\n",
       "      <th>trees_per_person</th>\n",
       "    </tr>\n",
       "  </thead>\n",
       "  <tbody>\n",
       "    <tr>\n",
       "      <th>0</th>\n",
       "      <td>3897</td>\n",
       "      <td>1</td>\n",
       "      <td>2.0</td>\n",
       "      <td>Østerbro</td>\n",
       "      <td>9858727.0</td>\n",
       "      <td>5</td>\n",
       "      <td>POLYGON ((12.59777 55.70348, 12.59700 55.70331...</td>\n",
       "      <td>65877</td>\n",
       "      <td>0.059156</td>\n",
       "    </tr>\n",
       "  </tbody>\n",
       "</table>\n",
       "</div>"
      ],
      "text/plain": [
       "   count  id  bydel_nr      navn   areal_m2 ogc_fid  \\\n",
       "0   3897   1       2.0  Østerbro  9858727.0       5   \n",
       "\n",
       "                                            geometry  population  \\\n",
       "0  POLYGON ((12.59777 55.70348, 12.59700 55.70331...       65877   \n",
       "\n",
       "   trees_per_person  \n",
       "0          0.059156  "
      ]
     },
     "execution_count": 435,
     "metadata": {},
     "output_type": "execute_result"
    }
   ],
   "source": [
    "#Making heatmap for trees per person\n",
    "\n",
    "#merged['geometry'] = merged['geometry'].apply(wkt.loads)\n",
    "\n",
    "merged_gdf = gpd.GeoDataFrame(merged, geometry='geometry')\n",
    "merged_gdf.head(1)"
   ]
  },
  {
   "cell_type": "code",
   "execution_count": 459,
   "id": "34909c73",
   "metadata": {},
   "outputs": [
    {
     "data": {
      "text/plain": [
       "(12.438985278000024, 12.748313332195444, 55.606849684208655, 55.73870494954021)"
      ]
     },
     "execution_count": 459,
     "metadata": {},
     "output_type": "execute_result"
    },
    {
     "data": {
      "image/png": "[encoded data removed]",
      "text/plain": [
       "<Figure size 1500x1000 with 2 Axes>"
      ]
     },
     "metadata": {},
     "output_type": "display_data"
    }
   ],
   "source": [
    "#Trees per person heatmap\n",
    "\n",
    "fig, ax = plt.subplots(1, figsize=(15,10))\n",
    "merged_gdf.plot(column='trees_per_person', cmap='Purples', linewidth=1, ax=ax, edgecolor='0.9', legend = True)\n",
    "ax.set_title(\"Trees per Person per City District\")\n",
    "ax.axis('off')"
   ]
  }
 ],
 "metadata": {
  "kernelspec": {
   "display_name": "Python 3 (ipykernel)",
   "language": "python",
   "name": "python3"
  },
  "language_info": {
   "codemirror_mode": {
    "name": "ipython",
    "version": 3
   },
   "file_extension": ".py",
   "mimetype": "text/x-python",
   "name": "python",
   "nbconvert_exporter": "python",
   "pygments_lexer": "ipython3",
   "version": "3.9.16"
  }
 },
 "nbformat": 4,
 "nbformat_minor": 5
}
