{
 "cells": [
  {
   "cell_type": "markdown",
   "id": "96f5fe1d",
   "metadata": {},
   "source": [
    "# Intersections\n",
    "Author: Ida Thrane (idth@itu.dk)\n",
    "\n",
    "Finding intersections between roads and spatial footprint layers"
   ]
  },
  {
   "cell_type": "code",
   "execution_count": 2,
   "id": "83c04e7a",
   "metadata": {
    "scrolled": true
   },
   "outputs": [],
   "source": [
    "#Import libraries\n",
    "import os\n",
    "os.environ['USE_PYGEOS'] = '0'\n",
    "import geopandas as gpd\n",
    "import pandas as pd\n",
    "from shapely import wkt\n",
    "import osmnx as ox\n",
    "import numpy as np\n",
    "#import dask_geopandas as dask_gpd\n",
    "import shapely as shp"
   ]
  },
  {
   "cell_type": "code",
   "execution_count": 3,
   "id": "099c7917",
   "metadata": {},
   "outputs": [],
   "source": [
    "#G = ox.graph_from_place('Copenhagen Municipality, Denmark')\n",
    "\n",
    "#Save graph for later use \n",
    "#ox.save_graphml(G, \"graphs/cph_graph.graphml\")\n",
    "\n",
    "#Load graph\n",
    "G = ox.load_graphml(\"graphs/cph_graph.graphml\")"
   ]
  },
  {
   "cell_type": "code",
   "execution_count": 4,
   "id": "c3db3468",
   "metadata": {},
   "outputs": [],
   "source": [
    "#Create node and edges of Copenhagen street network\n",
    "gdf_nodes, gdf_edges = ox.graph_to_gdfs(\n",
    "        G,nodes=True, edges=True,\n",
    "        node_geometry=True,\n",
    "        fill_edge_geometry=True)"
   ]
  },
  {
   "cell_type": "code",
   "execution_count": 5,
   "id": "5a0cbb33",
   "metadata": {},
   "outputs": [],
   "source": [
    "#Define buffer size\n",
    "buffer_size = 0.1 #10 meter buffer"
   ]
  },
  {
   "cell_type": "code",
   "execution_count": 6,
   "id": "642fd3ab",
   "metadata": {},
   "outputs": [],
   "source": [
    "#Create road polygons\n",
    "road_polygons = []\n",
    "\n",
    "#crs set to 32632 which covers Copenhagen and has its units in metres\n",
    "gdf_edges = gdf_edges.to_crs(\"EPSG:32632\")\n",
    "for i in gdf_edges[\"geometry\"]:\n",
    "    #Create polygon around street with the defined buffer size\n",
    "    polygon = i.buffer(buffer_size)\n",
    "    road_polygons.append(polygon)"
   ]
  },
  {
   "cell_type": "code",
   "execution_count": 7,
   "id": "77d54d65",
   "metadata": {},
   "outputs": [],
   "source": [
    "gdf_edges[\"geometry\"] = road_polygons"
   ]
  },
  {
   "cell_type": "code",
   "execution_count": 8,
   "id": "a99a303c",
   "metadata": {},
   "outputs": [],
   "source": [
    "gdf_edges = gdf_edges.reset_index(level=[0,1])"
   ]
  },
  {
   "cell_type": "code",
   "execution_count": 20,
   "id": "1685ab43",
   "metadata": {},
   "outputs": [
    {
     "data": {
      "text/plain": [
       "Index(['key', 'u', 'v', 'osmid', 'oneway', 'name', 'highway', 'maxspeed',\n",
       "       'reversed', 'length', 'lanes', 'geometry', 'ref', 'service', 'width',\n",
       "       'access', 'bridge', 'tunnel', 'junction'],\n",
       "      dtype='object')"
      ]
     },
     "execution_count": 20,
     "metadata": {},
     "output_type": "execute_result"
    }
   ],
   "source": [
    "gdf_edges.columns"
   ]
  },
  {
   "cell_type": "code",
   "execution_count": 23,
   "id": "5c07844e",
   "metadata": {
    "scrolled": true
   },
   "outputs": [],
   "source": [
    "#Read in intersections\n",
    "#gdf_intersections = gdf_edges.to_csv(\"graphs/gdf_intersections.csv\")\n",
    "\n",
    "gdf_edges = pd.read_csv(\"graphs/gdf_intersections.csv\")\n",
    "\n",
    "#Create gdf\n",
    "gdf_edges['geometry'] = gdf_edges['geometry'].apply(wkt.loads)\n",
    "gdf_edges = gpd.GeoDataFrame(gdf_edges, crs=\"EPSG:32632\", geometry=\"geometry\")"
   ]
  },
  {
   "cell_type": "code",
   "execution_count": 24,
   "id": "61661f78",
   "metadata": {},
   "outputs": [],
   "source": [
    "gdf_roads_short = gdf_edges[['osmid', 'geometry','u','v']]"
   ]
  },
  {
   "cell_type": "code",
   "execution_count": 25,
   "id": "8c8faba1",
   "metadata": {
    "scrolled": false
   },
   "outputs": [
    {
     "data": {
      "text/html": [
       "<div>\n",
       "<style scoped>\n",
       "    .dataframe tbody tr th:only-of-type {\n",
       "        vertical-align: middle;\n",
       "    }\n",
       "\n",
       "    .dataframe tbody tr th {\n",
       "        vertical-align: top;\n",
       "    }\n",
       "\n",
       "    .dataframe thead th {\n",
       "        text-align: right;\n",
       "    }\n",
       "</style>\n",
       "<table border=\"1\" class=\"dataframe\">\n",
       "  <thead>\n",
       "    <tr style=\"text-align: right;\">\n",
       "      <th></th>\n",
       "      <th>osmid</th>\n",
       "      <th>geometry</th>\n",
       "      <th>u</th>\n",
       "      <th>v</th>\n",
       "    </tr>\n",
       "  </thead>\n",
       "  <tbody>\n",
       "    <tr>\n",
       "      <th>0</th>\n",
       "      <td>27226011</td>\n",
       "      <td>POLYGON ((724031.978 6175537.631, 724031.982 6...</td>\n",
       "      <td>118725</td>\n",
       "      <td>2512504197</td>\n",
       "    </tr>\n",
       "    <tr>\n",
       "      <th>1</th>\n",
       "      <td>140412993</td>\n",
       "      <td>POLYGON ((724051.903 6175566.892, 724059.863 6...</td>\n",
       "      <td>118725</td>\n",
       "      <td>6357644306</td>\n",
       "    </tr>\n",
       "    <tr>\n",
       "      <th>2</th>\n",
       "      <td>2371125</td>\n",
       "      <td>POLYGON ((723797.150 6174181.458, 723786.227 6...</td>\n",
       "      <td>118730</td>\n",
       "      <td>118751</td>\n",
       "    </tr>\n",
       "    <tr>\n",
       "      <th>3</th>\n",
       "      <td>25996200</td>\n",
       "      <td>POLYGON ((724002.014 6174333.243, 724002.020 6...</td>\n",
       "      <td>118732</td>\n",
       "      <td>6534097568</td>\n",
       "    </tr>\n",
       "    <tr>\n",
       "      <th>4</th>\n",
       "      <td>683463579</td>\n",
       "      <td>POLYGON ((724005.826 6174341.896, 724005.834 6...</td>\n",
       "      <td>118732</td>\n",
       "      <td>283603631</td>\n",
       "    </tr>\n",
       "  </tbody>\n",
       "</table>\n",
       "</div>"
      ],
      "text/plain": [
       "       osmid                                           geometry       u  \\\n",
       "0   27226011  POLYGON ((724031.978 6175537.631, 724031.982 6...  118725   \n",
       "1  140412993  POLYGON ((724051.903 6175566.892, 724059.863 6...  118725   \n",
       "2    2371125  POLYGON ((723797.150 6174181.458, 723786.227 6...  118730   \n",
       "3   25996200  POLYGON ((724002.014 6174333.243, 724002.020 6...  118732   \n",
       "4  683463579  POLYGON ((724005.826 6174341.896, 724005.834 6...  118732   \n",
       "\n",
       "            v  \n",
       "0  2512504197  \n",
       "1  6357644306  \n",
       "2      118751  \n",
       "3  6534097568  \n",
       "4   283603631  "
      ]
     },
     "execution_count": 25,
     "metadata": {},
     "output_type": "execute_result"
    }
   ],
   "source": [
    "gdf_roads_short.head()"
   ]
  },
  {
   "cell_type": "code",
   "execution_count": 26,
   "id": "13d4da82",
   "metadata": {},
   "outputs": [
    {
     "data": {
      "text/plain": [
       "<Derived Projected CRS: EPSG:32632>\n",
       "Name: WGS 84 / UTM zone 32N\n",
       "Axis Info [cartesian]:\n",
       "- E[east]: Easting (metre)\n",
       "- N[north]: Northing (metre)\n",
       "Area of Use:\n",
       "- name: Between 6°E and 12°E, northern hemisphere between equator and 84°N, onshore and offshore. Algeria. Austria. Cameroon. Denmark. Equatorial Guinea. France. Gabon. Germany. Italy. Libya. Liechtenstein. Monaco. Netherlands. Niger. Nigeria. Norway. Sao Tome and Principe. Svalbard. Sweden. Switzerland. Tunisia. Vatican City State.\n",
       "- bounds: (6.0, 0.0, 12.0, 84.0)\n",
       "Coordinate Operation:\n",
       "- name: UTM zone 32N\n",
       "- method: Transverse Mercator\n",
       "Datum: World Geodetic System 1984 ensemble\n",
       "- Ellipsoid: WGS 84\n",
       "- Prime Meridian: Greenwich"
      ]
     },
     "execution_count": 26,
     "metadata": {},
     "output_type": "execute_result"
    }
   ],
   "source": [
    "gdf_roads_short.crs"
   ]
  },
  {
   "cell_type": "code",
   "execution_count": 27,
   "id": "ca085c3d",
   "metadata": {},
   "outputs": [],
   "source": [
    "#Read in shapes and points from Copenhagen retrieved from OSM via Geofrabrik\n",
    "#shapes\n",
    "gdf_building_a = gpd.read_file(\"shapes/building_a.shp\")\n",
    "gdf_landuse_a = gpd.read_file(\"shapes/landuse_a.shp\")\n",
    "gdf_natural_a = gpd.read_file(\"shapes/natural_a.shp\")\n",
    "gdf_pofw_a = gpd.read_file(\"shapes/pofw_a.shp\")\n",
    "gdf_pois_a = gpd.read_file(\"shapes/pois_a.shp\")\n",
    "gdf_traffic_a = gpd.read_file(\"shapes/traffic_a.shp\")\n",
    "gdf_water_a = gpd.read_file(\"shapes/water_a.shp\")\n",
    "\n",
    "#points\n",
    "gdf_natural_p = gpd.read_file(\"shapes/natural.shp\")\n",
    "gdf_places_p = gpd.read_file(\"shapes/places.shp\")\n",
    "gdf_pofw_p = gpd.read_file(\"shapes/pofw.shp\")\n",
    "gdf_pois_p = gpd.read_file(\"shapes/pois.shp\")\n",
    "gdf_railways_p = gpd.read_file(\"shapes/railways.shp\")\n",
    "gdf_roads_p = gpd.read_file(\"shapes/roads.shp\")\n",
    "gdf_traffic_p = gpd.read_file(\"shapes/traffic.shp\")\n",
    "gdf_transport_p = gpd.read_file(\"shapes/transport.shp\")\n",
    "gdf_waterways_p = gpd.read_file(\"shapes/waterways.shp\")"
   ]
  },
  {
   "cell_type": "code",
   "execution_count": 29,
   "id": "78efa4c2",
   "metadata": {},
   "outputs": [],
   "source": [
    "#Create one dataframe including all information\n",
    "df_all = pd.concat([gdf_building_a, gdf_landuse_a, gdf_natural_a, gdf_pofw_a, gdf_pois_a, gdf_traffic_a, gdf_water_a])"
   ]
  },
  {
   "cell_type": "code",
   "execution_count": 30,
   "id": "6632fc8b",
   "metadata": {},
   "outputs": [],
   "source": [
    "#Create gdf\n",
    "gdf_all = gpd.GeoDataFrame(df_all, geometry='geometry')"
   ]
  },
  {
   "cell_type": "code",
   "execution_count": 31,
   "id": "612377fb",
   "metadata": {},
   "outputs": [],
   "source": [
    "gdf_all = gdf_all[['id','boundary', 'name', 'type', 'osm_id', 'fclass', 'name_2', 'type_2', 'geometry']]"
   ]
  },
  {
   "cell_type": "code",
   "execution_count": 32,
   "id": "f545f2ac",
   "metadata": {},
   "outputs": [
    {
     "data": {
      "text/html": [
       "<div>\n",
       "<style scoped>\n",
       "    .dataframe tbody tr th:only-of-type {\n",
       "        vertical-align: middle;\n",
       "    }\n",
       "\n",
       "    .dataframe tbody tr th {\n",
       "        vertical-align: top;\n",
       "    }\n",
       "\n",
       "    .dataframe thead th {\n",
       "        text-align: right;\n",
       "    }\n",
       "</style>\n",
       "<table border=\"1\" class=\"dataframe\">\n",
       "  <thead>\n",
       "    <tr style=\"text-align: right;\">\n",
       "      <th></th>\n",
       "      <th>id</th>\n",
       "      <th>boundary</th>\n",
       "      <th>name</th>\n",
       "      <th>type</th>\n",
       "      <th>osm_id</th>\n",
       "      <th>fclass</th>\n",
       "      <th>name_2</th>\n",
       "      <th>type_2</th>\n",
       "      <th>geometry</th>\n",
       "    </tr>\n",
       "  </thead>\n",
       "  <tbody>\n",
       "    <tr>\n",
       "      <th>0</th>\n",
       "      <td>relation/2192363</td>\n",
       "      <td>administrative</td>\n",
       "      <td>Københavns Kommune</td>\n",
       "      <td>boundary</td>\n",
       "      <td>4250592</td>\n",
       "      <td>building</td>\n",
       "      <td>Rigshospitalet</td>\n",
       "      <td>hospital</td>\n",
       "      <td>POLYGON ((12.56522 55.69626, 12.56602 55.69578...</td>\n",
       "    </tr>\n",
       "    <tr>\n",
       "      <th>1</th>\n",
       "      <td>relation/2192363</td>\n",
       "      <td>administrative</td>\n",
       "      <td>Københavns Kommune</td>\n",
       "      <td>boundary</td>\n",
       "      <td>14309996</td>\n",
       "      <td>building</td>\n",
       "      <td>Nykredit</td>\n",
       "      <td>office</td>\n",
       "      <td>POLYGON ((12.57572 55.67008, 12.57634 55.66973...</td>\n",
       "    </tr>\n",
       "    <tr>\n",
       "      <th>2</th>\n",
       "      <td>relation/2192363</td>\n",
       "      <td>administrative</td>\n",
       "      <td>Københavns Kommune</td>\n",
       "      <td>boundary</td>\n",
       "      <td>14310073</td>\n",
       "      <td>building</td>\n",
       "      <td>Copenhagen Marriott Hotel</td>\n",
       "      <td>NaN</td>\n",
       "      <td>POLYGON ((12.57381 55.66875, 12.57379 55.66876...</td>\n",
       "    </tr>\n",
       "    <tr>\n",
       "      <th>3</th>\n",
       "      <td>relation/2192363</td>\n",
       "      <td>administrative</td>\n",
       "      <td>Københavns Kommune</td>\n",
       "      <td>boundary</td>\n",
       "      <td>23540747</td>\n",
       "      <td>building</td>\n",
       "      <td>NaN</td>\n",
       "      <td>apartments</td>\n",
       "      <td>POLYGON ((12.53987 55.69390, 12.53987 55.69393...</td>\n",
       "    </tr>\n",
       "    <tr>\n",
       "      <th>4</th>\n",
       "      <td>relation/2192363</td>\n",
       "      <td>administrative</td>\n",
       "      <td>Københavns Kommune</td>\n",
       "      <td>boundary</td>\n",
       "      <td>24507644</td>\n",
       "      <td>building</td>\n",
       "      <td>Valby Hallen</td>\n",
       "      <td>NaN</td>\n",
       "      <td>POLYGON ((12.51590 55.64946, 12.51725 55.64942...</td>\n",
       "    </tr>\n",
       "  </tbody>\n",
       "</table>\n",
       "</div>"
      ],
      "text/plain": [
       "                 id        boundary                name      type    osm_id  \\\n",
       "0  relation/2192363  administrative  Københavns Kommune  boundary   4250592   \n",
       "1  relation/2192363  administrative  Københavns Kommune  boundary  14309996   \n",
       "2  relation/2192363  administrative  Københavns Kommune  boundary  14310073   \n",
       "3  relation/2192363  administrative  Københavns Kommune  boundary  23540747   \n",
       "4  relation/2192363  administrative  Københavns Kommune  boundary  24507644   \n",
       "\n",
       "     fclass                     name_2      type_2  \\\n",
       "0  building             Rigshospitalet    hospital   \n",
       "1  building                   Nykredit      office   \n",
       "2  building  Copenhagen Marriott Hotel         NaN   \n",
       "3  building                        NaN  apartments   \n",
       "4  building               Valby Hallen         NaN   \n",
       "\n",
       "                                            geometry  \n",
       "0  POLYGON ((12.56522 55.69626, 12.56602 55.69578...  \n",
       "1  POLYGON ((12.57572 55.67008, 12.57634 55.66973...  \n",
       "2  POLYGON ((12.57381 55.66875, 12.57379 55.66876...  \n",
       "3  POLYGON ((12.53987 55.69390, 12.53987 55.69393...  \n",
       "4  POLYGON ((12.51590 55.64946, 12.51725 55.64942...  "
      ]
     },
     "execution_count": 32,
     "metadata": {},
     "output_type": "execute_result"
    }
   ],
   "source": [
    "gdf_all.head()"
   ]
  },
  {
   "cell_type": "markdown",
   "id": "d0171b28",
   "metadata": {},
   "source": [
    "### Buildings"
   ]
  },
  {
   "cell_type": "code",
   "execution_count": 33,
   "id": "6e176946",
   "metadata": {},
   "outputs": [],
   "source": [
    "gdf_buildings = gdf_building_a[['id', 'fclass', 'geometry']]"
   ]
  },
  {
   "cell_type": "code",
   "execution_count": 34,
   "id": "d820341a",
   "metadata": {},
   "outputs": [],
   "source": [
    "#Set matching CRS to the street gdf\n",
    "gdf_buildings = gdf_buildings.to_crs(\"EPSG:32632\")"
   ]
  },
  {
   "cell_type": "code",
   "execution_count": 36,
   "id": "e06e6dc2",
   "metadata": {},
   "outputs": [],
   "source": [
    "#Find intersections between buildings and road polygons\n",
    "spatial_join_buildings = gpd.sjoin(gdf_buildings, gdf_roads_short, how = 'inner', predicate = \"intersects\")"
   ]
  },
  {
   "cell_type": "code",
   "execution_count": 37,
   "id": "d33ecaa6",
   "metadata": {},
   "outputs": [
    {
     "data": {
      "text/html": [
       "<div>\n",
       "<style scoped>\n",
       "    .dataframe tbody tr th:only-of-type {\n",
       "        vertical-align: middle;\n",
       "    }\n",
       "\n",
       "    .dataframe tbody tr th {\n",
       "        vertical-align: top;\n",
       "    }\n",
       "\n",
       "    .dataframe thead th {\n",
       "        text-align: right;\n",
       "    }\n",
       "</style>\n",
       "<table border=\"1\" class=\"dataframe\">\n",
       "  <thead>\n",
       "    <tr style=\"text-align: right;\">\n",
       "      <th></th>\n",
       "      <th>id</th>\n",
       "      <th>fclass</th>\n",
       "      <th>geometry</th>\n",
       "      <th>index_right</th>\n",
       "      <th>osmid</th>\n",
       "      <th>u</th>\n",
       "      <th>v</th>\n",
       "    </tr>\n",
       "  </thead>\n",
       "  <tbody>\n",
       "    <tr>\n",
       "      <th>0</th>\n",
       "      <td>relation/2192363</td>\n",
       "      <td>building</td>\n",
       "      <td>POLYGON ((724043.171 6178036.111, 724096.116 6...</td>\n",
       "      <td>44734</td>\n",
       "      <td>216231104</td>\n",
       "      <td>2380873315</td>\n",
       "      <td>2380873319</td>\n",
       "    </tr>\n",
       "    <tr>\n",
       "      <th>0</th>\n",
       "      <td>relation/2192363</td>\n",
       "      <td>building</td>\n",
       "      <td>POLYGON ((724043.171 6178036.111, 724096.116 6...</td>\n",
       "      <td>44743</td>\n",
       "      <td>216231104</td>\n",
       "      <td>2380873319</td>\n",
       "      <td>2380873315</td>\n",
       "    </tr>\n",
       "    <tr>\n",
       "      <th>0</th>\n",
       "      <td>relation/2192363</td>\n",
       "      <td>building</td>\n",
       "      <td>POLYGON ((724043.171 6178036.111, 724096.116 6...</td>\n",
       "      <td>82545</td>\n",
       "      <td>[216231104, 229497550]</td>\n",
       "      <td>8390857281</td>\n",
       "      <td>2380873319</td>\n",
       "    </tr>\n",
       "    <tr>\n",
       "      <th>0</th>\n",
       "      <td>relation/2192363</td>\n",
       "      <td>building</td>\n",
       "      <td>POLYGON ((724043.171 6178036.111, 724096.116 6...</td>\n",
       "      <td>44742</td>\n",
       "      <td>[216231104, 229497550]</td>\n",
       "      <td>2380873319</td>\n",
       "      <td>8390857281</td>\n",
       "    </tr>\n",
       "    <tr>\n",
       "      <th>0</th>\n",
       "      <td>relation/2192363</td>\n",
       "      <td>building</td>\n",
       "      <td>POLYGON ((724043.171 6178036.111, 724096.116 6...</td>\n",
       "      <td>44741</td>\n",
       "      <td>229497548</td>\n",
       "      <td>2380873319</td>\n",
       "      <td>2380873318</td>\n",
       "    </tr>\n",
       "    <tr>\n",
       "      <th>...</th>\n",
       "      <td>...</td>\n",
       "      <td>...</td>\n",
       "      <td>...</td>\n",
       "      <td>...</td>\n",
       "      <td>...</td>\n",
       "      <td>...</td>\n",
       "      <td>...</td>\n",
       "    </tr>\n",
       "    <tr>\n",
       "      <th>64120</th>\n",
       "      <td>relation/2192363</td>\n",
       "      <td>building</td>\n",
       "      <td>POLYGON ((725371.479 6177722.980, 725377.368 6...</td>\n",
       "      <td>99891</td>\n",
       "      <td>1145134056</td>\n",
       "      <td>10657723413</td>\n",
       "      <td>10657723420</td>\n",
       "    </tr>\n",
       "    <tr>\n",
       "      <th>64118</th>\n",
       "      <td>relation/2192363</td>\n",
       "      <td>building</td>\n",
       "      <td>POLYGON ((725353.515 6177737.829, 725359.523 6...</td>\n",
       "      <td>99900</td>\n",
       "      <td>1145134056</td>\n",
       "      <td>10657723420</td>\n",
       "      <td>10657723413</td>\n",
       "    </tr>\n",
       "    <tr>\n",
       "      <th>64120</th>\n",
       "      <td>relation/2192363</td>\n",
       "      <td>building</td>\n",
       "      <td>POLYGON ((725371.479 6177722.980, 725377.368 6...</td>\n",
       "      <td>99900</td>\n",
       "      <td>1145134056</td>\n",
       "      <td>10657723420</td>\n",
       "      <td>10657723413</td>\n",
       "    </tr>\n",
       "    <tr>\n",
       "      <th>64119</th>\n",
       "      <td>relation/2192363</td>\n",
       "      <td>building</td>\n",
       "      <td>POLYGON ((725366.000 6177726.131, 725364.582 6...</td>\n",
       "      <td>99893</td>\n",
       "      <td>[1145134056, 1145134059]</td>\n",
       "      <td>10657723413</td>\n",
       "      <td>10657723417</td>\n",
       "    </tr>\n",
       "    <tr>\n",
       "      <th>64119</th>\n",
       "      <td>relation/2192363</td>\n",
       "      <td>building</td>\n",
       "      <td>POLYGON ((725366.000 6177726.131, 725364.582 6...</td>\n",
       "      <td>99899</td>\n",
       "      <td>[1145134056, 1145134059]</td>\n",
       "      <td>10657723417</td>\n",
       "      <td>10657723413</td>\n",
       "    </tr>\n",
       "  </tbody>\n",
       "</table>\n",
       "<p>4193 rows × 7 columns</p>\n",
       "</div>"
      ],
      "text/plain": [
       "                     id    fclass  \\\n",
       "0      relation/2192363  building   \n",
       "0      relation/2192363  building   \n",
       "0      relation/2192363  building   \n",
       "0      relation/2192363  building   \n",
       "0      relation/2192363  building   \n",
       "...                 ...       ...   \n",
       "64120  relation/2192363  building   \n",
       "64118  relation/2192363  building   \n",
       "64120  relation/2192363  building   \n",
       "64119  relation/2192363  building   \n",
       "64119  relation/2192363  building   \n",
       "\n",
       "                                                geometry  index_right  \\\n",
       "0      POLYGON ((724043.171 6178036.111, 724096.116 6...        44734   \n",
       "0      POLYGON ((724043.171 6178036.111, 724096.116 6...        44743   \n",
       "0      POLYGON ((724043.171 6178036.111, 724096.116 6...        82545   \n",
       "0      POLYGON ((724043.171 6178036.111, 724096.116 6...        44742   \n",
       "0      POLYGON ((724043.171 6178036.111, 724096.116 6...        44741   \n",
       "...                                                  ...          ...   \n",
       "64120  POLYGON ((725371.479 6177722.980, 725377.368 6...        99891   \n",
       "64118  POLYGON ((725353.515 6177737.829, 725359.523 6...        99900   \n",
       "64120  POLYGON ((725371.479 6177722.980, 725377.368 6...        99900   \n",
       "64119  POLYGON ((725366.000 6177726.131, 725364.582 6...        99893   \n",
       "64119  POLYGON ((725366.000 6177726.131, 725364.582 6...        99899   \n",
       "\n",
       "                          osmid            u            v  \n",
       "0                     216231104   2380873315   2380873319  \n",
       "0                     216231104   2380873319   2380873315  \n",
       "0        [216231104, 229497550]   8390857281   2380873319  \n",
       "0        [216231104, 229497550]   2380873319   8390857281  \n",
       "0                     229497548   2380873319   2380873318  \n",
       "...                         ...          ...          ...  \n",
       "64120                1145134056  10657723413  10657723420  \n",
       "64118                1145134056  10657723420  10657723413  \n",
       "64120                1145134056  10657723420  10657723413  \n",
       "64119  [1145134056, 1145134059]  10657723413  10657723417  \n",
       "64119  [1145134056, 1145134059]  10657723417  10657723413  \n",
       "\n",
       "[4193 rows x 7 columns]"
      ]
     },
     "execution_count": 37,
     "metadata": {},
     "output_type": "execute_result"
    }
   ],
   "source": [
    "spatial_join_buildings"
   ]
  },
  {
   "cell_type": "code",
   "execution_count": 38,
   "id": "9602740b",
   "metadata": {
    "scrolled": true
   },
   "outputs": [
    {
     "data": {
      "text/html": [
       "<div>\n",
       "<style scoped>\n",
       "    .dataframe tbody tr th:only-of-type {\n",
       "        vertical-align: middle;\n",
       "    }\n",
       "\n",
       "    .dataframe tbody tr th {\n",
       "        vertical-align: top;\n",
       "    }\n",
       "\n",
       "    .dataframe thead th {\n",
       "        text-align: right;\n",
       "    }\n",
       "</style>\n",
       "<table border=\"1\" class=\"dataframe\">\n",
       "  <thead>\n",
       "    <tr style=\"text-align: right;\">\n",
       "      <th></th>\n",
       "      <th></th>\n",
       "      <th>buildings_count</th>\n",
       "    </tr>\n",
       "    <tr>\n",
       "      <th>u</th>\n",
       "      <th>v</th>\n",
       "      <th></th>\n",
       "    </tr>\n",
       "  </thead>\n",
       "  <tbody>\n",
       "    <tr>\n",
       "      <th rowspan=\"2\" valign=\"top\">118744</th>\n",
       "      <th>1277939654</th>\n",
       "      <td>1</td>\n",
       "    </tr>\n",
       "    <tr>\n",
       "      <th>1277939659</th>\n",
       "      <td>2</td>\n",
       "    </tr>\n",
       "    <tr>\n",
       "      <th>125401</th>\n",
       "      <th>527857404</th>\n",
       "      <td>3</td>\n",
       "    </tr>\n",
       "    <tr>\n",
       "      <th>125423</th>\n",
       "      <th>6465638890</th>\n",
       "      <td>6</td>\n",
       "    </tr>\n",
       "    <tr>\n",
       "      <th>725111</th>\n",
       "      <th>2398732086</th>\n",
       "      <td>1</td>\n",
       "    </tr>\n",
       "  </tbody>\n",
       "</table>\n",
       "</div>"
      ],
      "text/plain": [
       "                   buildings_count\n",
       "u      v                          \n",
       "118744 1277939654                1\n",
       "       1277939659                2\n",
       "125401 527857404                 3\n",
       "125423 6465638890                6\n",
       "725111 2398732086                1"
      ]
     },
     "execution_count": 38,
     "metadata": {},
     "output_type": "execute_result"
    }
   ],
   "source": [
    "#Count buildings for each street by counting osmids, and create new dataframe\n",
    "buildings_count = (spatial_join_buildings.groupby([\"u\", \"v\"])[\"osmid\"].count().to_frame(\"buildings_count\"))\n",
    "\n",
    "buildings_count.head()"
   ]
  },
  {
   "cell_type": "code",
   "execution_count": 39,
   "id": "17231d0e",
   "metadata": {
    "scrolled": true
   },
   "outputs": [
    {
     "data": {
      "text/plain": [
       "buildings_count\n",
       "1                  3757\n",
       "2                   163\n",
       "3                    15\n",
       "4                    12\n",
       "6                     2\n",
       "5                     1\n",
       "Name: count, dtype: int64"
      ]
     },
     "execution_count": 39,
     "metadata": {},
     "output_type": "execute_result"
    }
   ],
   "source": [
    "#Count values\n",
    "buildings_count.value_counts()"
   ]
  },
  {
   "cell_type": "code",
   "execution_count": 40,
   "id": "fce83f8a",
   "metadata": {},
   "outputs": [],
   "source": [
    "#Save count of buildings to a csv-file\n",
    "#buildings_count.to_csv(\"spatial_features/building_count.csv\", header = True)"
   ]
  },
  {
   "cell_type": "markdown",
   "id": "98447a67",
   "metadata": {},
   "source": [
    "These steps are repeated for all categories of spatial footprint features"
   ]
  },
  {
   "cell_type": "markdown",
   "id": "746aadeb",
   "metadata": {},
   "source": [
    "### Landuse"
   ]
  },
  {
   "cell_type": "code",
   "execution_count": 42,
   "id": "066db30f",
   "metadata": {},
   "outputs": [],
   "source": [
    "gdf_landuse = gdf_landuse_a[['id', 'fclass', 'geometry']]"
   ]
  },
  {
   "cell_type": "code",
   "execution_count": 44,
   "id": "93908550",
   "metadata": {},
   "outputs": [],
   "source": [
    "gdf_landuse = gdf_landuse.to_crs(\"EPSG:32632\")"
   ]
  },
  {
   "cell_type": "code",
   "execution_count": 45,
   "id": "cc170471",
   "metadata": {},
   "outputs": [],
   "source": [
    "spatial_join_landuse = gpd.sjoin(gdf_landuse, gdf_roads_short, how = 'inner', predicate = \"intersects\")"
   ]
  },
  {
   "cell_type": "code",
   "execution_count": 46,
   "id": "b40dec53",
   "metadata": {},
   "outputs": [
    {
     "data": {
      "text/plain": [
       "(72848, 7)"
      ]
     },
     "execution_count": 46,
     "metadata": {},
     "output_type": "execute_result"
    }
   ],
   "source": [
    "spatial_join_landuse.shape"
   ]
  },
  {
   "cell_type": "code",
   "execution_count": 47,
   "id": "8127df3e",
   "metadata": {
    "scrolled": true
   },
   "outputs": [
    {
     "data": {
      "text/html": [
       "<div>\n",
       "<style scoped>\n",
       "    .dataframe tbody tr th:only-of-type {\n",
       "        vertical-align: middle;\n",
       "    }\n",
       "\n",
       "    .dataframe tbody tr th {\n",
       "        vertical-align: top;\n",
       "    }\n",
       "\n",
       "    .dataframe thead th {\n",
       "        text-align: right;\n",
       "    }\n",
       "</style>\n",
       "<table border=\"1\" class=\"dataframe\">\n",
       "  <thead>\n",
       "    <tr style=\"text-align: right;\">\n",
       "      <th></th>\n",
       "      <th></th>\n",
       "      <th>landuse_count</th>\n",
       "    </tr>\n",
       "    <tr>\n",
       "      <th>u</th>\n",
       "      <th>v</th>\n",
       "      <th></th>\n",
       "    </tr>\n",
       "  </thead>\n",
       "  <tbody>\n",
       "    <tr>\n",
       "      <th>118781</th>\n",
       "      <th>1555492641</th>\n",
       "      <td>1</td>\n",
       "    </tr>\n",
       "    <tr>\n",
       "      <th rowspan=\"3\" valign=\"top\">118783</th>\n",
       "      <th>118784</th>\n",
       "      <td>1</td>\n",
       "    </tr>\n",
       "    <tr>\n",
       "      <th>1555492641</th>\n",
       "      <td>1</td>\n",
       "    </tr>\n",
       "    <tr>\n",
       "      <th>1555492647</th>\n",
       "      <td>1</td>\n",
       "    </tr>\n",
       "    <tr>\n",
       "      <th>118784</th>\n",
       "      <th>118783</th>\n",
       "      <td>1</td>\n",
       "    </tr>\n",
       "  </tbody>\n",
       "</table>\n",
       "</div>"
      ],
      "text/plain": [
       "                   landuse_count\n",
       "u      v                        \n",
       "118781 1555492641              1\n",
       "118783 118784                  1\n",
       "       1555492641              1\n",
       "       1555492647              1\n",
       "118784 118783                  1"
      ]
     },
     "execution_count": 47,
     "metadata": {},
     "output_type": "execute_result"
    }
   ],
   "source": [
    "#Count landuse for each street by counting osmids, and create new dataframe\n",
    "landuse_count = (spatial_join_landuse.groupby([\"u\", \"v\"])[\"osmid\"].count().to_frame(\"landuse_count\"))\n",
    "\n",
    "landuse_count.head()"
   ]
  },
  {
   "cell_type": "code",
   "execution_count": 49,
   "id": "e2721041",
   "metadata": {},
   "outputs": [],
   "source": [
    "#landuse_count.to_csv(\"spatial_features/landuse_count.csv\", header = True)"
   ]
  },
  {
   "cell_type": "markdown",
   "id": "5742e2d0",
   "metadata": {},
   "source": [
    "### Natural"
   ]
  },
  {
   "cell_type": "code",
   "execution_count": 50,
   "id": "bcd02630",
   "metadata": {},
   "outputs": [],
   "source": [
    "### Natural\n",
    "gdf_natural = gdf_natural_a[['id', 'fclass', 'geometry']]"
   ]
  },
  {
   "cell_type": "code",
   "execution_count": 51,
   "id": "11989ecb",
   "metadata": {},
   "outputs": [],
   "source": [
    "gdf_natural = gdf_natural.to_crs(\"EPSG:32632\")"
   ]
  },
  {
   "cell_type": "code",
   "execution_count": 53,
   "id": "23865be1",
   "metadata": {},
   "outputs": [],
   "source": [
    "spatial_join_natural = gpd.sjoin(gdf_natural, gdf_roads_short, how = 'inner', predicate = \"intersects\")"
   ]
  },
  {
   "cell_type": "code",
   "execution_count": 55,
   "id": "0ab4a7bb",
   "metadata": {},
   "outputs": [
    {
     "data": {
      "text/html": [
       "<div>\n",
       "<style scoped>\n",
       "    .dataframe tbody tr th:only-of-type {\n",
       "        vertical-align: middle;\n",
       "    }\n",
       "\n",
       "    .dataframe tbody tr th {\n",
       "        vertical-align: top;\n",
       "    }\n",
       "\n",
       "    .dataframe thead th {\n",
       "        text-align: right;\n",
       "    }\n",
       "</style>\n",
       "<table border=\"1\" class=\"dataframe\">\n",
       "  <thead>\n",
       "    <tr style=\"text-align: right;\">\n",
       "      <th></th>\n",
       "      <th></th>\n",
       "      <th>natural_count</th>\n",
       "    </tr>\n",
       "    <tr>\n",
       "      <th>u</th>\n",
       "      <th>v</th>\n",
       "      <th></th>\n",
       "    </tr>\n",
       "  </thead>\n",
       "  <tbody>\n",
       "    <tr>\n",
       "      <th rowspan=\"4\" valign=\"top\">247089750</th>\n",
       "      <th>247089752</th>\n",
       "      <td>1</td>\n",
       "    </tr>\n",
       "    <tr>\n",
       "      <th>247089895</th>\n",
       "      <td>1</td>\n",
       "    </tr>\n",
       "    <tr>\n",
       "      <th>1339877008</th>\n",
       "      <td>1</td>\n",
       "    </tr>\n",
       "    <tr>\n",
       "      <th>8499210013</th>\n",
       "      <td>1</td>\n",
       "    </tr>\n",
       "    <tr>\n",
       "      <th>247089752</th>\n",
       "      <th>247089750</th>\n",
       "      <td>1</td>\n",
       "    </tr>\n",
       "  </tbody>\n",
       "</table>\n",
       "</div>"
      ],
      "text/plain": [
       "                      natural_count\n",
       "u         v                        \n",
       "247089750 247089752               1\n",
       "          247089895               1\n",
       "          1339877008              1\n",
       "          8499210013              1\n",
       "247089752 247089750               1"
      ]
     },
     "execution_count": 55,
     "metadata": {},
     "output_type": "execute_result"
    }
   ],
   "source": [
    "#Count natural for each street by counting osmids, and create new dataframe\n",
    "natural_count = (spatial_join_natural.groupby([\"u\", \"v\"])[\"osmid\"].count().to_frame(\"natural_count\"))\n",
    "\n",
    "natural_count.head()"
   ]
  },
  {
   "cell_type": "code",
   "execution_count": 57,
   "id": "3ec15464",
   "metadata": {},
   "outputs": [],
   "source": [
    "#natural_count.to_csv(\"spatial_features/natural_count.csv\", header = True)"
   ]
  },
  {
   "cell_type": "markdown",
   "id": "a5127e45",
   "metadata": {},
   "source": [
    "### pofw"
   ]
  },
  {
   "cell_type": "code",
   "execution_count": 60,
   "id": "d6fb22de",
   "metadata": {},
   "outputs": [],
   "source": [
    "gdf_pofw = gdf_pofw_a[['id', 'fclass', 'geometry']]"
   ]
  },
  {
   "cell_type": "code",
   "execution_count": 61,
   "id": "109add44",
   "metadata": {},
   "outputs": [],
   "source": [
    "gdf_pofw = gdf_pofw.to_crs(\"EPSG:32632\")"
   ]
  },
  {
   "cell_type": "code",
   "execution_count": 62,
   "id": "afd18278",
   "metadata": {},
   "outputs": [],
   "source": [
    "spatial_join_pofw = gpd.sjoin(gdf_pofw, gdf_roads_short, how = 'inner', predicate = \"intersects\")"
   ]
  },
  {
   "cell_type": "code",
   "execution_count": 63,
   "id": "357b3f72",
   "metadata": {
    "scrolled": true
   },
   "outputs": [
    {
     "data": {
      "text/plain": [
       "(26, 7)"
      ]
     },
     "execution_count": 63,
     "metadata": {},
     "output_type": "execute_result"
    }
   ],
   "source": [
    "spatial_join_pofw.shape"
   ]
  },
  {
   "cell_type": "code",
   "execution_count": 64,
   "id": "aaeb8171",
   "metadata": {},
   "outputs": [
    {
     "data": {
      "text/html": [
       "<div>\n",
       "<style scoped>\n",
       "    .dataframe tbody tr th:only-of-type {\n",
       "        vertical-align: middle;\n",
       "    }\n",
       "\n",
       "    .dataframe tbody tr th {\n",
       "        vertical-align: top;\n",
       "    }\n",
       "\n",
       "    .dataframe thead th {\n",
       "        text-align: right;\n",
       "    }\n",
       "</style>\n",
       "<table border=\"1\" class=\"dataframe\">\n",
       "  <thead>\n",
       "    <tr style=\"text-align: right;\">\n",
       "      <th></th>\n",
       "      <th></th>\n",
       "      <th>pofw_count</th>\n",
       "    </tr>\n",
       "    <tr>\n",
       "      <th>u</th>\n",
       "      <th>v</th>\n",
       "      <th></th>\n",
       "    </tr>\n",
       "  </thead>\n",
       "  <tbody>\n",
       "    <tr>\n",
       "      <th>257790024</th>\n",
       "      <th>9725124545</th>\n",
       "      <td>1</td>\n",
       "    </tr>\n",
       "    <tr>\n",
       "      <th>279992717</th>\n",
       "      <th>411631105</th>\n",
       "      <td>1</td>\n",
       "    </tr>\n",
       "    <tr>\n",
       "      <th>411631105</th>\n",
       "      <th>279992717</th>\n",
       "      <td>1</td>\n",
       "    </tr>\n",
       "    <tr>\n",
       "      <th>1574092463</th>\n",
       "      <th>10839839397</th>\n",
       "      <td>1</td>\n",
       "    </tr>\n",
       "    <tr>\n",
       "      <th>2380873318</th>\n",
       "      <th>2380873319</th>\n",
       "      <td>1</td>\n",
       "    </tr>\n",
       "    <tr>\n",
       "      <th>2380873319</th>\n",
       "      <th>2380873318</th>\n",
       "      <td>1</td>\n",
       "    </tr>\n",
       "    <tr>\n",
       "      <th>3188612087</th>\n",
       "      <th>3188612089</th>\n",
       "      <td>1</td>\n",
       "    </tr>\n",
       "    <tr>\n",
       "      <th>3188612089</th>\n",
       "      <th>3188612087</th>\n",
       "      <td>1</td>\n",
       "    </tr>\n",
       "    <tr>\n",
       "      <th>3468170567</th>\n",
       "      <th>3468170568</th>\n",
       "      <td>1</td>\n",
       "    </tr>\n",
       "    <tr>\n",
       "      <th>3468170568</th>\n",
       "      <th>3468170567</th>\n",
       "      <td>1</td>\n",
       "    </tr>\n",
       "    <tr>\n",
       "      <th>3744567750</th>\n",
       "      <th>3744567751</th>\n",
       "      <td>1</td>\n",
       "    </tr>\n",
       "    <tr>\n",
       "      <th>3744567751</th>\n",
       "      <th>3744567750</th>\n",
       "      <td>1</td>\n",
       "    </tr>\n",
       "    <tr>\n",
       "      <th>5020753576</th>\n",
       "      <th>5020753577</th>\n",
       "      <td>1</td>\n",
       "    </tr>\n",
       "    <tr>\n",
       "      <th>5020753577</th>\n",
       "      <th>5020753576</th>\n",
       "      <td>1</td>\n",
       "    </tr>\n",
       "    <tr>\n",
       "      <th>5586606656</th>\n",
       "      <th>9283040410</th>\n",
       "      <td>1</td>\n",
       "    </tr>\n",
       "    <tr>\n",
       "      <th>9283040409</th>\n",
       "      <th>9286721758</th>\n",
       "      <td>1</td>\n",
       "    </tr>\n",
       "    <tr>\n",
       "      <th>9283040410</th>\n",
       "      <th>5586606656</th>\n",
       "      <td>1</td>\n",
       "    </tr>\n",
       "    <tr>\n",
       "      <th>9286721758</th>\n",
       "      <th>9283040409</th>\n",
       "      <td>1</td>\n",
       "    </tr>\n",
       "    <tr>\n",
       "      <th>9714313247</th>\n",
       "      <th>9714313248</th>\n",
       "      <td>1</td>\n",
       "    </tr>\n",
       "    <tr>\n",
       "      <th>9714313248</th>\n",
       "      <th>9714313247</th>\n",
       "      <td>1</td>\n",
       "    </tr>\n",
       "    <tr>\n",
       "      <th>9725124545</th>\n",
       "      <th>257790024</th>\n",
       "      <td>1</td>\n",
       "    </tr>\n",
       "    <tr>\n",
       "      <th>9789336884</th>\n",
       "      <th>9789336885</th>\n",
       "      <td>1</td>\n",
       "    </tr>\n",
       "    <tr>\n",
       "      <th>9789336885</th>\n",
       "      <th>9789336884</th>\n",
       "      <td>1</td>\n",
       "    </tr>\n",
       "    <tr>\n",
       "      <th>10839839397</th>\n",
       "      <th>1574092463</th>\n",
       "      <td>1</td>\n",
       "    </tr>\n",
       "    <tr>\n",
       "      <th>10881746313</th>\n",
       "      <th>10881746326</th>\n",
       "      <td>1</td>\n",
       "    </tr>\n",
       "    <tr>\n",
       "      <th>10881746326</th>\n",
       "      <th>10881746313</th>\n",
       "      <td>1</td>\n",
       "    </tr>\n",
       "  </tbody>\n",
       "</table>\n",
       "</div>"
      ],
      "text/plain": [
       "                         pofw_count\n",
       "u           v                      \n",
       "257790024   9725124545            1\n",
       "279992717   411631105             1\n",
       "411631105   279992717             1\n",
       "1574092463  10839839397           1\n",
       "2380873318  2380873319            1\n",
       "2380873319  2380873318            1\n",
       "3188612087  3188612089            1\n",
       "3188612089  3188612087            1\n",
       "3468170567  3468170568            1\n",
       "3468170568  3468170567            1\n",
       "3744567750  3744567751            1\n",
       "3744567751  3744567750            1\n",
       "5020753576  5020753577            1\n",
       "5020753577  5020753576            1\n",
       "5586606656  9283040410            1\n",
       "9283040409  9286721758            1\n",
       "9283040410  5586606656            1\n",
       "9286721758  9283040409            1\n",
       "9714313247  9714313248            1\n",
       "9714313248  9714313247            1\n",
       "9725124545  257790024             1\n",
       "9789336884  9789336885            1\n",
       "9789336885  9789336884            1\n",
       "10839839397 1574092463            1\n",
       "10881746313 10881746326           1\n",
       "10881746326 10881746313           1"
      ]
     },
     "execution_count": 64,
     "metadata": {},
     "output_type": "execute_result"
    }
   ],
   "source": [
    "#Count pofw for each street by counting osmids, and create new dataframe\n",
    "pofw_count = (spatial_join_pofw.groupby([\"u\", \"v\"])[\"osmid\"].count().to_frame(\"pofw_count\"))\n",
    "\n",
    "pofw_count"
   ]
  },
  {
   "cell_type": "code",
   "execution_count": 65,
   "id": "ad54dde0",
   "metadata": {},
   "outputs": [],
   "source": [
    "#pofw_count.to_csv(\"spatial_features/pofw_count.csv\", header = True)"
   ]
  },
  {
   "cell_type": "markdown",
   "id": "84655d24",
   "metadata": {},
   "source": [
    "### pois"
   ]
  },
  {
   "cell_type": "code",
   "execution_count": 67,
   "id": "c64198fd",
   "metadata": {},
   "outputs": [
    {
     "data": {
      "text/plain": [
       "(2601, 32)"
      ]
     },
     "execution_count": 67,
     "metadata": {},
     "output_type": "execute_result"
    }
   ],
   "source": [
    "gdf_pois_a.shape"
   ]
  },
  {
   "cell_type": "code",
   "execution_count": 68,
   "id": "6d3304be",
   "metadata": {},
   "outputs": [],
   "source": [
    "gdf_pois = gdf_pois_a[['id', 'fclass', 'geometry']]"
   ]
  },
  {
   "cell_type": "code",
   "execution_count": 69,
   "id": "f5270b14",
   "metadata": {
    "scrolled": true
   },
   "outputs": [],
   "source": [
    "gdf_pois = gdf_pois.to_crs(\"EPSG:32632\")"
   ]
  },
  {
   "cell_type": "code",
   "execution_count": 70,
   "id": "b5110e59",
   "metadata": {},
   "outputs": [
    {
     "data": {
      "text/plain": [
       "<Derived Projected CRS: EPSG:32632>\n",
       "Name: WGS 84 / UTM zone 32N\n",
       "Axis Info [cartesian]:\n",
       "- E[east]: Easting (metre)\n",
       "- N[north]: Northing (metre)\n",
       "Area of Use:\n",
       "- name: Between 6°E and 12°E, northern hemisphere between equator and 84°N, onshore and offshore. Algeria. Austria. Cameroon. Denmark. Equatorial Guinea. France. Gabon. Germany. Italy. Libya. Liechtenstein. Monaco. Netherlands. Niger. Nigeria. Norway. Sao Tome and Principe. Svalbard. Sweden. Switzerland. Tunisia. Vatican City State.\n",
       "- bounds: (6.0, 0.0, 12.0, 84.0)\n",
       "Coordinate Operation:\n",
       "- name: UTM zone 32N\n",
       "- method: Transverse Mercator\n",
       "Datum: World Geodetic System 1984 ensemble\n",
       "- Ellipsoid: WGS 84\n",
       "- Prime Meridian: Greenwich"
      ]
     },
     "execution_count": 70,
     "metadata": {},
     "output_type": "execute_result"
    }
   ],
   "source": [
    "gdf_pois.crs"
   ]
  },
  {
   "cell_type": "code",
   "execution_count": 71,
   "id": "3ba1278a",
   "metadata": {},
   "outputs": [],
   "source": [
    "spatial_join_pois = gpd.sjoin(gdf_pois, gdf_roads_short, how = 'inner', predicate = \"intersects\")"
   ]
  },
  {
   "cell_type": "code",
   "execution_count": 73,
   "id": "96c7ce31",
   "metadata": {},
   "outputs": [
    {
     "data": {
      "text/html": [
       "<div>\n",
       "<style scoped>\n",
       "    .dataframe tbody tr th:only-of-type {\n",
       "        vertical-align: middle;\n",
       "    }\n",
       "\n",
       "    .dataframe tbody tr th {\n",
       "        vertical-align: top;\n",
       "    }\n",
       "\n",
       "    .dataframe thead th {\n",
       "        text-align: right;\n",
       "    }\n",
       "</style>\n",
       "<table border=\"1\" class=\"dataframe\">\n",
       "  <thead>\n",
       "    <tr style=\"text-align: right;\">\n",
       "      <th></th>\n",
       "      <th></th>\n",
       "      <th>pois_count</th>\n",
       "    </tr>\n",
       "    <tr>\n",
       "      <th>u</th>\n",
       "      <th>v</th>\n",
       "      <th></th>\n",
       "    </tr>\n",
       "  </thead>\n",
       "  <tbody>\n",
       "    <tr>\n",
       "      <th rowspan=\"2\" valign=\"top\">118744</th>\n",
       "      <th>1277939654</th>\n",
       "      <td>1</td>\n",
       "    </tr>\n",
       "    <tr>\n",
       "      <th>1277939659</th>\n",
       "      <td>2</td>\n",
       "    </tr>\n",
       "    <tr>\n",
       "      <th>125404</th>\n",
       "      <th>3093669085</th>\n",
       "      <td>1</td>\n",
       "    </tr>\n",
       "    <tr>\n",
       "      <th>654737</th>\n",
       "      <th>523637766</th>\n",
       "      <td>1</td>\n",
       "    </tr>\n",
       "    <tr>\n",
       "      <th>697549</th>\n",
       "      <th>298548451</th>\n",
       "      <td>1</td>\n",
       "    </tr>\n",
       "    <tr>\n",
       "      <th>...</th>\n",
       "      <th>...</th>\n",
       "      <td>...</td>\n",
       "    </tr>\n",
       "    <tr>\n",
       "      <th>11039574318</th>\n",
       "      <th>5320228682</th>\n",
       "      <td>1</td>\n",
       "    </tr>\n",
       "    <tr>\n",
       "      <th>11039661886</th>\n",
       "      <th>5320228662</th>\n",
       "      <td>1</td>\n",
       "    </tr>\n",
       "    <tr>\n",
       "      <th>11050942375</th>\n",
       "      <th>7508678338</th>\n",
       "      <td>1</td>\n",
       "    </tr>\n",
       "    <tr>\n",
       "      <th>11050942382</th>\n",
       "      <th>10851398896</th>\n",
       "      <td>1</td>\n",
       "    </tr>\n",
       "    <tr>\n",
       "      <th>11061276798</th>\n",
       "      <th>10063887225</th>\n",
       "      <td>1</td>\n",
       "    </tr>\n",
       "  </tbody>\n",
       "</table>\n",
       "<p>23107 rows × 1 columns</p>\n",
       "</div>"
      ],
      "text/plain": [
       "                         pois_count\n",
       "u           v                      \n",
       "118744      1277939654            1\n",
       "            1277939659            2\n",
       "125404      3093669085            1\n",
       "654737      523637766             1\n",
       "697549      298548451             1\n",
       "...                             ...\n",
       "11039574318 5320228682            1\n",
       "11039661886 5320228662            1\n",
       "11050942375 7508678338            1\n",
       "11050942382 10851398896           1\n",
       "11061276798 10063887225           1\n",
       "\n",
       "[23107 rows x 1 columns]"
      ]
     },
     "execution_count": 73,
     "metadata": {},
     "output_type": "execute_result"
    }
   ],
   "source": [
    "#Count pois for each street by counting osmids, and create new dataframe\n",
    "pois_count = (spatial_join_pois.groupby([\"u\", \"v\"])[\"osmid\"].count().to_frame(\"pois_count\"))\n",
    "\n",
    "pois_count"
   ]
  },
  {
   "cell_type": "code",
   "execution_count": 74,
   "id": "05adec21",
   "metadata": {
    "scrolled": true
   },
   "outputs": [
    {
     "data": {
      "text/plain": [
       "pois_count\n",
       "1             19304\n",
       "2              2858\n",
       "3               841\n",
       "4                88\n",
       "6                16\n",
       "Name: count, dtype: int64"
      ]
     },
     "execution_count": 74,
     "metadata": {},
     "output_type": "execute_result"
    }
   ],
   "source": [
    "pois_count.value_counts()"
   ]
  },
  {
   "cell_type": "code",
   "execution_count": 75,
   "id": "59550ec4",
   "metadata": {},
   "outputs": [],
   "source": [
    "#pois_count.to_csv(\"spatial_features/pois_count.csv\", header = True)"
   ]
  },
  {
   "cell_type": "markdown",
   "id": "ffe35c24",
   "metadata": {},
   "source": [
    "### Traffic"
   ]
  },
  {
   "cell_type": "code",
   "execution_count": 76,
   "id": "bdb59b30",
   "metadata": {},
   "outputs": [
    {
     "data": {
      "text/plain": [
       "(12, 32)"
      ]
     },
     "execution_count": 76,
     "metadata": {},
     "output_type": "execute_result"
    }
   ],
   "source": [
    "gdf_traffic_a.crs\n",
    "gdf_traffic_a.shape"
   ]
  },
  {
   "cell_type": "code",
   "execution_count": 77,
   "id": "f3f78f33",
   "metadata": {},
   "outputs": [],
   "source": [
    "gdf_traffic = gdf_traffic_a[['id', 'fclass', 'geometry']]"
   ]
  },
  {
   "cell_type": "code",
   "execution_count": 78,
   "id": "d3bfc46c",
   "metadata": {},
   "outputs": [],
   "source": [
    "gdf_traffic = gdf_traffic.to_crs(\"EPSG:32632\")"
   ]
  },
  {
   "cell_type": "code",
   "execution_count": 79,
   "id": "7832d334",
   "metadata": {},
   "outputs": [],
   "source": [
    "spatial_join_traffic = gpd.sjoin(gdf_traffic, gdf_roads_short, how = 'inner', predicate = \"intersects\")"
   ]
  },
  {
   "cell_type": "code",
   "execution_count": 80,
   "id": "6589b9f8",
   "metadata": {},
   "outputs": [
    {
     "data": {
      "text/plain": [
       "(11, 7)"
      ]
     },
     "execution_count": 80,
     "metadata": {},
     "output_type": "execute_result"
    }
   ],
   "source": [
    "spatial_join_traffic.shape"
   ]
  },
  {
   "cell_type": "code",
   "execution_count": 81,
   "id": "cc228371",
   "metadata": {},
   "outputs": [
    {
     "data": {
      "text/html": [
       "<div>\n",
       "<style scoped>\n",
       "    .dataframe tbody tr th:only-of-type {\n",
       "        vertical-align: middle;\n",
       "    }\n",
       "\n",
       "    .dataframe tbody tr th {\n",
       "        vertical-align: top;\n",
       "    }\n",
       "\n",
       "    .dataframe thead th {\n",
       "        text-align: right;\n",
       "    }\n",
       "</style>\n",
       "<table border=\"1\" class=\"dataframe\">\n",
       "  <thead>\n",
       "    <tr style=\"text-align: right;\">\n",
       "      <th></th>\n",
       "      <th></th>\n",
       "      <th>traffic_count</th>\n",
       "    </tr>\n",
       "    <tr>\n",
       "      <th>u</th>\n",
       "      <th>v</th>\n",
       "      <th></th>\n",
       "    </tr>\n",
       "  </thead>\n",
       "  <tbody>\n",
       "    <tr>\n",
       "      <th>1063570532</th>\n",
       "      <th>1063570545</th>\n",
       "      <td>1</td>\n",
       "    </tr>\n",
       "    <tr>\n",
       "      <th>1063570545</th>\n",
       "      <th>1063570532</th>\n",
       "      <td>1</td>\n",
       "    </tr>\n",
       "    <tr>\n",
       "      <th>1181499794</th>\n",
       "      <th>9837951695</th>\n",
       "      <td>1</td>\n",
       "    </tr>\n",
       "    <tr>\n",
       "      <th>1387249555</th>\n",
       "      <th>2698667370</th>\n",
       "      <td>1</td>\n",
       "    </tr>\n",
       "    <tr>\n",
       "      <th>1387405746</th>\n",
       "      <th>7596712870</th>\n",
       "      <td>1</td>\n",
       "    </tr>\n",
       "    <tr>\n",
       "      <th>2380873316</th>\n",
       "      <th>2824284164</th>\n",
       "      <td>1</td>\n",
       "    </tr>\n",
       "    <tr>\n",
       "      <th>2516856968</th>\n",
       "      <th>1181499794</th>\n",
       "      <td>1</td>\n",
       "    </tr>\n",
       "    <tr>\n",
       "      <th>2698667370</th>\n",
       "      <th>1387249555</th>\n",
       "      <td>1</td>\n",
       "    </tr>\n",
       "    <tr>\n",
       "      <th>2824284164</th>\n",
       "      <th>2380873316</th>\n",
       "      <td>1</td>\n",
       "    </tr>\n",
       "    <tr>\n",
       "      <th>7596712870</th>\n",
       "      <th>1387405746</th>\n",
       "      <td>1</td>\n",
       "    </tr>\n",
       "    <tr>\n",
       "      <th>9837951700</th>\n",
       "      <th>1181499794</th>\n",
       "      <td>1</td>\n",
       "    </tr>\n",
       "  </tbody>\n",
       "</table>\n",
       "</div>"
      ],
      "text/plain": [
       "                       traffic_count\n",
       "u          v                        \n",
       "1063570532 1063570545              1\n",
       "1063570545 1063570532              1\n",
       "1181499794 9837951695              1\n",
       "1387249555 2698667370              1\n",
       "1387405746 7596712870              1\n",
       "2380873316 2824284164              1\n",
       "2516856968 1181499794              1\n",
       "2698667370 1387249555              1\n",
       "2824284164 2380873316              1\n",
       "7596712870 1387405746              1\n",
       "9837951700 1181499794              1"
      ]
     },
     "execution_count": 81,
     "metadata": {},
     "output_type": "execute_result"
    }
   ],
   "source": [
    "traffic_count = (spatial_join_traffic.groupby([\"u\", \"v\"])[\"osmid\"].count().to_frame(\"traffic_count\"))\n",
    "traffic_count"
   ]
  },
  {
   "cell_type": "code",
   "execution_count": 82,
   "id": "b0e92574",
   "metadata": {},
   "outputs": [
    {
     "data": {
      "text/plain": [
       "traffic_count\n",
       "1                11\n",
       "Name: count, dtype: int64"
      ]
     },
     "execution_count": 82,
     "metadata": {},
     "output_type": "execute_result"
    }
   ],
   "source": [
    "traffic_count.value_counts()"
   ]
  },
  {
   "cell_type": "code",
   "execution_count": 83,
   "id": "3002e8db",
   "metadata": {},
   "outputs": [],
   "source": [
    "#traffic_count.to_csv(\"spatial_features/traffic_count.csv\", header = True)"
   ]
  },
  {
   "cell_type": "markdown",
   "id": "40458ca8",
   "metadata": {},
   "source": [
    "### Water"
   ]
  },
  {
   "cell_type": "code",
   "execution_count": 84,
   "id": "84e99ae0",
   "metadata": {},
   "outputs": [
    {
     "data": {
      "text/plain": [
       "(265, 32)"
      ]
     },
     "execution_count": 84,
     "metadata": {},
     "output_type": "execute_result"
    }
   ],
   "source": [
    "### Water\n",
    "gdf_water_a.crs\n",
    "gdf_water_a.shape"
   ]
  },
  {
   "cell_type": "code",
   "execution_count": 85,
   "id": "63368fde",
   "metadata": {},
   "outputs": [],
   "source": [
    "gdf_water = gdf_water_a[['id', 'fclass', 'geometry']]"
   ]
  },
  {
   "cell_type": "code",
   "execution_count": 86,
   "id": "d29aae86",
   "metadata": {},
   "outputs": [],
   "source": [
    "gdf_water = gdf_water.to_crs(\"EPSG:32632\")"
   ]
  },
  {
   "cell_type": "code",
   "execution_count": 87,
   "id": "0d7ca9ef",
   "metadata": {},
   "outputs": [],
   "source": [
    "spatial_join_water = gpd.sjoin(gdf_water, gdf_roads_short, how = 'inner', predicate = \"intersects\")"
   ]
  },
  {
   "cell_type": "code",
   "execution_count": 88,
   "id": "d400abe1",
   "metadata": {},
   "outputs": [
    {
     "data": {
      "text/plain": [
       "(313, 7)"
      ]
     },
     "execution_count": 88,
     "metadata": {},
     "output_type": "execute_result"
    }
   ],
   "source": [
    "spatial_join_water.shape"
   ]
  },
  {
   "cell_type": "code",
   "execution_count": 89,
   "id": "5ea32adf",
   "metadata": {},
   "outputs": [
    {
     "data": {
      "text/html": [
       "<div>\n",
       "<style scoped>\n",
       "    .dataframe tbody tr th:only-of-type {\n",
       "        vertical-align: middle;\n",
       "    }\n",
       "\n",
       "    .dataframe tbody tr th {\n",
       "        vertical-align: top;\n",
       "    }\n",
       "\n",
       "    .dataframe thead th {\n",
       "        text-align: right;\n",
       "    }\n",
       "</style>\n",
       "<table border=\"1\" class=\"dataframe\">\n",
       "  <thead>\n",
       "    <tr style=\"text-align: right;\">\n",
       "      <th></th>\n",
       "      <th></th>\n",
       "      <th>water_count</th>\n",
       "    </tr>\n",
       "    <tr>\n",
       "      <th>u</th>\n",
       "      <th>v</th>\n",
       "      <th></th>\n",
       "    </tr>\n",
       "  </thead>\n",
       "  <tbody>\n",
       "    <tr>\n",
       "      <th rowspan=\"2\" valign=\"top\">118795</th>\n",
       "      <th>107456766</th>\n",
       "      <td>1</td>\n",
       "    </tr>\n",
       "    <tr>\n",
       "      <th>1302474338</th>\n",
       "      <td>1</td>\n",
       "    </tr>\n",
       "    <tr>\n",
       "      <th>118811</th>\n",
       "      <th>450789549</th>\n",
       "      <td>1</td>\n",
       "    </tr>\n",
       "    <tr>\n",
       "      <th>1055829</th>\n",
       "      <th>1055862</th>\n",
       "      <td>1</td>\n",
       "    </tr>\n",
       "    <tr>\n",
       "      <th>1055839</th>\n",
       "      <th>1055848</th>\n",
       "      <td>1</td>\n",
       "    </tr>\n",
       "    <tr>\n",
       "      <th>...</th>\n",
       "      <th>...</th>\n",
       "      <td>...</td>\n",
       "    </tr>\n",
       "    <tr>\n",
       "      <th>11047148066</th>\n",
       "      <th>11047098643</th>\n",
       "      <td>1</td>\n",
       "    </tr>\n",
       "    <tr>\n",
       "      <th>11047190428</th>\n",
       "      <th>11047190431</th>\n",
       "      <td>1</td>\n",
       "    </tr>\n",
       "    <tr>\n",
       "      <th>11047190431</th>\n",
       "      <th>11047190428</th>\n",
       "      <td>1</td>\n",
       "    </tr>\n",
       "    <tr>\n",
       "      <th>11047190437</th>\n",
       "      <th>11047190615</th>\n",
       "      <td>1</td>\n",
       "    </tr>\n",
       "    <tr>\n",
       "      <th>11047190615</th>\n",
       "      <th>11047190437</th>\n",
       "      <td>1</td>\n",
       "    </tr>\n",
       "  </tbody>\n",
       "</table>\n",
       "<p>305 rows × 1 columns</p>\n",
       "</div>"
      ],
      "text/plain": [
       "                         water_count\n",
       "u           v                       \n",
       "118795      107456766              1\n",
       "            1302474338             1\n",
       "118811      450789549              1\n",
       "1055829     1055862                1\n",
       "1055839     1055848                1\n",
       "...                              ...\n",
       "11047148066 11047098643            1\n",
       "11047190428 11047190431            1\n",
       "11047190431 11047190428            1\n",
       "11047190437 11047190615            1\n",
       "11047190615 11047190437            1\n",
       "\n",
       "[305 rows x 1 columns]"
      ]
     },
     "execution_count": 89,
     "metadata": {},
     "output_type": "execute_result"
    }
   ],
   "source": [
    "water_count = (spatial_join_water.groupby([\"u\", \"v\"])[\"osmid\"].count().to_frame(\"water_count\"))\n",
    "water_count"
   ]
  },
  {
   "cell_type": "code",
   "execution_count": 90,
   "id": "f28dfc92",
   "metadata": {
    "scrolled": true
   },
   "outputs": [
    {
     "data": {
      "text/plain": [
       "water_count\n",
       "1              297\n",
       "2                8\n",
       "Name: count, dtype: int64"
      ]
     },
     "execution_count": 90,
     "metadata": {},
     "output_type": "execute_result"
    }
   ],
   "source": [
    "water_count.value_counts()"
   ]
  },
  {
   "cell_type": "code",
   "execution_count": 91,
   "id": "b44e8b3a",
   "metadata": {},
   "outputs": [],
   "source": [
    "#water_count.to_csv(\"spatial_features/water_count.csv\", header = True)"
   ]
  },
  {
   "cell_type": "code",
   "execution_count": 95,
   "id": "14a343b1",
   "metadata": {},
   "outputs": [],
   "source": [
    "#points\n",
    "gdf_natural = gpd.read_file(\"shapes/natural.shp\")\n",
    "gdf_places = gpd.read_file(\"shapes/places.shp\")\n",
    "gdf_pofw = gpd.read_file(\"shapes/pofw.shp\")\n",
    "gdf_pois = gpd.read_file(\"shapes/pois.shp\")\n",
    "gdf_railways = gpd.read_file(\"shapes/railways.shp\")\n",
    "gdf_roads = gpd.read_file(\"shapes/roads.shp\")\n",
    "gdf_traffic = gpd.read_file(\"shapes/traffic.shp\")\n",
    "gdf_transport = gpd.read_file(\"shapes/transport.shp\")\n",
    "gdf_waterways = gpd.read_file(\"shapes/waterways.shp\")"
   ]
  },
  {
   "cell_type": "markdown",
   "id": "73126bff",
   "metadata": {},
   "source": [
    "### Natural points"
   ]
  },
  {
   "cell_type": "code",
   "execution_count": 96,
   "id": "a2b2b634",
   "metadata": {
    "scrolled": true
   },
   "outputs": [
    {
     "data": {
      "text/plain": [
       "(15452, 3)"
      ]
     },
     "execution_count": 96,
     "metadata": {},
     "output_type": "execute_result"
    }
   ],
   "source": [
    "gdf_natural_p.crs\n",
    "gdf_natural_p.shape"
   ]
  },
  {
   "cell_type": "code",
   "execution_count": 97,
   "id": "60faca0f",
   "metadata": {},
   "outputs": [],
   "source": [
    "gdf_natural_p = gdf_natural_p[['id', 'fclass', 'geometry']]"
   ]
  },
  {
   "cell_type": "code",
   "execution_count": 98,
   "id": "6ec50912",
   "metadata": {},
   "outputs": [],
   "source": [
    "gdf_natural_p = gdf_natural_p.to_crs(\"EPSG:32632\")"
   ]
  },
  {
   "cell_type": "code",
   "execution_count": 99,
   "id": "a0723f02",
   "metadata": {},
   "outputs": [],
   "source": [
    "spatial_join_natural_p = gpd.sjoin(gdf_natural_p, gdf_roads_short, how = 'inner', predicate = \"intersects\")"
   ]
  },
  {
   "cell_type": "code",
   "execution_count": 100,
   "id": "e0507158",
   "metadata": {},
   "outputs": [
    {
     "data": {
      "text/plain": [
       "(12, 7)"
      ]
     },
     "execution_count": 100,
     "metadata": {},
     "output_type": "execute_result"
    }
   ],
   "source": [
    "spatial_join_natural_p.shape"
   ]
  },
  {
   "cell_type": "code",
   "execution_count": 101,
   "id": "3735fe5b",
   "metadata": {},
   "outputs": [
    {
     "data": {
      "text/html": [
       "<div>\n",
       "<style scoped>\n",
       "    .dataframe tbody tr th:only-of-type {\n",
       "        vertical-align: middle;\n",
       "    }\n",
       "\n",
       "    .dataframe tbody tr th {\n",
       "        vertical-align: top;\n",
       "    }\n",
       "\n",
       "    .dataframe thead th {\n",
       "        text-align: right;\n",
       "    }\n",
       "</style>\n",
       "<table border=\"1\" class=\"dataframe\">\n",
       "  <thead>\n",
       "    <tr style=\"text-align: right;\">\n",
       "      <th></th>\n",
       "      <th></th>\n",
       "      <th>natural_p_count</th>\n",
       "    </tr>\n",
       "    <tr>\n",
       "      <th>u</th>\n",
       "      <th>v</th>\n",
       "      <th></th>\n",
       "    </tr>\n",
       "  </thead>\n",
       "  <tbody>\n",
       "    <tr>\n",
       "      <th>298719910</th>\n",
       "      <th>1802824731</th>\n",
       "      <td>1</td>\n",
       "    </tr>\n",
       "    <tr>\n",
       "      <th>1255233390</th>\n",
       "      <th>1305669021</th>\n",
       "      <td>1</td>\n",
       "    </tr>\n",
       "    <tr>\n",
       "      <th>1305669021</th>\n",
       "      <th>1255233390</th>\n",
       "      <td>1</td>\n",
       "    </tr>\n",
       "    <tr>\n",
       "      <th>1584360551</th>\n",
       "      <th>1587010807</th>\n",
       "      <td>1</td>\n",
       "    </tr>\n",
       "    <tr>\n",
       "      <th>1587010807</th>\n",
       "      <th>1584360551</th>\n",
       "      <td>1</td>\n",
       "    </tr>\n",
       "    <tr>\n",
       "      <th>1802824731</th>\n",
       "      <th>298719910</th>\n",
       "      <td>1</td>\n",
       "    </tr>\n",
       "    <tr>\n",
       "      <th>6402189094</th>\n",
       "      <th>7424040085</th>\n",
       "      <td>1</td>\n",
       "    </tr>\n",
       "    <tr>\n",
       "      <th>7424040085</th>\n",
       "      <th>6402189094</th>\n",
       "      <td>1</td>\n",
       "    </tr>\n",
       "    <tr>\n",
       "      <th>7719030124</th>\n",
       "      <th>7719030125</th>\n",
       "      <td>1</td>\n",
       "    </tr>\n",
       "    <tr>\n",
       "      <th>7719030125</th>\n",
       "      <th>7719030124</th>\n",
       "      <td>1</td>\n",
       "    </tr>\n",
       "    <tr>\n",
       "      <th>9339036946</th>\n",
       "      <th>9339036961</th>\n",
       "      <td>1</td>\n",
       "    </tr>\n",
       "    <tr>\n",
       "      <th>9339036961</th>\n",
       "      <th>9339036946</th>\n",
       "      <td>1</td>\n",
       "    </tr>\n",
       "  </tbody>\n",
       "</table>\n",
       "</div>"
      ],
      "text/plain": [
       "                       natural_p_count\n",
       "u          v                          \n",
       "298719910  1802824731                1\n",
       "1255233390 1305669021                1\n",
       "1305669021 1255233390                1\n",
       "1584360551 1587010807                1\n",
       "1587010807 1584360551                1\n",
       "1802824731 298719910                 1\n",
       "6402189094 7424040085                1\n",
       "7424040085 6402189094                1\n",
       "7719030124 7719030125                1\n",
       "7719030125 7719030124                1\n",
       "9339036946 9339036961                1\n",
       "9339036961 9339036946                1"
      ]
     },
     "execution_count": 101,
     "metadata": {},
     "output_type": "execute_result"
    }
   ],
   "source": [
    "natural_p_count = (spatial_join_natural_p.groupby([\"u\", \"v\"])[\"osmid\"].count().to_frame(\"natural_p_count\"))\n",
    "natural_p_count"
   ]
  },
  {
   "cell_type": "code",
   "execution_count": 102,
   "id": "7c1eea93",
   "metadata": {},
   "outputs": [
    {
     "data": {
      "text/plain": [
       "natural_p_count\n",
       "1                  12\n",
       "Name: count, dtype: int64"
      ]
     },
     "execution_count": 102,
     "metadata": {},
     "output_type": "execute_result"
    }
   ],
   "source": [
    "natural_p_count.value_counts()"
   ]
  },
  {
   "cell_type": "code",
   "execution_count": 103,
   "id": "74753753",
   "metadata": {},
   "outputs": [],
   "source": [
    "#natural_p_count.to_csv(\"spatial_features/natural_p_count.csv\", header = True)"
   ]
  },
  {
   "cell_type": "markdown",
   "id": "cc9f9537",
   "metadata": {},
   "source": [
    "### Places"
   ]
  },
  {
   "cell_type": "code",
   "execution_count": 104,
   "id": "d7d77716",
   "metadata": {},
   "outputs": [
    {
     "data": {
      "text/plain": [
       "(39, 33)"
      ]
     },
     "execution_count": 104,
     "metadata": {},
     "output_type": "execute_result"
    }
   ],
   "source": [
    "gdf_places_p.crs\n",
    "gdf_places_p.shape"
   ]
  },
  {
   "cell_type": "code",
   "execution_count": 105,
   "id": "c030a74b",
   "metadata": {},
   "outputs": [],
   "source": [
    "gdf_places_p = gdf_places_p[['id', 'fclass', 'geometry']]"
   ]
  },
  {
   "cell_type": "code",
   "execution_count": 106,
   "id": "26cd1925",
   "metadata": {},
   "outputs": [],
   "source": [
    "gdf_places_p = gdf_places_p.to_crs(\"EPSG:32632\")"
   ]
  },
  {
   "cell_type": "code",
   "execution_count": 107,
   "id": "5476cdff",
   "metadata": {},
   "outputs": [],
   "source": [
    "spatial_join_places_p = gpd.sjoin(gdf_places_p, gdf_roads_short, how = 'inner', predicate = \"intersects\")"
   ]
  },
  {
   "cell_type": "code",
   "execution_count": 108,
   "id": "cf9d0d1d",
   "metadata": {},
   "outputs": [
    {
     "data": {
      "text/plain": [
       "(0, 7)"
      ]
     },
     "execution_count": 108,
     "metadata": {},
     "output_type": "execute_result"
    }
   ],
   "source": [
    "spatial_join_places_p.shape"
   ]
  },
  {
   "cell_type": "code",
   "execution_count": 109,
   "id": "1dd2e08a",
   "metadata": {},
   "outputs": [
    {
     "data": {
      "text/html": [
       "<div>\n",
       "<style scoped>\n",
       "    .dataframe tbody tr th:only-of-type {\n",
       "        vertical-align: middle;\n",
       "    }\n",
       "\n",
       "    .dataframe tbody tr th {\n",
       "        vertical-align: top;\n",
       "    }\n",
       "\n",
       "    .dataframe thead th {\n",
       "        text-align: right;\n",
       "    }\n",
       "</style>\n",
       "<table border=\"1\" class=\"dataframe\">\n",
       "  <thead>\n",
       "    <tr style=\"text-align: right;\">\n",
       "      <th></th>\n",
       "      <th></th>\n",
       "      <th>places_p_count</th>\n",
       "    </tr>\n",
       "    <tr>\n",
       "      <th>u</th>\n",
       "      <th>v</th>\n",
       "      <th></th>\n",
       "    </tr>\n",
       "  </thead>\n",
       "  <tbody>\n",
       "  </tbody>\n",
       "</table>\n",
       "</div>"
      ],
      "text/plain": [
       "Empty DataFrame\n",
       "Columns: [places_p_count]\n",
       "Index: []"
      ]
     },
     "execution_count": 109,
     "metadata": {},
     "output_type": "execute_result"
    }
   ],
   "source": [
    "places_p_count = (spatial_join_places_p.groupby([\"u\", \"v\"])[\"osmid\"].count().to_frame(\"places_p_count\"))\n",
    "places_p_count"
   ]
  },
  {
   "cell_type": "code",
   "execution_count": 110,
   "id": "34597c3c",
   "metadata": {},
   "outputs": [
    {
     "data": {
      "text/plain": [
       "Series([], Name: count, dtype: int64)"
      ]
     },
     "execution_count": 110,
     "metadata": {},
     "output_type": "execute_result"
    }
   ],
   "source": [
    "places_p_count.value_counts()"
   ]
  },
  {
   "cell_type": "code",
   "execution_count": 111,
   "id": "c9ed5d4f",
   "metadata": {},
   "outputs": [],
   "source": [
    "#places_p_count.to_csv(\"spatial_features/places_p_count.csv\", header = True)"
   ]
  },
  {
   "cell_type": "markdown",
   "id": "3c3ed47e",
   "metadata": {},
   "source": [
    "There are no instances of this on the map,  therefore I do not save it. "
   ]
  },
  {
   "cell_type": "markdown",
   "id": "37d5ced3",
   "metadata": {},
   "source": [
    "### pofw points"
   ]
  },
  {
   "cell_type": "code",
   "execution_count": 112,
   "id": "49bcadf3",
   "metadata": {},
   "outputs": [
    {
     "data": {
      "text/plain": [
       "(12, 32)"
      ]
     },
     "execution_count": 112,
     "metadata": {},
     "output_type": "execute_result"
    }
   ],
   "source": [
    "gdf_pofw_p.crs\n",
    "gdf_pofw_p.shape"
   ]
  },
  {
   "cell_type": "code",
   "execution_count": 113,
   "id": "bc50a9bb",
   "metadata": {},
   "outputs": [],
   "source": [
    "gdf_pofw_p = gdf_pofw_p[['id', 'fclass', 'geometry']]"
   ]
  },
  {
   "cell_type": "code",
   "execution_count": 114,
   "id": "4205542c",
   "metadata": {},
   "outputs": [],
   "source": [
    "gdf_pofw_p = gdf_pofw_p.to_crs(\"EPSG:32632\")"
   ]
  },
  {
   "cell_type": "code",
   "execution_count": 115,
   "id": "f0afdc14",
   "metadata": {},
   "outputs": [],
   "source": [
    "spatial_join_pofw_p = gpd.sjoin(gdf_pofw_p, gdf_roads_short, how = 'inner', predicate = \"intersects\")"
   ]
  },
  {
   "cell_type": "code",
   "execution_count": 116,
   "id": "ecc93901",
   "metadata": {},
   "outputs": [
    {
     "data": {
      "text/plain": [
       "(0, 7)"
      ]
     },
     "execution_count": 116,
     "metadata": {},
     "output_type": "execute_result"
    }
   ],
   "source": [
    "spatial_join_pofw_p.shape"
   ]
  },
  {
   "cell_type": "code",
   "execution_count": 117,
   "id": "b1463891",
   "metadata": {},
   "outputs": [
    {
     "data": {
      "text/html": [
       "<div>\n",
       "<style scoped>\n",
       "    .dataframe tbody tr th:only-of-type {\n",
       "        vertical-align: middle;\n",
       "    }\n",
       "\n",
       "    .dataframe tbody tr th {\n",
       "        vertical-align: top;\n",
       "    }\n",
       "\n",
       "    .dataframe thead th {\n",
       "        text-align: right;\n",
       "    }\n",
       "</style>\n",
       "<table border=\"1\" class=\"dataframe\">\n",
       "  <thead>\n",
       "    <tr style=\"text-align: right;\">\n",
       "      <th></th>\n",
       "      <th></th>\n",
       "      <th>pofw_p_count</th>\n",
       "    </tr>\n",
       "    <tr>\n",
       "      <th>u</th>\n",
       "      <th>v</th>\n",
       "      <th></th>\n",
       "    </tr>\n",
       "  </thead>\n",
       "  <tbody>\n",
       "  </tbody>\n",
       "</table>\n",
       "</div>"
      ],
      "text/plain": [
       "Empty DataFrame\n",
       "Columns: [pofw_p_count]\n",
       "Index: []"
      ]
     },
     "execution_count": 117,
     "metadata": {},
     "output_type": "execute_result"
    }
   ],
   "source": [
    "pofw_p_count = (spatial_join_pofw_p.groupby([\"u\", \"v\"])[\"osmid\"].count().to_frame(\"pofw_p_count\"))\n",
    "pofw_p_count"
   ]
  },
  {
   "cell_type": "code",
   "execution_count": 118,
   "id": "d4c07aff",
   "metadata": {},
   "outputs": [
    {
     "data": {
      "text/plain": [
       "Series([], Name: count, dtype: int64)"
      ]
     },
     "execution_count": 118,
     "metadata": {},
     "output_type": "execute_result"
    }
   ],
   "source": [
    "pofw_p_count.value_counts()"
   ]
  },
  {
   "cell_type": "code",
   "execution_count": 119,
   "id": "045d0c8d",
   "metadata": {},
   "outputs": [],
   "source": [
    "#pofw_p_count.to_csv(\"spatial_features/pofw_p_count.csv\", header = True)"
   ]
  },
  {
   "cell_type": "markdown",
   "id": "f7a9b32c",
   "metadata": {},
   "source": [
    "There are no instances of this, therefore I do not save it. "
   ]
  },
  {
   "cell_type": "markdown",
   "id": "e2c330ea",
   "metadata": {},
   "source": [
    "### pois points\n"
   ]
  },
  {
   "cell_type": "code",
   "execution_count": 120,
   "id": "77d62174",
   "metadata": {},
   "outputs": [
    {
     "data": {
      "text/plain": [
       "(12325, 32)"
      ]
     },
     "execution_count": 120,
     "metadata": {},
     "output_type": "execute_result"
    }
   ],
   "source": [
    "gdf_pois_p.crs\n",
    "gdf_pois_p.shape"
   ]
  },
  {
   "cell_type": "code",
   "execution_count": 121,
   "id": "b0927845",
   "metadata": {},
   "outputs": [],
   "source": [
    "gdf_pois_p = gdf_pois_p[['id', 'fclass', 'geometry']]"
   ]
  },
  {
   "cell_type": "code",
   "execution_count": 122,
   "id": "ed91ecc1",
   "metadata": {},
   "outputs": [],
   "source": [
    "gdf_pois_p = gdf_pois_p.to_crs(\"EPSG:32632\")"
   ]
  },
  {
   "cell_type": "code",
   "execution_count": 123,
   "id": "d3e41867",
   "metadata": {},
   "outputs": [],
   "source": [
    "spatial_join_pois_p = gpd.sjoin(gdf_pois_p, gdf_roads_short, how = 'inner', predicate = \"intersects\")"
   ]
  },
  {
   "cell_type": "code",
   "execution_count": 124,
   "id": "b3f6d3b8",
   "metadata": {},
   "outputs": [
    {
     "data": {
      "text/plain": [
       "(46, 7)"
      ]
     },
     "execution_count": 124,
     "metadata": {},
     "output_type": "execute_result"
    }
   ],
   "source": [
    "spatial_join_pois_p.shape"
   ]
  },
  {
   "cell_type": "code",
   "execution_count": 125,
   "id": "d6bf7bea",
   "metadata": {},
   "outputs": [
    {
     "data": {
      "text/html": [
       "<div>\n",
       "<style scoped>\n",
       "    .dataframe tbody tr th:only-of-type {\n",
       "        vertical-align: middle;\n",
       "    }\n",
       "\n",
       "    .dataframe tbody tr th {\n",
       "        vertical-align: top;\n",
       "    }\n",
       "\n",
       "    .dataframe thead th {\n",
       "        text-align: right;\n",
       "    }\n",
       "</style>\n",
       "<table border=\"1\" class=\"dataframe\">\n",
       "  <thead>\n",
       "    <tr style=\"text-align: right;\">\n",
       "      <th></th>\n",
       "      <th></th>\n",
       "      <th>pois_p_count</th>\n",
       "    </tr>\n",
       "    <tr>\n",
       "      <th>u</th>\n",
       "      <th>v</th>\n",
       "      <th></th>\n",
       "    </tr>\n",
       "  </thead>\n",
       "  <tbody>\n",
       "    <tr>\n",
       "      <th>118744</th>\n",
       "      <th>1277939659</th>\n",
       "      <td>1</td>\n",
       "    </tr>\n",
       "    <tr>\n",
       "      <th>283712721</th>\n",
       "      <th>1063636565</th>\n",
       "      <td>1</td>\n",
       "    </tr>\n",
       "    <tr>\n",
       "      <th>297073114</th>\n",
       "      <th>297073157</th>\n",
       "      <td>1</td>\n",
       "    </tr>\n",
       "    <tr>\n",
       "      <th>297073157</th>\n",
       "      <th>297073114</th>\n",
       "      <td>1</td>\n",
       "    </tr>\n",
       "    <tr>\n",
       "      <th>1063636540</th>\n",
       "      <th>1063636565</th>\n",
       "      <td>1</td>\n",
       "    </tr>\n",
       "    <tr>\n",
       "      <th rowspan=\"3\" valign=\"top\">1063636565</th>\n",
       "      <th>283712721</th>\n",
       "      <td>1</td>\n",
       "    </tr>\n",
       "    <tr>\n",
       "      <th>1063636540</th>\n",
       "      <td>1</td>\n",
       "    </tr>\n",
       "    <tr>\n",
       "      <th>1350224661</th>\n",
       "      <td>1</td>\n",
       "    </tr>\n",
       "    <tr>\n",
       "      <th>1271881177</th>\n",
       "      <th>6357644328</th>\n",
       "      <td>1</td>\n",
       "    </tr>\n",
       "    <tr>\n",
       "      <th>1277939659</th>\n",
       "      <th>118744</th>\n",
       "      <td>1</td>\n",
       "    </tr>\n",
       "    <tr>\n",
       "      <th>1350224661</th>\n",
       "      <th>1063636565</th>\n",
       "      <td>1</td>\n",
       "    </tr>\n",
       "    <tr>\n",
       "      <th>1622854710</th>\n",
       "      <th>9924993841</th>\n",
       "      <td>1</td>\n",
       "    </tr>\n",
       "    <tr>\n",
       "      <th>2120239980</th>\n",
       "      <th>9924993838</th>\n",
       "      <td>1</td>\n",
       "    </tr>\n",
       "    <tr>\n",
       "      <th>2631272263</th>\n",
       "      <th>4965953355</th>\n",
       "      <td>1</td>\n",
       "    </tr>\n",
       "    <tr>\n",
       "      <th>2700982467</th>\n",
       "      <th>5712456765</th>\n",
       "      <td>1</td>\n",
       "    </tr>\n",
       "    <tr>\n",
       "      <th>3635266134</th>\n",
       "      <th>3635266135</th>\n",
       "      <td>1</td>\n",
       "    </tr>\n",
       "    <tr>\n",
       "      <th>3635266135</th>\n",
       "      <th>3635266134</th>\n",
       "      <td>1</td>\n",
       "    </tr>\n",
       "    <tr>\n",
       "      <th>4237583607</th>\n",
       "      <th>4237583608</th>\n",
       "      <td>1</td>\n",
       "    </tr>\n",
       "    <tr>\n",
       "      <th>4237583608</th>\n",
       "      <th>4237583607</th>\n",
       "      <td>1</td>\n",
       "    </tr>\n",
       "    <tr>\n",
       "      <th>4965953355</th>\n",
       "      <th>2631272263</th>\n",
       "      <td>1</td>\n",
       "    </tr>\n",
       "    <tr>\n",
       "      <th>5009606823</th>\n",
       "      <th>9129880670</th>\n",
       "      <td>1</td>\n",
       "    </tr>\n",
       "    <tr>\n",
       "      <th>5712456765</th>\n",
       "      <th>2700982467</th>\n",
       "      <td>1</td>\n",
       "    </tr>\n",
       "    <tr>\n",
       "      <th>6218150597</th>\n",
       "      <th>6856686378</th>\n",
       "      <td>1</td>\n",
       "    </tr>\n",
       "    <tr>\n",
       "      <th>6270574508</th>\n",
       "      <th>6270574510</th>\n",
       "      <td>1</td>\n",
       "    </tr>\n",
       "    <tr>\n",
       "      <th>6270574510</th>\n",
       "      <th>6270574508</th>\n",
       "      <td>1</td>\n",
       "    </tr>\n",
       "    <tr>\n",
       "      <th>6856686366</th>\n",
       "      <th>6856686378</th>\n",
       "      <td>1</td>\n",
       "    </tr>\n",
       "    <tr>\n",
       "      <th>6856686374</th>\n",
       "      <th>6856686378</th>\n",
       "      <td>1</td>\n",
       "    </tr>\n",
       "    <tr>\n",
       "      <th>6856686375</th>\n",
       "      <th>6856686378</th>\n",
       "      <td>1</td>\n",
       "    </tr>\n",
       "    <tr>\n",
       "      <th rowspan=\"4\" valign=\"top\">6856686378</th>\n",
       "      <th>6218150597</th>\n",
       "      <td>1</td>\n",
       "    </tr>\n",
       "    <tr>\n",
       "      <th>6856686366</th>\n",
       "      <td>1</td>\n",
       "    </tr>\n",
       "    <tr>\n",
       "      <th>6856686374</th>\n",
       "      <td>1</td>\n",
       "    </tr>\n",
       "    <tr>\n",
       "      <th>6856686375</th>\n",
       "      <td>1</td>\n",
       "    </tr>\n",
       "    <tr>\n",
       "      <th>6943466042</th>\n",
       "      <th>6943466043</th>\n",
       "      <td>1</td>\n",
       "    </tr>\n",
       "    <tr>\n",
       "      <th>6943466043</th>\n",
       "      <th>6943466042</th>\n",
       "      <td>1</td>\n",
       "    </tr>\n",
       "    <tr>\n",
       "      <th>7726386285</th>\n",
       "      <th>1271881177</th>\n",
       "      <td>1</td>\n",
       "    </tr>\n",
       "    <tr>\n",
       "      <th>9129880670</th>\n",
       "      <th>5009606823</th>\n",
       "      <td>1</td>\n",
       "    </tr>\n",
       "    <tr>\n",
       "      <th>9711796148</th>\n",
       "      <th>9711796147</th>\n",
       "      <td>1</td>\n",
       "    </tr>\n",
       "    <tr>\n",
       "      <th>9718509404</th>\n",
       "      <th>9718509398</th>\n",
       "      <td>1</td>\n",
       "    </tr>\n",
       "    <tr>\n",
       "      <th>9924993838</th>\n",
       "      <th>2120239980</th>\n",
       "      <td>1</td>\n",
       "    </tr>\n",
       "    <tr>\n",
       "      <th>9924993841</th>\n",
       "      <th>1622854710</th>\n",
       "      <td>1</td>\n",
       "    </tr>\n",
       "    <tr>\n",
       "      <th>9924993844</th>\n",
       "      <th>9924993845</th>\n",
       "      <td>1</td>\n",
       "    </tr>\n",
       "    <tr>\n",
       "      <th>9924993845</th>\n",
       "      <th>9924993844</th>\n",
       "      <td>1</td>\n",
       "    </tr>\n",
       "    <tr>\n",
       "      <th>9966107145</th>\n",
       "      <th>9966107151</th>\n",
       "      <td>1</td>\n",
       "    </tr>\n",
       "    <tr>\n",
       "      <th>9966107151</th>\n",
       "      <th>9966107145</th>\n",
       "      <td>1</td>\n",
       "    </tr>\n",
       "    <tr>\n",
       "      <th>10015689502</th>\n",
       "      <th>10015689511</th>\n",
       "      <td>1</td>\n",
       "    </tr>\n",
       "    <tr>\n",
       "      <th>10015689511</th>\n",
       "      <th>10015689502</th>\n",
       "      <td>1</td>\n",
       "    </tr>\n",
       "  </tbody>\n",
       "</table>\n",
       "</div>"
      ],
      "text/plain": [
       "                         pois_p_count\n",
       "u           v                        \n",
       "118744      1277939659              1\n",
       "283712721   1063636565              1\n",
       "297073114   297073157               1\n",
       "297073157   297073114               1\n",
       "1063636540  1063636565              1\n",
       "1063636565  283712721               1\n",
       "            1063636540              1\n",
       "            1350224661              1\n",
       "1271881177  6357644328              1\n",
       "1277939659  118744                  1\n",
       "1350224661  1063636565              1\n",
       "1622854710  9924993841              1\n",
       "2120239980  9924993838              1\n",
       "2631272263  4965953355              1\n",
       "2700982467  5712456765              1\n",
       "3635266134  3635266135              1\n",
       "3635266135  3635266134              1\n",
       "4237583607  4237583608              1\n",
       "4237583608  4237583607              1\n",
       "4965953355  2631272263              1\n",
       "5009606823  9129880670              1\n",
       "5712456765  2700982467              1\n",
       "6218150597  6856686378              1\n",
       "6270574508  6270574510              1\n",
       "6270574510  6270574508              1\n",
       "6856686366  6856686378              1\n",
       "6856686374  6856686378              1\n",
       "6856686375  6856686378              1\n",
       "6856686378  6218150597              1\n",
       "            6856686366              1\n",
       "            6856686374              1\n",
       "            6856686375              1\n",
       "6943466042  6943466043              1\n",
       "6943466043  6943466042              1\n",
       "7726386285  1271881177              1\n",
       "9129880670  5009606823              1\n",
       "9711796148  9711796147              1\n",
       "9718509404  9718509398              1\n",
       "9924993838  2120239980              1\n",
       "9924993841  1622854710              1\n",
       "9924993844  9924993845              1\n",
       "9924993845  9924993844              1\n",
       "9966107145  9966107151              1\n",
       "9966107151  9966107145              1\n",
       "10015689502 10015689511             1\n",
       "10015689511 10015689502             1"
      ]
     },
     "execution_count": 125,
     "metadata": {},
     "output_type": "execute_result"
    }
   ],
   "source": [
    "pois_p_count = (spatial_join_pois_p.groupby([\"u\", \"v\"])[\"osmid\"].count().to_frame(\"pois_p_count\"))\n",
    "pois_p_count"
   ]
  },
  {
   "cell_type": "code",
   "execution_count": 126,
   "id": "fc4b0ffa",
   "metadata": {},
   "outputs": [
    {
     "data": {
      "text/plain": [
       "pois_p_count\n",
       "1               46\n",
       "Name: count, dtype: int64"
      ]
     },
     "execution_count": 126,
     "metadata": {},
     "output_type": "execute_result"
    }
   ],
   "source": [
    "pois_p_count.value_counts()"
   ]
  },
  {
   "cell_type": "code",
   "execution_count": 127,
   "id": "e10a4fb8",
   "metadata": {},
   "outputs": [],
   "source": [
    "#pois_p_count.to_csv(\"spatial_features/pois_p_count.csv\", header = True)"
   ]
  },
  {
   "cell_type": "markdown",
   "id": "5626257f",
   "metadata": {},
   "source": [
    "### railways\n"
   ]
  },
  {
   "cell_type": "code",
   "execution_count": 128,
   "id": "8ab39c02",
   "metadata": {},
   "outputs": [
    {
     "data": {
      "text/plain": [
       "(1054, 35)"
      ]
     },
     "execution_count": 128,
     "metadata": {},
     "output_type": "execute_result"
    }
   ],
   "source": [
    "gdf_railways_p.crs\n",
    "gdf_railways_p.shape"
   ]
  },
  {
   "cell_type": "code",
   "execution_count": 129,
   "id": "4116babd",
   "metadata": {},
   "outputs": [],
   "source": [
    "gdf_railways_p = gdf_railways_p[['id', 'fclass', 'geometry']]"
   ]
  },
  {
   "cell_type": "code",
   "execution_count": 130,
   "id": "9b74eec5",
   "metadata": {},
   "outputs": [],
   "source": [
    "gdf_railways_p = gdf_railways_p.to_crs(\"EPSG:32632\")"
   ]
  },
  {
   "cell_type": "code",
   "execution_count": 131,
   "id": "6df93e89",
   "metadata": {},
   "outputs": [],
   "source": [
    "spatial_join_railways_p = gpd.sjoin(gdf_railways_p, gdf_roads_short, how = 'inner', predicate = \"intersects\")"
   ]
  },
  {
   "cell_type": "code",
   "execution_count": 132,
   "id": "407c3f6a",
   "metadata": {},
   "outputs": [
    {
     "data": {
      "text/plain": [
       "(4144, 7)"
      ]
     },
     "execution_count": 132,
     "metadata": {},
     "output_type": "execute_result"
    }
   ],
   "source": [
    "spatial_join_railways_p.shape"
   ]
  },
  {
   "cell_type": "code",
   "execution_count": 133,
   "id": "5a2bed0f",
   "metadata": {},
   "outputs": [
    {
     "data": {
      "text/html": [
       "<div>\n",
       "<style scoped>\n",
       "    .dataframe tbody tr th:only-of-type {\n",
       "        vertical-align: middle;\n",
       "    }\n",
       "\n",
       "    .dataframe tbody tr th {\n",
       "        vertical-align: top;\n",
       "    }\n",
       "\n",
       "    .dataframe thead th {\n",
       "        text-align: right;\n",
       "    }\n",
       "</style>\n",
       "<table border=\"1\" class=\"dataframe\">\n",
       "  <thead>\n",
       "    <tr style=\"text-align: right;\">\n",
       "      <th></th>\n",
       "      <th></th>\n",
       "      <th>railways_p_count</th>\n",
       "    </tr>\n",
       "    <tr>\n",
       "      <th>u</th>\n",
       "      <th>v</th>\n",
       "      <th></th>\n",
       "    </tr>\n",
       "  </thead>\n",
       "  <tbody>\n",
       "    <tr>\n",
       "      <th>118725</th>\n",
       "      <th>6357644306</th>\n",
       "      <td>4</td>\n",
       "    </tr>\n",
       "    <tr>\n",
       "      <th>118787</th>\n",
       "      <th>274394389</th>\n",
       "      <td>2</td>\n",
       "    </tr>\n",
       "    <tr>\n",
       "      <th rowspan=\"2\" valign=\"top\">118792</th>\n",
       "      <th>118806</th>\n",
       "      <td>2</td>\n",
       "    </tr>\n",
       "    <tr>\n",
       "      <th>1052708411</th>\n",
       "      <td>2</td>\n",
       "    </tr>\n",
       "    <tr>\n",
       "      <th>118806</th>\n",
       "      <th>118792</th>\n",
       "      <td>2</td>\n",
       "    </tr>\n",
       "    <tr>\n",
       "      <th>...</th>\n",
       "      <th>...</th>\n",
       "      <td>...</td>\n",
       "    </tr>\n",
       "    <tr>\n",
       "      <th>10956822537</th>\n",
       "      <th>6469570343</th>\n",
       "      <td>2</td>\n",
       "    </tr>\n",
       "    <tr>\n",
       "      <th>10964856176</th>\n",
       "      <th>1189253953</th>\n",
       "      <td>2</td>\n",
       "    </tr>\n",
       "    <tr>\n",
       "      <th>11002100444</th>\n",
       "      <th>11002100463</th>\n",
       "      <td>4</td>\n",
       "    </tr>\n",
       "    <tr>\n",
       "      <th>11002100463</th>\n",
       "      <th>11002100444</th>\n",
       "      <td>4</td>\n",
       "    </tr>\n",
       "    <tr>\n",
       "      <th>11039263874</th>\n",
       "      <th>1281443548</th>\n",
       "      <td>2</td>\n",
       "    </tr>\n",
       "  </tbody>\n",
       "</table>\n",
       "<p>2409 rows × 1 columns</p>\n",
       "</div>"
      ],
      "text/plain": [
       "                         railways_p_count\n",
       "u           v                            \n",
       "118725      6357644306                  4\n",
       "118787      274394389                   2\n",
       "118792      118806                      2\n",
       "            1052708411                  2\n",
       "118806      118792                      2\n",
       "...                                   ...\n",
       "10956822537 6469570343                  2\n",
       "10964856176 1189253953                  2\n",
       "11002100444 11002100463                 4\n",
       "11002100463 11002100444                 4\n",
       "11039263874 1281443548                  2\n",
       "\n",
       "[2409 rows x 1 columns]"
      ]
     },
     "execution_count": 133,
     "metadata": {},
     "output_type": "execute_result"
    }
   ],
   "source": [
    "railways_p_count = (spatial_join_railways_p.groupby([\"u\", \"v\"])[\"osmid\"].count().to_frame(\"railways_p_count\"))\n",
    "railways_p_count"
   ]
  },
  {
   "cell_type": "code",
   "execution_count": 134,
   "id": "b87d58ed",
   "metadata": {},
   "outputs": [
    {
     "data": {
      "text/plain": [
       "railways_p_count\n",
       "1                   1315\n",
       "2                    848\n",
       "4                    103\n",
       "3                     74\n",
       "5                     24\n",
       "6                     13\n",
       "8                      9\n",
       "7                      6\n",
       "10                     6\n",
       "9                      5\n",
       "15                     4\n",
       "11                     2\n",
       "Name: count, dtype: int64"
      ]
     },
     "execution_count": 134,
     "metadata": {},
     "output_type": "execute_result"
    }
   ],
   "source": [
    "railways_p_count.value_counts()"
   ]
  },
  {
   "cell_type": "code",
   "execution_count": 135,
   "id": "6a318007",
   "metadata": {},
   "outputs": [],
   "source": [
    "#railways_p_count.to_csv(\"spatial_features/railways_p_count.csv\", header = True)"
   ]
  },
  {
   "cell_type": "markdown",
   "id": "cc31756a",
   "metadata": {},
   "source": [
    "### roads\n"
   ]
  },
  {
   "cell_type": "code",
   "execution_count": 136,
   "id": "453d6f1a",
   "metadata": {},
   "outputs": [
    {
     "data": {
      "text/plain": [
       "(30414, 38)"
      ]
     },
     "execution_count": 136,
     "metadata": {},
     "output_type": "execute_result"
    }
   ],
   "source": [
    "gdf_roads_p.crs\n",
    "gdf_roads_p.shape"
   ]
  },
  {
   "cell_type": "code",
   "execution_count": 137,
   "id": "58b9050a",
   "metadata": {},
   "outputs": [],
   "source": [
    "gdf_roads_p = gdf_roads_p[['id', 'fclass', 'geometry']]"
   ]
  },
  {
   "cell_type": "code",
   "execution_count": 138,
   "id": "485a5579",
   "metadata": {},
   "outputs": [],
   "source": [
    "gdf_roads_p = gdf_roads_p.to_crs(\"EPSG:32632\")"
   ]
  },
  {
   "cell_type": "code",
   "execution_count": 139,
   "id": "fe6b3eee",
   "metadata": {},
   "outputs": [],
   "source": [
    "spatial_join_roads_p = gpd.sjoin(gdf_roads_p, gdf_roads_short, how = 'inner', predicate = \"intersects\")"
   ]
  },
  {
   "cell_type": "code",
   "execution_count": 140,
   "id": "6d65942e",
   "metadata": {},
   "outputs": [
    {
     "data": {
      "text/plain": [
       "(347489, 7)"
      ]
     },
     "execution_count": 140,
     "metadata": {},
     "output_type": "execute_result"
    }
   ],
   "source": [
    "spatial_join_roads_p.shape"
   ]
  },
  {
   "cell_type": "code",
   "execution_count": 141,
   "id": "ab70948c",
   "metadata": {},
   "outputs": [
    {
     "data": {
      "text/html": [
       "<div>\n",
       "<style scoped>\n",
       "    .dataframe tbody tr th:only-of-type {\n",
       "        vertical-align: middle;\n",
       "    }\n",
       "\n",
       "    .dataframe tbody tr th {\n",
       "        vertical-align: top;\n",
       "    }\n",
       "\n",
       "    .dataframe thead th {\n",
       "        text-align: right;\n",
       "    }\n",
       "</style>\n",
       "<table border=\"1\" class=\"dataframe\">\n",
       "  <thead>\n",
       "    <tr style=\"text-align: right;\">\n",
       "      <th></th>\n",
       "      <th></th>\n",
       "      <th>roads_p_count</th>\n",
       "    </tr>\n",
       "    <tr>\n",
       "      <th>u</th>\n",
       "      <th>v</th>\n",
       "      <th></th>\n",
       "    </tr>\n",
       "  </thead>\n",
       "  <tbody>\n",
       "    <tr>\n",
       "      <th rowspan=\"2\" valign=\"top\">118725</th>\n",
       "      <th>2512504197</th>\n",
       "      <td>3</td>\n",
       "    </tr>\n",
       "    <tr>\n",
       "      <th>6357644306</th>\n",
       "      <td>4</td>\n",
       "    </tr>\n",
       "    <tr>\n",
       "      <th>118730</th>\n",
       "      <th>118751</th>\n",
       "      <td>7</td>\n",
       "    </tr>\n",
       "    <tr>\n",
       "      <th rowspan=\"2\" valign=\"top\">118732</th>\n",
       "      <th>283603631</th>\n",
       "      <td>6</td>\n",
       "    </tr>\n",
       "    <tr>\n",
       "      <th>6534097568</th>\n",
       "      <td>6</td>\n",
       "    </tr>\n",
       "    <tr>\n",
       "      <th>...</th>\n",
       "      <th>...</th>\n",
       "      <td>...</td>\n",
       "    </tr>\n",
       "    <tr>\n",
       "      <th rowspan=\"2\" valign=\"top\">11064633329</th>\n",
       "      <th>11064633331</th>\n",
       "      <td>1</td>\n",
       "    </tr>\n",
       "    <tr>\n",
       "      <th>11064633335</th>\n",
       "      <td>1</td>\n",
       "    </tr>\n",
       "    <tr>\n",
       "      <th>11064633331</th>\n",
       "      <th>11064633329</th>\n",
       "      <td>1</td>\n",
       "    </tr>\n",
       "    <tr>\n",
       "      <th rowspan=\"2\" valign=\"top\">11064633335</th>\n",
       "      <th>11064633328</th>\n",
       "      <td>1</td>\n",
       "    </tr>\n",
       "    <tr>\n",
       "      <th>11064633329</th>\n",
       "      <td>1</td>\n",
       "    </tr>\n",
       "  </tbody>\n",
       "</table>\n",
       "<p>101981 rows × 1 columns</p>\n",
       "</div>"
      ],
      "text/plain": [
       "                         roads_p_count\n",
       "u           v                         \n",
       "118725      2512504197               3\n",
       "            6357644306               4\n",
       "118730      118751                   7\n",
       "118732      283603631                6\n",
       "            6534097568               6\n",
       "...                                ...\n",
       "11064633329 11064633331              1\n",
       "            11064633335              1\n",
       "11064633331 11064633329              1\n",
       "11064633335 11064633328              1\n",
       "            11064633329              1\n",
       "\n",
       "[101981 rows x 1 columns]"
      ]
     },
     "execution_count": 141,
     "metadata": {},
     "output_type": "execute_result"
    }
   ],
   "source": [
    "roads_p_count = (spatial_join_roads_p.groupby([\"u\", \"v\"])[\"osmid\"].count().to_frame(\"roads_p_count\"))\n",
    "roads_p_count"
   ]
  },
  {
   "cell_type": "code",
   "execution_count": 142,
   "id": "4e598f7e",
   "metadata": {},
   "outputs": [
    {
     "data": {
      "text/plain": [
       "roads_p_count\n",
       "3                54171\n",
       "4                19220\n",
       "2                12280\n",
       "5                 8682\n",
       "6                 3314\n",
       "1                 1987\n",
       "7                 1388\n",
       "8                  498\n",
       "9                  224\n",
       "10                  92\n",
       "11                  40\n",
       "12                  34\n",
       "14                  16\n",
       "13                  15\n",
       "15                   6\n",
       "16                   4\n",
       "17                   4\n",
       "18                   2\n",
       "20                   2\n",
       "27                   2\n",
       "Name: count, dtype: int64"
      ]
     },
     "execution_count": 142,
     "metadata": {},
     "output_type": "execute_result"
    }
   ],
   "source": [
    "roads_p_count.value_counts()"
   ]
  },
  {
   "cell_type": "code",
   "execution_count": 143,
   "id": "d2cb7ac1",
   "metadata": {},
   "outputs": [],
   "source": [
    "#roads_p_count.to_csv(\"spatial_features/roads_p_count.csv\", header = True)"
   ]
  },
  {
   "cell_type": "markdown",
   "id": "c0e86447",
   "metadata": {},
   "source": [
    "### traffic\n"
   ]
  },
  {
   "cell_type": "code",
   "execution_count": 144,
   "id": "4300b46c",
   "metadata": {},
   "outputs": [
    {
     "data": {
      "text/plain": [
       "(5792, 32)"
      ]
     },
     "execution_count": 144,
     "metadata": {},
     "output_type": "execute_result"
    }
   ],
   "source": [
    "gdf_traffic_p.crs\n",
    "gdf_traffic_p.shape"
   ]
  },
  {
   "cell_type": "code",
   "execution_count": 145,
   "id": "29644697",
   "metadata": {},
   "outputs": [],
   "source": [
    "gdf_traffic_p = gdf_traffic_p[['id', 'fclass', 'geometry']]"
   ]
  },
  {
   "cell_type": "code",
   "execution_count": 146,
   "id": "c6c3474f",
   "metadata": {},
   "outputs": [],
   "source": [
    "gdf_traffic_p = gdf_traffic_p.to_crs(\"EPSG:32632\")"
   ]
  },
  {
   "cell_type": "code",
   "execution_count": 147,
   "id": "18b39150",
   "metadata": {},
   "outputs": [],
   "source": [
    "spatial_join_traffic_p = gpd.sjoin(gdf_traffic_p, gdf_roads_short, how = 'inner', predicate = \"intersects\")"
   ]
  },
  {
   "cell_type": "code",
   "execution_count": 148,
   "id": "2570bc65",
   "metadata": {},
   "outputs": [
    {
     "data": {
      "text/plain": [
       "(13976, 7)"
      ]
     },
     "execution_count": 148,
     "metadata": {},
     "output_type": "execute_result"
    }
   ],
   "source": [
    "spatial_join_traffic_p.shape"
   ]
  },
  {
   "cell_type": "code",
   "execution_count": 149,
   "id": "19c89f17",
   "metadata": {},
   "outputs": [
    {
     "data": {
      "text/html": [
       "<div>\n",
       "<style scoped>\n",
       "    .dataframe tbody tr th:only-of-type {\n",
       "        vertical-align: middle;\n",
       "    }\n",
       "\n",
       "    .dataframe tbody tr th {\n",
       "        vertical-align: top;\n",
       "    }\n",
       "\n",
       "    .dataframe thead th {\n",
       "        text-align: right;\n",
       "    }\n",
       "</style>\n",
       "<table border=\"1\" class=\"dataframe\">\n",
       "  <thead>\n",
       "    <tr style=\"text-align: right;\">\n",
       "      <th></th>\n",
       "      <th></th>\n",
       "      <th>traffic_p_count</th>\n",
       "    </tr>\n",
       "    <tr>\n",
       "      <th>u</th>\n",
       "      <th>v</th>\n",
       "      <th></th>\n",
       "    </tr>\n",
       "  </thead>\n",
       "  <tbody>\n",
       "    <tr>\n",
       "      <th>118725</th>\n",
       "      <th>2512504197</th>\n",
       "      <td>1</td>\n",
       "    </tr>\n",
       "    <tr>\n",
       "      <th>118730</th>\n",
       "      <th>118751</th>\n",
       "      <td>1</td>\n",
       "    </tr>\n",
       "    <tr>\n",
       "      <th rowspan=\"2\" valign=\"top\">118732</th>\n",
       "      <th>283603631</th>\n",
       "      <td>2</td>\n",
       "    </tr>\n",
       "    <tr>\n",
       "      <th>6534097568</th>\n",
       "      <td>1</td>\n",
       "    </tr>\n",
       "    <tr>\n",
       "      <th>118735</th>\n",
       "      <th>4393215585</th>\n",
       "      <td>1</td>\n",
       "    </tr>\n",
       "    <tr>\n",
       "      <th>...</th>\n",
       "      <th>...</th>\n",
       "      <td>...</td>\n",
       "    </tr>\n",
       "    <tr>\n",
       "      <th>11039263874</th>\n",
       "      <th>1281443548</th>\n",
       "      <td>1</td>\n",
       "    </tr>\n",
       "    <tr>\n",
       "      <th>11042711819</th>\n",
       "      <th>4985131979</th>\n",
       "      <td>1</td>\n",
       "    </tr>\n",
       "    <tr>\n",
       "      <th>11059280905</th>\n",
       "      <th>1055200733</th>\n",
       "      <td>1</td>\n",
       "    </tr>\n",
       "    <tr>\n",
       "      <th rowspan=\"2\" valign=\"top\">11059280939</th>\n",
       "      <th>1055200733</th>\n",
       "      <td>1</td>\n",
       "    </tr>\n",
       "    <tr>\n",
       "      <th>6651812227</th>\n",
       "      <td>1</td>\n",
       "    </tr>\n",
       "  </tbody>\n",
       "</table>\n",
       "<p>10000 rows × 1 columns</p>\n",
       "</div>"
      ],
      "text/plain": [
       "                        traffic_p_count\n",
       "u           v                          \n",
       "118725      2512504197                1\n",
       "118730      118751                    1\n",
       "118732      283603631                 2\n",
       "            6534097568                1\n",
       "118735      4393215585                1\n",
       "...                                 ...\n",
       "11039263874 1281443548                1\n",
       "11042711819 4985131979                1\n",
       "11059280905 1055200733                1\n",
       "11059280939 1055200733                1\n",
       "            6651812227                1\n",
       "\n",
       "[10000 rows x 1 columns]"
      ]
     },
     "execution_count": 149,
     "metadata": {},
     "output_type": "execute_result"
    }
   ],
   "source": [
    "traffic_p_count = (spatial_join_traffic_p.groupby([\"u\", \"v\"])[\"osmid\"].count().to_frame(\"traffic_p_count\"))\n",
    "traffic_p_count"
   ]
  },
  {
   "cell_type": "code",
   "execution_count": 150,
   "id": "69d195a4",
   "metadata": {},
   "outputs": [
    {
     "data": {
      "text/plain": [
       "traffic_p_count\n",
       "1                  6239\n",
       "2                  3611\n",
       "3                   109\n",
       "4                    27\n",
       "5                    10\n",
       "7                     2\n",
       "8                     2\n",
       "Name: count, dtype: int64"
      ]
     },
     "execution_count": 150,
     "metadata": {},
     "output_type": "execute_result"
    }
   ],
   "source": [
    "traffic_p_count.value_counts()"
   ]
  },
  {
   "cell_type": "code",
   "execution_count": 151,
   "id": "03a63574",
   "metadata": {},
   "outputs": [],
   "source": [
    "#traffic_p_count.to_csv(\"spatial_features/traffic_p_count.csv\", header = True)"
   ]
  },
  {
   "cell_type": "markdown",
   "id": "8e127eb4",
   "metadata": {},
   "source": [
    "### transport\n"
   ]
  },
  {
   "cell_type": "code",
   "execution_count": 152,
   "id": "452b56e5",
   "metadata": {},
   "outputs": [
    {
     "data": {
      "text/plain": [
       "(1374, 32)"
      ]
     },
     "execution_count": 152,
     "metadata": {},
     "output_type": "execute_result"
    }
   ],
   "source": [
    "gdf_transport_p.crs\n",
    "gdf_transport_p.shape"
   ]
  },
  {
   "cell_type": "code",
   "execution_count": 153,
   "id": "93cb17f0",
   "metadata": {},
   "outputs": [],
   "source": [
    "gdf_transport_p = gdf_transport_p[['id', 'fclass', 'geometry']]"
   ]
  },
  {
   "cell_type": "code",
   "execution_count": 154,
   "id": "d68bafc6",
   "metadata": {},
   "outputs": [],
   "source": [
    "gdf_transport_p = gdf_transport_p.to_crs(\"EPSG:32632\")"
   ]
  },
  {
   "cell_type": "code",
   "execution_count": 155,
   "id": "d8043852",
   "metadata": {},
   "outputs": [],
   "source": [
    "spatial_join_transport_p = gpd.sjoin(gdf_transport_p, gdf_roads_short, how = 'inner', predicate = \"intersects\")"
   ]
  },
  {
   "cell_type": "code",
   "execution_count": 156,
   "id": "8ad7112e",
   "metadata": {},
   "outputs": [
    {
     "data": {
      "text/plain": [
       "(478, 7)"
      ]
     },
     "execution_count": 156,
     "metadata": {},
     "output_type": "execute_result"
    }
   ],
   "source": [
    "spatial_join_transport_p.shape"
   ]
  },
  {
   "cell_type": "code",
   "execution_count": 157,
   "id": "f5dd7cef",
   "metadata": {},
   "outputs": [
    {
     "data": {
      "text/html": [
       "<div>\n",
       "<style scoped>\n",
       "    .dataframe tbody tr th:only-of-type {\n",
       "        vertical-align: middle;\n",
       "    }\n",
       "\n",
       "    .dataframe tbody tr th {\n",
       "        vertical-align: top;\n",
       "    }\n",
       "\n",
       "    .dataframe thead th {\n",
       "        text-align: right;\n",
       "    }\n",
       "</style>\n",
       "<table border=\"1\" class=\"dataframe\">\n",
       "  <thead>\n",
       "    <tr style=\"text-align: right;\">\n",
       "      <th></th>\n",
       "      <th></th>\n",
       "      <th>transport_p_count</th>\n",
       "    </tr>\n",
       "    <tr>\n",
       "      <th>u</th>\n",
       "      <th>v</th>\n",
       "      <th></th>\n",
       "    </tr>\n",
       "  </thead>\n",
       "  <tbody>\n",
       "    <tr>\n",
       "      <th>118792</th>\n",
       "      <th>1052708411</th>\n",
       "      <td>1</td>\n",
       "    </tr>\n",
       "    <tr>\n",
       "      <th>576709</th>\n",
       "      <th>8579330032</th>\n",
       "      <td>1</td>\n",
       "    </tr>\n",
       "    <tr>\n",
       "      <th>697538</th>\n",
       "      <th>7224398</th>\n",
       "      <td>1</td>\n",
       "    </tr>\n",
       "    <tr>\n",
       "      <th>698030</th>\n",
       "      <th>2460384709</th>\n",
       "      <td>1</td>\n",
       "    </tr>\n",
       "    <tr>\n",
       "      <th>698663</th>\n",
       "      <th>5583563213</th>\n",
       "      <td>1</td>\n",
       "    </tr>\n",
       "    <tr>\n",
       "      <th>...</th>\n",
       "      <th>...</th>\n",
       "      <td>...</td>\n",
       "    </tr>\n",
       "    <tr>\n",
       "      <th>10048226646</th>\n",
       "      <th>8319476223</th>\n",
       "      <td>1</td>\n",
       "    </tr>\n",
       "    <tr>\n",
       "      <th>10075093698</th>\n",
       "      <th>8086438</th>\n",
       "      <td>1</td>\n",
       "    </tr>\n",
       "    <tr>\n",
       "      <th>10155079966</th>\n",
       "      <th>2207188959</th>\n",
       "      <td>1</td>\n",
       "    </tr>\n",
       "    <tr>\n",
       "      <th>10674335595</th>\n",
       "      <th>9512347005</th>\n",
       "      <td>2</td>\n",
       "    </tr>\n",
       "    <tr>\n",
       "      <th>11038091596</th>\n",
       "      <th>5583563206</th>\n",
       "      <td>1</td>\n",
       "    </tr>\n",
       "  </tbody>\n",
       "</table>\n",
       "<p>435 rows × 1 columns</p>\n",
       "</div>"
      ],
      "text/plain": [
       "                        transport_p_count\n",
       "u           v                            \n",
       "118792      1052708411                  1\n",
       "576709      8579330032                  1\n",
       "697538      7224398                     1\n",
       "698030      2460384709                  1\n",
       "698663      5583563213                  1\n",
       "...                                   ...\n",
       "10048226646 8319476223                  1\n",
       "10075093698 8086438                     1\n",
       "10155079966 2207188959                  1\n",
       "10674335595 9512347005                  2\n",
       "11038091596 5583563206                  1\n",
       "\n",
       "[435 rows x 1 columns]"
      ]
     },
     "execution_count": 157,
     "metadata": {},
     "output_type": "execute_result"
    }
   ],
   "source": [
    "transport_p_count = (spatial_join_transport_p.groupby([\"u\", \"v\"])[\"osmid\"].count().to_frame(\"transport_p_count\"))\n",
    "transport_p_count"
   ]
  },
  {
   "cell_type": "code",
   "execution_count": 158,
   "id": "94788a06",
   "metadata": {},
   "outputs": [
    {
     "data": {
      "text/plain": [
       "transport_p_count\n",
       "1                    394\n",
       "2                     39\n",
       "3                      2\n",
       "Name: count, dtype: int64"
      ]
     },
     "execution_count": 158,
     "metadata": {},
     "output_type": "execute_result"
    }
   ],
   "source": [
    "transport_p_count.value_counts()"
   ]
  },
  {
   "cell_type": "code",
   "execution_count": 159,
   "id": "b4298867",
   "metadata": {},
   "outputs": [],
   "source": [
    "#transport_p_count.to_csv(\"spatial_features/transport_p_count.csv\", header = True)"
   ]
  },
  {
   "cell_type": "markdown",
   "id": "a0cc565c",
   "metadata": {},
   "source": [
    "### waterways"
   ]
  },
  {
   "cell_type": "code",
   "execution_count": 160,
   "id": "6f7bddc9",
   "metadata": {},
   "outputs": [
    {
     "data": {
      "text/plain": [
       "(100, 33)"
      ]
     },
     "execution_count": 160,
     "metadata": {},
     "output_type": "execute_result"
    }
   ],
   "source": [
    "gdf_waterways_p.crs\n",
    "gdf_waterways_p.shape"
   ]
  },
  {
   "cell_type": "code",
   "execution_count": 161,
   "id": "0e6126d6",
   "metadata": {},
   "outputs": [],
   "source": [
    "gdf_waterways_p = gdf_waterways_p[['id', 'fclass', 'geometry']]"
   ]
  },
  {
   "cell_type": "code",
   "execution_count": 162,
   "id": "c2a44bab",
   "metadata": {},
   "outputs": [],
   "source": [
    "gdf_waterways_p = gdf_waterways_p.to_crs(\"EPSG:32632\")"
   ]
  },
  {
   "cell_type": "code",
   "execution_count": 163,
   "id": "460031e6",
   "metadata": {},
   "outputs": [],
   "source": [
    "spatial_join_waterways_p = gpd.sjoin(gdf_waterways_p, gdf_roads_short, how = 'inner', predicate = \"intersects\")"
   ]
  },
  {
   "cell_type": "code",
   "execution_count": 164,
   "id": "aa09e90a",
   "metadata": {},
   "outputs": [
    {
     "data": {
      "text/plain": [
       "(198, 7)"
      ]
     },
     "execution_count": 164,
     "metadata": {},
     "output_type": "execute_result"
    }
   ],
   "source": [
    "spatial_join_waterways_p.shape"
   ]
  },
  {
   "cell_type": "code",
   "execution_count": 165,
   "id": "b3c96735",
   "metadata": {},
   "outputs": [
    {
     "data": {
      "text/html": [
       "<div>\n",
       "<style scoped>\n",
       "    .dataframe tbody tr th:only-of-type {\n",
       "        vertical-align: middle;\n",
       "    }\n",
       "\n",
       "    .dataframe tbody tr th {\n",
       "        vertical-align: top;\n",
       "    }\n",
       "\n",
       "    .dataframe thead th {\n",
       "        text-align: right;\n",
       "    }\n",
       "</style>\n",
       "<table border=\"1\" class=\"dataframe\">\n",
       "  <thead>\n",
       "    <tr style=\"text-align: right;\">\n",
       "      <th></th>\n",
       "      <th></th>\n",
       "      <th>waterways_p_count</th>\n",
       "    </tr>\n",
       "    <tr>\n",
       "      <th>u</th>\n",
       "      <th>v</th>\n",
       "      <th></th>\n",
       "    </tr>\n",
       "  </thead>\n",
       "  <tbody>\n",
       "    <tr>\n",
       "      <th>375469</th>\n",
       "      <th>298530864</th>\n",
       "      <td>1</td>\n",
       "    </tr>\n",
       "    <tr>\n",
       "      <th>698675</th>\n",
       "      <th>278783420</th>\n",
       "      <td>1</td>\n",
       "    </tr>\n",
       "    <tr>\n",
       "      <th>781544</th>\n",
       "      <th>298527246</th>\n",
       "      <td>1</td>\n",
       "    </tr>\n",
       "    <tr>\n",
       "      <th>1055762</th>\n",
       "      <th>560705649</th>\n",
       "      <td>1</td>\n",
       "    </tr>\n",
       "    <tr>\n",
       "      <th>1055809</th>\n",
       "      <th>560705653</th>\n",
       "      <td>1</td>\n",
       "    </tr>\n",
       "    <tr>\n",
       "      <th>...</th>\n",
       "      <th>...</th>\n",
       "      <td>...</td>\n",
       "    </tr>\n",
       "    <tr>\n",
       "      <th>10587036950</th>\n",
       "      <th>10587037002</th>\n",
       "      <td>1</td>\n",
       "    </tr>\n",
       "    <tr>\n",
       "      <th>10587037002</th>\n",
       "      <th>10587036950</th>\n",
       "      <td>1</td>\n",
       "    </tr>\n",
       "    <tr>\n",
       "      <th>10587037003</th>\n",
       "      <th>6018007909</th>\n",
       "      <td>1</td>\n",
       "    </tr>\n",
       "    <tr>\n",
       "      <th>10989082048</th>\n",
       "      <th>10989082055</th>\n",
       "      <td>1</td>\n",
       "    </tr>\n",
       "    <tr>\n",
       "      <th>10989082055</th>\n",
       "      <th>10989082048</th>\n",
       "      <td>1</td>\n",
       "    </tr>\n",
       "  </tbody>\n",
       "</table>\n",
       "<p>196 rows × 1 columns</p>\n",
       "</div>"
      ],
      "text/plain": [
       "                         waterways_p_count\n",
       "u           v                             \n",
       "375469      298530864                    1\n",
       "698675      278783420                    1\n",
       "781544      298527246                    1\n",
       "1055762     560705649                    1\n",
       "1055809     560705653                    1\n",
       "...                                    ...\n",
       "10587036950 10587037002                  1\n",
       "10587037002 10587036950                  1\n",
       "10587037003 6018007909                   1\n",
       "10989082048 10989082055                  1\n",
       "10989082055 10989082048                  1\n",
       "\n",
       "[196 rows x 1 columns]"
      ]
     },
     "execution_count": 165,
     "metadata": {},
     "output_type": "execute_result"
    }
   ],
   "source": [
    "waterways_p_count = (spatial_join_waterways_p.groupby([\"u\", \"v\"])[\"osmid\"].count().to_frame(\"waterways_p_count\"))\n",
    "waterways_p_count"
   ]
  },
  {
   "cell_type": "code",
   "execution_count": 166,
   "id": "535bc825",
   "metadata": {},
   "outputs": [
    {
     "data": {
      "text/plain": [
       "waterways_p_count\n",
       "1                    194\n",
       "2                      2\n",
       "Name: count, dtype: int64"
      ]
     },
     "execution_count": 166,
     "metadata": {},
     "output_type": "execute_result"
    }
   ],
   "source": [
    "waterways_p_count.value_counts()"
   ]
  },
  {
   "cell_type": "code",
   "execution_count": 167,
   "id": "1756a3be",
   "metadata": {},
   "outputs": [],
   "source": [
    "#waterways_p_count.to_csv(\"spatial_features/waterways_p_count.csv\", header = True)"
   ]
  }
 ],
 "metadata": {
  "kernelspec": {
   "display_name": "Python 3 (ipykernel)",
   "language": "python",
   "name": "python3"
  },
  "language_info": {
   "codemirror_mode": {
    "name": "ipython",
    "version": 3
   },
   "file_extension": ".py",
   "mimetype": "text/x-python",
   "name": "python",
   "nbconvert_exporter": "python",
   "pygments_lexer": "ipython3",
   "version": "3.9.16"
  }
 },
 "nbformat": 4,
 "nbformat_minor": 5
}
